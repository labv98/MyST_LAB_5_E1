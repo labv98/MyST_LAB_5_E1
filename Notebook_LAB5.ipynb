{
 "cells": [
  {
   "cell_type": "markdown",
   "metadata": {},
   "source": [
    "<center> <img src=\"http://oci02.img.iteso.mx/identidad_de_instancia_2018/ITESO/Logos%20ITESO/Logo-ITESO-Principal.jpg\" align=\"center\" width=\"960\" height=\"480\"/> </center>"
   ]
  },
  {
   "cell_type": "markdown",
   "metadata": {},
   "source": [
    "<center><font color=#555555><font size=6> MAF1731 - Microstructure and Trading Systems </font> <br> <br>\n",
    "    \n",
    "<center><font color=#555555><font size=5> B.Eng Financial Engineering </font> <br> <br> <br> <br>\n",
    "\n",
    "<center><font color=#555555><font size=3> Daniel García Hernández </font> <br> <br>\n",
    "<center><font color=#555555><font size=3> Lizbeth Alejandra Barragán Vázquez </font> <br> <br>\n",
    "<center><font color=#555555><font size=3> Chelsi Arelí Sedano Gómez </font> <br> <br>\n",
    "    \n",
    "<center> <font color= #555555> <font size = 4> Octubre 2021 </a> | <font color= #555555> <font size = 4> Repository: <a href='https://github.com/labv98/MyST_LAB_5_E1'>Link</a></font>"
   ]
  },
  {
   "cell_type": "markdown",
   "metadata": {},
   "source": [
    "<hr style=\"border:0.02in solid gray\"> </hr>"
   ]
  },
  {
   "cell_type": "markdown",
   "metadata": {},
   "source": [
    "<center> <font color= #555555> <font size = 6> Lab 5 </font> <br> <br> <font color= #555555> <font size = 5> Proyecto Final Análisis Técnico  </font>"
   ]
  },
  {
   "cell_type": "markdown",
   "metadata": {},
   "source": [
    "<hr style=\"border:0.02in solid gray\"> </hr>"
   ]
  },
  {
   "cell_type": "markdown",
   "metadata": {},
   "source": [
    "<br>"
   ]
  },
  {
   "cell_type": "markdown",
   "metadata": {},
   "source": [
    "<font color= #555555> <font size = 4> Abstract </font>"
   ]
  },
  {
   "cell_type": "markdown",
   "metadata": {},
   "source": [
    "<font color= #6B6B6B> <font size = 3>  Include here a description of the whole work, use no more than 400 words, you can use **Bold** and *Italic* highlights, also you can inclue [links](www.iteso.mx). Usually is a good strategy to generate this text at the very end of the process, since you have to include all aspects of the work, from a brief introduction, to problem definitions and methods used, to finally the results found. </font>"
   ]
  },
  {
   "cell_type": "markdown",
   "metadata": {},
   "source": [
    "<br>"
   ]
  },
  {
   "cell_type": "markdown",
   "metadata": {},
   "source": [
    "# <font color= #6B6B6B> <font size = 6> 1. Introducción </font>"
   ]
  },
  {
   "cell_type": "markdown",
   "metadata": {},
   "source": [
    "<hr style=\"border:0.02in solid gray\"> </hr>"
   ]
  },
  {
   "cell_type": "markdown",
   "metadata": {},
   "source": [
    "This is an introduction, normally, it is done at the very end, when all the other content in the notebook is completed but just before the abstract (which is short version of the introduction) ... "
   ]
  },
  {
   "cell_type": "markdown",
   "metadata": {},
   "source": [
    "# <font color= #6B6B6B> <font size = 5> Objetivos </font>"
   ]
  },
  {
   "cell_type": "markdown",
   "metadata": {},
   "source": [
    "<font size = 3>**Objetivo general:**  </font>\n",
    "\n",
    "Este laboratorio tiene como propósito \n",
    "\n",
    "<font size = 3>**Objetivos específicos:**</font>\n",
    "\n",
    "* \n",
    "\n",
    "* \n",
    "\n",
    "* \n",
    "\n",
    "* "
   ]
  },
  {
   "cell_type": "markdown",
   "metadata": {},
   "source": [
    "# Info"
   ]
  },
  {
   "cell_type": "markdown",
   "metadata": {},
   "source": [
    "**4 criterios financieros**\n",
    "\n",
    "1. Uso de datos - Instrumento utilizado - Granularidad - Validaciones históricas(no)\n",
    "2. Análisis técnico\n",
    "3. Fijar el sl y tp\n",
    "4. Cantdad de capital utilizado para realizar la operación.\n"
   ]
  },
  {
   "cell_type": "markdown",
   "metadata": {},
   "source": [
    "**5 validaciones gráficas**\n",
    "1. Precio\n",
    "2. Exposure\n",
    "3. Profit\n",
    "4. Stoploss con close\n",
    "5. Takeprofit con close"
   ]
  },
  {
   "cell_type": "markdown",
   "metadata": {},
   "source": [
    "**3 MAD**\n",
    "1. Sharpe Ratio Original:\n",
    "    rp: Promedio de los rendimientos logarítmicos de profit_acm_d\n",
    "    rf: 5%\n",
    "    sdp: Desviación estándar de todos los rendimientos con los que se calculó rp.\n",
    "2. DrawDown (Capital):\n",
    "    Minusvalia máxima que se registró en la evolución de los valores (de 'profit_acm_d').\n",
    "    Obtener información de esta métrica como la siguiente:\n",
    "    \"Fecha Inicial\", \"Fecha Final\", \"DrawDown (capital)\".\n",
    "3. DrawUp (Capital):\n",
    "    Plusvalía máxima que se registró en la evolución de los valores (de 'profit_acm_d').\n",
    "    Obtener información de esta métrica como la siguiente:\n",
    "    \"Fecha Inicial\", \"Fecha Final\", \"DrawUp (capital)\"."
   ]
  },
  {
   "cell_type": "markdown",
   "metadata": {},
   "source": [
    "**Estudios técnicos**\n",
    "1. BB\n",
    "2. MA"
   ]
  },
  {
   "cell_type": "markdown",
   "metadata": {},
   "source": [
    "**Generación de señal de compra o de venta**\n",
    "- Incluir definiciones cortas de cada estudio"
   ]
  },
  {
   "cell_type": "markdown",
   "metadata": {},
   "source": [
    "**5 validaciones visuales del algoritmo de decision utilizando estudios técnicos**"
   ]
  },
  {
   "cell_type": "markdown",
   "metadata": {},
   "source": []
  },
  {
   "cell_type": "markdown",
   "metadata": {},
   "source": [
    "<br>"
   ]
  },
  {
   "cell_type": "markdown",
   "metadata": {},
   "source": [
    "# <font color= #6B6B6B> 2. Instalar Paqueterías y Dependencias</font>"
   ]
  },
  {
   "cell_type": "markdown",
   "metadata": {},
   "source": [
    "<hr style=\"border:0.02in solid gray\"> </hr>"
   ]
  },
  {
   "cell_type": "markdown",
   "metadata": {},
   "source": [
    "## <font color= #6B6B6B> 2.1 Paqueterías de python </font> <font color= #555555>"
   ]
  },
  {
   "cell_type": "markdown",
   "metadata": {},
   "source": [
    "- fire==0.4.0"
   ]
  },
  {
   "cell_type": "markdown",
   "metadata": {},
   "source": [
    "## <font color= #6E6E6E> 2.3 Install Packages</font>"
   ]
  },
  {
   "cell_type": "code",
   "execution_count": 1,
   "metadata": {},
   "outputs": [],
   "source": [
    "%%capture\n",
    "\n",
    "# Install all the pip packages in the requirements.txt\n",
    "import sys\n",
    "!{sys.executable} -m pip install -r requirements.txt"
   ]
  },
  {
   "cell_type": "code",
   "execution_count": 2,
   "metadata": {},
   "outputs": [],
   "source": [
    "import warnings\n",
    "\n",
    "if not sys.warnoptions:\n",
    "    warnings.simplefilter(\"ignore\")"
   ]
  },
  {
   "cell_type": "code",
   "execution_count": 3,
   "metadata": {},
   "outputs": [],
   "source": [
    "import pandas as pd\n",
    "import numpy as np\n",
    "import matplotlib.pyplot as plt\n",
    "import datetime\n",
    "from datetime import date"
   ]
  },
  {
   "cell_type": "markdown",
   "metadata": {},
   "source": [
    "<br>"
   ]
  },
  {
   "cell_type": "markdown",
   "metadata": {},
   "source": [
    "# <font color= #6B6B6B> 3. Desripción de los datos </font>"
   ]
  },
  {
   "cell_type": "markdown",
   "metadata": {},
   "source": [
    "<hr style=\"border:0.02in solid gray\"> </hr>"
   ]
  },
  {
   "cell_type": "code",
   "execution_count": 4,
   "metadata": {},
   "outputs": [
    {
     "data": {
      "text/html": [
       "<div>\n",
       "<style scoped>\n",
       "    .dataframe tbody tr th:only-of-type {\n",
       "        vertical-align: middle;\n",
       "    }\n",
       "\n",
       "    .dataframe tbody tr th {\n",
       "        vertical-align: top;\n",
       "    }\n",
       "\n",
       "    .dataframe thead th {\n",
       "        text-align: right;\n",
       "    }\n",
       "</style>\n",
       "<table border=\"1\" class=\"dataframe\">\n",
       "  <thead>\n",
       "    <tr style=\"text-align: right;\">\n",
       "      <th></th>\n",
       "      <th>Unnamed: 0</th>\n",
       "      <th>time</th>\n",
       "      <th>open</th>\n",
       "      <th>high</th>\n",
       "      <th>low</th>\n",
       "      <th>close</th>\n",
       "      <th>tick_volume</th>\n",
       "      <th>spread</th>\n",
       "      <th>real_volume</th>\n",
       "    </tr>\n",
       "  </thead>\n",
       "  <tbody>\n",
       "    <tr>\n",
       "      <td>0</td>\n",
       "      <td>0</td>\n",
       "      <td>2018-08-27 11:24:00</td>\n",
       "      <td>1.16127</td>\n",
       "      <td>1.16188</td>\n",
       "      <td>1.16127</td>\n",
       "      <td>1.16148</td>\n",
       "      <td>4127</td>\n",
       "      <td>7</td>\n",
       "      <td>825400000</td>\n",
       "    </tr>\n",
       "    <tr>\n",
       "      <td>1</td>\n",
       "      <td>1</td>\n",
       "      <td>2018-08-27 11:36:00</td>\n",
       "      <td>1.16148</td>\n",
       "      <td>1.16181</td>\n",
       "      <td>1.16133</td>\n",
       "      <td>1.16156</td>\n",
       "      <td>3501</td>\n",
       "      <td>7</td>\n",
       "      <td>700200000</td>\n",
       "    </tr>\n",
       "    <tr>\n",
       "      <td>2</td>\n",
       "      <td>2</td>\n",
       "      <td>2018-08-27 11:48:00</td>\n",
       "      <td>1.16156</td>\n",
       "      <td>1.16164</td>\n",
       "      <td>1.16087</td>\n",
       "      <td>1.16092</td>\n",
       "      <td>3606</td>\n",
       "      <td>7</td>\n",
       "      <td>721200000</td>\n",
       "    </tr>\n",
       "    <tr>\n",
       "      <td>3</td>\n",
       "      <td>3</td>\n",
       "      <td>2018-08-27 12:00:00</td>\n",
       "      <td>1.16092</td>\n",
       "      <td>1.16131</td>\n",
       "      <td>1.16086</td>\n",
       "      <td>1.16127</td>\n",
       "      <td>3093</td>\n",
       "      <td>7</td>\n",
       "      <td>618600000</td>\n",
       "    </tr>\n",
       "    <tr>\n",
       "      <td>4</td>\n",
       "      <td>4</td>\n",
       "      <td>2018-08-27 12:12:00</td>\n",
       "      <td>1.16127</td>\n",
       "      <td>1.16151</td>\n",
       "      <td>1.16100</td>\n",
       "      <td>1.16142</td>\n",
       "      <td>3057</td>\n",
       "      <td>7</td>\n",
       "      <td>611400000</td>\n",
       "    </tr>\n",
       "    <tr>\n",
       "      <td>...</td>\n",
       "      <td>...</td>\n",
       "      <td>...</td>\n",
       "      <td>...</td>\n",
       "      <td>...</td>\n",
       "      <td>...</td>\n",
       "      <td>...</td>\n",
       "      <td>...</td>\n",
       "      <td>...</td>\n",
       "      <td>...</td>\n",
       "    </tr>\n",
       "    <tr>\n",
       "      <td>10673</td>\n",
       "      <td>10673</td>\n",
       "      <td>2018-12-31 20:00:00</td>\n",
       "      <td>1.14508</td>\n",
       "      <td>1.14543</td>\n",
       "      <td>1.14467</td>\n",
       "      <td>1.14508</td>\n",
       "      <td>7332</td>\n",
       "      <td>15</td>\n",
       "      <td>1099800000</td>\n",
       "    </tr>\n",
       "    <tr>\n",
       "      <td>10674</td>\n",
       "      <td>10674</td>\n",
       "      <td>2018-12-31 20:12:00</td>\n",
       "      <td>1.14508</td>\n",
       "      <td>1.14509</td>\n",
       "      <td>1.14431</td>\n",
       "      <td>1.14450</td>\n",
       "      <td>5524</td>\n",
       "      <td>15</td>\n",
       "      <td>828600000</td>\n",
       "    </tr>\n",
       "    <tr>\n",
       "      <td>10675</td>\n",
       "      <td>10675</td>\n",
       "      <td>2018-12-31 20:24:00</td>\n",
       "      <td>1.14450</td>\n",
       "      <td>1.14468</td>\n",
       "      <td>1.14418</td>\n",
       "      <td>1.14451</td>\n",
       "      <td>6117</td>\n",
       "      <td>15</td>\n",
       "      <td>917550000</td>\n",
       "    </tr>\n",
       "    <tr>\n",
       "      <td>10676</td>\n",
       "      <td>10676</td>\n",
       "      <td>2018-12-31 20:36:00</td>\n",
       "      <td>1.14451</td>\n",
       "      <td>1.14463</td>\n",
       "      <td>1.14428</td>\n",
       "      <td>1.14433</td>\n",
       "      <td>5288</td>\n",
       "      <td>15</td>\n",
       "      <td>793200000</td>\n",
       "    </tr>\n",
       "    <tr>\n",
       "      <td>10677</td>\n",
       "      <td>10677</td>\n",
       "      <td>2018-12-31 20:48:00</td>\n",
       "      <td>1.14433</td>\n",
       "      <td>1.14459</td>\n",
       "      <td>1.14431</td>\n",
       "      <td>1.14448</td>\n",
       "      <td>4194</td>\n",
       "      <td>13</td>\n",
       "      <td>629100000</td>\n",
       "    </tr>\n",
       "  </tbody>\n",
       "</table>\n",
       "<p>10678 rows × 9 columns</p>\n",
       "</div>"
      ],
      "text/plain": [
       "       Unnamed: 0                time     open     high      low    close  \\\n",
       "0               0 2018-08-27 11:24:00  1.16127  1.16188  1.16127  1.16148   \n",
       "1               1 2018-08-27 11:36:00  1.16148  1.16181  1.16133  1.16156   \n",
       "2               2 2018-08-27 11:48:00  1.16156  1.16164  1.16087  1.16092   \n",
       "3               3 2018-08-27 12:00:00  1.16092  1.16131  1.16086  1.16127   \n",
       "4               4 2018-08-27 12:12:00  1.16127  1.16151  1.16100  1.16142   \n",
       "...           ...                 ...      ...      ...      ...      ...   \n",
       "10673       10673 2018-12-31 20:00:00  1.14508  1.14543  1.14467  1.14508   \n",
       "10674       10674 2018-12-31 20:12:00  1.14508  1.14509  1.14431  1.14450   \n",
       "10675       10675 2018-12-31 20:24:00  1.14450  1.14468  1.14418  1.14451   \n",
       "10676       10676 2018-12-31 20:36:00  1.14451  1.14463  1.14428  1.14433   \n",
       "10677       10677 2018-12-31 20:48:00  1.14433  1.14459  1.14431  1.14448   \n",
       "\n",
       "       tick_volume  spread  real_volume  \n",
       "0             4127       7    825400000  \n",
       "1             3501       7    700200000  \n",
       "2             3606       7    721200000  \n",
       "3             3093       7    618600000  \n",
       "4             3057       7    611400000  \n",
       "...            ...     ...          ...  \n",
       "10673         7332      15   1099800000  \n",
       "10674         5524      15    828600000  \n",
       "10675         6117      15    917550000  \n",
       "10676         5288      15    793200000  \n",
       "10677         4194      13    629100000  \n",
       "\n",
       "[10678 rows x 9 columns]"
      ]
     },
     "execution_count": 4,
     "metadata": {},
     "output_type": "execute_result"
    }
   ],
   "source": [
    "df = pd.read_excel('Historicos.xlsx')\n",
    "df"
   ]
  },
  {
   "cell_type": "markdown",
   "metadata": {},
   "source": [
    "# Moving Average"
   ]
  },
  {
   "cell_type": "code",
   "execution_count": 5,
   "metadata": {},
   "outputs": [],
   "source": [
    "ma_df= df.copy()\n",
    "bb_df= df.copy()"
   ]
  },
  {
   "cell_type": "code",
   "execution_count": 6,
   "metadata": {},
   "outputs": [],
   "source": [
    "ma_df['moving_average_short'] = ma_df['close'].rolling(window=20).mean()\n",
    "ma_df['moving_average_long'] = ma_df['close'].rolling(window=50).mean()"
   ]
  },
  {
   "cell_type": "code",
   "execution_count": 7,
   "metadata": {},
   "outputs": [],
   "source": [
    "final_ma = ma_df[['time', 'open', 'high', 'low', 'close', 'tick_volume', 'spread', 'real_volume']].copy()\n",
    "final_bb = bb_df[['time', 'open', 'high', 'low', 'close', 'tick_volume', 'spread', 'real_volume']].copy()"
   ]
  },
  {
   "cell_type": "code",
   "execution_count": 8,
   "metadata": {},
   "outputs": [],
   "source": [
    "bb_df['moving_average'] = bb_df['close'].rolling(window=100).mean()\n",
    "bb_df['standar_deviation'] = bb_df['close'].rolling(window=100).std()\n",
    "bb_df['boolinger_upper'] = bb_df['moving_average'] + (bb_df['standar_deviation'] * 3)\n",
    "bb_df['boolinger_lower'] = bb_df['moving_average'] - (bb_df['standar_deviation'] * 3)"
   ]
  },
  {
   "cell_type": "code",
   "execution_count": 9,
   "metadata": {},
   "outputs": [],
   "source": [
    "Capital= 100000\n",
    "num_acciones = 100\n",
    "pp_ma= 0.02\n",
    "pg_ma= 0.01"
   ]
  },
  {
   "cell_type": "code",
   "execution_count": 10,
   "metadata": {},
   "outputs": [],
   "source": [
    "hoy = pd.Timestamp(datetime.datetime.today())\n",
    "for t in range(1, len(ma_df)):\n",
    "    # For Moving Average\n",
    "    ## Compras\n",
    "    if (ma_df.loc[t-1, 'moving_average_short'] < ma_df.loc[t-1, 'moving_average_long'] and\n",
    "        ma_df.loc[t, 'moving_average_short'] > ma_df.loc[t, 'moving_average_long'] and\n",
    "        ma_df.loc[t, 'close'] * num_acciones <= Capital):\n",
    "        final_ma.loc[t, 'Operation'] = 'Comprar'\n",
    "        final_ma.loc[t, 'exposure'] = ma_df.loc[t, 'close'] * num_acciones\n",
    "        # Cálculo stoploss & takeprofit\n",
    "        final_ma.loc[t, 'Stoploss'] = max(ma_df.loc[t, 'close'] - ((Capital * 0.1) / num_acciones),\n",
    "                                          ma_df.loc[t, 'close'] * (1 - pp_ma))\n",
    "        final_ma.loc[t, 'Takeprofit'] = ma_df.loc[t, 'close'] * (1 + pg_ma)\n",
    "        # Actualización Capital\n",
    "        Capital = Capital - (ma_df.loc[t, 'close'] * num_acciones)\n",
    "        # Cerrando posición\n",
    "        ## Precio Stoploss\n",
    "        close_sl = ma_df[(ma_df['time'] >= final_ma.loc[t, 'time']) &\n",
    "                         (ma_df['close'] <= final_ma.loc[t, 'Stoploss'])].close.to_list()\n",
    "        close_sl.append([0])\n",
    "        final_ma.loc[t, 'SL'] = close_sl[0]\n",
    "        ## Precio Takeprofit\n",
    "        close_tp = ma_df[(ma_df['time'] >= final_ma.loc[t, 'time']) &\n",
    "                         (ma_df['close'] >= final_ma.loc[t, 'Takeprofit'])].close.to_list()\n",
    "        close_tp.append([0])\n",
    "        final_ma.loc[t, 'TP'] = close_tp[0]\n",
    "        ## Time Stoploss\n",
    "        time_sl = ma_df[(ma_df['time'] >= final_ma.loc[t, 'time']) &\n",
    "                         (ma_df['close'] <= final_ma.loc[t, 'Stoploss'])].time.to_list()\n",
    "        time_sl.append([hoy])\n",
    "        final_ma.loc[t, 'Date_SL'] = time_sl[0]\n",
    "        ## Time Takeprofit\n",
    "        time_tp = ma_df[(ma_df['time'] >= final_ma.loc[t, 'time']) &\n",
    "                         (ma_df['close'] >= final_ma.loc[t, 'Takeprofit'])].time.to_list()\n",
    "        time_tp.append([hoy])        \n",
    "        final_ma.loc[t, 'Date_TP'] = time_tp[0]\n",
    "        # Operación cerrada\n",
    "        final_ma.loc[t, 'CloseOp'] = np.where(final_ma.loc[t, 'Date_SL'] > final_ma.loc[t, 'Date_TP'],\n",
    "                                     final_ma.loc[t, 'TP'],\n",
    "                                     final_ma.loc[t, 'SL'])\n",
    "        # Profit\n",
    "        final_ma.loc[t, 'Profit'] = (final_ma.loc[t, 'CloseOp'] - final_ma.loc[t, 'close']) * num_acciones if \\\n",
    "                                     final_ma.loc[t, 'CloseOp'] != 0 else 0\n",
    "        # Actualización Capital después de cerrar posición\n",
    "        Capital = Capital + (final_ma.loc[t, 'CloseOp'] * num_acciones)\n",
    "    ## Ventas\n",
    "    elif (ma_df.loc[t-1, 'moving_average_short'] > ma_df.loc[t-1, 'moving_average_long'] and\n",
    "          ma_df.loc[t, 'moving_average_short'] < ma_df.loc[t, 'moving_average_long'] and\n",
    "          ma_df.loc[t, 'close'] * num_acciones <= Capital):\n",
    "        final_ma.loc[t, 'Operation'] = 'Vender'\n",
    "        final_ma.loc[t, 'exposure'] = ma_df.loc[t, 'close'] * num_acciones\n",
    "        # Cálculo stoploss & takeprofit\n",
    "        final_ma.loc[t, 'Stoploss'] = min(ma_df.loc[t, 'close'] + ((Capital * 0.1) / num_acciones),\n",
    "                                          ma_df.loc[t, 'close'] * (1 + pp_ma))\n",
    "        final_ma.loc[t, 'Takeprofit'] = ma_df.loc[t, 'close'] * (1 - pg_ma)\n",
    "        # Actualización Capital\n",
    "        Capital = Capital - ma_df.loc[t, 'close'] * num_acciones\n",
    "        # Cerrando posición\n",
    "        ## Precio Stoploss\n",
    "        close_sl = ma_df[(ma_df['time'] >= final_ma.loc[t, 'time']) &\n",
    "                         (ma_df['close'] >= final_ma.loc[t, 'Stoploss'])].close.to_list()\n",
    "        close_sl.append([0])\n",
    "        final_ma.loc[t, 'SL'] = close_sl[0]\n",
    "        ## Precio Takeprofit\n",
    "        close_tp = ma_df[(ma_df['time'] >= final_ma.loc[t, 'time']) &\n",
    "                         (ma_df['close'] <= final_ma.loc[t, 'Takeprofit'])].close.to_list()\n",
    "        close_tp.append([0])\n",
    "        final_ma.loc[t, 'TP'] = close_tp[0]\n",
    "        ## Time Stoploss\n",
    "        time_sl = ma_df[(ma_df['time'] >= final_ma.loc[t, 'time']) &\n",
    "                         (ma_df['close'] >= final_ma.loc[t, 'Stoploss'])].time.to_list()\n",
    "        time_sl.append([hoy])\n",
    "        final_ma.loc[t, 'Date_SL'] = time_sl[0]\n",
    "        ## Time Takeprofit\n",
    "        time_tp = ma_df[(ma_df['time'] >= final_ma.loc[t, 'time']) &\n",
    "                         (ma_df['close'] <= final_ma.loc[t, 'Takeprofit'])].time.to_list()\n",
    "        time_tp.append([hoy])        \n",
    "        final_ma.loc[t, 'Date_TP'] = time_tp[0]\n",
    "        # Operación cerrada\n",
    "        final_ma.loc[t, 'CloseOp'] = np.where(final_ma.loc[t, 'Date_SL'] > final_ma.loc[t, 'Date_TP'],\n",
    "                                     final_ma.loc[t, 'TP'],\n",
    "                                     final_ma.loc[t, 'SL'])\n",
    "        # Profit\n",
    "        final_ma.loc[t, 'Profit'] = (final_ma.loc[t, 'close'] - final_ma.loc[t, 'CloseOp']) * num_acciones if \\\n",
    "                                     final_ma.loc[t, 'CloseOp'] != 0 else 0\n",
    "        # Actualización Capital después de cerrar posición\n",
    "        Capital = Capital + (final_ma.loc[t, 'CloseOp'] * num_acciones)\n",
    "    \n",
    "    # For Boolinger Bands\n",
    "    ## Compras\n",
    "    if (bb_df.loc[t-1, 'close'] > bb_df.loc[t-1, 'boolinger_lower'] and\n",
    "        bb_df.loc[t, 'close'] < bb_df.loc[t, 'boolinger_lower'] and\n",
    "        bb_df.loc[t, 'close'] * num_acciones <= Capital):\n",
    "        final_bb.loc[t, 'Operation'] = 'Comprar'\n",
    "        final_bb.loc[t, 'exposure'] = bb_df.loc[t, 'close'] * num_acciones\n",
    "        # Cálculo stoploss & takeprofit\n",
    "        final_bb.loc[t, 'Stoploss'] = max(bb_df.loc[t, 'close'] - ((Capital * 0.1) / num_acciones),\n",
    "                                          bb_df.loc[t, 'close'] - (bb_df.loc[t, 'moving_average'] - bb_df.loc[t, 'close']))\n",
    "        final_bb.loc[t, 'Takeprofit'] = bb_df.loc[t, 'moving_average']           \n",
    "        # Actualización Capital\n",
    "        Capital = Capital - bb_df.loc[t, 'close'] * num_acciones\n",
    "        # Cerrando posición\n",
    "        ## Precio Stoploss\n",
    "        close_sl = bb_df[(bb_df['time'] >= final_bb.loc[t, 'time']) &\n",
    "                         (bb_df['close'] <= final_bb.loc[t, 'Stoploss'])].close.to_list()\n",
    "        close_sl.append([0])\n",
    "        final_bb.loc[t, 'SL'] = close_sl[0]\n",
    "        ## Precio Takeprofit\n",
    "        close_tp = bb_df[(bb_df['time'] >= final_bb.loc[t, 'time']) &\n",
    "                         (bb_df['close'] >= final_bb.loc[t, 'Takeprofit'])].close.to_list()\n",
    "        close_tp.append([0])\n",
    "        final_bb.loc[t, 'TP'] = close_tp[0]\n",
    "        ## Time Stoploss\n",
    "        time_sl = bb_df[(bb_df['time'] >= final_bb.loc[t, 'time']) &\n",
    "                         (bb_df['close'] <= final_bb.loc[t, 'Stoploss'])].time.to_list()\n",
    "        time_sl.append([hoy])\n",
    "        final_bb.loc[t, 'Date_SL'] = time_sl[0]\n",
    "        ## Time Takeprofit\n",
    "        time_tp = bb_df[(bb_df['time'] >= final_bb.loc[t, 'time']) &\n",
    "                         (bb_df['close'] >= final_bb.loc[t, 'Takeprofit'])].time.to_list()\n",
    "        time_tp.append([hoy])        \n",
    "        final_bb.loc[t, 'Date_TP'] = time_tp[0]\n",
    "        # Operación cerrada\n",
    "        final_bb.loc[t, 'CloseOp'] = np.where(final_bb.loc[t, 'Date_SL'] > final_bb.loc[t, 'Date_TP'],\n",
    "                                     final_bb.loc[t, 'TP'],\n",
    "                                     final_bb.loc[t, 'SL'])\n",
    "        # Profit\n",
    "        final_bb.loc[t, 'Profit'] = (final_bb.loc[t, 'CloseOp'] - final_bb.loc[t, 'close']) * num_acciones if \\\n",
    "                                     final_bb.loc[t, 'CloseOp'] != 0 else 0\n",
    "        # Actualización Capital después de cerrar posición\n",
    "        Capital = Capital + (final_bb.loc[t, 'CloseOp'] * num_acciones)\n",
    "    ## Ventas\n",
    "    elif (bb_df.loc[t-1, 'close'] < bb_df.loc[t-1, 'boolinger_upper'] and\n",
    "          bb_df.loc[t, 'close'] > bb_df.loc[t, 'boolinger_upper'] and\n",
    "          bb_df.loc[t, 'close'] * num_acciones <= Capital):\n",
    "        final_bb.loc[t, 'Operation'] = 'Vender'\n",
    "        final_bb.loc[t, 'exposure'] = bb_df.loc[t, 'close'] * num_acciones\n",
    "        # Cálculo stoploss & takeprofit\n",
    "        final_bb.loc[t, 'Stoploss'] = min(bb_df.loc[t, 'close'] + ((Capital * 0.1) / num_acciones),\n",
    "                                          bb_df.loc[t, 'close'] + (bb_df.loc[t, 'close'] - bb_df.loc[t, 'moving_average']))\n",
    "        final_bb.loc[t, 'Takeprofit'] = bb_df.loc[t, 'moving_average']  \n",
    "        # Actualización Capital\n",
    "        Capital = Capital - bb_df.loc[t, 'close'] * num_acciones\n",
    "        # Cerrando posición\n",
    "        ## Precio Stoploss\n",
    "        close_sl = bb_df[(bb_df['time'] >= final_bb.loc[t, 'time']) &\n",
    "                         (bb_df['close'] >= final_bb.loc[t, 'Stoploss'])].close.to_list()\n",
    "        close_sl.append([0])\n",
    "        final_bb.loc[t, 'SL'] = close_sl[0]\n",
    "        ## Precio Takeprofit\n",
    "        close_tp = bb_df[(bb_df['time'] >= final_bb.loc[t, 'time']) &\n",
    "                         (bb_df['close'] <= final_bb.loc[t, 'Takeprofit'])].close.to_list()\n",
    "        close_tp.append([0])\n",
    "        final_bb.loc[t, 'TP'] = close_tp[0]\n",
    "        ## Time Stoploss\n",
    "        time_sl = bb_df[(bb_df['time'] >= final_bb.loc[t, 'time']) &\n",
    "                         (bb_df['close'] >= final_bb.loc[t, 'Stoploss'])].time.to_list()\n",
    "        time_sl.append([hoy])\n",
    "        final_bb.loc[t, 'Date_SL'] = time_sl[0]\n",
    "        ## Time Takeprofit\n",
    "        time_tp = bb_df[(bb_df['time'] >= final_bb.loc[t, 'time']) &\n",
    "                         (bb_df['close'] <= final_bb.loc[t, 'Takeprofit'])].time.to_list()\n",
    "        time_tp.append([hoy])        \n",
    "        final_bb.loc[t, 'Date_TP'] = time_tp[0]\n",
    "        # Operación cerrada\n",
    "        final_bb.loc[t, 'CloseOp'] = np.where(final_bb.loc[t, 'Date_SL'] > final_bb.loc[t, 'Date_TP'],\n",
    "                                     final_bb.loc[t, 'TP'],\n",
    "                                     final_bb.loc[t, 'SL'])\n",
    "        # Profit\n",
    "        final_bb.loc[t, 'Profit'] = (final_bb.loc[t, 'close'] - final_bb.loc[t, 'CloseOp']) * num_acciones if \\\n",
    "                                     final_bb.loc[t, 'CloseOp'] != 0 else 0\n",
    "        # Actualización Capital después de cerrar posición\n",
    "        Capital = Capital + (final_bb.loc[t, 'CloseOp'] * num_acciones)"
   ]
  },
  {
   "cell_type": "code",
   "execution_count": 11,
   "metadata": {},
   "outputs": [
    {
     "data": {
      "text/html": [
       "<div>\n",
       "<style scoped>\n",
       "    .dataframe tbody tr th:only-of-type {\n",
       "        vertical-align: middle;\n",
       "    }\n",
       "\n",
       "    .dataframe tbody tr th {\n",
       "        vertical-align: top;\n",
       "    }\n",
       "\n",
       "    .dataframe thead th {\n",
       "        text-align: right;\n",
       "    }\n",
       "</style>\n",
       "<table border=\"1\" class=\"dataframe\">\n",
       "  <thead>\n",
       "    <tr style=\"text-align: right;\">\n",
       "      <th></th>\n",
       "      <th>time</th>\n",
       "      <th>open</th>\n",
       "      <th>high</th>\n",
       "      <th>low</th>\n",
       "      <th>close</th>\n",
       "      <th>tick_volume</th>\n",
       "      <th>spread</th>\n",
       "      <th>real_volume</th>\n",
       "      <th>Operation</th>\n",
       "      <th>exposure</th>\n",
       "      <th>Stoploss</th>\n",
       "      <th>Takeprofit</th>\n",
       "      <th>SL</th>\n",
       "      <th>TP</th>\n",
       "      <th>Date_SL</th>\n",
       "      <th>Date_TP</th>\n",
       "      <th>CloseOp</th>\n",
       "      <th>Profit</th>\n",
       "    </tr>\n",
       "  </thead>\n",
       "  <tbody>\n",
       "    <tr>\n",
       "      <td>0</td>\n",
       "      <td>2018-08-28 06:36:00</td>\n",
       "      <td>1.16727</td>\n",
       "      <td>1.16731</td>\n",
       "      <td>1.16698</td>\n",
       "      <td>1.16718</td>\n",
       "      <td>2281</td>\n",
       "      <td>15</td>\n",
       "      <td>456200000</td>\n",
       "      <td>Vender</td>\n",
       "      <td>116.718</td>\n",
       "      <td>1.190524</td>\n",
       "      <td>1.155508</td>\n",
       "      <td>0.00000</td>\n",
       "      <td>1.15507</td>\n",
       "      <td>2021-11-21 19:14:24.320013056</td>\n",
       "      <td>2018-09-04 16:00:00.000000000</td>\n",
       "      <td>1.15507</td>\n",
       "      <td>1.211</td>\n",
       "    </tr>\n",
       "    <tr>\n",
       "      <td>1</td>\n",
       "      <td>2018-08-28 11:12:00</td>\n",
       "      <td>1.16899</td>\n",
       "      <td>1.16941</td>\n",
       "      <td>1.16875</td>\n",
       "      <td>1.16880</td>\n",
       "      <td>5244</td>\n",
       "      <td>7</td>\n",
       "      <td>1048800000</td>\n",
       "      <td>Comprar</td>\n",
       "      <td>116.880</td>\n",
       "      <td>1.145424</td>\n",
       "      <td>1.180488</td>\n",
       "      <td>1.14521</td>\n",
       "      <td>1.18085</td>\n",
       "      <td>2018-10-09 12:48:00.000000000</td>\n",
       "      <td>2018-09-24 16:12:00.000000000</td>\n",
       "      <td>1.18085</td>\n",
       "      <td>1.205</td>\n",
       "    </tr>\n",
       "    <tr>\n",
       "      <td>2</td>\n",
       "      <td>2018-08-28 22:24:00</td>\n",
       "      <td>1.16928</td>\n",
       "      <td>1.16960</td>\n",
       "      <td>1.16900</td>\n",
       "      <td>1.16928</td>\n",
       "      <td>3322</td>\n",
       "      <td>15</td>\n",
       "      <td>664400000</td>\n",
       "      <td>Vender</td>\n",
       "      <td>116.928</td>\n",
       "      <td>1.192666</td>\n",
       "      <td>1.157587</td>\n",
       "      <td>0.00000</td>\n",
       "      <td>1.15722</td>\n",
       "      <td>2021-11-21 19:14:24.320013056</td>\n",
       "      <td>2018-09-04 10:24:00.000000000</td>\n",
       "      <td>1.15722</td>\n",
       "      <td>1.206</td>\n",
       "    </tr>\n",
       "    <tr>\n",
       "      <td>3</td>\n",
       "      <td>2018-08-29 17:48:00</td>\n",
       "      <td>1.16902</td>\n",
       "      <td>1.16969</td>\n",
       "      <td>1.16844</td>\n",
       "      <td>1.16928</td>\n",
       "      <td>6667</td>\n",
       "      <td>7</td>\n",
       "      <td>1333400000</td>\n",
       "      <td>Comprar</td>\n",
       "      <td>116.928</td>\n",
       "      <td>1.145894</td>\n",
       "      <td>1.180973</td>\n",
       "      <td>1.14521</td>\n",
       "      <td>0.00000</td>\n",
       "      <td>2018-10-09 12:48:00.000000000</td>\n",
       "      <td>2021-11-21 19:14:24.320013056</td>\n",
       "      <td>1.14521</td>\n",
       "      <td>-2.407</td>\n",
       "    </tr>\n",
       "    <tr>\n",
       "      <td>4</td>\n",
       "      <td>2018-08-30 06:24:00</td>\n",
       "      <td>1.17006</td>\n",
       "      <td>1.17009</td>\n",
       "      <td>1.16980</td>\n",
       "      <td>1.16993</td>\n",
       "      <td>2546</td>\n",
       "      <td>15</td>\n",
       "      <td>509200000</td>\n",
       "      <td>Vender</td>\n",
       "      <td>116.993</td>\n",
       "      <td>1.193329</td>\n",
       "      <td>1.158231</td>\n",
       "      <td>0.00000</td>\n",
       "      <td>1.15772</td>\n",
       "      <td>2021-11-21 19:14:24.320013056</td>\n",
       "      <td>2018-09-04 09:24:00.000000000</td>\n",
       "      <td>1.15772</td>\n",
       "      <td>1.221</td>\n",
       "    </tr>\n",
       "    <tr>\n",
       "      <td>...</td>\n",
       "      <td>...</td>\n",
       "      <td>...</td>\n",
       "      <td>...</td>\n",
       "      <td>...</td>\n",
       "      <td>...</td>\n",
       "      <td>...</td>\n",
       "      <td>...</td>\n",
       "      <td>...</td>\n",
       "      <td>...</td>\n",
       "      <td>...</td>\n",
       "      <td>...</td>\n",
       "      <td>...</td>\n",
       "      <td>...</td>\n",
       "      <td>...</td>\n",
       "      <td>...</td>\n",
       "      <td>...</td>\n",
       "      <td>...</td>\n",
       "      <td>...</td>\n",
       "    </tr>\n",
       "    <tr>\n",
       "      <td>242</td>\n",
       "      <td>2018-12-28 12:24:00</td>\n",
       "      <td>1.14521</td>\n",
       "      <td>1.14627</td>\n",
       "      <td>1.14506</td>\n",
       "      <td>1.14626</td>\n",
       "      <td>17932</td>\n",
       "      <td>15</td>\n",
       "      <td>2689800000</td>\n",
       "      <td>Vender</td>\n",
       "      <td>114.626</td>\n",
       "      <td>1.169185</td>\n",
       "      <td>1.134797</td>\n",
       "      <td>0.00000</td>\n",
       "      <td>0.00000</td>\n",
       "      <td>2021-11-21 19:14:24.320013056</td>\n",
       "      <td>2021-11-21 19:14:24.320013056</td>\n",
       "      <td>0.00000</td>\n",
       "      <td>0.000</td>\n",
       "    </tr>\n",
       "    <tr>\n",
       "      <td>243</td>\n",
       "      <td>2018-12-28 13:24:00</td>\n",
       "      <td>1.14680</td>\n",
       "      <td>1.14680</td>\n",
       "      <td>1.14599</td>\n",
       "      <td>1.14640</td>\n",
       "      <td>18258</td>\n",
       "      <td>15</td>\n",
       "      <td>2738700000</td>\n",
       "      <td>Comprar</td>\n",
       "      <td>114.640</td>\n",
       "      <td>1.123472</td>\n",
       "      <td>1.157864</td>\n",
       "      <td>0.00000</td>\n",
       "      <td>0.00000</td>\n",
       "      <td>2021-11-21 19:14:24.320013056</td>\n",
       "      <td>2021-11-21 19:14:24.320013056</td>\n",
       "      <td>0.00000</td>\n",
       "      <td>0.000</td>\n",
       "    </tr>\n",
       "    <tr>\n",
       "      <td>244</td>\n",
       "      <td>2018-12-28 17:36:00</td>\n",
       "      <td>1.14463</td>\n",
       "      <td>1.14515</td>\n",
       "      <td>1.14373</td>\n",
       "      <td>1.14433</td>\n",
       "      <td>24094</td>\n",
       "      <td>15</td>\n",
       "      <td>3614100000</td>\n",
       "      <td>Vender</td>\n",
       "      <td>114.433</td>\n",
       "      <td>1.167217</td>\n",
       "      <td>1.132887</td>\n",
       "      <td>0.00000</td>\n",
       "      <td>0.00000</td>\n",
       "      <td>2021-11-21 19:14:24.320013056</td>\n",
       "      <td>2021-11-21 19:14:24.320013056</td>\n",
       "      <td>0.00000</td>\n",
       "      <td>0.000</td>\n",
       "    </tr>\n",
       "    <tr>\n",
       "      <td>245</td>\n",
       "      <td>2018-12-31 12:12:00</td>\n",
       "      <td>1.14376</td>\n",
       "      <td>1.14425</td>\n",
       "      <td>1.14346</td>\n",
       "      <td>1.14420</td>\n",
       "      <td>5375</td>\n",
       "      <td>15</td>\n",
       "      <td>806250000</td>\n",
       "      <td>Comprar</td>\n",
       "      <td>114.420</td>\n",
       "      <td>1.121316</td>\n",
       "      <td>1.155642</td>\n",
       "      <td>0.00000</td>\n",
       "      <td>0.00000</td>\n",
       "      <td>2021-11-21 19:14:24.320013056</td>\n",
       "      <td>2021-11-21 19:14:24.320013056</td>\n",
       "      <td>0.00000</td>\n",
       "      <td>0.000</td>\n",
       "    </tr>\n",
       "    <tr>\n",
       "      <td>246</td>\n",
       "      <td>2018-12-31 19:12:00</td>\n",
       "      <td>1.14533</td>\n",
       "      <td>1.14543</td>\n",
       "      <td>1.14500</td>\n",
       "      <td>1.14501</td>\n",
       "      <td>7060</td>\n",
       "      <td>15</td>\n",
       "      <td>1059000000</td>\n",
       "      <td>Vender</td>\n",
       "      <td>114.501</td>\n",
       "      <td>1.167910</td>\n",
       "      <td>1.133560</td>\n",
       "      <td>0.00000</td>\n",
       "      <td>0.00000</td>\n",
       "      <td>2021-11-21 19:14:24.320013056</td>\n",
       "      <td>2021-11-21 19:14:24.320013056</td>\n",
       "      <td>0.00000</td>\n",
       "      <td>0.000</td>\n",
       "    </tr>\n",
       "  </tbody>\n",
       "</table>\n",
       "<p>247 rows × 18 columns</p>\n",
       "</div>"
      ],
      "text/plain": [
       "                   time     open     high      low    close  tick_volume  \\\n",
       "0   2018-08-28 06:36:00  1.16727  1.16731  1.16698  1.16718         2281   \n",
       "1   2018-08-28 11:12:00  1.16899  1.16941  1.16875  1.16880         5244   \n",
       "2   2018-08-28 22:24:00  1.16928  1.16960  1.16900  1.16928         3322   \n",
       "3   2018-08-29 17:48:00  1.16902  1.16969  1.16844  1.16928         6667   \n",
       "4   2018-08-30 06:24:00  1.17006  1.17009  1.16980  1.16993         2546   \n",
       "..                  ...      ...      ...      ...      ...          ...   \n",
       "242 2018-12-28 12:24:00  1.14521  1.14627  1.14506  1.14626        17932   \n",
       "243 2018-12-28 13:24:00  1.14680  1.14680  1.14599  1.14640        18258   \n",
       "244 2018-12-28 17:36:00  1.14463  1.14515  1.14373  1.14433        24094   \n",
       "245 2018-12-31 12:12:00  1.14376  1.14425  1.14346  1.14420         5375   \n",
       "246 2018-12-31 19:12:00  1.14533  1.14543  1.14500  1.14501         7060   \n",
       "\n",
       "     spread  real_volume Operation  exposure  Stoploss  Takeprofit       SL  \\\n",
       "0        15    456200000    Vender   116.718  1.190524    1.155508  0.00000   \n",
       "1         7   1048800000   Comprar   116.880  1.145424    1.180488  1.14521   \n",
       "2        15    664400000    Vender   116.928  1.192666    1.157587  0.00000   \n",
       "3         7   1333400000   Comprar   116.928  1.145894    1.180973  1.14521   \n",
       "4        15    509200000    Vender   116.993  1.193329    1.158231  0.00000   \n",
       "..      ...          ...       ...       ...       ...         ...      ...   \n",
       "242      15   2689800000    Vender   114.626  1.169185    1.134797  0.00000   \n",
       "243      15   2738700000   Comprar   114.640  1.123472    1.157864  0.00000   \n",
       "244      15   3614100000    Vender   114.433  1.167217    1.132887  0.00000   \n",
       "245      15    806250000   Comprar   114.420  1.121316    1.155642  0.00000   \n",
       "246      15   1059000000    Vender   114.501  1.167910    1.133560  0.00000   \n",
       "\n",
       "          TP                       Date_SL                       Date_TP  \\\n",
       "0    1.15507 2021-11-21 19:14:24.320013056 2018-09-04 16:00:00.000000000   \n",
       "1    1.18085 2018-10-09 12:48:00.000000000 2018-09-24 16:12:00.000000000   \n",
       "2    1.15722 2021-11-21 19:14:24.320013056 2018-09-04 10:24:00.000000000   \n",
       "3    0.00000 2018-10-09 12:48:00.000000000 2021-11-21 19:14:24.320013056   \n",
       "4    1.15772 2021-11-21 19:14:24.320013056 2018-09-04 09:24:00.000000000   \n",
       "..       ...                           ...                           ...   \n",
       "242  0.00000 2021-11-21 19:14:24.320013056 2021-11-21 19:14:24.320013056   \n",
       "243  0.00000 2021-11-21 19:14:24.320013056 2021-11-21 19:14:24.320013056   \n",
       "244  0.00000 2021-11-21 19:14:24.320013056 2021-11-21 19:14:24.320013056   \n",
       "245  0.00000 2021-11-21 19:14:24.320013056 2021-11-21 19:14:24.320013056   \n",
       "246  0.00000 2021-11-21 19:14:24.320013056 2021-11-21 19:14:24.320013056   \n",
       "\n",
       "     CloseOp  Profit  \n",
       "0    1.15507   1.211  \n",
       "1    1.18085   1.205  \n",
       "2    1.15722   1.206  \n",
       "3    1.14521  -2.407  \n",
       "4    1.15772   1.221  \n",
       "..       ...     ...  \n",
       "242  0.00000   0.000  \n",
       "243  0.00000   0.000  \n",
       "244  0.00000   0.000  \n",
       "245  0.00000   0.000  \n",
       "246  0.00000   0.000  \n",
       "\n",
       "[247 rows x 18 columns]"
      ]
     },
     "execution_count": 11,
     "metadata": {},
     "output_type": "execute_result"
    }
   ],
   "source": [
    "earnings_df_ma = final_ma.dropna(subset=['Operation'])\n",
    "earnings_df_ma.reset_index(drop=True, inplace=True)\n",
    "earnings_df_ma"
   ]
  },
  {
   "cell_type": "code",
   "execution_count": 53,
   "metadata": {},
   "outputs": [
    {
     "data": {
      "text/html": [
       "<div>\n",
       "<style scoped>\n",
       "    .dataframe tbody tr th:only-of-type {\n",
       "        vertical-align: middle;\n",
       "    }\n",
       "\n",
       "    .dataframe tbody tr th {\n",
       "        vertical-align: top;\n",
       "    }\n",
       "\n",
       "    .dataframe thead th {\n",
       "        text-align: right;\n",
       "    }\n",
       "</style>\n",
       "<table border=\"1\" class=\"dataframe\">\n",
       "  <thead>\n",
       "    <tr style=\"text-align: right;\">\n",
       "      <th></th>\n",
       "      <th>time</th>\n",
       "      <th>open</th>\n",
       "      <th>high</th>\n",
       "      <th>low</th>\n",
       "      <th>close</th>\n",
       "      <th>tick_volume</th>\n",
       "      <th>spread</th>\n",
       "      <th>real_volume</th>\n",
       "      <th>Operation</th>\n",
       "      <th>exposure</th>\n",
       "      <th>Stoploss</th>\n",
       "      <th>Takeprofit</th>\n",
       "      <th>SL</th>\n",
       "      <th>TP</th>\n",
       "      <th>Date_SL</th>\n",
       "      <th>Date_TP</th>\n",
       "      <th>CloseOp</th>\n",
       "      <th>Profit</th>\n",
       "      <th>Profit_acm</th>\n",
       "    </tr>\n",
       "  </thead>\n",
       "  <tbody>\n",
       "    <tr>\n",
       "      <td>0</td>\n",
       "      <td>2018-08-28 06:36:00</td>\n",
       "      <td>1.16727</td>\n",
       "      <td>1.16731</td>\n",
       "      <td>1.16698</td>\n",
       "      <td>1.16718</td>\n",
       "      <td>2281</td>\n",
       "      <td>15</td>\n",
       "      <td>456200000</td>\n",
       "      <td>Vender</td>\n",
       "      <td>116.718</td>\n",
       "      <td>1.190524</td>\n",
       "      <td>1.155508</td>\n",
       "      <td>0.00000</td>\n",
       "      <td>1.15507</td>\n",
       "      <td>2021-11-21 19:14:24.320013056</td>\n",
       "      <td>2018-09-04 16:00:00.000000000</td>\n",
       "      <td>1.15507</td>\n",
       "      <td>1.211</td>\n",
       "      <td>1.211</td>\n",
       "    </tr>\n",
       "    <tr>\n",
       "      <td>1</td>\n",
       "      <td>2018-08-28 11:12:00</td>\n",
       "      <td>1.16899</td>\n",
       "      <td>1.16941</td>\n",
       "      <td>1.16875</td>\n",
       "      <td>1.16880</td>\n",
       "      <td>5244</td>\n",
       "      <td>7</td>\n",
       "      <td>1048800000</td>\n",
       "      <td>Comprar</td>\n",
       "      <td>116.880</td>\n",
       "      <td>1.145424</td>\n",
       "      <td>1.180488</td>\n",
       "      <td>1.14521</td>\n",
       "      <td>1.18085</td>\n",
       "      <td>2018-10-09 12:48:00.000000000</td>\n",
       "      <td>2018-09-24 16:12:00.000000000</td>\n",
       "      <td>1.18085</td>\n",
       "      <td>1.205</td>\n",
       "      <td>2.416</td>\n",
       "    </tr>\n",
       "    <tr>\n",
       "      <td>2</td>\n",
       "      <td>2018-08-28 22:24:00</td>\n",
       "      <td>1.16928</td>\n",
       "      <td>1.16960</td>\n",
       "      <td>1.16900</td>\n",
       "      <td>1.16928</td>\n",
       "      <td>3322</td>\n",
       "      <td>15</td>\n",
       "      <td>664400000</td>\n",
       "      <td>Vender</td>\n",
       "      <td>116.928</td>\n",
       "      <td>1.192666</td>\n",
       "      <td>1.157587</td>\n",
       "      <td>0.00000</td>\n",
       "      <td>1.15722</td>\n",
       "      <td>2021-11-21 19:14:24.320013056</td>\n",
       "      <td>2018-09-04 10:24:00.000000000</td>\n",
       "      <td>1.15722</td>\n",
       "      <td>1.206</td>\n",
       "      <td>3.622</td>\n",
       "    </tr>\n",
       "    <tr>\n",
       "      <td>3</td>\n",
       "      <td>2018-08-29 17:48:00</td>\n",
       "      <td>1.16902</td>\n",
       "      <td>1.16969</td>\n",
       "      <td>1.16844</td>\n",
       "      <td>1.16928</td>\n",
       "      <td>6667</td>\n",
       "      <td>7</td>\n",
       "      <td>1333400000</td>\n",
       "      <td>Comprar</td>\n",
       "      <td>116.928</td>\n",
       "      <td>1.145894</td>\n",
       "      <td>1.180973</td>\n",
       "      <td>1.14521</td>\n",
       "      <td>0.00000</td>\n",
       "      <td>2018-10-09 12:48:00.000000000</td>\n",
       "      <td>2021-11-21 19:14:24.320013056</td>\n",
       "      <td>1.14521</td>\n",
       "      <td>-2.407</td>\n",
       "      <td>1.215</td>\n",
       "    </tr>\n",
       "    <tr>\n",
       "      <td>4</td>\n",
       "      <td>2018-08-30 06:24:00</td>\n",
       "      <td>1.17006</td>\n",
       "      <td>1.17009</td>\n",
       "      <td>1.16980</td>\n",
       "      <td>1.16993</td>\n",
       "      <td>2546</td>\n",
       "      <td>15</td>\n",
       "      <td>509200000</td>\n",
       "      <td>Vender</td>\n",
       "      <td>116.993</td>\n",
       "      <td>1.193329</td>\n",
       "      <td>1.158231</td>\n",
       "      <td>0.00000</td>\n",
       "      <td>1.15772</td>\n",
       "      <td>2021-11-21 19:14:24.320013056</td>\n",
       "      <td>2018-09-04 09:24:00.000000000</td>\n",
       "      <td>1.15772</td>\n",
       "      <td>1.221</td>\n",
       "      <td>2.436</td>\n",
       "    </tr>\n",
       "    <tr>\n",
       "      <td>...</td>\n",
       "      <td>...</td>\n",
       "      <td>...</td>\n",
       "      <td>...</td>\n",
       "      <td>...</td>\n",
       "      <td>...</td>\n",
       "      <td>...</td>\n",
       "      <td>...</td>\n",
       "      <td>...</td>\n",
       "      <td>...</td>\n",
       "      <td>...</td>\n",
       "      <td>...</td>\n",
       "      <td>...</td>\n",
       "      <td>...</td>\n",
       "      <td>...</td>\n",
       "      <td>...</td>\n",
       "      <td>...</td>\n",
       "      <td>...</td>\n",
       "      <td>...</td>\n",
       "      <td>...</td>\n",
       "    </tr>\n",
       "    <tr>\n",
       "      <td>242</td>\n",
       "      <td>2018-12-28 12:24:00</td>\n",
       "      <td>1.14521</td>\n",
       "      <td>1.14627</td>\n",
       "      <td>1.14506</td>\n",
       "      <td>1.14626</td>\n",
       "      <td>17932</td>\n",
       "      <td>15</td>\n",
       "      <td>2689800000</td>\n",
       "      <td>Vender</td>\n",
       "      <td>114.626</td>\n",
       "      <td>1.169185</td>\n",
       "      <td>1.134797</td>\n",
       "      <td>0.00000</td>\n",
       "      <td>0.00000</td>\n",
       "      <td>2021-11-21 19:14:24.320013056</td>\n",
       "      <td>2021-11-21 19:14:24.320013056</td>\n",
       "      <td>0.00000</td>\n",
       "      <td>0.000</td>\n",
       "      <td>91.027</td>\n",
       "    </tr>\n",
       "    <tr>\n",
       "      <td>243</td>\n",
       "      <td>2018-12-28 13:24:00</td>\n",
       "      <td>1.14680</td>\n",
       "      <td>1.14680</td>\n",
       "      <td>1.14599</td>\n",
       "      <td>1.14640</td>\n",
       "      <td>18258</td>\n",
       "      <td>15</td>\n",
       "      <td>2738700000</td>\n",
       "      <td>Comprar</td>\n",
       "      <td>114.640</td>\n",
       "      <td>1.123472</td>\n",
       "      <td>1.157864</td>\n",
       "      <td>0.00000</td>\n",
       "      <td>0.00000</td>\n",
       "      <td>2021-11-21 19:14:24.320013056</td>\n",
       "      <td>2021-11-21 19:14:24.320013056</td>\n",
       "      <td>0.00000</td>\n",
       "      <td>0.000</td>\n",
       "      <td>91.027</td>\n",
       "    </tr>\n",
       "    <tr>\n",
       "      <td>244</td>\n",
       "      <td>2018-12-28 17:36:00</td>\n",
       "      <td>1.14463</td>\n",
       "      <td>1.14515</td>\n",
       "      <td>1.14373</td>\n",
       "      <td>1.14433</td>\n",
       "      <td>24094</td>\n",
       "      <td>15</td>\n",
       "      <td>3614100000</td>\n",
       "      <td>Vender</td>\n",
       "      <td>114.433</td>\n",
       "      <td>1.167217</td>\n",
       "      <td>1.132887</td>\n",
       "      <td>0.00000</td>\n",
       "      <td>0.00000</td>\n",
       "      <td>2021-11-21 19:14:24.320013056</td>\n",
       "      <td>2021-11-21 19:14:24.320013056</td>\n",
       "      <td>0.00000</td>\n",
       "      <td>0.000</td>\n",
       "      <td>91.027</td>\n",
       "    </tr>\n",
       "    <tr>\n",
       "      <td>245</td>\n",
       "      <td>2018-12-31 12:12:00</td>\n",
       "      <td>1.14376</td>\n",
       "      <td>1.14425</td>\n",
       "      <td>1.14346</td>\n",
       "      <td>1.14420</td>\n",
       "      <td>5375</td>\n",
       "      <td>15</td>\n",
       "      <td>806250000</td>\n",
       "      <td>Comprar</td>\n",
       "      <td>114.420</td>\n",
       "      <td>1.121316</td>\n",
       "      <td>1.155642</td>\n",
       "      <td>0.00000</td>\n",
       "      <td>0.00000</td>\n",
       "      <td>2021-11-21 19:14:24.320013056</td>\n",
       "      <td>2021-11-21 19:14:24.320013056</td>\n",
       "      <td>0.00000</td>\n",
       "      <td>0.000</td>\n",
       "      <td>91.027</td>\n",
       "    </tr>\n",
       "    <tr>\n",
       "      <td>246</td>\n",
       "      <td>2018-12-31 19:12:00</td>\n",
       "      <td>1.14533</td>\n",
       "      <td>1.14543</td>\n",
       "      <td>1.14500</td>\n",
       "      <td>1.14501</td>\n",
       "      <td>7060</td>\n",
       "      <td>15</td>\n",
       "      <td>1059000000</td>\n",
       "      <td>Vender</td>\n",
       "      <td>114.501</td>\n",
       "      <td>1.167910</td>\n",
       "      <td>1.133560</td>\n",
       "      <td>0.00000</td>\n",
       "      <td>0.00000</td>\n",
       "      <td>2021-11-21 19:14:24.320013056</td>\n",
       "      <td>2021-11-21 19:14:24.320013056</td>\n",
       "      <td>0.00000</td>\n",
       "      <td>0.000</td>\n",
       "      <td>91.027</td>\n",
       "    </tr>\n",
       "  </tbody>\n",
       "</table>\n",
       "<p>247 rows × 19 columns</p>\n",
       "</div>"
      ],
      "text/plain": [
       "                   time     open     high      low    close  tick_volume  \\\n",
       "0   2018-08-28 06:36:00  1.16727  1.16731  1.16698  1.16718         2281   \n",
       "1   2018-08-28 11:12:00  1.16899  1.16941  1.16875  1.16880         5244   \n",
       "2   2018-08-28 22:24:00  1.16928  1.16960  1.16900  1.16928         3322   \n",
       "3   2018-08-29 17:48:00  1.16902  1.16969  1.16844  1.16928         6667   \n",
       "4   2018-08-30 06:24:00  1.17006  1.17009  1.16980  1.16993         2546   \n",
       "..                  ...      ...      ...      ...      ...          ...   \n",
       "242 2018-12-28 12:24:00  1.14521  1.14627  1.14506  1.14626        17932   \n",
       "243 2018-12-28 13:24:00  1.14680  1.14680  1.14599  1.14640        18258   \n",
       "244 2018-12-28 17:36:00  1.14463  1.14515  1.14373  1.14433        24094   \n",
       "245 2018-12-31 12:12:00  1.14376  1.14425  1.14346  1.14420         5375   \n",
       "246 2018-12-31 19:12:00  1.14533  1.14543  1.14500  1.14501         7060   \n",
       "\n",
       "     spread  real_volume Operation  exposure  Stoploss  Takeprofit       SL  \\\n",
       "0        15    456200000    Vender   116.718  1.190524    1.155508  0.00000   \n",
       "1         7   1048800000   Comprar   116.880  1.145424    1.180488  1.14521   \n",
       "2        15    664400000    Vender   116.928  1.192666    1.157587  0.00000   \n",
       "3         7   1333400000   Comprar   116.928  1.145894    1.180973  1.14521   \n",
       "4        15    509200000    Vender   116.993  1.193329    1.158231  0.00000   \n",
       "..      ...          ...       ...       ...       ...         ...      ...   \n",
       "242      15   2689800000    Vender   114.626  1.169185    1.134797  0.00000   \n",
       "243      15   2738700000   Comprar   114.640  1.123472    1.157864  0.00000   \n",
       "244      15   3614100000    Vender   114.433  1.167217    1.132887  0.00000   \n",
       "245      15    806250000   Comprar   114.420  1.121316    1.155642  0.00000   \n",
       "246      15   1059000000    Vender   114.501  1.167910    1.133560  0.00000   \n",
       "\n",
       "          TP                       Date_SL                       Date_TP  \\\n",
       "0    1.15507 2021-11-21 19:14:24.320013056 2018-09-04 16:00:00.000000000   \n",
       "1    1.18085 2018-10-09 12:48:00.000000000 2018-09-24 16:12:00.000000000   \n",
       "2    1.15722 2021-11-21 19:14:24.320013056 2018-09-04 10:24:00.000000000   \n",
       "3    0.00000 2018-10-09 12:48:00.000000000 2021-11-21 19:14:24.320013056   \n",
       "4    1.15772 2021-11-21 19:14:24.320013056 2018-09-04 09:24:00.000000000   \n",
       "..       ...                           ...                           ...   \n",
       "242  0.00000 2021-11-21 19:14:24.320013056 2021-11-21 19:14:24.320013056   \n",
       "243  0.00000 2021-11-21 19:14:24.320013056 2021-11-21 19:14:24.320013056   \n",
       "244  0.00000 2021-11-21 19:14:24.320013056 2021-11-21 19:14:24.320013056   \n",
       "245  0.00000 2021-11-21 19:14:24.320013056 2021-11-21 19:14:24.320013056   \n",
       "246  0.00000 2021-11-21 19:14:24.320013056 2021-11-21 19:14:24.320013056   \n",
       "\n",
       "     CloseOp  Profit  Profit_acm  \n",
       "0    1.15507   1.211       1.211  \n",
       "1    1.18085   1.205       2.416  \n",
       "2    1.15722   1.206       3.622  \n",
       "3    1.14521  -2.407       1.215  \n",
       "4    1.15772   1.221       2.436  \n",
       "..       ...     ...         ...  \n",
       "242  0.00000   0.000      91.027  \n",
       "243  0.00000   0.000      91.027  \n",
       "244  0.00000   0.000      91.027  \n",
       "245  0.00000   0.000      91.027  \n",
       "246  0.00000   0.000      91.027  \n",
       "\n",
       "[247 rows x 19 columns]"
      ]
     },
     "execution_count": 53,
     "metadata": {},
     "output_type": "execute_result"
    }
   ],
   "source": [
    "earnings_df_ma['Profit_acm'] = earnings_df_ma['Profit'].cumsum() \n",
    "earnings_df_ma"
   ]
  },
  {
   "cell_type": "code",
   "execution_count": 12,
   "metadata": {},
   "outputs": [
    {
     "data": {
      "text/plain": [
       "(28350.352000000003, 91.02700000000029, 0.32107890582804854)"
      ]
     },
     "execution_count": 12,
     "metadata": {},
     "output_type": "execute_result"
    }
   ],
   "source": [
    "earnings_df_ma['exposure'].sum(), \\\n",
    "earnings_df_ma['Profit'].sum(), \\\n",
    "(earnings_df_ma['Profit'].sum() / earnings_df_ma['exposure'].sum()) * 100"
   ]
  },
  {
   "cell_type": "code",
   "execution_count": 13,
   "metadata": {},
   "outputs": [
    {
     "data": {
      "text/html": [
       "<div>\n",
       "<style scoped>\n",
       "    .dataframe tbody tr th:only-of-type {\n",
       "        vertical-align: middle;\n",
       "    }\n",
       "\n",
       "    .dataframe tbody tr th {\n",
       "        vertical-align: top;\n",
       "    }\n",
       "\n",
       "    .dataframe thead th {\n",
       "        text-align: right;\n",
       "    }\n",
       "</style>\n",
       "<table border=\"1\" class=\"dataframe\">\n",
       "  <thead>\n",
       "    <tr style=\"text-align: right;\">\n",
       "      <th></th>\n",
       "      <th>time</th>\n",
       "      <th>open</th>\n",
       "      <th>high</th>\n",
       "      <th>low</th>\n",
       "      <th>close</th>\n",
       "      <th>tick_volume</th>\n",
       "      <th>spread</th>\n",
       "      <th>real_volume</th>\n",
       "      <th>Operation</th>\n",
       "      <th>exposure</th>\n",
       "      <th>Stoploss</th>\n",
       "      <th>Takeprofit</th>\n",
       "      <th>SL</th>\n",
       "      <th>TP</th>\n",
       "      <th>Date_SL</th>\n",
       "      <th>Date_TP</th>\n",
       "      <th>CloseOp</th>\n",
       "      <th>Profit</th>\n",
       "    </tr>\n",
       "  </thead>\n",
       "  <tbody>\n",
       "    <tr>\n",
       "      <td>0</td>\n",
       "      <td>2018-08-28 14:48:00</td>\n",
       "      <td>1.17055</td>\n",
       "      <td>1.17174</td>\n",
       "      <td>1.17053</td>\n",
       "      <td>1.17155</td>\n",
       "      <td>6076</td>\n",
       "      <td>7</td>\n",
       "      <td>1215200000</td>\n",
       "      <td>Vender</td>\n",
       "      <td>117.155</td>\n",
       "      <td>1.174877</td>\n",
       "      <td>1.168223</td>\n",
       "      <td>1.17575</td>\n",
       "      <td>1.16822</td>\n",
       "      <td>2018-09-20 14:48:00.000000000</td>\n",
       "      <td>2018-08-29 08:24:00.000000000</td>\n",
       "      <td>1.16822</td>\n",
       "      <td>0.333</td>\n",
       "    </tr>\n",
       "    <tr>\n",
       "      <td>1</td>\n",
       "      <td>2018-08-28 16:12:00</td>\n",
       "      <td>1.17170</td>\n",
       "      <td>1.17270</td>\n",
       "      <td>1.17164</td>\n",
       "      <td>1.17236</td>\n",
       "      <td>5754</td>\n",
       "      <td>7</td>\n",
       "      <td>1150800000</td>\n",
       "      <td>Vender</td>\n",
       "      <td>117.236</td>\n",
       "      <td>1.176283</td>\n",
       "      <td>1.168437</td>\n",
       "      <td>1.17650</td>\n",
       "      <td>1.16833</td>\n",
       "      <td>2018-09-20 15:00:00.000000000</td>\n",
       "      <td>2018-08-29 04:48:00.000000000</td>\n",
       "      <td>1.16833</td>\n",
       "      <td>0.403</td>\n",
       "    </tr>\n",
       "    <tr>\n",
       "      <td>2</td>\n",
       "      <td>2018-08-28 16:48:00</td>\n",
       "      <td>1.17180</td>\n",
       "      <td>1.17328</td>\n",
       "      <td>1.17160</td>\n",
       "      <td>1.17308</td>\n",
       "      <td>6040</td>\n",
       "      <td>7</td>\n",
       "      <td>1208000000</td>\n",
       "      <td>Vender</td>\n",
       "      <td>117.308</td>\n",
       "      <td>1.177583</td>\n",
       "      <td>1.168577</td>\n",
       "      <td>1.17766</td>\n",
       "      <td>1.16852</td>\n",
       "      <td>2018-09-20 22:00:00.000000000</td>\n",
       "      <td>2018-08-29 03:48:00.000000000</td>\n",
       "      <td>1.16852</td>\n",
       "      <td>0.456</td>\n",
       "    </tr>\n",
       "    <tr>\n",
       "      <td>3</td>\n",
       "      <td>2018-08-30 16:00:00</td>\n",
       "      <td>1.16767</td>\n",
       "      <td>1.16823</td>\n",
       "      <td>1.16602</td>\n",
       "      <td>1.16638</td>\n",
       "      <td>6616</td>\n",
       "      <td>7</td>\n",
       "      <td>1323200000</td>\n",
       "      <td>Comprar</td>\n",
       "      <td>116.638</td>\n",
       "      <td>1.162857</td>\n",
       "      <td>1.169903</td>\n",
       "      <td>1.16232</td>\n",
       "      <td>1.17055</td>\n",
       "      <td>2018-08-31 18:00:00.000000000</td>\n",
       "      <td>2018-09-14 09:24:00.000000000</td>\n",
       "      <td>1.16232</td>\n",
       "      <td>-0.406</td>\n",
       "    </tr>\n",
       "    <tr>\n",
       "      <td>4</td>\n",
       "      <td>2018-08-30 17:12:00</td>\n",
       "      <td>1.16608</td>\n",
       "      <td>1.16658</td>\n",
       "      <td>1.16497</td>\n",
       "      <td>1.16528</td>\n",
       "      <td>6059</td>\n",
       "      <td>7</td>\n",
       "      <td>1211800000</td>\n",
       "      <td>Comprar</td>\n",
       "      <td>116.528</td>\n",
       "      <td>1.160906</td>\n",
       "      <td>1.169654</td>\n",
       "      <td>1.16080</td>\n",
       "      <td>1.16974</td>\n",
       "      <td>2018-08-31 18:24:00.000000000</td>\n",
       "      <td>2018-09-14 08:12:00.000000000</td>\n",
       "      <td>1.16080</td>\n",
       "      <td>-0.448</td>\n",
       "    </tr>\n",
       "    <tr>\n",
       "      <td>...</td>\n",
       "      <td>...</td>\n",
       "      <td>...</td>\n",
       "      <td>...</td>\n",
       "      <td>...</td>\n",
       "      <td>...</td>\n",
       "      <td>...</td>\n",
       "      <td>...</td>\n",
       "      <td>...</td>\n",
       "      <td>...</td>\n",
       "      <td>...</td>\n",
       "      <td>...</td>\n",
       "      <td>...</td>\n",
       "      <td>...</td>\n",
       "      <td>...</td>\n",
       "      <td>...</td>\n",
       "      <td>...</td>\n",
       "      <td>...</td>\n",
       "      <td>...</td>\n",
       "    </tr>\n",
       "    <tr>\n",
       "      <td>116</td>\n",
       "      <td>2018-12-19 17:12:00</td>\n",
       "      <td>1.14289</td>\n",
       "      <td>1.14386</td>\n",
       "      <td>1.14271</td>\n",
       "      <td>1.14384</td>\n",
       "      <td>12117</td>\n",
       "      <td>15</td>\n",
       "      <td>1817550000</td>\n",
       "      <td>Vender</td>\n",
       "      <td>114.384</td>\n",
       "      <td>1.148918</td>\n",
       "      <td>1.138762</td>\n",
       "      <td>0.00000</td>\n",
       "      <td>1.13856</td>\n",
       "      <td>2021-11-21 19:14:24.320013056</td>\n",
       "      <td>2018-12-19 21:12:00.000000000</td>\n",
       "      <td>1.13856</td>\n",
       "      <td>0.528</td>\n",
       "    </tr>\n",
       "    <tr>\n",
       "      <td>117</td>\n",
       "      <td>2018-12-20 11:12:00</td>\n",
       "      <td>1.14434</td>\n",
       "      <td>1.14704</td>\n",
       "      <td>1.14414</td>\n",
       "      <td>1.14691</td>\n",
       "      <td>26294</td>\n",
       "      <td>15</td>\n",
       "      <td>3944100000</td>\n",
       "      <td>Vender</td>\n",
       "      <td>114.691</td>\n",
       "      <td>1.153963</td>\n",
       "      <td>1.139857</td>\n",
       "      <td>0.00000</td>\n",
       "      <td>1.13887</td>\n",
       "      <td>2021-11-21 19:14:24.320013056</td>\n",
       "      <td>2018-12-21 17:24:00.000000000</td>\n",
       "      <td>1.13887</td>\n",
       "      <td>0.804</td>\n",
       "    </tr>\n",
       "    <tr>\n",
       "      <td>118</td>\n",
       "      <td>2018-12-26 19:48:00</td>\n",
       "      <td>1.13670</td>\n",
       "      <td>1.13685</td>\n",
       "      <td>1.13545</td>\n",
       "      <td>1.13552</td>\n",
       "      <td>8626</td>\n",
       "      <td>15</td>\n",
       "      <td>1293900000</td>\n",
       "      <td>Comprar</td>\n",
       "      <td>113.552</td>\n",
       "      <td>1.131055</td>\n",
       "      <td>1.139985</td>\n",
       "      <td>0.00000</td>\n",
       "      <td>1.14033</td>\n",
       "      <td>2021-11-21 19:14:24.320013056</td>\n",
       "      <td>2018-12-27 12:36:00.000000000</td>\n",
       "      <td>1.14033</td>\n",
       "      <td>0.481</td>\n",
       "    </tr>\n",
       "    <tr>\n",
       "      <td>119</td>\n",
       "      <td>2018-12-27 16:48:00</td>\n",
       "      <td>1.13995</td>\n",
       "      <td>1.14355</td>\n",
       "      <td>1.13989</td>\n",
       "      <td>1.14339</td>\n",
       "      <td>12664</td>\n",
       "      <td>15</td>\n",
       "      <td>1899600000</td>\n",
       "      <td>Vender</td>\n",
       "      <td>114.339</td>\n",
       "      <td>1.149030</td>\n",
       "      <td>1.137750</td>\n",
       "      <td>0.00000</td>\n",
       "      <td>0.00000</td>\n",
       "      <td>2021-11-21 19:14:24.320013056</td>\n",
       "      <td>2021-11-21 19:14:24.320013056</td>\n",
       "      <td>0.00000</td>\n",
       "      <td>0.000</td>\n",
       "    </tr>\n",
       "    <tr>\n",
       "      <td>120</td>\n",
       "      <td>2018-12-31 13:24:00</td>\n",
       "      <td>1.14510</td>\n",
       "      <td>1.14653</td>\n",
       "      <td>1.14508</td>\n",
       "      <td>1.14635</td>\n",
       "      <td>8930</td>\n",
       "      <td>15</td>\n",
       "      <td>1339500000</td>\n",
       "      <td>Vender</td>\n",
       "      <td>114.635</td>\n",
       "      <td>1.148870</td>\n",
       "      <td>1.143830</td>\n",
       "      <td>0.00000</td>\n",
       "      <td>1.14345</td>\n",
       "      <td>2021-11-21 19:14:24.320013056</td>\n",
       "      <td>2018-12-31 16:48:00.000000000</td>\n",
       "      <td>1.14345</td>\n",
       "      <td>0.290</td>\n",
       "    </tr>\n",
       "  </tbody>\n",
       "</table>\n",
       "<p>121 rows × 18 columns</p>\n",
       "</div>"
      ],
      "text/plain": [
       "                   time     open     high      low    close  tick_volume  \\\n",
       "0   2018-08-28 14:48:00  1.17055  1.17174  1.17053  1.17155         6076   \n",
       "1   2018-08-28 16:12:00  1.17170  1.17270  1.17164  1.17236         5754   \n",
       "2   2018-08-28 16:48:00  1.17180  1.17328  1.17160  1.17308         6040   \n",
       "3   2018-08-30 16:00:00  1.16767  1.16823  1.16602  1.16638         6616   \n",
       "4   2018-08-30 17:12:00  1.16608  1.16658  1.16497  1.16528         6059   \n",
       "..                  ...      ...      ...      ...      ...          ...   \n",
       "116 2018-12-19 17:12:00  1.14289  1.14386  1.14271  1.14384        12117   \n",
       "117 2018-12-20 11:12:00  1.14434  1.14704  1.14414  1.14691        26294   \n",
       "118 2018-12-26 19:48:00  1.13670  1.13685  1.13545  1.13552         8626   \n",
       "119 2018-12-27 16:48:00  1.13995  1.14355  1.13989  1.14339        12664   \n",
       "120 2018-12-31 13:24:00  1.14510  1.14653  1.14508  1.14635         8930   \n",
       "\n",
       "     spread  real_volume Operation  exposure  Stoploss  Takeprofit       SL  \\\n",
       "0         7   1215200000    Vender   117.155  1.174877    1.168223  1.17575   \n",
       "1         7   1150800000    Vender   117.236  1.176283    1.168437  1.17650   \n",
       "2         7   1208000000    Vender   117.308  1.177583    1.168577  1.17766   \n",
       "3         7   1323200000   Comprar   116.638  1.162857    1.169903  1.16232   \n",
       "4         7   1211800000   Comprar   116.528  1.160906    1.169654  1.16080   \n",
       "..      ...          ...       ...       ...       ...         ...      ...   \n",
       "116      15   1817550000    Vender   114.384  1.148918    1.138762  0.00000   \n",
       "117      15   3944100000    Vender   114.691  1.153963    1.139857  0.00000   \n",
       "118      15   1293900000   Comprar   113.552  1.131055    1.139985  0.00000   \n",
       "119      15   1899600000    Vender   114.339  1.149030    1.137750  0.00000   \n",
       "120      15   1339500000    Vender   114.635  1.148870    1.143830  0.00000   \n",
       "\n",
       "          TP                       Date_SL                       Date_TP  \\\n",
       "0    1.16822 2018-09-20 14:48:00.000000000 2018-08-29 08:24:00.000000000   \n",
       "1    1.16833 2018-09-20 15:00:00.000000000 2018-08-29 04:48:00.000000000   \n",
       "2    1.16852 2018-09-20 22:00:00.000000000 2018-08-29 03:48:00.000000000   \n",
       "3    1.17055 2018-08-31 18:00:00.000000000 2018-09-14 09:24:00.000000000   \n",
       "4    1.16974 2018-08-31 18:24:00.000000000 2018-09-14 08:12:00.000000000   \n",
       "..       ...                           ...                           ...   \n",
       "116  1.13856 2021-11-21 19:14:24.320013056 2018-12-19 21:12:00.000000000   \n",
       "117  1.13887 2021-11-21 19:14:24.320013056 2018-12-21 17:24:00.000000000   \n",
       "118  1.14033 2021-11-21 19:14:24.320013056 2018-12-27 12:36:00.000000000   \n",
       "119  0.00000 2021-11-21 19:14:24.320013056 2021-11-21 19:14:24.320013056   \n",
       "120  1.14345 2021-11-21 19:14:24.320013056 2018-12-31 16:48:00.000000000   \n",
       "\n",
       "     CloseOp  Profit  \n",
       "0    1.16822   0.333  \n",
       "1    1.16833   0.403  \n",
       "2    1.16852   0.456  \n",
       "3    1.16232  -0.406  \n",
       "4    1.16080  -0.448  \n",
       "..       ...     ...  \n",
       "116  1.13856   0.528  \n",
       "117  1.13887   0.804  \n",
       "118  1.14033   0.481  \n",
       "119  0.00000   0.000  \n",
       "120  1.14345   0.290  \n",
       "\n",
       "[121 rows x 18 columns]"
      ]
     },
     "execution_count": 13,
     "metadata": {},
     "output_type": "execute_result"
    }
   ],
   "source": [
    "earnings_df_bb = final_bb.dropna(subset=['Operation'])\n",
    "earnings_df_bb.reset_index(drop=True, inplace=True)\n",
    "earnings_df_bb"
   ]
  },
  {
   "cell_type": "code",
   "execution_count": 54,
   "metadata": {},
   "outputs": [
    {
     "data": {
      "text/html": [
       "<div>\n",
       "<style scoped>\n",
       "    .dataframe tbody tr th:only-of-type {\n",
       "        vertical-align: middle;\n",
       "    }\n",
       "\n",
       "    .dataframe tbody tr th {\n",
       "        vertical-align: top;\n",
       "    }\n",
       "\n",
       "    .dataframe thead th {\n",
       "        text-align: right;\n",
       "    }\n",
       "</style>\n",
       "<table border=\"1\" class=\"dataframe\">\n",
       "  <thead>\n",
       "    <tr style=\"text-align: right;\">\n",
       "      <th></th>\n",
       "      <th>time</th>\n",
       "      <th>open</th>\n",
       "      <th>high</th>\n",
       "      <th>low</th>\n",
       "      <th>close</th>\n",
       "      <th>tick_volume</th>\n",
       "      <th>spread</th>\n",
       "      <th>real_volume</th>\n",
       "      <th>Operation</th>\n",
       "      <th>exposure</th>\n",
       "      <th>Stoploss</th>\n",
       "      <th>Takeprofit</th>\n",
       "      <th>SL</th>\n",
       "      <th>TP</th>\n",
       "      <th>Date_SL</th>\n",
       "      <th>Date_TP</th>\n",
       "      <th>CloseOp</th>\n",
       "      <th>Profit</th>\n",
       "      <th>Profit_acm</th>\n",
       "    </tr>\n",
       "  </thead>\n",
       "  <tbody>\n",
       "    <tr>\n",
       "      <td>0</td>\n",
       "      <td>2018-08-28 14:48:00</td>\n",
       "      <td>1.17055</td>\n",
       "      <td>1.17174</td>\n",
       "      <td>1.17053</td>\n",
       "      <td>1.17155</td>\n",
       "      <td>6076</td>\n",
       "      <td>7</td>\n",
       "      <td>1215200000</td>\n",
       "      <td>Vender</td>\n",
       "      <td>117.155</td>\n",
       "      <td>1.174877</td>\n",
       "      <td>1.168223</td>\n",
       "      <td>1.17575</td>\n",
       "      <td>1.16822</td>\n",
       "      <td>2018-09-20 14:48:00.000000000</td>\n",
       "      <td>2018-08-29 08:24:00.000000000</td>\n",
       "      <td>1.16822</td>\n",
       "      <td>0.333</td>\n",
       "      <td>0.333</td>\n",
       "    </tr>\n",
       "    <tr>\n",
       "      <td>1</td>\n",
       "      <td>2018-08-28 16:12:00</td>\n",
       "      <td>1.17170</td>\n",
       "      <td>1.17270</td>\n",
       "      <td>1.17164</td>\n",
       "      <td>1.17236</td>\n",
       "      <td>5754</td>\n",
       "      <td>7</td>\n",
       "      <td>1150800000</td>\n",
       "      <td>Vender</td>\n",
       "      <td>117.236</td>\n",
       "      <td>1.176283</td>\n",
       "      <td>1.168437</td>\n",
       "      <td>1.17650</td>\n",
       "      <td>1.16833</td>\n",
       "      <td>2018-09-20 15:00:00.000000000</td>\n",
       "      <td>2018-08-29 04:48:00.000000000</td>\n",
       "      <td>1.16833</td>\n",
       "      <td>0.403</td>\n",
       "      <td>0.736</td>\n",
       "    </tr>\n",
       "    <tr>\n",
       "      <td>2</td>\n",
       "      <td>2018-08-28 16:48:00</td>\n",
       "      <td>1.17180</td>\n",
       "      <td>1.17328</td>\n",
       "      <td>1.17160</td>\n",
       "      <td>1.17308</td>\n",
       "      <td>6040</td>\n",
       "      <td>7</td>\n",
       "      <td>1208000000</td>\n",
       "      <td>Vender</td>\n",
       "      <td>117.308</td>\n",
       "      <td>1.177583</td>\n",
       "      <td>1.168577</td>\n",
       "      <td>1.17766</td>\n",
       "      <td>1.16852</td>\n",
       "      <td>2018-09-20 22:00:00.000000000</td>\n",
       "      <td>2018-08-29 03:48:00.000000000</td>\n",
       "      <td>1.16852</td>\n",
       "      <td>0.456</td>\n",
       "      <td>1.192</td>\n",
       "    </tr>\n",
       "    <tr>\n",
       "      <td>3</td>\n",
       "      <td>2018-08-30 16:00:00</td>\n",
       "      <td>1.16767</td>\n",
       "      <td>1.16823</td>\n",
       "      <td>1.16602</td>\n",
       "      <td>1.16638</td>\n",
       "      <td>6616</td>\n",
       "      <td>7</td>\n",
       "      <td>1323200000</td>\n",
       "      <td>Comprar</td>\n",
       "      <td>116.638</td>\n",
       "      <td>1.162857</td>\n",
       "      <td>1.169903</td>\n",
       "      <td>1.16232</td>\n",
       "      <td>1.17055</td>\n",
       "      <td>2018-08-31 18:00:00.000000000</td>\n",
       "      <td>2018-09-14 09:24:00.000000000</td>\n",
       "      <td>1.16232</td>\n",
       "      <td>-0.406</td>\n",
       "      <td>0.786</td>\n",
       "    </tr>\n",
       "    <tr>\n",
       "      <td>4</td>\n",
       "      <td>2018-08-30 17:12:00</td>\n",
       "      <td>1.16608</td>\n",
       "      <td>1.16658</td>\n",
       "      <td>1.16497</td>\n",
       "      <td>1.16528</td>\n",
       "      <td>6059</td>\n",
       "      <td>7</td>\n",
       "      <td>1211800000</td>\n",
       "      <td>Comprar</td>\n",
       "      <td>116.528</td>\n",
       "      <td>1.160906</td>\n",
       "      <td>1.169654</td>\n",
       "      <td>1.16080</td>\n",
       "      <td>1.16974</td>\n",
       "      <td>2018-08-31 18:24:00.000000000</td>\n",
       "      <td>2018-09-14 08:12:00.000000000</td>\n",
       "      <td>1.16080</td>\n",
       "      <td>-0.448</td>\n",
       "      <td>0.338</td>\n",
       "    </tr>\n",
       "    <tr>\n",
       "      <td>...</td>\n",
       "      <td>...</td>\n",
       "      <td>...</td>\n",
       "      <td>...</td>\n",
       "      <td>...</td>\n",
       "      <td>...</td>\n",
       "      <td>...</td>\n",
       "      <td>...</td>\n",
       "      <td>...</td>\n",
       "      <td>...</td>\n",
       "      <td>...</td>\n",
       "      <td>...</td>\n",
       "      <td>...</td>\n",
       "      <td>...</td>\n",
       "      <td>...</td>\n",
       "      <td>...</td>\n",
       "      <td>...</td>\n",
       "      <td>...</td>\n",
       "      <td>...</td>\n",
       "      <td>...</td>\n",
       "    </tr>\n",
       "    <tr>\n",
       "      <td>116</td>\n",
       "      <td>2018-12-19 17:12:00</td>\n",
       "      <td>1.14289</td>\n",
       "      <td>1.14386</td>\n",
       "      <td>1.14271</td>\n",
       "      <td>1.14384</td>\n",
       "      <td>12117</td>\n",
       "      <td>15</td>\n",
       "      <td>1817550000</td>\n",
       "      <td>Vender</td>\n",
       "      <td>114.384</td>\n",
       "      <td>1.148918</td>\n",
       "      <td>1.138762</td>\n",
       "      <td>0.00000</td>\n",
       "      <td>1.13856</td>\n",
       "      <td>2021-11-21 19:14:24.320013056</td>\n",
       "      <td>2018-12-19 21:12:00.000000000</td>\n",
       "      <td>1.13856</td>\n",
       "      <td>0.528</td>\n",
       "      <td>-3.308</td>\n",
       "    </tr>\n",
       "    <tr>\n",
       "      <td>117</td>\n",
       "      <td>2018-12-20 11:12:00</td>\n",
       "      <td>1.14434</td>\n",
       "      <td>1.14704</td>\n",
       "      <td>1.14414</td>\n",
       "      <td>1.14691</td>\n",
       "      <td>26294</td>\n",
       "      <td>15</td>\n",
       "      <td>3944100000</td>\n",
       "      <td>Vender</td>\n",
       "      <td>114.691</td>\n",
       "      <td>1.153963</td>\n",
       "      <td>1.139857</td>\n",
       "      <td>0.00000</td>\n",
       "      <td>1.13887</td>\n",
       "      <td>2021-11-21 19:14:24.320013056</td>\n",
       "      <td>2018-12-21 17:24:00.000000000</td>\n",
       "      <td>1.13887</td>\n",
       "      <td>0.804</td>\n",
       "      <td>-2.504</td>\n",
       "    </tr>\n",
       "    <tr>\n",
       "      <td>118</td>\n",
       "      <td>2018-12-26 19:48:00</td>\n",
       "      <td>1.13670</td>\n",
       "      <td>1.13685</td>\n",
       "      <td>1.13545</td>\n",
       "      <td>1.13552</td>\n",
       "      <td>8626</td>\n",
       "      <td>15</td>\n",
       "      <td>1293900000</td>\n",
       "      <td>Comprar</td>\n",
       "      <td>113.552</td>\n",
       "      <td>1.131055</td>\n",
       "      <td>1.139985</td>\n",
       "      <td>0.00000</td>\n",
       "      <td>1.14033</td>\n",
       "      <td>2021-11-21 19:14:24.320013056</td>\n",
       "      <td>2018-12-27 12:36:00.000000000</td>\n",
       "      <td>1.14033</td>\n",
       "      <td>0.481</td>\n",
       "      <td>-2.023</td>\n",
       "    </tr>\n",
       "    <tr>\n",
       "      <td>119</td>\n",
       "      <td>2018-12-27 16:48:00</td>\n",
       "      <td>1.13995</td>\n",
       "      <td>1.14355</td>\n",
       "      <td>1.13989</td>\n",
       "      <td>1.14339</td>\n",
       "      <td>12664</td>\n",
       "      <td>15</td>\n",
       "      <td>1899600000</td>\n",
       "      <td>Vender</td>\n",
       "      <td>114.339</td>\n",
       "      <td>1.149030</td>\n",
       "      <td>1.137750</td>\n",
       "      <td>0.00000</td>\n",
       "      <td>0.00000</td>\n",
       "      <td>2021-11-21 19:14:24.320013056</td>\n",
       "      <td>2021-11-21 19:14:24.320013056</td>\n",
       "      <td>0.00000</td>\n",
       "      <td>0.000</td>\n",
       "      <td>-2.023</td>\n",
       "    </tr>\n",
       "    <tr>\n",
       "      <td>120</td>\n",
       "      <td>2018-12-31 13:24:00</td>\n",
       "      <td>1.14510</td>\n",
       "      <td>1.14653</td>\n",
       "      <td>1.14508</td>\n",
       "      <td>1.14635</td>\n",
       "      <td>8930</td>\n",
       "      <td>15</td>\n",
       "      <td>1339500000</td>\n",
       "      <td>Vender</td>\n",
       "      <td>114.635</td>\n",
       "      <td>1.148870</td>\n",
       "      <td>1.143830</td>\n",
       "      <td>0.00000</td>\n",
       "      <td>1.14345</td>\n",
       "      <td>2021-11-21 19:14:24.320013056</td>\n",
       "      <td>2018-12-31 16:48:00.000000000</td>\n",
       "      <td>1.14345</td>\n",
       "      <td>0.290</td>\n",
       "      <td>-1.733</td>\n",
       "    </tr>\n",
       "  </tbody>\n",
       "</table>\n",
       "<p>121 rows × 19 columns</p>\n",
       "</div>"
      ],
      "text/plain": [
       "                   time     open     high      low    close  tick_volume  \\\n",
       "0   2018-08-28 14:48:00  1.17055  1.17174  1.17053  1.17155         6076   \n",
       "1   2018-08-28 16:12:00  1.17170  1.17270  1.17164  1.17236         5754   \n",
       "2   2018-08-28 16:48:00  1.17180  1.17328  1.17160  1.17308         6040   \n",
       "3   2018-08-30 16:00:00  1.16767  1.16823  1.16602  1.16638         6616   \n",
       "4   2018-08-30 17:12:00  1.16608  1.16658  1.16497  1.16528         6059   \n",
       "..                  ...      ...      ...      ...      ...          ...   \n",
       "116 2018-12-19 17:12:00  1.14289  1.14386  1.14271  1.14384        12117   \n",
       "117 2018-12-20 11:12:00  1.14434  1.14704  1.14414  1.14691        26294   \n",
       "118 2018-12-26 19:48:00  1.13670  1.13685  1.13545  1.13552         8626   \n",
       "119 2018-12-27 16:48:00  1.13995  1.14355  1.13989  1.14339        12664   \n",
       "120 2018-12-31 13:24:00  1.14510  1.14653  1.14508  1.14635         8930   \n",
       "\n",
       "     spread  real_volume Operation  exposure  Stoploss  Takeprofit       SL  \\\n",
       "0         7   1215200000    Vender   117.155  1.174877    1.168223  1.17575   \n",
       "1         7   1150800000    Vender   117.236  1.176283    1.168437  1.17650   \n",
       "2         7   1208000000    Vender   117.308  1.177583    1.168577  1.17766   \n",
       "3         7   1323200000   Comprar   116.638  1.162857    1.169903  1.16232   \n",
       "4         7   1211800000   Comprar   116.528  1.160906    1.169654  1.16080   \n",
       "..      ...          ...       ...       ...       ...         ...      ...   \n",
       "116      15   1817550000    Vender   114.384  1.148918    1.138762  0.00000   \n",
       "117      15   3944100000    Vender   114.691  1.153963    1.139857  0.00000   \n",
       "118      15   1293900000   Comprar   113.552  1.131055    1.139985  0.00000   \n",
       "119      15   1899600000    Vender   114.339  1.149030    1.137750  0.00000   \n",
       "120      15   1339500000    Vender   114.635  1.148870    1.143830  0.00000   \n",
       "\n",
       "          TP                       Date_SL                       Date_TP  \\\n",
       "0    1.16822 2018-09-20 14:48:00.000000000 2018-08-29 08:24:00.000000000   \n",
       "1    1.16833 2018-09-20 15:00:00.000000000 2018-08-29 04:48:00.000000000   \n",
       "2    1.16852 2018-09-20 22:00:00.000000000 2018-08-29 03:48:00.000000000   \n",
       "3    1.17055 2018-08-31 18:00:00.000000000 2018-09-14 09:24:00.000000000   \n",
       "4    1.16974 2018-08-31 18:24:00.000000000 2018-09-14 08:12:00.000000000   \n",
       "..       ...                           ...                           ...   \n",
       "116  1.13856 2021-11-21 19:14:24.320013056 2018-12-19 21:12:00.000000000   \n",
       "117  1.13887 2021-11-21 19:14:24.320013056 2018-12-21 17:24:00.000000000   \n",
       "118  1.14033 2021-11-21 19:14:24.320013056 2018-12-27 12:36:00.000000000   \n",
       "119  0.00000 2021-11-21 19:14:24.320013056 2021-11-21 19:14:24.320013056   \n",
       "120  1.14345 2021-11-21 19:14:24.320013056 2018-12-31 16:48:00.000000000   \n",
       "\n",
       "     CloseOp  Profit  Profit_acm  \n",
       "0    1.16822   0.333       0.333  \n",
       "1    1.16833   0.403       0.736  \n",
       "2    1.16852   0.456       1.192  \n",
       "3    1.16232  -0.406       0.786  \n",
       "4    1.16080  -0.448       0.338  \n",
       "..       ...     ...         ...  \n",
       "116  1.13856   0.528      -3.308  \n",
       "117  1.13887   0.804      -2.504  \n",
       "118  1.14033   0.481      -2.023  \n",
       "119  0.00000   0.000      -2.023  \n",
       "120  1.14345   0.290      -1.733  \n",
       "\n",
       "[121 rows x 19 columns]"
      ]
     },
     "execution_count": 54,
     "metadata": {},
     "output_type": "execute_result"
    }
   ],
   "source": [
    "earnings_df_bb['Profit_acm'] = earnings_df_bb['Profit'].cumsum() \n",
    "earnings_df_bb"
   ]
  },
  {
   "cell_type": "code",
   "execution_count": 14,
   "metadata": {},
   "outputs": [
    {
     "data": {
      "text/plain": [
       "(13897.489, -1.7329999999999846, -0.012469878551441807)"
      ]
     },
     "execution_count": 14,
     "metadata": {},
     "output_type": "execute_result"
    }
   ],
   "source": [
    "earnings_df_bb['exposure'].sum(), \\\n",
    "earnings_df_bb['Profit'].sum(), \\\n",
    "(earnings_df_bb['Profit'].sum() / earnings_df_bb['exposure'].sum()) * 100"
   ]
  },
  {
   "cell_type": "code",
   "execution_count": 15,
   "metadata": {},
   "outputs": [
    {
     "data": {
      "text/plain": [
       "42247.841"
      ]
     },
     "execution_count": 15,
     "metadata": {},
     "output_type": "execute_result"
    }
   ],
   "source": [
    "earnings_df_bb['exposure'].sum() + earnings_df_ma['exposure'].sum()"
   ]
  },
  {
   "cell_type": "markdown",
   "metadata": {},
   "source": [
    "## Revisar exposure y capital"
   ]
  },
  {
   "cell_type": "code",
   "execution_count": 25,
   "metadata": {},
   "outputs": [],
   "source": [
    "# Gráficas\n",
    "import plotly.graph_objects as go\n",
    "import pandas as pd\n",
    "import plotly.express as px"
   ]
  },
  {
   "cell_type": "code",
   "execution_count": 41,
   "metadata": {
    "scrolled": false
   },
   "outputs": [
    {
     "data": {
      "application/vnd.plotly.v1+json": {
       "config": {
        "plotlyServerURL": "https://plot.ly"
       },
       "data": [
        {
         "hovertemplate": "time=%{x}<br>close=%{y}<extra></extra>",
         "legendgroup": "",
         "line": {
          "color": "#636efa",
          "dash": "solid"
         },
         "marker": {
          "symbol": "circle"
         },
         "mode": "lines",
         "name": "",
         "orientation": "v",
         "showlegend": false,
         "type": "scatter",
         "x": [
          "2018-08-28T06:36:00",
          "2018-08-28T11:12:00",
          "2018-08-28T22:24:00",
          "2018-08-29T17:48:00",
          "2018-08-30T06:24:00",
          "2018-08-31T00:00:00",
          "2018-08-31T05:48:00",
          "2018-08-31T08:00:00",
          "2018-08-31T14:12:00",
          "2018-09-03T08:12:00",
          "2018-09-04T01:24:00",
          "2018-09-04T20:36:00",
          "2018-09-05T10:00:00",
          "2018-09-05T15:36:00",
          "2018-09-06T08:48:00",
          "2018-09-06T16:00:00",
          "2018-09-06T19:36:00",
          "2018-09-07T03:36:00",
          "2018-09-07T04:00:00",
          "2018-09-07T08:00:00",
          "2018-09-07T15:12:00",
          "2018-09-10T11:48:00",
          "2018-09-11T00:00:00",
          "2018-09-11T08:24:00",
          "2018-09-11T14:24:00",
          "2018-09-11T21:48:00",
          "2018-09-12T05:48:00",
          "2018-09-12T12:48:00",
          "2018-09-12T15:12:00",
          "2018-09-12T16:00:00",
          "2018-09-12T16:24:00",
          "2018-09-12T17:00:00",
          "2018-09-13T02:48:00",
          "2018-09-13T04:12:00",
          "2018-09-13T09:24:00",
          "2018-09-13T15:48:00",
          "2018-09-14T15:12:00",
          "2018-09-17T05:48:00",
          "2018-09-18T00:24:00",
          "2018-09-18T07:00:00",
          "2018-09-18T13:12:00",
          "2018-09-18T16:24:00",
          "2018-09-18T20:12:00",
          "2018-09-19T03:12:00",
          "2018-09-19T06:00:00",
          "2018-09-19T08:48:00",
          "2018-09-19T16:00:00",
          "2018-09-19T22:12:00",
          "2018-09-19T23:48:00",
          "2018-09-20T05:00:00",
          "2018-09-21T13:48:00",
          "2018-09-24T01:00:00",
          "2018-09-24T05:12:00",
          "2018-09-24T11:48:00",
          "2018-09-24T21:00:00",
          "2018-09-25T10:24:00",
          "2018-09-25T21:24:00",
          "2018-09-26T09:12:00",
          "2018-09-26T14:12:00",
          "2018-09-26T21:00:00",
          "2018-09-27T01:24:00",
          "2018-09-28T06:48:00",
          "2018-09-28T10:12:00",
          "2018-09-28T19:24:00",
          "2018-10-01T02:12:00",
          "2018-10-01T13:12:00",
          "2018-10-01T18:12:00",
          "2018-10-02T02:48:00",
          "2018-10-02T05:12:00",
          "2018-10-02T17:36:00",
          "2018-10-03T02:24:00",
          "2018-10-03T05:00:00",
          "2018-10-03T13:24:00",
          "2018-10-04T10:48:00",
          "2018-10-04T21:48:00",
          "2018-10-05T00:24:00",
          "2018-10-05T06:36:00",
          "2018-10-05T16:12:00",
          "2018-10-08T05:36:00",
          "2018-10-08T20:24:00",
          "2018-10-09T06:12:00",
          "2018-10-09T08:12:00",
          "2018-10-09T09:36:00",
          "2018-10-09T19:00:00",
          "2018-10-10T10:48:00",
          "2018-10-10T16:36:00",
          "2018-10-11T00:48:00",
          "2018-10-11T03:36:00",
          "2018-10-11T11:48:00",
          "2018-10-11T14:36:00",
          "2018-10-12T11:12:00",
          "2018-10-15T09:48:00",
          "2018-10-15T20:48:00",
          "2018-10-16T03:36:00",
          "2018-10-16T07:12:00",
          "2018-10-16T12:12:00",
          "2018-10-16T15:48:00",
          "2018-10-16T16:00:00",
          "2018-10-16T20:48:00",
          "2018-10-17T13:24:00",
          "2018-10-17T13:48:00",
          "2018-10-18T11:48:00",
          "2018-10-18T17:24:00",
          "2018-10-19T06:00:00",
          "2018-10-19T10:24:00",
          "2018-10-19T14:36:00",
          "2018-10-22T04:00:00",
          "2018-10-22T08:00:00",
          "2018-10-22T14:12:00",
          "2018-10-23T11:48:00",
          "2018-10-23T17:48:00",
          "2018-10-23T18:12:00",
          "2018-10-23T19:12:00",
          "2018-10-23T19:48:00",
          "2018-10-24T00:36:00",
          "2018-10-25T01:36:00",
          "2018-10-25T12:48:00",
          "2018-10-25T15:12:00",
          "2018-10-25T16:48:00",
          "2018-10-26T02:00:00",
          "2018-10-26T06:36:00",
          "2018-10-26T11:12:00",
          "2018-10-26T14:00:00",
          "2018-10-26T19:00:00",
          "2018-10-29T03:24:00",
          "2018-10-29T09:48:00",
          "2018-10-29T14:00:00",
          "2018-10-29T15:24:00",
          "2018-10-29T16:00:00",
          "2018-10-29T23:00:00",
          "2018-10-30T00:00:00",
          "2018-10-30T06:24:00",
          "2018-10-30T09:36:00",
          "2018-10-30T17:48:00",
          "2018-10-30T19:36:00",
          "2018-10-31T05:00:00",
          "2018-10-31T06:12:00",
          "2018-10-31T10:12:00",
          "2018-10-31T14:00:00",
          "2018-11-01T00:36:00",
          "2018-11-01T01:36:00",
          "2018-11-01T03:00:00",
          "2018-11-02T01:36:00",
          "2018-11-02T07:48:00",
          "2018-11-02T16:36:00",
          "2018-11-05T02:48:00",
          "2018-11-05T05:48:00",
          "2018-11-05T18:00:00",
          "2018-11-06T05:00:00",
          "2018-11-06T10:24:00",
          "2018-11-06T14:48:00",
          "2018-11-06T15:36:00",
          "2018-11-06T21:36:00",
          "2018-11-07T01:00:00",
          "2018-11-07T18:48:00",
          "2018-11-08T10:24:00",
          "2018-11-08T11:48:00",
          "2018-11-08T17:36:00",
          "2018-11-08T19:48:00",
          "2018-11-09T15:00:00",
          "2018-11-09T19:12:00",
          "2018-11-12T17:36:00",
          "2018-11-12T19:24:00",
          "2018-11-13T05:48:00",
          "2018-11-13T12:12:00",
          "2018-11-13T14:36:00",
          "2018-11-14T07:48:00",
          "2018-11-14T16:36:00",
          "2018-11-15T12:12:00",
          "2018-11-15T19:36:00",
          "2018-11-16T14:00:00",
          "2018-11-16T16:12:00",
          "2018-11-19T04:12:00",
          "2018-11-19T11:12:00",
          "2018-11-20T03:48:00",
          "2018-11-20T09:48:00",
          "2018-11-20T11:36:00",
          "2018-11-21T04:48:00",
          "2018-11-21T20:00:00",
          "2018-11-22T04:24:00",
          "2018-11-22T17:48:00",
          "2018-11-23T05:00:00",
          "2018-11-23T10:48:00",
          "2018-11-26T02:48:00",
          "2018-11-26T17:12:00",
          "2018-11-27T05:00:00",
          "2018-11-27T10:12:00",
          "2018-11-28T02:12:00",
          "2018-11-28T05:00:00",
          "2018-11-28T07:36:00",
          "2018-11-28T10:00:00",
          "2018-11-28T19:00:00",
          "2018-11-29T05:48:00",
          "2018-11-29T06:00:00",
          "2018-11-29T12:36:00",
          "2018-11-29T17:24:00",
          "2018-11-30T09:48:00",
          "2018-12-03T01:48:00",
          "2018-12-03T13:24:00",
          "2018-12-03T19:24:00",
          "2018-12-04T01:00:00",
          "2018-12-04T01:12:00",
          "2018-12-04T17:36:00",
          "2018-12-05T11:48:00",
          "2018-12-05T19:24:00",
          "2018-12-05T21:24:00",
          "2018-12-05T22:36:00",
          "2018-12-06T01:36:00",
          "2018-12-06T07:00:00",
          "2018-12-06T15:00:00",
          "2018-12-07T00:36:00",
          "2018-12-07T13:48:00",
          "2018-12-07T14:36:00",
          "2018-12-07T15:24:00",
          "2018-12-10T11:48:00",
          "2018-12-11T04:24:00",
          "2018-12-11T17:00:00",
          "2018-12-12T02:36:00",
          "2018-12-12T09:48:00",
          "2018-12-12T13:12:00",
          "2018-12-13T05:24:00",
          "2018-12-13T10:00:00",
          "2018-12-13T16:00:00",
          "2018-12-13T22:36:00",
          "2018-12-14T03:24:00",
          "2018-12-14T20:12:00",
          "2018-12-18T08:24:00",
          "2018-12-18T11:00:00",
          "2018-12-18T18:24:00",
          "2018-12-19T01:48:00",
          "2018-12-19T22:12:00",
          "2018-12-20T06:48:00",
          "2018-12-20T18:00:00",
          "2018-12-20T22:00:00",
          "2018-12-21T03:00:00",
          "2018-12-21T09:36:00",
          "2018-12-21T12:24:00",
          "2018-12-24T04:12:00",
          "2018-12-26T07:48:00",
          "2018-12-26T18:12:00",
          "2018-12-26T21:00:00",
          "2018-12-27T04:12:00",
          "2018-12-28T12:24:00",
          "2018-12-28T13:24:00",
          "2018-12-28T17:36:00",
          "2018-12-31T12:12:00",
          "2018-12-31T19:12:00"
         ],
         "xaxis": "x",
         "y": [
          1.16718,
          1.1688,
          1.16928,
          1.16928,
          1.16993,
          1.16662,
          1.16628,
          1.1685,
          1.16487,
          1.16067,
          1.16159,
          1.1577,
          1.15608,
          1.15858,
          1.1622,
          1.16368,
          1.16214,
          1.16222,
          1.1619,
          1.16271,
          1.16131,
          1.15701,
          1.15945,
          1.15988,
          1.15837,
          1.15844,
          1.15891,
          1.1594,
          1.15816,
          1.15938,
          1.15895,
          1.16144,
          1.16247,
          1.16353,
          1.16263,
          1.16781,
          1.16928,
          1.16345,
          1.1684,
          1.1694,
          1.16745,
          1.17153,
          1.16615,
          1.16724,
          1.16641,
          1.16861,
          1.1671,
          1.16724,
          1.16716,
          1.16819,
          1.17613,
          1.17446,
          1.17397,
          1.1767,
          1.17552,
          1.17617,
          1.17668,
          1.17652,
          1.17444,
          1.17742,
          1.17455,
          1.1647,
          1.16219,
          1.16157,
          1.16042,
          1.1611,
          1.15785,
          1.15763,
          1.15702,
          1.15411,
          1.15515,
          1.15869,
          1.15589,
          1.14927,
          1.15141,
          1.1512,
          1.15057,
          1.15243,
          1.15128,
          1.14804,
          1.14896,
          1.14952,
          1.14766,
          1.14829,
          1.14934,
          1.15126,
          1.1526,
          1.15357,
          1.15451,
          1.15742,
          1.15757,
          1.15635,
          1.15766,
          1.15864,
          1.1573,
          1.15671,
          1.15872,
          1.16136,
          1.15737,
          1.15562,
          1.15468,
          1.1517,
          1.14948,
          1.14577,
          1.14443,
          1.14727,
          1.15,
          1.15107,
          1.14945,
          1.1466,
          1.1459,
          1.14812,
          1.148,
          1.14813,
          1.14703,
          1.13967,
          1.14085,
          1.14162,
          1.13798,
          1.13742,
          1.1367,
          1.13667,
          1.13441,
          1.14018,
          1.13881,
          1.14078,
          1.13926,
          1.13794,
          1.137,
          1.13711,
          1.13725,
          1.13787,
          1.13659,
          1.13632,
          1.13524,
          1.13436,
          1.13402,
          1.13509,
          1.13375,
          1.1316,
          1.13161,
          1.13293,
          1.14016,
          1.14237,
          1.14208,
          1.13947,
          1.13826,
          1.1401,
          1.14093,
          1.14114,
          1.14174,
          1.14327,
          1.14135,
          1.14211,
          1.14578,
          1.14395,
          1.14223,
          1.14304,
          1.13919,
          1.13495,
          1.13236,
          1.12659,
          1.12444,
          1.12445,
          1.12247,
          1.12663,
          1.12895,
          1.13035,
          1.12845,
          1.1323,
          1.13317,
          1.14041,
          1.14114,
          1.14176,
          1.14461,
          1.14569,
          1.1432,
          1.13728,
          1.13932,
          1.13974,
          1.14055,
          1.14095,
          1.13694,
          1.13336,
          1.1344,
          1.13337,
          1.13115,
          1.12957,
          1.12937,
          1.12963,
          1.1275,
          1.13511,
          1.1377,
          1.13802,
          1.13541,
          1.13777,
          1.13805,
          1.13416,
          1.1322,
          1.13552,
          1.13539,
          1.13543,
          1.13579,
          1.13364,
          1.13508,
          1.13457,
          1.13415,
          1.13448,
          1.13469,
          1.13529,
          1.13748,
          1.13799,
          1.13668,
          1.1402,
          1.14113,
          1.13652,
          1.13305,
          1.13294,
          1.13233,
          1.13363,
          1.13708,
          1.13869,
          1.13635,
          1.13622,
          1.13577,
          1.12973,
          1.13422,
          1.13718,
          1.13673,
          1.13751,
          1.13766,
          1.1385,
          1.14168,
          1.14683,
          1.14487,
          1.14723,
          1.14212,
          1.13796,
          1.14019,
          1.14061,
          1.1361,
          1.13834,
          1.14626,
          1.1464,
          1.14433,
          1.1442,
          1.14501
         ],
         "yaxis": "y"
        }
       ],
       "layout": {
        "legend": {
         "tracegroupgap": 0
        },
        "template": {
         "data": {
          "bar": [
           {
            "error_x": {
             "color": "#2a3f5f"
            },
            "error_y": {
             "color": "#2a3f5f"
            },
            "marker": {
             "line": {
              "color": "#E5ECF6",
              "width": 0.5
             },
             "pattern": {
              "fillmode": "overlay",
              "size": 10,
              "solidity": 0.2
             }
            },
            "type": "bar"
           }
          ],
          "barpolar": [
           {
            "marker": {
             "line": {
              "color": "#E5ECF6",
              "width": 0.5
             },
             "pattern": {
              "fillmode": "overlay",
              "size": 10,
              "solidity": 0.2
             }
            },
            "type": "barpolar"
           }
          ],
          "carpet": [
           {
            "aaxis": {
             "endlinecolor": "#2a3f5f",
             "gridcolor": "white",
             "linecolor": "white",
             "minorgridcolor": "white",
             "startlinecolor": "#2a3f5f"
            },
            "baxis": {
             "endlinecolor": "#2a3f5f",
             "gridcolor": "white",
             "linecolor": "white",
             "minorgridcolor": "white",
             "startlinecolor": "#2a3f5f"
            },
            "type": "carpet"
           }
          ],
          "choropleth": [
           {
            "colorbar": {
             "outlinewidth": 0,
             "ticks": ""
            },
            "type": "choropleth"
           }
          ],
          "contour": [
           {
            "colorbar": {
             "outlinewidth": 0,
             "ticks": ""
            },
            "colorscale": [
             [
              0,
              "#0d0887"
             ],
             [
              0.1111111111111111,
              "#46039f"
             ],
             [
              0.2222222222222222,
              "#7201a8"
             ],
             [
              0.3333333333333333,
              "#9c179e"
             ],
             [
              0.4444444444444444,
              "#bd3786"
             ],
             [
              0.5555555555555556,
              "#d8576b"
             ],
             [
              0.6666666666666666,
              "#ed7953"
             ],
             [
              0.7777777777777778,
              "#fb9f3a"
             ],
             [
              0.8888888888888888,
              "#fdca26"
             ],
             [
              1,
              "#f0f921"
             ]
            ],
            "type": "contour"
           }
          ],
          "contourcarpet": [
           {
            "colorbar": {
             "outlinewidth": 0,
             "ticks": ""
            },
            "type": "contourcarpet"
           }
          ],
          "heatmap": [
           {
            "colorbar": {
             "outlinewidth": 0,
             "ticks": ""
            },
            "colorscale": [
             [
              0,
              "#0d0887"
             ],
             [
              0.1111111111111111,
              "#46039f"
             ],
             [
              0.2222222222222222,
              "#7201a8"
             ],
             [
              0.3333333333333333,
              "#9c179e"
             ],
             [
              0.4444444444444444,
              "#bd3786"
             ],
             [
              0.5555555555555556,
              "#d8576b"
             ],
             [
              0.6666666666666666,
              "#ed7953"
             ],
             [
              0.7777777777777778,
              "#fb9f3a"
             ],
             [
              0.8888888888888888,
              "#fdca26"
             ],
             [
              1,
              "#f0f921"
             ]
            ],
            "type": "heatmap"
           }
          ],
          "heatmapgl": [
           {
            "colorbar": {
             "outlinewidth": 0,
             "ticks": ""
            },
            "colorscale": [
             [
              0,
              "#0d0887"
             ],
             [
              0.1111111111111111,
              "#46039f"
             ],
             [
              0.2222222222222222,
              "#7201a8"
             ],
             [
              0.3333333333333333,
              "#9c179e"
             ],
             [
              0.4444444444444444,
              "#bd3786"
             ],
             [
              0.5555555555555556,
              "#d8576b"
             ],
             [
              0.6666666666666666,
              "#ed7953"
             ],
             [
              0.7777777777777778,
              "#fb9f3a"
             ],
             [
              0.8888888888888888,
              "#fdca26"
             ],
             [
              1,
              "#f0f921"
             ]
            ],
            "type": "heatmapgl"
           }
          ],
          "histogram": [
           {
            "marker": {
             "pattern": {
              "fillmode": "overlay",
              "size": 10,
              "solidity": 0.2
             }
            },
            "type": "histogram"
           }
          ],
          "histogram2d": [
           {
            "colorbar": {
             "outlinewidth": 0,
             "ticks": ""
            },
            "colorscale": [
             [
              0,
              "#0d0887"
             ],
             [
              0.1111111111111111,
              "#46039f"
             ],
             [
              0.2222222222222222,
              "#7201a8"
             ],
             [
              0.3333333333333333,
              "#9c179e"
             ],
             [
              0.4444444444444444,
              "#bd3786"
             ],
             [
              0.5555555555555556,
              "#d8576b"
             ],
             [
              0.6666666666666666,
              "#ed7953"
             ],
             [
              0.7777777777777778,
              "#fb9f3a"
             ],
             [
              0.8888888888888888,
              "#fdca26"
             ],
             [
              1,
              "#f0f921"
             ]
            ],
            "type": "histogram2d"
           }
          ],
          "histogram2dcontour": [
           {
            "colorbar": {
             "outlinewidth": 0,
             "ticks": ""
            },
            "colorscale": [
             [
              0,
              "#0d0887"
             ],
             [
              0.1111111111111111,
              "#46039f"
             ],
             [
              0.2222222222222222,
              "#7201a8"
             ],
             [
              0.3333333333333333,
              "#9c179e"
             ],
             [
              0.4444444444444444,
              "#bd3786"
             ],
             [
              0.5555555555555556,
              "#d8576b"
             ],
             [
              0.6666666666666666,
              "#ed7953"
             ],
             [
              0.7777777777777778,
              "#fb9f3a"
             ],
             [
              0.8888888888888888,
              "#fdca26"
             ],
             [
              1,
              "#f0f921"
             ]
            ],
            "type": "histogram2dcontour"
           }
          ],
          "mesh3d": [
           {
            "colorbar": {
             "outlinewidth": 0,
             "ticks": ""
            },
            "type": "mesh3d"
           }
          ],
          "parcoords": [
           {
            "line": {
             "colorbar": {
              "outlinewidth": 0,
              "ticks": ""
             }
            },
            "type": "parcoords"
           }
          ],
          "pie": [
           {
            "automargin": true,
            "type": "pie"
           }
          ],
          "scatter": [
           {
            "marker": {
             "colorbar": {
              "outlinewidth": 0,
              "ticks": ""
             }
            },
            "type": "scatter"
           }
          ],
          "scatter3d": [
           {
            "line": {
             "colorbar": {
              "outlinewidth": 0,
              "ticks": ""
             }
            },
            "marker": {
             "colorbar": {
              "outlinewidth": 0,
              "ticks": ""
             }
            },
            "type": "scatter3d"
           }
          ],
          "scattercarpet": [
           {
            "marker": {
             "colorbar": {
              "outlinewidth": 0,
              "ticks": ""
             }
            },
            "type": "scattercarpet"
           }
          ],
          "scattergeo": [
           {
            "marker": {
             "colorbar": {
              "outlinewidth": 0,
              "ticks": ""
             }
            },
            "type": "scattergeo"
           }
          ],
          "scattergl": [
           {
            "marker": {
             "colorbar": {
              "outlinewidth": 0,
              "ticks": ""
             }
            },
            "type": "scattergl"
           }
          ],
          "scattermapbox": [
           {
            "marker": {
             "colorbar": {
              "outlinewidth": 0,
              "ticks": ""
             }
            },
            "type": "scattermapbox"
           }
          ],
          "scatterpolar": [
           {
            "marker": {
             "colorbar": {
              "outlinewidth": 0,
              "ticks": ""
             }
            },
            "type": "scatterpolar"
           }
          ],
          "scatterpolargl": [
           {
            "marker": {
             "colorbar": {
              "outlinewidth": 0,
              "ticks": ""
             }
            },
            "type": "scatterpolargl"
           }
          ],
          "scatterternary": [
           {
            "marker": {
             "colorbar": {
              "outlinewidth": 0,
              "ticks": ""
             }
            },
            "type": "scatterternary"
           }
          ],
          "surface": [
           {
            "colorbar": {
             "outlinewidth": 0,
             "ticks": ""
            },
            "colorscale": [
             [
              0,
              "#0d0887"
             ],
             [
              0.1111111111111111,
              "#46039f"
             ],
             [
              0.2222222222222222,
              "#7201a8"
             ],
             [
              0.3333333333333333,
              "#9c179e"
             ],
             [
              0.4444444444444444,
              "#bd3786"
             ],
             [
              0.5555555555555556,
              "#d8576b"
             ],
             [
              0.6666666666666666,
              "#ed7953"
             ],
             [
              0.7777777777777778,
              "#fb9f3a"
             ],
             [
              0.8888888888888888,
              "#fdca26"
             ],
             [
              1,
              "#f0f921"
             ]
            ],
            "type": "surface"
           }
          ],
          "table": [
           {
            "cells": {
             "fill": {
              "color": "#EBF0F8"
             },
             "line": {
              "color": "white"
             }
            },
            "header": {
             "fill": {
              "color": "#C8D4E3"
             },
             "line": {
              "color": "white"
             }
            },
            "type": "table"
           }
          ]
         },
         "layout": {
          "annotationdefaults": {
           "arrowcolor": "#2a3f5f",
           "arrowhead": 0,
           "arrowwidth": 1
          },
          "autotypenumbers": "strict",
          "coloraxis": {
           "colorbar": {
            "outlinewidth": 0,
            "ticks": ""
           }
          },
          "colorscale": {
           "diverging": [
            [
             0,
             "#8e0152"
            ],
            [
             0.1,
             "#c51b7d"
            ],
            [
             0.2,
             "#de77ae"
            ],
            [
             0.3,
             "#f1b6da"
            ],
            [
             0.4,
             "#fde0ef"
            ],
            [
             0.5,
             "#f7f7f7"
            ],
            [
             0.6,
             "#e6f5d0"
            ],
            [
             0.7,
             "#b8e186"
            ],
            [
             0.8,
             "#7fbc41"
            ],
            [
             0.9,
             "#4d9221"
            ],
            [
             1,
             "#276419"
            ]
           ],
           "sequential": [
            [
             0,
             "#0d0887"
            ],
            [
             0.1111111111111111,
             "#46039f"
            ],
            [
             0.2222222222222222,
             "#7201a8"
            ],
            [
             0.3333333333333333,
             "#9c179e"
            ],
            [
             0.4444444444444444,
             "#bd3786"
            ],
            [
             0.5555555555555556,
             "#d8576b"
            ],
            [
             0.6666666666666666,
             "#ed7953"
            ],
            [
             0.7777777777777778,
             "#fb9f3a"
            ],
            [
             0.8888888888888888,
             "#fdca26"
            ],
            [
             1,
             "#f0f921"
            ]
           ],
           "sequentialminus": [
            [
             0,
             "#0d0887"
            ],
            [
             0.1111111111111111,
             "#46039f"
            ],
            [
             0.2222222222222222,
             "#7201a8"
            ],
            [
             0.3333333333333333,
             "#9c179e"
            ],
            [
             0.4444444444444444,
             "#bd3786"
            ],
            [
             0.5555555555555556,
             "#d8576b"
            ],
            [
             0.6666666666666666,
             "#ed7953"
            ],
            [
             0.7777777777777778,
             "#fb9f3a"
            ],
            [
             0.8888888888888888,
             "#fdca26"
            ],
            [
             1,
             "#f0f921"
            ]
           ]
          },
          "colorway": [
           "#636efa",
           "#EF553B",
           "#00cc96",
           "#ab63fa",
           "#FFA15A",
           "#19d3f3",
           "#FF6692",
           "#B6E880",
           "#FF97FF",
           "#FECB52"
          ],
          "font": {
           "color": "#2a3f5f"
          },
          "geo": {
           "bgcolor": "white",
           "lakecolor": "white",
           "landcolor": "#E5ECF6",
           "showlakes": true,
           "showland": true,
           "subunitcolor": "white"
          },
          "hoverlabel": {
           "align": "left"
          },
          "hovermode": "closest",
          "mapbox": {
           "style": "light"
          },
          "paper_bgcolor": "white",
          "plot_bgcolor": "#E5ECF6",
          "polar": {
           "angularaxis": {
            "gridcolor": "white",
            "linecolor": "white",
            "ticks": ""
           },
           "bgcolor": "#E5ECF6",
           "radialaxis": {
            "gridcolor": "white",
            "linecolor": "white",
            "ticks": ""
           }
          },
          "scene": {
           "xaxis": {
            "backgroundcolor": "#E5ECF6",
            "gridcolor": "white",
            "gridwidth": 2,
            "linecolor": "white",
            "showbackground": true,
            "ticks": "",
            "zerolinecolor": "white"
           },
           "yaxis": {
            "backgroundcolor": "#E5ECF6",
            "gridcolor": "white",
            "gridwidth": 2,
            "linecolor": "white",
            "showbackground": true,
            "ticks": "",
            "zerolinecolor": "white"
           },
           "zaxis": {
            "backgroundcolor": "#E5ECF6",
            "gridcolor": "white",
            "gridwidth": 2,
            "linecolor": "white",
            "showbackground": true,
            "ticks": "",
            "zerolinecolor": "white"
           }
          },
          "shapedefaults": {
           "line": {
            "color": "#2a3f5f"
           }
          },
          "ternary": {
           "aaxis": {
            "gridcolor": "white",
            "linecolor": "white",
            "ticks": ""
           },
           "baxis": {
            "gridcolor": "white",
            "linecolor": "white",
            "ticks": ""
           },
           "bgcolor": "#E5ECF6",
           "caxis": {
            "gridcolor": "white",
            "linecolor": "white",
            "ticks": ""
           }
          },
          "title": {
           "x": 0.05
          },
          "xaxis": {
           "automargin": true,
           "gridcolor": "white",
           "linecolor": "white",
           "ticks": "",
           "title": {
            "standoff": 15
           },
           "zerolinecolor": "white",
           "zerolinewidth": 2
          },
          "yaxis": {
           "automargin": true,
           "gridcolor": "white",
           "linecolor": "white",
           "ticks": "",
           "title": {
            "standoff": 15
           },
           "zerolinecolor": "white",
           "zerolinewidth": 2
          }
         }
        },
        "title": {
         "text": "Precio"
        },
        "xaxis": {
         "anchor": "y",
         "domain": [
          0,
          1
         ],
         "rangeselector": {
          "buttons": [
           {
            "count": 1,
            "label": "1m",
            "step": "month",
            "stepmode": "backward"
           },
           {
            "count": 6,
            "label": "6m",
            "step": "month",
            "stepmode": "backward"
           },
           {
            "count": 1,
            "label": "YTD",
            "step": "year",
            "stepmode": "todate"
           },
           {
            "count": 1,
            "label": "1y",
            "step": "year",
            "stepmode": "backward"
           },
           {
            "step": "all"
           }
          ]
         },
         "rangeslider": {
          "visible": true
         },
         "title": {
          "text": "time"
         }
        },
        "yaxis": {
         "anchor": "x",
         "domain": [
          0,
          1
         ],
         "title": {
          "text": "close"
         }
        }
       }
      },
      "text/html": [
       "<div>                            <div id=\"567c9eec-0857-47b9-9055-5f6b66fda293\" class=\"plotly-graph-div\" style=\"height:525px; width:100%;\"></div>            <script type=\"text/javascript\">                require([\"plotly\"], function(Plotly) {                    window.PLOTLYENV=window.PLOTLYENV || {};                                    if (document.getElementById(\"567c9eec-0857-47b9-9055-5f6b66fda293\")) {                    Plotly.newPlot(                        \"567c9eec-0857-47b9-9055-5f6b66fda293\",                        [{\"hovertemplate\":\"time=%{x}<br>close=%{y}<extra></extra>\",\"legendgroup\":\"\",\"line\":{\"color\":\"#636efa\",\"dash\":\"solid\"},\"marker\":{\"symbol\":\"circle\"},\"mode\":\"lines\",\"name\":\"\",\"orientation\":\"v\",\"showlegend\":false,\"type\":\"scatter\",\"x\":[\"2018-08-28T06:36:00\",\"2018-08-28T11:12:00\",\"2018-08-28T22:24:00\",\"2018-08-29T17:48:00\",\"2018-08-30T06:24:00\",\"2018-08-31T00:00:00\",\"2018-08-31T05:48:00\",\"2018-08-31T08:00:00\",\"2018-08-31T14:12:00\",\"2018-09-03T08:12:00\",\"2018-09-04T01:24:00\",\"2018-09-04T20:36:00\",\"2018-09-05T10:00:00\",\"2018-09-05T15:36:00\",\"2018-09-06T08:48:00\",\"2018-09-06T16:00:00\",\"2018-09-06T19:36:00\",\"2018-09-07T03:36:00\",\"2018-09-07T04:00:00\",\"2018-09-07T08:00:00\",\"2018-09-07T15:12:00\",\"2018-09-10T11:48:00\",\"2018-09-11T00:00:00\",\"2018-09-11T08:24:00\",\"2018-09-11T14:24:00\",\"2018-09-11T21:48:00\",\"2018-09-12T05:48:00\",\"2018-09-12T12:48:00\",\"2018-09-12T15:12:00\",\"2018-09-12T16:00:00\",\"2018-09-12T16:24:00\",\"2018-09-12T17:00:00\",\"2018-09-13T02:48:00\",\"2018-09-13T04:12:00\",\"2018-09-13T09:24:00\",\"2018-09-13T15:48:00\",\"2018-09-14T15:12:00\",\"2018-09-17T05:48:00\",\"2018-09-18T00:24:00\",\"2018-09-18T07:00:00\",\"2018-09-18T13:12:00\",\"2018-09-18T16:24:00\",\"2018-09-18T20:12:00\",\"2018-09-19T03:12:00\",\"2018-09-19T06:00:00\",\"2018-09-19T08:48:00\",\"2018-09-19T16:00:00\",\"2018-09-19T22:12:00\",\"2018-09-19T23:48:00\",\"2018-09-20T05:00:00\",\"2018-09-21T13:48:00\",\"2018-09-24T01:00:00\",\"2018-09-24T05:12:00\",\"2018-09-24T11:48:00\",\"2018-09-24T21:00:00\",\"2018-09-25T10:24:00\",\"2018-09-25T21:24:00\",\"2018-09-26T09:12:00\",\"2018-09-26T14:12:00\",\"2018-09-26T21:00:00\",\"2018-09-27T01:24:00\",\"2018-09-28T06:48:00\",\"2018-09-28T10:12:00\",\"2018-09-28T19:24:00\",\"2018-10-01T02:12:00\",\"2018-10-01T13:12:00\",\"2018-10-01T18:12:00\",\"2018-10-02T02:48:00\",\"2018-10-02T05:12:00\",\"2018-10-02T17:36:00\",\"2018-10-03T02:24:00\",\"2018-10-03T05:00:00\",\"2018-10-03T13:24:00\",\"2018-10-04T10:48:00\",\"2018-10-04T21:48:00\",\"2018-10-05T00:24:00\",\"2018-10-05T06:36:00\",\"2018-10-05T16:12:00\",\"2018-10-08T05:36:00\",\"2018-10-08T20:24:00\",\"2018-10-09T06:12:00\",\"2018-10-09T08:12:00\",\"2018-10-09T09:36:00\",\"2018-10-09T19:00:00\",\"2018-10-10T10:48:00\",\"2018-10-10T16:36:00\",\"2018-10-11T00:48:00\",\"2018-10-11T03:36:00\",\"2018-10-11T11:48:00\",\"2018-10-11T14:36:00\",\"2018-10-12T11:12:00\",\"2018-10-15T09:48:00\",\"2018-10-15T20:48:00\",\"2018-10-16T03:36:00\",\"2018-10-16T07:12:00\",\"2018-10-16T12:12:00\",\"2018-10-16T15:48:00\",\"2018-10-16T16:00:00\",\"2018-10-16T20:48:00\",\"2018-10-17T13:24:00\",\"2018-10-17T13:48:00\",\"2018-10-18T11:48:00\",\"2018-10-18T17:24:00\",\"2018-10-19T06:00:00\",\"2018-10-19T10:24:00\",\"2018-10-19T14:36:00\",\"2018-10-22T04:00:00\",\"2018-10-22T08:00:00\",\"2018-10-22T14:12:00\",\"2018-10-23T11:48:00\",\"2018-10-23T17:48:00\",\"2018-10-23T18:12:00\",\"2018-10-23T19:12:00\",\"2018-10-23T19:48:00\",\"2018-10-24T00:36:00\",\"2018-10-25T01:36:00\",\"2018-10-25T12:48:00\",\"2018-10-25T15:12:00\",\"2018-10-25T16:48:00\",\"2018-10-26T02:00:00\",\"2018-10-26T06:36:00\",\"2018-10-26T11:12:00\",\"2018-10-26T14:00:00\",\"2018-10-26T19:00:00\",\"2018-10-29T03:24:00\",\"2018-10-29T09:48:00\",\"2018-10-29T14:00:00\",\"2018-10-29T15:24:00\",\"2018-10-29T16:00:00\",\"2018-10-29T23:00:00\",\"2018-10-30T00:00:00\",\"2018-10-30T06:24:00\",\"2018-10-30T09:36:00\",\"2018-10-30T17:48:00\",\"2018-10-30T19:36:00\",\"2018-10-31T05:00:00\",\"2018-10-31T06:12:00\",\"2018-10-31T10:12:00\",\"2018-10-31T14:00:00\",\"2018-11-01T00:36:00\",\"2018-11-01T01:36:00\",\"2018-11-01T03:00:00\",\"2018-11-02T01:36:00\",\"2018-11-02T07:48:00\",\"2018-11-02T16:36:00\",\"2018-11-05T02:48:00\",\"2018-11-05T05:48:00\",\"2018-11-05T18:00:00\",\"2018-11-06T05:00:00\",\"2018-11-06T10:24:00\",\"2018-11-06T14:48:00\",\"2018-11-06T15:36:00\",\"2018-11-06T21:36:00\",\"2018-11-07T01:00:00\",\"2018-11-07T18:48:00\",\"2018-11-08T10:24:00\",\"2018-11-08T11:48:00\",\"2018-11-08T17:36:00\",\"2018-11-08T19:48:00\",\"2018-11-09T15:00:00\",\"2018-11-09T19:12:00\",\"2018-11-12T17:36:00\",\"2018-11-12T19:24:00\",\"2018-11-13T05:48:00\",\"2018-11-13T12:12:00\",\"2018-11-13T14:36:00\",\"2018-11-14T07:48:00\",\"2018-11-14T16:36:00\",\"2018-11-15T12:12:00\",\"2018-11-15T19:36:00\",\"2018-11-16T14:00:00\",\"2018-11-16T16:12:00\",\"2018-11-19T04:12:00\",\"2018-11-19T11:12:00\",\"2018-11-20T03:48:00\",\"2018-11-20T09:48:00\",\"2018-11-20T11:36:00\",\"2018-11-21T04:48:00\",\"2018-11-21T20:00:00\",\"2018-11-22T04:24:00\",\"2018-11-22T17:48:00\",\"2018-11-23T05:00:00\",\"2018-11-23T10:48:00\",\"2018-11-26T02:48:00\",\"2018-11-26T17:12:00\",\"2018-11-27T05:00:00\",\"2018-11-27T10:12:00\",\"2018-11-28T02:12:00\",\"2018-11-28T05:00:00\",\"2018-11-28T07:36:00\",\"2018-11-28T10:00:00\",\"2018-11-28T19:00:00\",\"2018-11-29T05:48:00\",\"2018-11-29T06:00:00\",\"2018-11-29T12:36:00\",\"2018-11-29T17:24:00\",\"2018-11-30T09:48:00\",\"2018-12-03T01:48:00\",\"2018-12-03T13:24:00\",\"2018-12-03T19:24:00\",\"2018-12-04T01:00:00\",\"2018-12-04T01:12:00\",\"2018-12-04T17:36:00\",\"2018-12-05T11:48:00\",\"2018-12-05T19:24:00\",\"2018-12-05T21:24:00\",\"2018-12-05T22:36:00\",\"2018-12-06T01:36:00\",\"2018-12-06T07:00:00\",\"2018-12-06T15:00:00\",\"2018-12-07T00:36:00\",\"2018-12-07T13:48:00\",\"2018-12-07T14:36:00\",\"2018-12-07T15:24:00\",\"2018-12-10T11:48:00\",\"2018-12-11T04:24:00\",\"2018-12-11T17:00:00\",\"2018-12-12T02:36:00\",\"2018-12-12T09:48:00\",\"2018-12-12T13:12:00\",\"2018-12-13T05:24:00\",\"2018-12-13T10:00:00\",\"2018-12-13T16:00:00\",\"2018-12-13T22:36:00\",\"2018-12-14T03:24:00\",\"2018-12-14T20:12:00\",\"2018-12-18T08:24:00\",\"2018-12-18T11:00:00\",\"2018-12-18T18:24:00\",\"2018-12-19T01:48:00\",\"2018-12-19T22:12:00\",\"2018-12-20T06:48:00\",\"2018-12-20T18:00:00\",\"2018-12-20T22:00:00\",\"2018-12-21T03:00:00\",\"2018-12-21T09:36:00\",\"2018-12-21T12:24:00\",\"2018-12-24T04:12:00\",\"2018-12-26T07:48:00\",\"2018-12-26T18:12:00\",\"2018-12-26T21:00:00\",\"2018-12-27T04:12:00\",\"2018-12-28T12:24:00\",\"2018-12-28T13:24:00\",\"2018-12-28T17:36:00\",\"2018-12-31T12:12:00\",\"2018-12-31T19:12:00\"],\"xaxis\":\"x\",\"y\":[1.16718,1.1688,1.16928,1.16928,1.16993,1.16662,1.16628,1.1685,1.16487,1.16067,1.16159,1.1577,1.15608,1.15858,1.1622,1.16368,1.16214,1.16222,1.1619,1.16271,1.16131,1.15701,1.15945,1.15988,1.15837,1.15844,1.15891,1.1594,1.15816,1.15938,1.15895,1.16144,1.16247,1.16353,1.16263,1.16781,1.16928,1.16345,1.1684,1.1694,1.16745,1.17153,1.16615,1.16724,1.16641,1.16861,1.1671,1.16724,1.16716,1.16819,1.17613,1.17446,1.17397,1.1767,1.17552,1.17617,1.17668,1.17652,1.17444,1.17742,1.17455,1.1647,1.16219,1.16157,1.16042,1.1611,1.15785,1.15763,1.15702,1.15411,1.15515,1.15869,1.15589,1.14927,1.15141,1.1512,1.15057,1.15243,1.15128,1.14804,1.14896,1.14952,1.14766,1.14829,1.14934,1.15126,1.1526,1.15357,1.15451,1.15742,1.15757,1.15635,1.15766,1.15864,1.1573,1.15671,1.15872,1.16136,1.15737,1.15562,1.15468,1.1517,1.14948,1.14577,1.14443,1.14727,1.15,1.15107,1.14945,1.1466,1.1459,1.14812,1.148,1.14813,1.14703,1.13967,1.14085,1.14162,1.13798,1.13742,1.1367,1.13667,1.13441,1.14018,1.13881,1.14078,1.13926,1.13794,1.137,1.13711,1.13725,1.13787,1.13659,1.13632,1.13524,1.13436,1.13402,1.13509,1.13375,1.1316,1.13161,1.13293,1.14016,1.14237,1.14208,1.13947,1.13826,1.1401,1.14093,1.14114,1.14174,1.14327,1.14135,1.14211,1.14578,1.14395,1.14223,1.14304,1.13919,1.13495,1.13236,1.12659,1.12444,1.12445,1.12247,1.12663,1.12895,1.13035,1.12845,1.1323,1.13317,1.14041,1.14114,1.14176,1.14461,1.14569,1.1432,1.13728,1.13932,1.13974,1.14055,1.14095,1.13694,1.13336,1.1344,1.13337,1.13115,1.12957,1.12937,1.12963,1.1275,1.13511,1.1377,1.13802,1.13541,1.13777,1.13805,1.13416,1.1322,1.13552,1.13539,1.13543,1.13579,1.13364,1.13508,1.13457,1.13415,1.13448,1.13469,1.13529,1.13748,1.13799,1.13668,1.1402,1.14113,1.13652,1.13305,1.13294,1.13233,1.13363,1.13708,1.13869,1.13635,1.13622,1.13577,1.12973,1.13422,1.13718,1.13673,1.13751,1.13766,1.1385,1.14168,1.14683,1.14487,1.14723,1.14212,1.13796,1.14019,1.14061,1.1361,1.13834,1.14626,1.1464,1.14433,1.1442,1.14501],\"yaxis\":\"y\"}],                        {\"legend\":{\"tracegroupgap\":0},\"template\":{\"data\":{\"bar\":[{\"error_x\":{\"color\":\"#2a3f5f\"},\"error_y\":{\"color\":\"#2a3f5f\"},\"marker\":{\"line\":{\"color\":\"#E5ECF6\",\"width\":0.5},\"pattern\":{\"fillmode\":\"overlay\",\"size\":10,\"solidity\":0.2}},\"type\":\"bar\"}],\"barpolar\":[{\"marker\":{\"line\":{\"color\":\"#E5ECF6\",\"width\":0.5},\"pattern\":{\"fillmode\":\"overlay\",\"size\":10,\"solidity\":0.2}},\"type\":\"barpolar\"}],\"carpet\":[{\"aaxis\":{\"endlinecolor\":\"#2a3f5f\",\"gridcolor\":\"white\",\"linecolor\":\"white\",\"minorgridcolor\":\"white\",\"startlinecolor\":\"#2a3f5f\"},\"baxis\":{\"endlinecolor\":\"#2a3f5f\",\"gridcolor\":\"white\",\"linecolor\":\"white\",\"minorgridcolor\":\"white\",\"startlinecolor\":\"#2a3f5f\"},\"type\":\"carpet\"}],\"choropleth\":[{\"colorbar\":{\"outlinewidth\":0,\"ticks\":\"\"},\"type\":\"choropleth\"}],\"contour\":[{\"colorbar\":{\"outlinewidth\":0,\"ticks\":\"\"},\"colorscale\":[[0.0,\"#0d0887\"],[0.1111111111111111,\"#46039f\"],[0.2222222222222222,\"#7201a8\"],[0.3333333333333333,\"#9c179e\"],[0.4444444444444444,\"#bd3786\"],[0.5555555555555556,\"#d8576b\"],[0.6666666666666666,\"#ed7953\"],[0.7777777777777778,\"#fb9f3a\"],[0.8888888888888888,\"#fdca26\"],[1.0,\"#f0f921\"]],\"type\":\"contour\"}],\"contourcarpet\":[{\"colorbar\":{\"outlinewidth\":0,\"ticks\":\"\"},\"type\":\"contourcarpet\"}],\"heatmap\":[{\"colorbar\":{\"outlinewidth\":0,\"ticks\":\"\"},\"colorscale\":[[0.0,\"#0d0887\"],[0.1111111111111111,\"#46039f\"],[0.2222222222222222,\"#7201a8\"],[0.3333333333333333,\"#9c179e\"],[0.4444444444444444,\"#bd3786\"],[0.5555555555555556,\"#d8576b\"],[0.6666666666666666,\"#ed7953\"],[0.7777777777777778,\"#fb9f3a\"],[0.8888888888888888,\"#fdca26\"],[1.0,\"#f0f921\"]],\"type\":\"heatmap\"}],\"heatmapgl\":[{\"colorbar\":{\"outlinewidth\":0,\"ticks\":\"\"},\"colorscale\":[[0.0,\"#0d0887\"],[0.1111111111111111,\"#46039f\"],[0.2222222222222222,\"#7201a8\"],[0.3333333333333333,\"#9c179e\"],[0.4444444444444444,\"#bd3786\"],[0.5555555555555556,\"#d8576b\"],[0.6666666666666666,\"#ed7953\"],[0.7777777777777778,\"#fb9f3a\"],[0.8888888888888888,\"#fdca26\"],[1.0,\"#f0f921\"]],\"type\":\"heatmapgl\"}],\"histogram\":[{\"marker\":{\"pattern\":{\"fillmode\":\"overlay\",\"size\":10,\"solidity\":0.2}},\"type\":\"histogram\"}],\"histogram2d\":[{\"colorbar\":{\"outlinewidth\":0,\"ticks\":\"\"},\"colorscale\":[[0.0,\"#0d0887\"],[0.1111111111111111,\"#46039f\"],[0.2222222222222222,\"#7201a8\"],[0.3333333333333333,\"#9c179e\"],[0.4444444444444444,\"#bd3786\"],[0.5555555555555556,\"#d8576b\"],[0.6666666666666666,\"#ed7953\"],[0.7777777777777778,\"#fb9f3a\"],[0.8888888888888888,\"#fdca26\"],[1.0,\"#f0f921\"]],\"type\":\"histogram2d\"}],\"histogram2dcontour\":[{\"colorbar\":{\"outlinewidth\":0,\"ticks\":\"\"},\"colorscale\":[[0.0,\"#0d0887\"],[0.1111111111111111,\"#46039f\"],[0.2222222222222222,\"#7201a8\"],[0.3333333333333333,\"#9c179e\"],[0.4444444444444444,\"#bd3786\"],[0.5555555555555556,\"#d8576b\"],[0.6666666666666666,\"#ed7953\"],[0.7777777777777778,\"#fb9f3a\"],[0.8888888888888888,\"#fdca26\"],[1.0,\"#f0f921\"]],\"type\":\"histogram2dcontour\"}],\"mesh3d\":[{\"colorbar\":{\"outlinewidth\":0,\"ticks\":\"\"},\"type\":\"mesh3d\"}],\"parcoords\":[{\"line\":{\"colorbar\":{\"outlinewidth\":0,\"ticks\":\"\"}},\"type\":\"parcoords\"}],\"pie\":[{\"automargin\":true,\"type\":\"pie\"}],\"scatter\":[{\"marker\":{\"colorbar\":{\"outlinewidth\":0,\"ticks\":\"\"}},\"type\":\"scatter\"}],\"scatter3d\":[{\"line\":{\"colorbar\":{\"outlinewidth\":0,\"ticks\":\"\"}},\"marker\":{\"colorbar\":{\"outlinewidth\":0,\"ticks\":\"\"}},\"type\":\"scatter3d\"}],\"scattercarpet\":[{\"marker\":{\"colorbar\":{\"outlinewidth\":0,\"ticks\":\"\"}},\"type\":\"scattercarpet\"}],\"scattergeo\":[{\"marker\":{\"colorbar\":{\"outlinewidth\":0,\"ticks\":\"\"}},\"type\":\"scattergeo\"}],\"scattergl\":[{\"marker\":{\"colorbar\":{\"outlinewidth\":0,\"ticks\":\"\"}},\"type\":\"scattergl\"}],\"scattermapbox\":[{\"marker\":{\"colorbar\":{\"outlinewidth\":0,\"ticks\":\"\"}},\"type\":\"scattermapbox\"}],\"scatterpolar\":[{\"marker\":{\"colorbar\":{\"outlinewidth\":0,\"ticks\":\"\"}},\"type\":\"scatterpolar\"}],\"scatterpolargl\":[{\"marker\":{\"colorbar\":{\"outlinewidth\":0,\"ticks\":\"\"}},\"type\":\"scatterpolargl\"}],\"scatterternary\":[{\"marker\":{\"colorbar\":{\"outlinewidth\":0,\"ticks\":\"\"}},\"type\":\"scatterternary\"}],\"surface\":[{\"colorbar\":{\"outlinewidth\":0,\"ticks\":\"\"},\"colorscale\":[[0.0,\"#0d0887\"],[0.1111111111111111,\"#46039f\"],[0.2222222222222222,\"#7201a8\"],[0.3333333333333333,\"#9c179e\"],[0.4444444444444444,\"#bd3786\"],[0.5555555555555556,\"#d8576b\"],[0.6666666666666666,\"#ed7953\"],[0.7777777777777778,\"#fb9f3a\"],[0.8888888888888888,\"#fdca26\"],[1.0,\"#f0f921\"]],\"type\":\"surface\"}],\"table\":[{\"cells\":{\"fill\":{\"color\":\"#EBF0F8\"},\"line\":{\"color\":\"white\"}},\"header\":{\"fill\":{\"color\":\"#C8D4E3\"},\"line\":{\"color\":\"white\"}},\"type\":\"table\"}]},\"layout\":{\"annotationdefaults\":{\"arrowcolor\":\"#2a3f5f\",\"arrowhead\":0,\"arrowwidth\":1},\"autotypenumbers\":\"strict\",\"coloraxis\":{\"colorbar\":{\"outlinewidth\":0,\"ticks\":\"\"}},\"colorscale\":{\"diverging\":[[0,\"#8e0152\"],[0.1,\"#c51b7d\"],[0.2,\"#de77ae\"],[0.3,\"#f1b6da\"],[0.4,\"#fde0ef\"],[0.5,\"#f7f7f7\"],[0.6,\"#e6f5d0\"],[0.7,\"#b8e186\"],[0.8,\"#7fbc41\"],[0.9,\"#4d9221\"],[1,\"#276419\"]],\"sequential\":[[0.0,\"#0d0887\"],[0.1111111111111111,\"#46039f\"],[0.2222222222222222,\"#7201a8\"],[0.3333333333333333,\"#9c179e\"],[0.4444444444444444,\"#bd3786\"],[0.5555555555555556,\"#d8576b\"],[0.6666666666666666,\"#ed7953\"],[0.7777777777777778,\"#fb9f3a\"],[0.8888888888888888,\"#fdca26\"],[1.0,\"#f0f921\"]],\"sequentialminus\":[[0.0,\"#0d0887\"],[0.1111111111111111,\"#46039f\"],[0.2222222222222222,\"#7201a8\"],[0.3333333333333333,\"#9c179e\"],[0.4444444444444444,\"#bd3786\"],[0.5555555555555556,\"#d8576b\"],[0.6666666666666666,\"#ed7953\"],[0.7777777777777778,\"#fb9f3a\"],[0.8888888888888888,\"#fdca26\"],[1.0,\"#f0f921\"]]},\"colorway\":[\"#636efa\",\"#EF553B\",\"#00cc96\",\"#ab63fa\",\"#FFA15A\",\"#19d3f3\",\"#FF6692\",\"#B6E880\",\"#FF97FF\",\"#FECB52\"],\"font\":{\"color\":\"#2a3f5f\"},\"geo\":{\"bgcolor\":\"white\",\"lakecolor\":\"white\",\"landcolor\":\"#E5ECF6\",\"showlakes\":true,\"showland\":true,\"subunitcolor\":\"white\"},\"hoverlabel\":{\"align\":\"left\"},\"hovermode\":\"closest\",\"mapbox\":{\"style\":\"light\"},\"paper_bgcolor\":\"white\",\"plot_bgcolor\":\"#E5ECF6\",\"polar\":{\"angularaxis\":{\"gridcolor\":\"white\",\"linecolor\":\"white\",\"ticks\":\"\"},\"bgcolor\":\"#E5ECF6\",\"radialaxis\":{\"gridcolor\":\"white\",\"linecolor\":\"white\",\"ticks\":\"\"}},\"scene\":{\"xaxis\":{\"backgroundcolor\":\"#E5ECF6\",\"gridcolor\":\"white\",\"gridwidth\":2,\"linecolor\":\"white\",\"showbackground\":true,\"ticks\":\"\",\"zerolinecolor\":\"white\"},\"yaxis\":{\"backgroundcolor\":\"#E5ECF6\",\"gridcolor\":\"white\",\"gridwidth\":2,\"linecolor\":\"white\",\"showbackground\":true,\"ticks\":\"\",\"zerolinecolor\":\"white\"},\"zaxis\":{\"backgroundcolor\":\"#E5ECF6\",\"gridcolor\":\"white\",\"gridwidth\":2,\"linecolor\":\"white\",\"showbackground\":true,\"ticks\":\"\",\"zerolinecolor\":\"white\"}},\"shapedefaults\":{\"line\":{\"color\":\"#2a3f5f\"}},\"ternary\":{\"aaxis\":{\"gridcolor\":\"white\",\"linecolor\":\"white\",\"ticks\":\"\"},\"baxis\":{\"gridcolor\":\"white\",\"linecolor\":\"white\",\"ticks\":\"\"},\"bgcolor\":\"#E5ECF6\",\"caxis\":{\"gridcolor\":\"white\",\"linecolor\":\"white\",\"ticks\":\"\"}},\"title\":{\"x\":0.05},\"xaxis\":{\"automargin\":true,\"gridcolor\":\"white\",\"linecolor\":\"white\",\"ticks\":\"\",\"title\":{\"standoff\":15},\"zerolinecolor\":\"white\",\"zerolinewidth\":2},\"yaxis\":{\"automargin\":true,\"gridcolor\":\"white\",\"linecolor\":\"white\",\"ticks\":\"\",\"title\":{\"standoff\":15},\"zerolinecolor\":\"white\",\"zerolinewidth\":2}}},\"title\":{\"text\":\"Precio\"},\"xaxis\":{\"anchor\":\"y\",\"domain\":[0.0,1.0],\"rangeselector\":{\"buttons\":[{\"count\":1,\"label\":\"1m\",\"step\":\"month\",\"stepmode\":\"backward\"},{\"count\":6,\"label\":\"6m\",\"step\":\"month\",\"stepmode\":\"backward\"},{\"count\":1,\"label\":\"YTD\",\"step\":\"year\",\"stepmode\":\"todate\"},{\"count\":1,\"label\":\"1y\",\"step\":\"year\",\"stepmode\":\"backward\"},{\"step\":\"all\"}]},\"rangeslider\":{\"visible\":true},\"title\":{\"text\":\"time\"}},\"yaxis\":{\"anchor\":\"x\",\"domain\":[0.0,1.0],\"title\":{\"text\":\"close\"}}},                        {\"responsive\": true}                    ).then(function(){\n",
       "                            \n",
       "var gd = document.getElementById('567c9eec-0857-47b9-9055-5f6b66fda293');\n",
       "var x = new MutationObserver(function (mutations, observer) {{\n",
       "        var display = window.getComputedStyle(gd).display;\n",
       "        if (!display || display === 'none') {{\n",
       "            console.log([gd, 'removed!']);\n",
       "            Plotly.purge(gd);\n",
       "            observer.disconnect();\n",
       "        }}\n",
       "}});\n",
       "\n",
       "// Listen for the removal of the full notebook cells\n",
       "var notebookContainer = gd.closest('#notebook-container');\n",
       "if (notebookContainer) {{\n",
       "    x.observe(notebookContainer, {childList: true});\n",
       "}}\n",
       "\n",
       "// Listen for the clearing of the current output cell\n",
       "var outputEl = gd.closest('.output');\n",
       "if (outputEl) {{\n",
       "    x.observe(outputEl, {childList: true});\n",
       "}}\n",
       "\n",
       "                        })                };                });            </script>        </div>"
      ]
     },
     "metadata": {},
     "output_type": "display_data"
    }
   ],
   "source": [
    "# PRECIO\n",
    "fig = px.line(earnings_df_ma, x=\"time\", y=\"close\", title=\"Precio\")\n",
    "\n",
    "fig.update_xaxes(\n",
    "    rangeslider_visible=True,\n",
    "    rangeselector=dict(\n",
    "        buttons=list([\n",
    "            dict(count=1, label=\"1m\", step=\"month\", stepmode=\"backward\"),\n",
    "            dict(count=6, label=\"6m\", step=\"month\", stepmode=\"backward\"),\n",
    "            dict(count=1, label=\"YTD\", step=\"year\", stepmode=\"todate\"),\n",
    "            dict(count=1, label=\"1y\", step=\"year\", stepmode=\"backward\"),\n",
    "            dict(step=\"all\")\n",
    "        ])\n",
    "    )\n",
    ")\n",
    "fig.show()"
   ]
  },
  {
   "cell_type": "code",
   "execution_count": 44,
   "metadata": {},
   "outputs": [
    {
     "data": {
      "application/vnd.plotly.v1+json": {
       "config": {
        "plotlyServerURL": "https://plot.ly"
       },
       "data": [
        {
         "line": {
          "color": "teal",
          "width": 3
         },
         "type": "scatter",
         "x": [
          "2018-08-28T06:36:00",
          "2018-08-28T11:12:00",
          "2018-08-28T22:24:00",
          "2018-08-29T17:48:00",
          "2018-08-30T06:24:00",
          "2018-08-31T00:00:00",
          "2018-08-31T05:48:00",
          "2018-08-31T08:00:00",
          "2018-08-31T14:12:00",
          "2018-09-03T08:12:00",
          "2018-09-04T01:24:00",
          "2018-09-04T20:36:00",
          "2018-09-05T10:00:00",
          "2018-09-05T15:36:00",
          "2018-09-06T08:48:00",
          "2018-09-06T16:00:00",
          "2018-09-06T19:36:00",
          "2018-09-07T03:36:00",
          "2018-09-07T04:00:00",
          "2018-09-07T08:00:00",
          "2018-09-07T15:12:00",
          "2018-09-10T11:48:00",
          "2018-09-11T00:00:00",
          "2018-09-11T08:24:00",
          "2018-09-11T14:24:00",
          "2018-09-11T21:48:00",
          "2018-09-12T05:48:00",
          "2018-09-12T12:48:00",
          "2018-09-12T15:12:00",
          "2018-09-12T16:00:00",
          "2018-09-12T16:24:00",
          "2018-09-12T17:00:00",
          "2018-09-13T02:48:00",
          "2018-09-13T04:12:00",
          "2018-09-13T09:24:00",
          "2018-09-13T15:48:00",
          "2018-09-14T15:12:00",
          "2018-09-17T05:48:00",
          "2018-09-18T00:24:00",
          "2018-09-18T07:00:00",
          "2018-09-18T13:12:00",
          "2018-09-18T16:24:00",
          "2018-09-18T20:12:00",
          "2018-09-19T03:12:00",
          "2018-09-19T06:00:00",
          "2018-09-19T08:48:00",
          "2018-09-19T16:00:00",
          "2018-09-19T22:12:00",
          "2018-09-19T23:48:00",
          "2018-09-20T05:00:00",
          "2018-09-21T13:48:00",
          "2018-09-24T01:00:00",
          "2018-09-24T05:12:00",
          "2018-09-24T11:48:00",
          "2018-09-24T21:00:00",
          "2018-09-25T10:24:00",
          "2018-09-25T21:24:00",
          "2018-09-26T09:12:00",
          "2018-09-26T14:12:00",
          "2018-09-26T21:00:00",
          "2018-09-27T01:24:00",
          "2018-09-28T06:48:00",
          "2018-09-28T10:12:00",
          "2018-09-28T19:24:00",
          "2018-10-01T02:12:00",
          "2018-10-01T13:12:00",
          "2018-10-01T18:12:00",
          "2018-10-02T02:48:00",
          "2018-10-02T05:12:00",
          "2018-10-02T17:36:00",
          "2018-10-03T02:24:00",
          "2018-10-03T05:00:00",
          "2018-10-03T13:24:00",
          "2018-10-04T10:48:00",
          "2018-10-04T21:48:00",
          "2018-10-05T00:24:00",
          "2018-10-05T06:36:00",
          "2018-10-05T16:12:00",
          "2018-10-08T05:36:00",
          "2018-10-08T20:24:00",
          "2018-10-09T06:12:00",
          "2018-10-09T08:12:00",
          "2018-10-09T09:36:00",
          "2018-10-09T19:00:00",
          "2018-10-10T10:48:00",
          "2018-10-10T16:36:00",
          "2018-10-11T00:48:00",
          "2018-10-11T03:36:00",
          "2018-10-11T11:48:00",
          "2018-10-11T14:36:00",
          "2018-10-12T11:12:00",
          "2018-10-15T09:48:00",
          "2018-10-15T20:48:00",
          "2018-10-16T03:36:00",
          "2018-10-16T07:12:00",
          "2018-10-16T12:12:00",
          "2018-10-16T15:48:00",
          "2018-10-16T16:00:00",
          "2018-10-16T20:48:00",
          "2018-10-17T13:24:00",
          "2018-10-17T13:48:00",
          "2018-10-18T11:48:00",
          "2018-10-18T17:24:00",
          "2018-10-19T06:00:00",
          "2018-10-19T10:24:00",
          "2018-10-19T14:36:00",
          "2018-10-22T04:00:00",
          "2018-10-22T08:00:00",
          "2018-10-22T14:12:00",
          "2018-10-23T11:48:00",
          "2018-10-23T17:48:00",
          "2018-10-23T18:12:00",
          "2018-10-23T19:12:00",
          "2018-10-23T19:48:00",
          "2018-10-24T00:36:00",
          "2018-10-25T01:36:00",
          "2018-10-25T12:48:00",
          "2018-10-25T15:12:00",
          "2018-10-25T16:48:00",
          "2018-10-26T02:00:00",
          "2018-10-26T06:36:00",
          "2018-10-26T11:12:00",
          "2018-10-26T14:00:00",
          "2018-10-26T19:00:00",
          "2018-10-29T03:24:00",
          "2018-10-29T09:48:00",
          "2018-10-29T14:00:00",
          "2018-10-29T15:24:00",
          "2018-10-29T16:00:00",
          "2018-10-29T23:00:00",
          "2018-10-30T00:00:00",
          "2018-10-30T06:24:00",
          "2018-10-30T09:36:00",
          "2018-10-30T17:48:00",
          "2018-10-30T19:36:00",
          "2018-10-31T05:00:00",
          "2018-10-31T06:12:00",
          "2018-10-31T10:12:00",
          "2018-10-31T14:00:00",
          "2018-11-01T00:36:00",
          "2018-11-01T01:36:00",
          "2018-11-01T03:00:00",
          "2018-11-02T01:36:00",
          "2018-11-02T07:48:00",
          "2018-11-02T16:36:00",
          "2018-11-05T02:48:00",
          "2018-11-05T05:48:00",
          "2018-11-05T18:00:00",
          "2018-11-06T05:00:00",
          "2018-11-06T10:24:00",
          "2018-11-06T14:48:00",
          "2018-11-06T15:36:00",
          "2018-11-06T21:36:00",
          "2018-11-07T01:00:00",
          "2018-11-07T18:48:00",
          "2018-11-08T10:24:00",
          "2018-11-08T11:48:00",
          "2018-11-08T17:36:00",
          "2018-11-08T19:48:00",
          "2018-11-09T15:00:00",
          "2018-11-09T19:12:00",
          "2018-11-12T17:36:00",
          "2018-11-12T19:24:00",
          "2018-11-13T05:48:00",
          "2018-11-13T12:12:00",
          "2018-11-13T14:36:00",
          "2018-11-14T07:48:00",
          "2018-11-14T16:36:00",
          "2018-11-15T12:12:00",
          "2018-11-15T19:36:00",
          "2018-11-16T14:00:00",
          "2018-11-16T16:12:00",
          "2018-11-19T04:12:00",
          "2018-11-19T11:12:00",
          "2018-11-20T03:48:00",
          "2018-11-20T09:48:00",
          "2018-11-20T11:36:00",
          "2018-11-21T04:48:00",
          "2018-11-21T20:00:00",
          "2018-11-22T04:24:00",
          "2018-11-22T17:48:00",
          "2018-11-23T05:00:00",
          "2018-11-23T10:48:00",
          "2018-11-26T02:48:00",
          "2018-11-26T17:12:00",
          "2018-11-27T05:00:00",
          "2018-11-27T10:12:00",
          "2018-11-28T02:12:00",
          "2018-11-28T05:00:00",
          "2018-11-28T07:36:00",
          "2018-11-28T10:00:00",
          "2018-11-28T19:00:00",
          "2018-11-29T05:48:00",
          "2018-11-29T06:00:00",
          "2018-11-29T12:36:00",
          "2018-11-29T17:24:00",
          "2018-11-30T09:48:00",
          "2018-12-03T01:48:00",
          "2018-12-03T13:24:00",
          "2018-12-03T19:24:00",
          "2018-12-04T01:00:00",
          "2018-12-04T01:12:00",
          "2018-12-04T17:36:00",
          "2018-12-05T11:48:00",
          "2018-12-05T19:24:00",
          "2018-12-05T21:24:00",
          "2018-12-05T22:36:00",
          "2018-12-06T01:36:00",
          "2018-12-06T07:00:00",
          "2018-12-06T15:00:00",
          "2018-12-07T00:36:00",
          "2018-12-07T13:48:00",
          "2018-12-07T14:36:00",
          "2018-12-07T15:24:00",
          "2018-12-10T11:48:00",
          "2018-12-11T04:24:00",
          "2018-12-11T17:00:00",
          "2018-12-12T02:36:00",
          "2018-12-12T09:48:00",
          "2018-12-12T13:12:00",
          "2018-12-13T05:24:00",
          "2018-12-13T10:00:00",
          "2018-12-13T16:00:00",
          "2018-12-13T22:36:00",
          "2018-12-14T03:24:00",
          "2018-12-14T20:12:00",
          "2018-12-18T08:24:00",
          "2018-12-18T11:00:00",
          "2018-12-18T18:24:00",
          "2018-12-19T01:48:00",
          "2018-12-19T22:12:00",
          "2018-12-20T06:48:00",
          "2018-12-20T18:00:00",
          "2018-12-20T22:00:00",
          "2018-12-21T03:00:00",
          "2018-12-21T09:36:00",
          "2018-12-21T12:24:00",
          "2018-12-24T04:12:00",
          "2018-12-26T07:48:00",
          "2018-12-26T18:12:00",
          "2018-12-26T21:00:00",
          "2018-12-27T04:12:00",
          "2018-12-28T12:24:00",
          "2018-12-28T13:24:00",
          "2018-12-28T17:36:00",
          "2018-12-31T12:12:00",
          "2018-12-31T19:12:00"
         ],
         "y": [
          116.71800000000002,
          116.88000000000001,
          116.92800000000001,
          116.92800000000001,
          116.993,
          116.662,
          116.628,
          116.85000000000001,
          116.48700000000001,
          116.06700000000001,
          116.15899999999999,
          115.77,
          115.608,
          115.85799999999999,
          116.21999999999998,
          116.36800000000001,
          116.214,
          116.22200000000001,
          116.19,
          116.27099999999999,
          116.131,
          115.70100000000001,
          115.94500000000001,
          115.988,
          115.83699999999999,
          115.844,
          115.891,
          115.94,
          115.816,
          115.938,
          115.895,
          116.144,
          116.24699999999999,
          116.353,
          116.263,
          116.781,
          116.92800000000001,
          116.34500000000001,
          116.84,
          116.94,
          116.745,
          117.15299999999999,
          116.61500000000001,
          116.724,
          116.64099999999999,
          116.86099999999999,
          116.71000000000001,
          116.724,
          116.716,
          116.819,
          117.61299999999999,
          117.44600000000001,
          117.39699999999999,
          117.67,
          117.55199999999999,
          117.61699999999999,
          117.66799999999999,
          117.652,
          117.44399999999999,
          117.74199999999999,
          117.455,
          116.47000000000001,
          116.21900000000001,
          116.157,
          116.042,
          116.11,
          115.78500000000001,
          115.76299999999999,
          115.702,
          115.411,
          115.51499999999999,
          115.869,
          115.58900000000001,
          114.927,
          115.141,
          115.12,
          115.05700000000002,
          115.24300000000001,
          115.12800000000001,
          114.804,
          114.896,
          114.95200000000001,
          114.76599999999999,
          114.82900000000001,
          114.934,
          115.12599999999999,
          115.26,
          115.357,
          115.451,
          115.74199999999999,
          115.757,
          115.635,
          115.76599999999999,
          115.86399999999999,
          115.73,
          115.67099999999999,
          115.872,
          116.136,
          115.737,
          115.56200000000001,
          115.46799999999999,
          115.16999999999999,
          114.94800000000001,
          114.577,
          114.44300000000001,
          114.727,
          114.99999999999999,
          115.107,
          114.94500000000001,
          114.66000000000001,
          114.58999999999999,
          114.812,
          114.8,
          114.81300000000002,
          114.703,
          113.967,
          114.085,
          114.162,
          113.798,
          113.742,
          113.67,
          113.667,
          113.44099999999999,
          114.018,
          113.88100000000001,
          114.07799999999999,
          113.92599999999999,
          113.794,
          113.7,
          113.71100000000001,
          113.72500000000001,
          113.78699999999999,
          113.65899999999999,
          113.632,
          113.524,
          113.436,
          113.402,
          113.50899999999999,
          113.375,
          113.16,
          113.161,
          113.293,
          114.016,
          114.23700000000001,
          114.208,
          113.947,
          113.82600000000001,
          114.00999999999999,
          114.093,
          114.114,
          114.17399999999999,
          114.327,
          114.135,
          114.211,
          114.578,
          114.395,
          114.22300000000001,
          114.304,
          113.919,
          113.49499999999999,
          113.236,
          112.65899999999999,
          112.44400000000002,
          112.445,
          112.24700000000001,
          112.663,
          112.895,
          113.035,
          112.845,
          113.23,
          113.31700000000001,
          114.041,
          114.114,
          114.17600000000002,
          114.46099999999998,
          114.56900000000002,
          114.32,
          113.72800000000001,
          113.93200000000002,
          113.974,
          114.05499999999999,
          114.09499999999998,
          113.694,
          113.336,
          113.44000000000001,
          113.337,
          113.11500000000001,
          112.957,
          112.937,
          112.963,
          112.75,
          113.51100000000001,
          113.77,
          113.802,
          113.541,
          113.777,
          113.805,
          113.41600000000001,
          113.22000000000001,
          113.552,
          113.53899999999999,
          113.54299999999999,
          113.57900000000001,
          113.364,
          113.50800000000001,
          113.45700000000001,
          113.41499999999999,
          113.448,
          113.469,
          113.529,
          113.748,
          113.799,
          113.66799999999999,
          114.02000000000001,
          114.113,
          113.652,
          113.30499999999999,
          113.29400000000001,
          113.233,
          113.36299999999999,
          113.70800000000001,
          113.869,
          113.63499999999999,
          113.622,
          113.577,
          112.97299999999998,
          113.422,
          113.718,
          113.673,
          113.751,
          113.76599999999999,
          113.85000000000001,
          114.168,
          114.683,
          114.48700000000001,
          114.723,
          114.212,
          113.796,
          114.019,
          114.06099999999999,
          113.61000000000001,
          113.83399999999999,
          114.626,
          114.64000000000001,
          114.433,
          114.42000000000002,
          114.501
         ]
        }
       ],
       "layout": {
        "template": {
         "data": {
          "bar": [
           {
            "error_x": {
             "color": "#2a3f5f"
            },
            "error_y": {
             "color": "#2a3f5f"
            },
            "marker": {
             "line": {
              "color": "#E5ECF6",
              "width": 0.5
             },
             "pattern": {
              "fillmode": "overlay",
              "size": 10,
              "solidity": 0.2
             }
            },
            "type": "bar"
           }
          ],
          "barpolar": [
           {
            "marker": {
             "line": {
              "color": "#E5ECF6",
              "width": 0.5
             },
             "pattern": {
              "fillmode": "overlay",
              "size": 10,
              "solidity": 0.2
             }
            },
            "type": "barpolar"
           }
          ],
          "carpet": [
           {
            "aaxis": {
             "endlinecolor": "#2a3f5f",
             "gridcolor": "white",
             "linecolor": "white",
             "minorgridcolor": "white",
             "startlinecolor": "#2a3f5f"
            },
            "baxis": {
             "endlinecolor": "#2a3f5f",
             "gridcolor": "white",
             "linecolor": "white",
             "minorgridcolor": "white",
             "startlinecolor": "#2a3f5f"
            },
            "type": "carpet"
           }
          ],
          "choropleth": [
           {
            "colorbar": {
             "outlinewidth": 0,
             "ticks": ""
            },
            "type": "choropleth"
           }
          ],
          "contour": [
           {
            "colorbar": {
             "outlinewidth": 0,
             "ticks": ""
            },
            "colorscale": [
             [
              0,
              "#0d0887"
             ],
             [
              0.1111111111111111,
              "#46039f"
             ],
             [
              0.2222222222222222,
              "#7201a8"
             ],
             [
              0.3333333333333333,
              "#9c179e"
             ],
             [
              0.4444444444444444,
              "#bd3786"
             ],
             [
              0.5555555555555556,
              "#d8576b"
             ],
             [
              0.6666666666666666,
              "#ed7953"
             ],
             [
              0.7777777777777778,
              "#fb9f3a"
             ],
             [
              0.8888888888888888,
              "#fdca26"
             ],
             [
              1,
              "#f0f921"
             ]
            ],
            "type": "contour"
           }
          ],
          "contourcarpet": [
           {
            "colorbar": {
             "outlinewidth": 0,
             "ticks": ""
            },
            "type": "contourcarpet"
           }
          ],
          "heatmap": [
           {
            "colorbar": {
             "outlinewidth": 0,
             "ticks": ""
            },
            "colorscale": [
             [
              0,
              "#0d0887"
             ],
             [
              0.1111111111111111,
              "#46039f"
             ],
             [
              0.2222222222222222,
              "#7201a8"
             ],
             [
              0.3333333333333333,
              "#9c179e"
             ],
             [
              0.4444444444444444,
              "#bd3786"
             ],
             [
              0.5555555555555556,
              "#d8576b"
             ],
             [
              0.6666666666666666,
              "#ed7953"
             ],
             [
              0.7777777777777778,
              "#fb9f3a"
             ],
             [
              0.8888888888888888,
              "#fdca26"
             ],
             [
              1,
              "#f0f921"
             ]
            ],
            "type": "heatmap"
           }
          ],
          "heatmapgl": [
           {
            "colorbar": {
             "outlinewidth": 0,
             "ticks": ""
            },
            "colorscale": [
             [
              0,
              "#0d0887"
             ],
             [
              0.1111111111111111,
              "#46039f"
             ],
             [
              0.2222222222222222,
              "#7201a8"
             ],
             [
              0.3333333333333333,
              "#9c179e"
             ],
             [
              0.4444444444444444,
              "#bd3786"
             ],
             [
              0.5555555555555556,
              "#d8576b"
             ],
             [
              0.6666666666666666,
              "#ed7953"
             ],
             [
              0.7777777777777778,
              "#fb9f3a"
             ],
             [
              0.8888888888888888,
              "#fdca26"
             ],
             [
              1,
              "#f0f921"
             ]
            ],
            "type": "heatmapgl"
           }
          ],
          "histogram": [
           {
            "marker": {
             "pattern": {
              "fillmode": "overlay",
              "size": 10,
              "solidity": 0.2
             }
            },
            "type": "histogram"
           }
          ],
          "histogram2d": [
           {
            "colorbar": {
             "outlinewidth": 0,
             "ticks": ""
            },
            "colorscale": [
             [
              0,
              "#0d0887"
             ],
             [
              0.1111111111111111,
              "#46039f"
             ],
             [
              0.2222222222222222,
              "#7201a8"
             ],
             [
              0.3333333333333333,
              "#9c179e"
             ],
             [
              0.4444444444444444,
              "#bd3786"
             ],
             [
              0.5555555555555556,
              "#d8576b"
             ],
             [
              0.6666666666666666,
              "#ed7953"
             ],
             [
              0.7777777777777778,
              "#fb9f3a"
             ],
             [
              0.8888888888888888,
              "#fdca26"
             ],
             [
              1,
              "#f0f921"
             ]
            ],
            "type": "histogram2d"
           }
          ],
          "histogram2dcontour": [
           {
            "colorbar": {
             "outlinewidth": 0,
             "ticks": ""
            },
            "colorscale": [
             [
              0,
              "#0d0887"
             ],
             [
              0.1111111111111111,
              "#46039f"
             ],
             [
              0.2222222222222222,
              "#7201a8"
             ],
             [
              0.3333333333333333,
              "#9c179e"
             ],
             [
              0.4444444444444444,
              "#bd3786"
             ],
             [
              0.5555555555555556,
              "#d8576b"
             ],
             [
              0.6666666666666666,
              "#ed7953"
             ],
             [
              0.7777777777777778,
              "#fb9f3a"
             ],
             [
              0.8888888888888888,
              "#fdca26"
             ],
             [
              1,
              "#f0f921"
             ]
            ],
            "type": "histogram2dcontour"
           }
          ],
          "mesh3d": [
           {
            "colorbar": {
             "outlinewidth": 0,
             "ticks": ""
            },
            "type": "mesh3d"
           }
          ],
          "parcoords": [
           {
            "line": {
             "colorbar": {
              "outlinewidth": 0,
              "ticks": ""
             }
            },
            "type": "parcoords"
           }
          ],
          "pie": [
           {
            "automargin": true,
            "type": "pie"
           }
          ],
          "scatter": [
           {
            "marker": {
             "colorbar": {
              "outlinewidth": 0,
              "ticks": ""
             }
            },
            "type": "scatter"
           }
          ],
          "scatter3d": [
           {
            "line": {
             "colorbar": {
              "outlinewidth": 0,
              "ticks": ""
             }
            },
            "marker": {
             "colorbar": {
              "outlinewidth": 0,
              "ticks": ""
             }
            },
            "type": "scatter3d"
           }
          ],
          "scattercarpet": [
           {
            "marker": {
             "colorbar": {
              "outlinewidth": 0,
              "ticks": ""
             }
            },
            "type": "scattercarpet"
           }
          ],
          "scattergeo": [
           {
            "marker": {
             "colorbar": {
              "outlinewidth": 0,
              "ticks": ""
             }
            },
            "type": "scattergeo"
           }
          ],
          "scattergl": [
           {
            "marker": {
             "colorbar": {
              "outlinewidth": 0,
              "ticks": ""
             }
            },
            "type": "scattergl"
           }
          ],
          "scattermapbox": [
           {
            "marker": {
             "colorbar": {
              "outlinewidth": 0,
              "ticks": ""
             }
            },
            "type": "scattermapbox"
           }
          ],
          "scatterpolar": [
           {
            "marker": {
             "colorbar": {
              "outlinewidth": 0,
              "ticks": ""
             }
            },
            "type": "scatterpolar"
           }
          ],
          "scatterpolargl": [
           {
            "marker": {
             "colorbar": {
              "outlinewidth": 0,
              "ticks": ""
             }
            },
            "type": "scatterpolargl"
           }
          ],
          "scatterternary": [
           {
            "marker": {
             "colorbar": {
              "outlinewidth": 0,
              "ticks": ""
             }
            },
            "type": "scatterternary"
           }
          ],
          "surface": [
           {
            "colorbar": {
             "outlinewidth": 0,
             "ticks": ""
            },
            "colorscale": [
             [
              0,
              "#0d0887"
             ],
             [
              0.1111111111111111,
              "#46039f"
             ],
             [
              0.2222222222222222,
              "#7201a8"
             ],
             [
              0.3333333333333333,
              "#9c179e"
             ],
             [
              0.4444444444444444,
              "#bd3786"
             ],
             [
              0.5555555555555556,
              "#d8576b"
             ],
             [
              0.6666666666666666,
              "#ed7953"
             ],
             [
              0.7777777777777778,
              "#fb9f3a"
             ],
             [
              0.8888888888888888,
              "#fdca26"
             ],
             [
              1,
              "#f0f921"
             ]
            ],
            "type": "surface"
           }
          ],
          "table": [
           {
            "cells": {
             "fill": {
              "color": "#EBF0F8"
             },
             "line": {
              "color": "white"
             }
            },
            "header": {
             "fill": {
              "color": "#C8D4E3"
             },
             "line": {
              "color": "white"
             }
            },
            "type": "table"
           }
          ]
         },
         "layout": {
          "annotationdefaults": {
           "arrowcolor": "#2a3f5f",
           "arrowhead": 0,
           "arrowwidth": 1
          },
          "autotypenumbers": "strict",
          "coloraxis": {
           "colorbar": {
            "outlinewidth": 0,
            "ticks": ""
           }
          },
          "colorscale": {
           "diverging": [
            [
             0,
             "#8e0152"
            ],
            [
             0.1,
             "#c51b7d"
            ],
            [
             0.2,
             "#de77ae"
            ],
            [
             0.3,
             "#f1b6da"
            ],
            [
             0.4,
             "#fde0ef"
            ],
            [
             0.5,
             "#f7f7f7"
            ],
            [
             0.6,
             "#e6f5d0"
            ],
            [
             0.7,
             "#b8e186"
            ],
            [
             0.8,
             "#7fbc41"
            ],
            [
             0.9,
             "#4d9221"
            ],
            [
             1,
             "#276419"
            ]
           ],
           "sequential": [
            [
             0,
             "#0d0887"
            ],
            [
             0.1111111111111111,
             "#46039f"
            ],
            [
             0.2222222222222222,
             "#7201a8"
            ],
            [
             0.3333333333333333,
             "#9c179e"
            ],
            [
             0.4444444444444444,
             "#bd3786"
            ],
            [
             0.5555555555555556,
             "#d8576b"
            ],
            [
             0.6666666666666666,
             "#ed7953"
            ],
            [
             0.7777777777777778,
             "#fb9f3a"
            ],
            [
             0.8888888888888888,
             "#fdca26"
            ],
            [
             1,
             "#f0f921"
            ]
           ],
           "sequentialminus": [
            [
             0,
             "#0d0887"
            ],
            [
             0.1111111111111111,
             "#46039f"
            ],
            [
             0.2222222222222222,
             "#7201a8"
            ],
            [
             0.3333333333333333,
             "#9c179e"
            ],
            [
             0.4444444444444444,
             "#bd3786"
            ],
            [
             0.5555555555555556,
             "#d8576b"
            ],
            [
             0.6666666666666666,
             "#ed7953"
            ],
            [
             0.7777777777777778,
             "#fb9f3a"
            ],
            [
             0.8888888888888888,
             "#fdca26"
            ],
            [
             1,
             "#f0f921"
            ]
           ]
          },
          "colorway": [
           "#636efa",
           "#EF553B",
           "#00cc96",
           "#ab63fa",
           "#FFA15A",
           "#19d3f3",
           "#FF6692",
           "#B6E880",
           "#FF97FF",
           "#FECB52"
          ],
          "font": {
           "color": "#2a3f5f"
          },
          "geo": {
           "bgcolor": "white",
           "lakecolor": "white",
           "landcolor": "#E5ECF6",
           "showlakes": true,
           "showland": true,
           "subunitcolor": "white"
          },
          "hoverlabel": {
           "align": "left"
          },
          "hovermode": "closest",
          "mapbox": {
           "style": "light"
          },
          "paper_bgcolor": "white",
          "plot_bgcolor": "#E5ECF6",
          "polar": {
           "angularaxis": {
            "gridcolor": "white",
            "linecolor": "white",
            "ticks": ""
           },
           "bgcolor": "#E5ECF6",
           "radialaxis": {
            "gridcolor": "white",
            "linecolor": "white",
            "ticks": ""
           }
          },
          "scene": {
           "xaxis": {
            "backgroundcolor": "#E5ECF6",
            "gridcolor": "white",
            "gridwidth": 2,
            "linecolor": "white",
            "showbackground": true,
            "ticks": "",
            "zerolinecolor": "white"
           },
           "yaxis": {
            "backgroundcolor": "#E5ECF6",
            "gridcolor": "white",
            "gridwidth": 2,
            "linecolor": "white",
            "showbackground": true,
            "ticks": "",
            "zerolinecolor": "white"
           },
           "zaxis": {
            "backgroundcolor": "#E5ECF6",
            "gridcolor": "white",
            "gridwidth": 2,
            "linecolor": "white",
            "showbackground": true,
            "ticks": "",
            "zerolinecolor": "white"
           }
          },
          "shapedefaults": {
           "line": {
            "color": "#2a3f5f"
           }
          },
          "ternary": {
           "aaxis": {
            "gridcolor": "white",
            "linecolor": "white",
            "ticks": ""
           },
           "baxis": {
            "gridcolor": "white",
            "linecolor": "white",
            "ticks": ""
           },
           "bgcolor": "#E5ECF6",
           "caxis": {
            "gridcolor": "white",
            "linecolor": "white",
            "ticks": ""
           }
          },
          "title": {
           "x": 0.05
          },
          "xaxis": {
           "automargin": true,
           "gridcolor": "white",
           "linecolor": "white",
           "ticks": "",
           "title": {
            "standoff": 15
           },
           "zerolinecolor": "white",
           "zerolinewidth": 2
          },
          "yaxis": {
           "automargin": true,
           "gridcolor": "white",
           "linecolor": "white",
           "ticks": "",
           "title": {
            "standoff": 15
           },
           "zerolinecolor": "white",
           "zerolinewidth": 2
          }
         }
        },
        "title": {
         "text": "Exposure"
        },
        "xaxis": {
         "title": {
          "text": "Date"
         }
        },
        "yaxis": {
         "title": {
          "text": "$"
         }
        }
       }
      },
      "text/html": [
       "<div>                            <div id=\"54202e98-b9b4-472a-9704-e0bf22ee11d8\" class=\"plotly-graph-div\" style=\"height:525px; width:100%;\"></div>            <script type=\"text/javascript\">                require([\"plotly\"], function(Plotly) {                    window.PLOTLYENV=window.PLOTLYENV || {};                                    if (document.getElementById(\"54202e98-b9b4-472a-9704-e0bf22ee11d8\")) {                    Plotly.newPlot(                        \"54202e98-b9b4-472a-9704-e0bf22ee11d8\",                        [{\"line\":{\"color\":\"teal\",\"width\":3},\"type\":\"scatter\",\"x\":[\"2018-08-28T06:36:00\",\"2018-08-28T11:12:00\",\"2018-08-28T22:24:00\",\"2018-08-29T17:48:00\",\"2018-08-30T06:24:00\",\"2018-08-31T00:00:00\",\"2018-08-31T05:48:00\",\"2018-08-31T08:00:00\",\"2018-08-31T14:12:00\",\"2018-09-03T08:12:00\",\"2018-09-04T01:24:00\",\"2018-09-04T20:36:00\",\"2018-09-05T10:00:00\",\"2018-09-05T15:36:00\",\"2018-09-06T08:48:00\",\"2018-09-06T16:00:00\",\"2018-09-06T19:36:00\",\"2018-09-07T03:36:00\",\"2018-09-07T04:00:00\",\"2018-09-07T08:00:00\",\"2018-09-07T15:12:00\",\"2018-09-10T11:48:00\",\"2018-09-11T00:00:00\",\"2018-09-11T08:24:00\",\"2018-09-11T14:24:00\",\"2018-09-11T21:48:00\",\"2018-09-12T05:48:00\",\"2018-09-12T12:48:00\",\"2018-09-12T15:12:00\",\"2018-09-12T16:00:00\",\"2018-09-12T16:24:00\",\"2018-09-12T17:00:00\",\"2018-09-13T02:48:00\",\"2018-09-13T04:12:00\",\"2018-09-13T09:24:00\",\"2018-09-13T15:48:00\",\"2018-09-14T15:12:00\",\"2018-09-17T05:48:00\",\"2018-09-18T00:24:00\",\"2018-09-18T07:00:00\",\"2018-09-18T13:12:00\",\"2018-09-18T16:24:00\",\"2018-09-18T20:12:00\",\"2018-09-19T03:12:00\",\"2018-09-19T06:00:00\",\"2018-09-19T08:48:00\",\"2018-09-19T16:00:00\",\"2018-09-19T22:12:00\",\"2018-09-19T23:48:00\",\"2018-09-20T05:00:00\",\"2018-09-21T13:48:00\",\"2018-09-24T01:00:00\",\"2018-09-24T05:12:00\",\"2018-09-24T11:48:00\",\"2018-09-24T21:00:00\",\"2018-09-25T10:24:00\",\"2018-09-25T21:24:00\",\"2018-09-26T09:12:00\",\"2018-09-26T14:12:00\",\"2018-09-26T21:00:00\",\"2018-09-27T01:24:00\",\"2018-09-28T06:48:00\",\"2018-09-28T10:12:00\",\"2018-09-28T19:24:00\",\"2018-10-01T02:12:00\",\"2018-10-01T13:12:00\",\"2018-10-01T18:12:00\",\"2018-10-02T02:48:00\",\"2018-10-02T05:12:00\",\"2018-10-02T17:36:00\",\"2018-10-03T02:24:00\",\"2018-10-03T05:00:00\",\"2018-10-03T13:24:00\",\"2018-10-04T10:48:00\",\"2018-10-04T21:48:00\",\"2018-10-05T00:24:00\",\"2018-10-05T06:36:00\",\"2018-10-05T16:12:00\",\"2018-10-08T05:36:00\",\"2018-10-08T20:24:00\",\"2018-10-09T06:12:00\",\"2018-10-09T08:12:00\",\"2018-10-09T09:36:00\",\"2018-10-09T19:00:00\",\"2018-10-10T10:48:00\",\"2018-10-10T16:36:00\",\"2018-10-11T00:48:00\",\"2018-10-11T03:36:00\",\"2018-10-11T11:48:00\",\"2018-10-11T14:36:00\",\"2018-10-12T11:12:00\",\"2018-10-15T09:48:00\",\"2018-10-15T20:48:00\",\"2018-10-16T03:36:00\",\"2018-10-16T07:12:00\",\"2018-10-16T12:12:00\",\"2018-10-16T15:48:00\",\"2018-10-16T16:00:00\",\"2018-10-16T20:48:00\",\"2018-10-17T13:24:00\",\"2018-10-17T13:48:00\",\"2018-10-18T11:48:00\",\"2018-10-18T17:24:00\",\"2018-10-19T06:00:00\",\"2018-10-19T10:24:00\",\"2018-10-19T14:36:00\",\"2018-10-22T04:00:00\",\"2018-10-22T08:00:00\",\"2018-10-22T14:12:00\",\"2018-10-23T11:48:00\",\"2018-10-23T17:48:00\",\"2018-10-23T18:12:00\",\"2018-10-23T19:12:00\",\"2018-10-23T19:48:00\",\"2018-10-24T00:36:00\",\"2018-10-25T01:36:00\",\"2018-10-25T12:48:00\",\"2018-10-25T15:12:00\",\"2018-10-25T16:48:00\",\"2018-10-26T02:00:00\",\"2018-10-26T06:36:00\",\"2018-10-26T11:12:00\",\"2018-10-26T14:00:00\",\"2018-10-26T19:00:00\",\"2018-10-29T03:24:00\",\"2018-10-29T09:48:00\",\"2018-10-29T14:00:00\",\"2018-10-29T15:24:00\",\"2018-10-29T16:00:00\",\"2018-10-29T23:00:00\",\"2018-10-30T00:00:00\",\"2018-10-30T06:24:00\",\"2018-10-30T09:36:00\",\"2018-10-30T17:48:00\",\"2018-10-30T19:36:00\",\"2018-10-31T05:00:00\",\"2018-10-31T06:12:00\",\"2018-10-31T10:12:00\",\"2018-10-31T14:00:00\",\"2018-11-01T00:36:00\",\"2018-11-01T01:36:00\",\"2018-11-01T03:00:00\",\"2018-11-02T01:36:00\",\"2018-11-02T07:48:00\",\"2018-11-02T16:36:00\",\"2018-11-05T02:48:00\",\"2018-11-05T05:48:00\",\"2018-11-05T18:00:00\",\"2018-11-06T05:00:00\",\"2018-11-06T10:24:00\",\"2018-11-06T14:48:00\",\"2018-11-06T15:36:00\",\"2018-11-06T21:36:00\",\"2018-11-07T01:00:00\",\"2018-11-07T18:48:00\",\"2018-11-08T10:24:00\",\"2018-11-08T11:48:00\",\"2018-11-08T17:36:00\",\"2018-11-08T19:48:00\",\"2018-11-09T15:00:00\",\"2018-11-09T19:12:00\",\"2018-11-12T17:36:00\",\"2018-11-12T19:24:00\",\"2018-11-13T05:48:00\",\"2018-11-13T12:12:00\",\"2018-11-13T14:36:00\",\"2018-11-14T07:48:00\",\"2018-11-14T16:36:00\",\"2018-11-15T12:12:00\",\"2018-11-15T19:36:00\",\"2018-11-16T14:00:00\",\"2018-11-16T16:12:00\",\"2018-11-19T04:12:00\",\"2018-11-19T11:12:00\",\"2018-11-20T03:48:00\",\"2018-11-20T09:48:00\",\"2018-11-20T11:36:00\",\"2018-11-21T04:48:00\",\"2018-11-21T20:00:00\",\"2018-11-22T04:24:00\",\"2018-11-22T17:48:00\",\"2018-11-23T05:00:00\",\"2018-11-23T10:48:00\",\"2018-11-26T02:48:00\",\"2018-11-26T17:12:00\",\"2018-11-27T05:00:00\",\"2018-11-27T10:12:00\",\"2018-11-28T02:12:00\",\"2018-11-28T05:00:00\",\"2018-11-28T07:36:00\",\"2018-11-28T10:00:00\",\"2018-11-28T19:00:00\",\"2018-11-29T05:48:00\",\"2018-11-29T06:00:00\",\"2018-11-29T12:36:00\",\"2018-11-29T17:24:00\",\"2018-11-30T09:48:00\",\"2018-12-03T01:48:00\",\"2018-12-03T13:24:00\",\"2018-12-03T19:24:00\",\"2018-12-04T01:00:00\",\"2018-12-04T01:12:00\",\"2018-12-04T17:36:00\",\"2018-12-05T11:48:00\",\"2018-12-05T19:24:00\",\"2018-12-05T21:24:00\",\"2018-12-05T22:36:00\",\"2018-12-06T01:36:00\",\"2018-12-06T07:00:00\",\"2018-12-06T15:00:00\",\"2018-12-07T00:36:00\",\"2018-12-07T13:48:00\",\"2018-12-07T14:36:00\",\"2018-12-07T15:24:00\",\"2018-12-10T11:48:00\",\"2018-12-11T04:24:00\",\"2018-12-11T17:00:00\",\"2018-12-12T02:36:00\",\"2018-12-12T09:48:00\",\"2018-12-12T13:12:00\",\"2018-12-13T05:24:00\",\"2018-12-13T10:00:00\",\"2018-12-13T16:00:00\",\"2018-12-13T22:36:00\",\"2018-12-14T03:24:00\",\"2018-12-14T20:12:00\",\"2018-12-18T08:24:00\",\"2018-12-18T11:00:00\",\"2018-12-18T18:24:00\",\"2018-12-19T01:48:00\",\"2018-12-19T22:12:00\",\"2018-12-20T06:48:00\",\"2018-12-20T18:00:00\",\"2018-12-20T22:00:00\",\"2018-12-21T03:00:00\",\"2018-12-21T09:36:00\",\"2018-12-21T12:24:00\",\"2018-12-24T04:12:00\",\"2018-12-26T07:48:00\",\"2018-12-26T18:12:00\",\"2018-12-26T21:00:00\",\"2018-12-27T04:12:00\",\"2018-12-28T12:24:00\",\"2018-12-28T13:24:00\",\"2018-12-28T17:36:00\",\"2018-12-31T12:12:00\",\"2018-12-31T19:12:00\"],\"y\":[116.71800000000002,116.88000000000001,116.92800000000001,116.92800000000001,116.993,116.662,116.628,116.85000000000001,116.48700000000001,116.06700000000001,116.15899999999999,115.77,115.608,115.85799999999999,116.21999999999998,116.36800000000001,116.214,116.22200000000001,116.19,116.27099999999999,116.131,115.70100000000001,115.94500000000001,115.988,115.83699999999999,115.844,115.891,115.94,115.816,115.938,115.895,116.144,116.24699999999999,116.353,116.263,116.781,116.92800000000001,116.34500000000001,116.84,116.94,116.745,117.15299999999999,116.61500000000001,116.724,116.64099999999999,116.86099999999999,116.71000000000001,116.724,116.716,116.819,117.61299999999999,117.44600000000001,117.39699999999999,117.67,117.55199999999999,117.61699999999999,117.66799999999999,117.652,117.44399999999999,117.74199999999999,117.455,116.47000000000001,116.21900000000001,116.157,116.042,116.11,115.78500000000001,115.76299999999999,115.702,115.411,115.51499999999999,115.869,115.58900000000001,114.927,115.141,115.12,115.05700000000002,115.24300000000001,115.12800000000001,114.804,114.896,114.95200000000001,114.76599999999999,114.82900000000001,114.934,115.12599999999999,115.26,115.357,115.451,115.74199999999999,115.757,115.635,115.76599999999999,115.86399999999999,115.73,115.67099999999999,115.872,116.136,115.737,115.56200000000001,115.46799999999999,115.16999999999999,114.94800000000001,114.577,114.44300000000001,114.727,114.99999999999999,115.107,114.94500000000001,114.66000000000001,114.58999999999999,114.812,114.8,114.81300000000002,114.703,113.967,114.085,114.162,113.798,113.742,113.67,113.667,113.44099999999999,114.018,113.88100000000001,114.07799999999999,113.92599999999999,113.794,113.7,113.71100000000001,113.72500000000001,113.78699999999999,113.65899999999999,113.632,113.524,113.436,113.402,113.50899999999999,113.375,113.16,113.161,113.293,114.016,114.23700000000001,114.208,113.947,113.82600000000001,114.00999999999999,114.093,114.114,114.17399999999999,114.327,114.135,114.211,114.578,114.395,114.22300000000001,114.304,113.919,113.49499999999999,113.236,112.65899999999999,112.44400000000002,112.445,112.24700000000001,112.663,112.895,113.035,112.845,113.23,113.31700000000001,114.041,114.114,114.17600000000002,114.46099999999998,114.56900000000002,114.32,113.72800000000001,113.93200000000002,113.974,114.05499999999999,114.09499999999998,113.694,113.336,113.44000000000001,113.337,113.11500000000001,112.957,112.937,112.963,112.75,113.51100000000001,113.77,113.802,113.541,113.777,113.805,113.41600000000001,113.22000000000001,113.552,113.53899999999999,113.54299999999999,113.57900000000001,113.364,113.50800000000001,113.45700000000001,113.41499999999999,113.448,113.469,113.529,113.748,113.799,113.66799999999999,114.02000000000001,114.113,113.652,113.30499999999999,113.29400000000001,113.233,113.36299999999999,113.70800000000001,113.869,113.63499999999999,113.622,113.577,112.97299999999998,113.422,113.718,113.673,113.751,113.76599999999999,113.85000000000001,114.168,114.683,114.48700000000001,114.723,114.212,113.796,114.019,114.06099999999999,113.61000000000001,113.83399999999999,114.626,114.64000000000001,114.433,114.42000000000002,114.501]}],                        {\"template\":{\"data\":{\"bar\":[{\"error_x\":{\"color\":\"#2a3f5f\"},\"error_y\":{\"color\":\"#2a3f5f\"},\"marker\":{\"line\":{\"color\":\"#E5ECF6\",\"width\":0.5},\"pattern\":{\"fillmode\":\"overlay\",\"size\":10,\"solidity\":0.2}},\"type\":\"bar\"}],\"barpolar\":[{\"marker\":{\"line\":{\"color\":\"#E5ECF6\",\"width\":0.5},\"pattern\":{\"fillmode\":\"overlay\",\"size\":10,\"solidity\":0.2}},\"type\":\"barpolar\"}],\"carpet\":[{\"aaxis\":{\"endlinecolor\":\"#2a3f5f\",\"gridcolor\":\"white\",\"linecolor\":\"white\",\"minorgridcolor\":\"white\",\"startlinecolor\":\"#2a3f5f\"},\"baxis\":{\"endlinecolor\":\"#2a3f5f\",\"gridcolor\":\"white\",\"linecolor\":\"white\",\"minorgridcolor\":\"white\",\"startlinecolor\":\"#2a3f5f\"},\"type\":\"carpet\"}],\"choropleth\":[{\"colorbar\":{\"outlinewidth\":0,\"ticks\":\"\"},\"type\":\"choropleth\"}],\"contour\":[{\"colorbar\":{\"outlinewidth\":0,\"ticks\":\"\"},\"colorscale\":[[0.0,\"#0d0887\"],[0.1111111111111111,\"#46039f\"],[0.2222222222222222,\"#7201a8\"],[0.3333333333333333,\"#9c179e\"],[0.4444444444444444,\"#bd3786\"],[0.5555555555555556,\"#d8576b\"],[0.6666666666666666,\"#ed7953\"],[0.7777777777777778,\"#fb9f3a\"],[0.8888888888888888,\"#fdca26\"],[1.0,\"#f0f921\"]],\"type\":\"contour\"}],\"contourcarpet\":[{\"colorbar\":{\"outlinewidth\":0,\"ticks\":\"\"},\"type\":\"contourcarpet\"}],\"heatmap\":[{\"colorbar\":{\"outlinewidth\":0,\"ticks\":\"\"},\"colorscale\":[[0.0,\"#0d0887\"],[0.1111111111111111,\"#46039f\"],[0.2222222222222222,\"#7201a8\"],[0.3333333333333333,\"#9c179e\"],[0.4444444444444444,\"#bd3786\"],[0.5555555555555556,\"#d8576b\"],[0.6666666666666666,\"#ed7953\"],[0.7777777777777778,\"#fb9f3a\"],[0.8888888888888888,\"#fdca26\"],[1.0,\"#f0f921\"]],\"type\":\"heatmap\"}],\"heatmapgl\":[{\"colorbar\":{\"outlinewidth\":0,\"ticks\":\"\"},\"colorscale\":[[0.0,\"#0d0887\"],[0.1111111111111111,\"#46039f\"],[0.2222222222222222,\"#7201a8\"],[0.3333333333333333,\"#9c179e\"],[0.4444444444444444,\"#bd3786\"],[0.5555555555555556,\"#d8576b\"],[0.6666666666666666,\"#ed7953\"],[0.7777777777777778,\"#fb9f3a\"],[0.8888888888888888,\"#fdca26\"],[1.0,\"#f0f921\"]],\"type\":\"heatmapgl\"}],\"histogram\":[{\"marker\":{\"pattern\":{\"fillmode\":\"overlay\",\"size\":10,\"solidity\":0.2}},\"type\":\"histogram\"}],\"histogram2d\":[{\"colorbar\":{\"outlinewidth\":0,\"ticks\":\"\"},\"colorscale\":[[0.0,\"#0d0887\"],[0.1111111111111111,\"#46039f\"],[0.2222222222222222,\"#7201a8\"],[0.3333333333333333,\"#9c179e\"],[0.4444444444444444,\"#bd3786\"],[0.5555555555555556,\"#d8576b\"],[0.6666666666666666,\"#ed7953\"],[0.7777777777777778,\"#fb9f3a\"],[0.8888888888888888,\"#fdca26\"],[1.0,\"#f0f921\"]],\"type\":\"histogram2d\"}],\"histogram2dcontour\":[{\"colorbar\":{\"outlinewidth\":0,\"ticks\":\"\"},\"colorscale\":[[0.0,\"#0d0887\"],[0.1111111111111111,\"#46039f\"],[0.2222222222222222,\"#7201a8\"],[0.3333333333333333,\"#9c179e\"],[0.4444444444444444,\"#bd3786\"],[0.5555555555555556,\"#d8576b\"],[0.6666666666666666,\"#ed7953\"],[0.7777777777777778,\"#fb9f3a\"],[0.8888888888888888,\"#fdca26\"],[1.0,\"#f0f921\"]],\"type\":\"histogram2dcontour\"}],\"mesh3d\":[{\"colorbar\":{\"outlinewidth\":0,\"ticks\":\"\"},\"type\":\"mesh3d\"}],\"parcoords\":[{\"line\":{\"colorbar\":{\"outlinewidth\":0,\"ticks\":\"\"}},\"type\":\"parcoords\"}],\"pie\":[{\"automargin\":true,\"type\":\"pie\"}],\"scatter\":[{\"marker\":{\"colorbar\":{\"outlinewidth\":0,\"ticks\":\"\"}},\"type\":\"scatter\"}],\"scatter3d\":[{\"line\":{\"colorbar\":{\"outlinewidth\":0,\"ticks\":\"\"}},\"marker\":{\"colorbar\":{\"outlinewidth\":0,\"ticks\":\"\"}},\"type\":\"scatter3d\"}],\"scattercarpet\":[{\"marker\":{\"colorbar\":{\"outlinewidth\":0,\"ticks\":\"\"}},\"type\":\"scattercarpet\"}],\"scattergeo\":[{\"marker\":{\"colorbar\":{\"outlinewidth\":0,\"ticks\":\"\"}},\"type\":\"scattergeo\"}],\"scattergl\":[{\"marker\":{\"colorbar\":{\"outlinewidth\":0,\"ticks\":\"\"}},\"type\":\"scattergl\"}],\"scattermapbox\":[{\"marker\":{\"colorbar\":{\"outlinewidth\":0,\"ticks\":\"\"}},\"type\":\"scattermapbox\"}],\"scatterpolar\":[{\"marker\":{\"colorbar\":{\"outlinewidth\":0,\"ticks\":\"\"}},\"type\":\"scatterpolar\"}],\"scatterpolargl\":[{\"marker\":{\"colorbar\":{\"outlinewidth\":0,\"ticks\":\"\"}},\"type\":\"scatterpolargl\"}],\"scatterternary\":[{\"marker\":{\"colorbar\":{\"outlinewidth\":0,\"ticks\":\"\"}},\"type\":\"scatterternary\"}],\"surface\":[{\"colorbar\":{\"outlinewidth\":0,\"ticks\":\"\"},\"colorscale\":[[0.0,\"#0d0887\"],[0.1111111111111111,\"#46039f\"],[0.2222222222222222,\"#7201a8\"],[0.3333333333333333,\"#9c179e\"],[0.4444444444444444,\"#bd3786\"],[0.5555555555555556,\"#d8576b\"],[0.6666666666666666,\"#ed7953\"],[0.7777777777777778,\"#fb9f3a\"],[0.8888888888888888,\"#fdca26\"],[1.0,\"#f0f921\"]],\"type\":\"surface\"}],\"table\":[{\"cells\":{\"fill\":{\"color\":\"#EBF0F8\"},\"line\":{\"color\":\"white\"}},\"header\":{\"fill\":{\"color\":\"#C8D4E3\"},\"line\":{\"color\":\"white\"}},\"type\":\"table\"}]},\"layout\":{\"annotationdefaults\":{\"arrowcolor\":\"#2a3f5f\",\"arrowhead\":0,\"arrowwidth\":1},\"autotypenumbers\":\"strict\",\"coloraxis\":{\"colorbar\":{\"outlinewidth\":0,\"ticks\":\"\"}},\"colorscale\":{\"diverging\":[[0,\"#8e0152\"],[0.1,\"#c51b7d\"],[0.2,\"#de77ae\"],[0.3,\"#f1b6da\"],[0.4,\"#fde0ef\"],[0.5,\"#f7f7f7\"],[0.6,\"#e6f5d0\"],[0.7,\"#b8e186\"],[0.8,\"#7fbc41\"],[0.9,\"#4d9221\"],[1,\"#276419\"]],\"sequential\":[[0.0,\"#0d0887\"],[0.1111111111111111,\"#46039f\"],[0.2222222222222222,\"#7201a8\"],[0.3333333333333333,\"#9c179e\"],[0.4444444444444444,\"#bd3786\"],[0.5555555555555556,\"#d8576b\"],[0.6666666666666666,\"#ed7953\"],[0.7777777777777778,\"#fb9f3a\"],[0.8888888888888888,\"#fdca26\"],[1.0,\"#f0f921\"]],\"sequentialminus\":[[0.0,\"#0d0887\"],[0.1111111111111111,\"#46039f\"],[0.2222222222222222,\"#7201a8\"],[0.3333333333333333,\"#9c179e\"],[0.4444444444444444,\"#bd3786\"],[0.5555555555555556,\"#d8576b\"],[0.6666666666666666,\"#ed7953\"],[0.7777777777777778,\"#fb9f3a\"],[0.8888888888888888,\"#fdca26\"],[1.0,\"#f0f921\"]]},\"colorway\":[\"#636efa\",\"#EF553B\",\"#00cc96\",\"#ab63fa\",\"#FFA15A\",\"#19d3f3\",\"#FF6692\",\"#B6E880\",\"#FF97FF\",\"#FECB52\"],\"font\":{\"color\":\"#2a3f5f\"},\"geo\":{\"bgcolor\":\"white\",\"lakecolor\":\"white\",\"landcolor\":\"#E5ECF6\",\"showlakes\":true,\"showland\":true,\"subunitcolor\":\"white\"},\"hoverlabel\":{\"align\":\"left\"},\"hovermode\":\"closest\",\"mapbox\":{\"style\":\"light\"},\"paper_bgcolor\":\"white\",\"plot_bgcolor\":\"#E5ECF6\",\"polar\":{\"angularaxis\":{\"gridcolor\":\"white\",\"linecolor\":\"white\",\"ticks\":\"\"},\"bgcolor\":\"#E5ECF6\",\"radialaxis\":{\"gridcolor\":\"white\",\"linecolor\":\"white\",\"ticks\":\"\"}},\"scene\":{\"xaxis\":{\"backgroundcolor\":\"#E5ECF6\",\"gridcolor\":\"white\",\"gridwidth\":2,\"linecolor\":\"white\",\"showbackground\":true,\"ticks\":\"\",\"zerolinecolor\":\"white\"},\"yaxis\":{\"backgroundcolor\":\"#E5ECF6\",\"gridcolor\":\"white\",\"gridwidth\":2,\"linecolor\":\"white\",\"showbackground\":true,\"ticks\":\"\",\"zerolinecolor\":\"white\"},\"zaxis\":{\"backgroundcolor\":\"#E5ECF6\",\"gridcolor\":\"white\",\"gridwidth\":2,\"linecolor\":\"white\",\"showbackground\":true,\"ticks\":\"\",\"zerolinecolor\":\"white\"}},\"shapedefaults\":{\"line\":{\"color\":\"#2a3f5f\"}},\"ternary\":{\"aaxis\":{\"gridcolor\":\"white\",\"linecolor\":\"white\",\"ticks\":\"\"},\"baxis\":{\"gridcolor\":\"white\",\"linecolor\":\"white\",\"ticks\":\"\"},\"bgcolor\":\"#E5ECF6\",\"caxis\":{\"gridcolor\":\"white\",\"linecolor\":\"white\",\"ticks\":\"\"}},\"title\":{\"x\":0.05},\"xaxis\":{\"automargin\":true,\"gridcolor\":\"white\",\"linecolor\":\"white\",\"ticks\":\"\",\"title\":{\"standoff\":15},\"zerolinecolor\":\"white\",\"zerolinewidth\":2},\"yaxis\":{\"automargin\":true,\"gridcolor\":\"white\",\"linecolor\":\"white\",\"ticks\":\"\",\"title\":{\"standoff\":15},\"zerolinecolor\":\"white\",\"zerolinewidth\":2}}},\"title\":{\"text\":\"Exposure\"},\"xaxis\":{\"title\":{\"text\":\"Date\"}},\"yaxis\":{\"title\":{\"text\":\"$\"}}},                        {\"responsive\": true}                    ).then(function(){\n",
       "                            \n",
       "var gd = document.getElementById('54202e98-b9b4-472a-9704-e0bf22ee11d8');\n",
       "var x = new MutationObserver(function (mutations, observer) {{\n",
       "        var display = window.getComputedStyle(gd).display;\n",
       "        if (!display || display === 'none') {{\n",
       "            console.log([gd, 'removed!']);\n",
       "            Plotly.purge(gd);\n",
       "            observer.disconnect();\n",
       "        }}\n",
       "}});\n",
       "\n",
       "// Listen for the removal of the full notebook cells\n",
       "var notebookContainer = gd.closest('#notebook-container');\n",
       "if (notebookContainer) {{\n",
       "    x.observe(notebookContainer, {childList: true});\n",
       "}}\n",
       "\n",
       "// Listen for the clearing of the current output cell\n",
       "var outputEl = gd.closest('.output');\n",
       "if (outputEl) {{\n",
       "    x.observe(outputEl, {childList: true});\n",
       "}}\n",
       "\n",
       "                        })                };                });            </script>        </div>"
      ]
     },
     "metadata": {},
     "output_type": "display_data"
    }
   ],
   "source": [
    "# EXPOSURE\n",
    "fig = go.Figure([go.Scatter(x=earnings_df_ma['time'], y=earnings_df_ma['exposure'],\n",
    "                         line = dict(color='teal', width=3))])\n",
    "fig.update_layout(title='Exposure',\n",
    "                   xaxis_title='Date',\n",
    "                   yaxis_title='$')\n",
    "fig.show()"
   ]
  },
  {
   "cell_type": "code",
   "execution_count": 56,
   "metadata": {},
   "outputs": [
    {
     "data": {
      "application/vnd.plotly.v1+json": {
       "config": {
        "plotlyServerURL": "https://plot.ly"
       },
       "data": [
        {
         "line": {
          "color": "indigo",
          "width": 3
         },
         "type": "scatter",
         "x": [
          "2018-08-28T06:36:00",
          "2018-08-28T11:12:00",
          "2018-08-28T22:24:00",
          "2018-08-29T17:48:00",
          "2018-08-30T06:24:00",
          "2018-08-31T00:00:00",
          "2018-08-31T05:48:00",
          "2018-08-31T08:00:00",
          "2018-08-31T14:12:00",
          "2018-09-03T08:12:00",
          "2018-09-04T01:24:00",
          "2018-09-04T20:36:00",
          "2018-09-05T10:00:00",
          "2018-09-05T15:36:00",
          "2018-09-06T08:48:00",
          "2018-09-06T16:00:00",
          "2018-09-06T19:36:00",
          "2018-09-07T03:36:00",
          "2018-09-07T04:00:00",
          "2018-09-07T08:00:00",
          "2018-09-07T15:12:00",
          "2018-09-10T11:48:00",
          "2018-09-11T00:00:00",
          "2018-09-11T08:24:00",
          "2018-09-11T14:24:00",
          "2018-09-11T21:48:00",
          "2018-09-12T05:48:00",
          "2018-09-12T12:48:00",
          "2018-09-12T15:12:00",
          "2018-09-12T16:00:00",
          "2018-09-12T16:24:00",
          "2018-09-12T17:00:00",
          "2018-09-13T02:48:00",
          "2018-09-13T04:12:00",
          "2018-09-13T09:24:00",
          "2018-09-13T15:48:00",
          "2018-09-14T15:12:00",
          "2018-09-17T05:48:00",
          "2018-09-18T00:24:00",
          "2018-09-18T07:00:00",
          "2018-09-18T13:12:00",
          "2018-09-18T16:24:00",
          "2018-09-18T20:12:00",
          "2018-09-19T03:12:00",
          "2018-09-19T06:00:00",
          "2018-09-19T08:48:00",
          "2018-09-19T16:00:00",
          "2018-09-19T22:12:00",
          "2018-09-19T23:48:00",
          "2018-09-20T05:00:00",
          "2018-09-21T13:48:00",
          "2018-09-24T01:00:00",
          "2018-09-24T05:12:00",
          "2018-09-24T11:48:00",
          "2018-09-24T21:00:00",
          "2018-09-25T10:24:00",
          "2018-09-25T21:24:00",
          "2018-09-26T09:12:00",
          "2018-09-26T14:12:00",
          "2018-09-26T21:00:00",
          "2018-09-27T01:24:00",
          "2018-09-28T06:48:00",
          "2018-09-28T10:12:00",
          "2018-09-28T19:24:00",
          "2018-10-01T02:12:00",
          "2018-10-01T13:12:00",
          "2018-10-01T18:12:00",
          "2018-10-02T02:48:00",
          "2018-10-02T05:12:00",
          "2018-10-02T17:36:00",
          "2018-10-03T02:24:00",
          "2018-10-03T05:00:00",
          "2018-10-03T13:24:00",
          "2018-10-04T10:48:00",
          "2018-10-04T21:48:00",
          "2018-10-05T00:24:00",
          "2018-10-05T06:36:00",
          "2018-10-05T16:12:00",
          "2018-10-08T05:36:00",
          "2018-10-08T20:24:00",
          "2018-10-09T06:12:00",
          "2018-10-09T08:12:00",
          "2018-10-09T09:36:00",
          "2018-10-09T19:00:00",
          "2018-10-10T10:48:00",
          "2018-10-10T16:36:00",
          "2018-10-11T00:48:00",
          "2018-10-11T03:36:00",
          "2018-10-11T11:48:00",
          "2018-10-11T14:36:00",
          "2018-10-12T11:12:00",
          "2018-10-15T09:48:00",
          "2018-10-15T20:48:00",
          "2018-10-16T03:36:00",
          "2018-10-16T07:12:00",
          "2018-10-16T12:12:00",
          "2018-10-16T15:48:00",
          "2018-10-16T16:00:00",
          "2018-10-16T20:48:00",
          "2018-10-17T13:24:00",
          "2018-10-17T13:48:00",
          "2018-10-18T11:48:00",
          "2018-10-18T17:24:00",
          "2018-10-19T06:00:00",
          "2018-10-19T10:24:00",
          "2018-10-19T14:36:00",
          "2018-10-22T04:00:00",
          "2018-10-22T08:00:00",
          "2018-10-22T14:12:00",
          "2018-10-23T11:48:00",
          "2018-10-23T17:48:00",
          "2018-10-23T18:12:00",
          "2018-10-23T19:12:00",
          "2018-10-23T19:48:00",
          "2018-10-24T00:36:00",
          "2018-10-25T01:36:00",
          "2018-10-25T12:48:00",
          "2018-10-25T15:12:00",
          "2018-10-25T16:48:00",
          "2018-10-26T02:00:00",
          "2018-10-26T06:36:00",
          "2018-10-26T11:12:00",
          "2018-10-26T14:00:00",
          "2018-10-26T19:00:00",
          "2018-10-29T03:24:00",
          "2018-10-29T09:48:00",
          "2018-10-29T14:00:00",
          "2018-10-29T15:24:00",
          "2018-10-29T16:00:00",
          "2018-10-29T23:00:00",
          "2018-10-30T00:00:00",
          "2018-10-30T06:24:00",
          "2018-10-30T09:36:00",
          "2018-10-30T17:48:00",
          "2018-10-30T19:36:00",
          "2018-10-31T05:00:00",
          "2018-10-31T06:12:00",
          "2018-10-31T10:12:00",
          "2018-10-31T14:00:00",
          "2018-11-01T00:36:00",
          "2018-11-01T01:36:00",
          "2018-11-01T03:00:00",
          "2018-11-02T01:36:00",
          "2018-11-02T07:48:00",
          "2018-11-02T16:36:00",
          "2018-11-05T02:48:00",
          "2018-11-05T05:48:00",
          "2018-11-05T18:00:00",
          "2018-11-06T05:00:00",
          "2018-11-06T10:24:00",
          "2018-11-06T14:48:00",
          "2018-11-06T15:36:00",
          "2018-11-06T21:36:00",
          "2018-11-07T01:00:00",
          "2018-11-07T18:48:00",
          "2018-11-08T10:24:00",
          "2018-11-08T11:48:00",
          "2018-11-08T17:36:00",
          "2018-11-08T19:48:00",
          "2018-11-09T15:00:00",
          "2018-11-09T19:12:00",
          "2018-11-12T17:36:00",
          "2018-11-12T19:24:00",
          "2018-11-13T05:48:00",
          "2018-11-13T12:12:00",
          "2018-11-13T14:36:00",
          "2018-11-14T07:48:00",
          "2018-11-14T16:36:00",
          "2018-11-15T12:12:00",
          "2018-11-15T19:36:00",
          "2018-11-16T14:00:00",
          "2018-11-16T16:12:00",
          "2018-11-19T04:12:00",
          "2018-11-19T11:12:00",
          "2018-11-20T03:48:00",
          "2018-11-20T09:48:00",
          "2018-11-20T11:36:00",
          "2018-11-21T04:48:00",
          "2018-11-21T20:00:00",
          "2018-11-22T04:24:00",
          "2018-11-22T17:48:00",
          "2018-11-23T05:00:00",
          "2018-11-23T10:48:00",
          "2018-11-26T02:48:00",
          "2018-11-26T17:12:00",
          "2018-11-27T05:00:00",
          "2018-11-27T10:12:00",
          "2018-11-28T02:12:00",
          "2018-11-28T05:00:00",
          "2018-11-28T07:36:00",
          "2018-11-28T10:00:00",
          "2018-11-28T19:00:00",
          "2018-11-29T05:48:00",
          "2018-11-29T06:00:00",
          "2018-11-29T12:36:00",
          "2018-11-29T17:24:00",
          "2018-11-30T09:48:00",
          "2018-12-03T01:48:00",
          "2018-12-03T13:24:00",
          "2018-12-03T19:24:00",
          "2018-12-04T01:00:00",
          "2018-12-04T01:12:00",
          "2018-12-04T17:36:00",
          "2018-12-05T11:48:00",
          "2018-12-05T19:24:00",
          "2018-12-05T21:24:00",
          "2018-12-05T22:36:00",
          "2018-12-06T01:36:00",
          "2018-12-06T07:00:00",
          "2018-12-06T15:00:00",
          "2018-12-07T00:36:00",
          "2018-12-07T13:48:00",
          "2018-12-07T14:36:00",
          "2018-12-07T15:24:00",
          "2018-12-10T11:48:00",
          "2018-12-11T04:24:00",
          "2018-12-11T17:00:00",
          "2018-12-12T02:36:00",
          "2018-12-12T09:48:00",
          "2018-12-12T13:12:00",
          "2018-12-13T05:24:00",
          "2018-12-13T10:00:00",
          "2018-12-13T16:00:00",
          "2018-12-13T22:36:00",
          "2018-12-14T03:24:00",
          "2018-12-14T20:12:00",
          "2018-12-18T08:24:00",
          "2018-12-18T11:00:00",
          "2018-12-18T18:24:00",
          "2018-12-19T01:48:00",
          "2018-12-19T22:12:00",
          "2018-12-20T06:48:00",
          "2018-12-20T18:00:00",
          "2018-12-20T22:00:00",
          "2018-12-21T03:00:00",
          "2018-12-21T09:36:00",
          "2018-12-21T12:24:00",
          "2018-12-24T04:12:00",
          "2018-12-26T07:48:00",
          "2018-12-26T18:12:00",
          "2018-12-26T21:00:00",
          "2018-12-27T04:12:00",
          "2018-12-28T12:24:00",
          "2018-12-28T13:24:00",
          "2018-12-28T17:36:00",
          "2018-12-31T12:12:00",
          "2018-12-31T19:12:00"
         ],
         "y": [
          1.2110000000000065,
          2.415999999999996,
          3.622000000000014,
          1.2150000000000105,
          2.4359999999999937,
          3.605999999999998,
          4.793000000000003,
          6.027999999999989,
          7.197999999999993,
          8.558999999999983,
          9.84999999999998,
          11.009999999999986,
          8.662999999999975,
          9.859999999999978,
          11.055999999999976,
          12.262999999999979,
          13.452999999999982,
          14.658999999999978,
          15.824999999999978,
          17.128999999999994,
          18.39200000000001,
          19.554000000000006,
          20.744000000000007,
          21.943,
          23.117999999999995,
          24.329,
          25.50100000000002,
          26.68700000000002,
          27.86000000000002,
          29.04800000000001,
          30.224000000000007,
          31.508000000000003,
          32.670999999999985,
          33.893,
          35.06800000000001,
          36.24200000000002,
          37.43700000000003,
          38.66700000000003,
          39.86700000000003,
          37.448000000000036,
          38.63000000000005,
          36.23200000000006,
          37.46800000000005,
          38.699000000000055,
          39.87200000000006,
          41.09600000000006,
          42.27200000000006,
          43.503000000000064,
          44.68500000000006,
          45.95100000000005,
          47.15600000000004,
          44.79800000000002,
          45.98600000000001,
          43.629000000000005,
          44.828999999999986,
          42.42599999999999,
          43.602999999999994,
          41.23999999999999,
          42.41699999999997,
          40.05399999999999,
          41.241999999999976,
          38.89599999999997,
          40.09099999999999,
          37.755999999999986,
          38.92999999999999,
          36.579999999999984,
          37.762999999999984,
          35.44099999999998,
          36.62199999999997,
          34.28199999999998,
          35.46099999999998,
          33.13599999999998,
          34.361999999999995,
          35.57099999999999,
          36.725,
          34.367999999999995,
          35.54000000000001,
          33.059999999999995,
          34.26900000000001,
          35.42300000000002,
          36.59200000000002,
          37.776,
          38.93699999999999,
          40.088999999999984,
          41.26299999999999,
          38.899999999999984,
          40.06099999999999,
          37.74799999999998,
          38.91999999999998,
          36.54799999999999,
          37.71099999999999,
          35.387999999999984,
          36.55999999999998,
          34.239999999999995,
          35.41,
          33.050999999999995,
          34.22199999999998,
          31.88999999999998,
          33.066999999999986,
          30.720999999999982,
          31.90999999999998,
          29.502999999999975,
          30.65299999999998,
          28.324999999999985,
          29.551999999999985,
          27.244999999999994,
          28.422999999999984,
          26.078999999999972,
          27.263999999999985,
          24.96699999999997,
          26.11599999999997,
          23.723999999999975,
          24.918999999999965,
          22.525999999999964,
          23.684999999999963,
          23.684999999999963,
          25.006999999999962,
          25.006999999999962,
          26.213999999999963,
          27.378999999999955,
          28.518999999999963,
          29.656999999999957,
          30.84899999999995,
          30.84899999999995,
          32.01299999999996,
          32.01299999999996,
          33.175999999999966,
          34.31799999999996,
          35.487999999999964,
          36.64599999999996,
          37.84099999999997,
          38.989999999999974,
          40.228999999999964,
          41.36599999999997,
          42.52699999999999,
          43.725999999999985,
          44.87899999999999,
          46.023,
          47.187999999999995,
          48.404999999999994,
          48.404999999999994,
          49.541,
          50.79400000000001,
          50.79400000000001,
          51.96700000000001,
          51.96700000000001,
          53.20200000000002,
          53.20200000000002,
          54.532000000000025,
          54.532000000000025,
          55.94300000000003,
          55.94300000000003,
          57.315000000000055,
          57.315000000000055,
          58.47300000000005,
          58.47300000000005,
          59.62000000000006,
          59.62000000000006,
          60.77600000000006,
          61.96100000000008,
          61.96100000000008,
          63.184000000000076,
          60.894000000000084,
          62.0620000000001,
          59.769000000000105,
          60.9880000000001,
          60.9880000000001,
          62.12900000000011,
          62.12900000000011,
          63.27500000000011,
          63.27500000000011,
          63.27500000000011,
          64.42500000000013,
          64.42500000000013,
          65.57200000000012,
          65.57200000000012,
          66.78000000000013,
          66.78000000000013,
          67.94100000000014,
          67.94100000000014,
          69.10100000000016,
          69.10100000000016,
          69.10100000000016,
          70.45600000000017,
          70.45600000000017,
          71.81000000000019,
          71.81000000000019,
          73.01000000000019,
          73.01000000000019,
          74.20400000000019,
          74.20400000000019,
          75.3840000000002,
          75.3840000000002,
          75.3840000000002,
          75.3840000000002,
          75.3840000000002,
          75.3840000000002,
          76.6590000000002,
          76.6590000000002,
          77.7980000000002,
          77.7980000000002,
          78.94600000000021,
          78.94600000000021,
          80.27300000000022,
          80.27300000000022,
          81.50700000000023,
          81.50700000000023,
          82.75000000000026,
          82.75000000000026,
          83.91200000000028,
          83.91200000000028,
          83.91200000000028,
          83.91200000000028,
          83.91200000000028,
          85.11300000000028,
          86.27200000000028,
          86.27200000000028,
          87.41300000000027,
          87.41300000000027,
          88.74100000000028,
          88.74100000000028,
          88.74100000000028,
          88.74100000000028,
          89.89400000000029,
          89.89400000000029,
          91.0270000000003,
          91.0270000000003,
          91.0270000000003,
          91.0270000000003,
          91.0270000000003,
          91.0270000000003,
          91.0270000000003,
          91.0270000000003,
          91.0270000000003,
          91.0270000000003,
          91.0270000000003,
          91.0270000000003,
          91.0270000000003,
          91.0270000000003,
          91.0270000000003,
          91.0270000000003,
          91.0270000000003,
          91.0270000000003,
          91.0270000000003,
          91.0270000000003,
          91.0270000000003,
          91.0270000000003
         ]
        }
       ],
       "layout": {
        "template": {
         "data": {
          "bar": [
           {
            "error_x": {
             "color": "#2a3f5f"
            },
            "error_y": {
             "color": "#2a3f5f"
            },
            "marker": {
             "line": {
              "color": "#E5ECF6",
              "width": 0.5
             },
             "pattern": {
              "fillmode": "overlay",
              "size": 10,
              "solidity": 0.2
             }
            },
            "type": "bar"
           }
          ],
          "barpolar": [
           {
            "marker": {
             "line": {
              "color": "#E5ECF6",
              "width": 0.5
             },
             "pattern": {
              "fillmode": "overlay",
              "size": 10,
              "solidity": 0.2
             }
            },
            "type": "barpolar"
           }
          ],
          "carpet": [
           {
            "aaxis": {
             "endlinecolor": "#2a3f5f",
             "gridcolor": "white",
             "linecolor": "white",
             "minorgridcolor": "white",
             "startlinecolor": "#2a3f5f"
            },
            "baxis": {
             "endlinecolor": "#2a3f5f",
             "gridcolor": "white",
             "linecolor": "white",
             "minorgridcolor": "white",
             "startlinecolor": "#2a3f5f"
            },
            "type": "carpet"
           }
          ],
          "choropleth": [
           {
            "colorbar": {
             "outlinewidth": 0,
             "ticks": ""
            },
            "type": "choropleth"
           }
          ],
          "contour": [
           {
            "colorbar": {
             "outlinewidth": 0,
             "ticks": ""
            },
            "colorscale": [
             [
              0,
              "#0d0887"
             ],
             [
              0.1111111111111111,
              "#46039f"
             ],
             [
              0.2222222222222222,
              "#7201a8"
             ],
             [
              0.3333333333333333,
              "#9c179e"
             ],
             [
              0.4444444444444444,
              "#bd3786"
             ],
             [
              0.5555555555555556,
              "#d8576b"
             ],
             [
              0.6666666666666666,
              "#ed7953"
             ],
             [
              0.7777777777777778,
              "#fb9f3a"
             ],
             [
              0.8888888888888888,
              "#fdca26"
             ],
             [
              1,
              "#f0f921"
             ]
            ],
            "type": "contour"
           }
          ],
          "contourcarpet": [
           {
            "colorbar": {
             "outlinewidth": 0,
             "ticks": ""
            },
            "type": "contourcarpet"
           }
          ],
          "heatmap": [
           {
            "colorbar": {
             "outlinewidth": 0,
             "ticks": ""
            },
            "colorscale": [
             [
              0,
              "#0d0887"
             ],
             [
              0.1111111111111111,
              "#46039f"
             ],
             [
              0.2222222222222222,
              "#7201a8"
             ],
             [
              0.3333333333333333,
              "#9c179e"
             ],
             [
              0.4444444444444444,
              "#bd3786"
             ],
             [
              0.5555555555555556,
              "#d8576b"
             ],
             [
              0.6666666666666666,
              "#ed7953"
             ],
             [
              0.7777777777777778,
              "#fb9f3a"
             ],
             [
              0.8888888888888888,
              "#fdca26"
             ],
             [
              1,
              "#f0f921"
             ]
            ],
            "type": "heatmap"
           }
          ],
          "heatmapgl": [
           {
            "colorbar": {
             "outlinewidth": 0,
             "ticks": ""
            },
            "colorscale": [
             [
              0,
              "#0d0887"
             ],
             [
              0.1111111111111111,
              "#46039f"
             ],
             [
              0.2222222222222222,
              "#7201a8"
             ],
             [
              0.3333333333333333,
              "#9c179e"
             ],
             [
              0.4444444444444444,
              "#bd3786"
             ],
             [
              0.5555555555555556,
              "#d8576b"
             ],
             [
              0.6666666666666666,
              "#ed7953"
             ],
             [
              0.7777777777777778,
              "#fb9f3a"
             ],
             [
              0.8888888888888888,
              "#fdca26"
             ],
             [
              1,
              "#f0f921"
             ]
            ],
            "type": "heatmapgl"
           }
          ],
          "histogram": [
           {
            "marker": {
             "pattern": {
              "fillmode": "overlay",
              "size": 10,
              "solidity": 0.2
             }
            },
            "type": "histogram"
           }
          ],
          "histogram2d": [
           {
            "colorbar": {
             "outlinewidth": 0,
             "ticks": ""
            },
            "colorscale": [
             [
              0,
              "#0d0887"
             ],
             [
              0.1111111111111111,
              "#46039f"
             ],
             [
              0.2222222222222222,
              "#7201a8"
             ],
             [
              0.3333333333333333,
              "#9c179e"
             ],
             [
              0.4444444444444444,
              "#bd3786"
             ],
             [
              0.5555555555555556,
              "#d8576b"
             ],
             [
              0.6666666666666666,
              "#ed7953"
             ],
             [
              0.7777777777777778,
              "#fb9f3a"
             ],
             [
              0.8888888888888888,
              "#fdca26"
             ],
             [
              1,
              "#f0f921"
             ]
            ],
            "type": "histogram2d"
           }
          ],
          "histogram2dcontour": [
           {
            "colorbar": {
             "outlinewidth": 0,
             "ticks": ""
            },
            "colorscale": [
             [
              0,
              "#0d0887"
             ],
             [
              0.1111111111111111,
              "#46039f"
             ],
             [
              0.2222222222222222,
              "#7201a8"
             ],
             [
              0.3333333333333333,
              "#9c179e"
             ],
             [
              0.4444444444444444,
              "#bd3786"
             ],
             [
              0.5555555555555556,
              "#d8576b"
             ],
             [
              0.6666666666666666,
              "#ed7953"
             ],
             [
              0.7777777777777778,
              "#fb9f3a"
             ],
             [
              0.8888888888888888,
              "#fdca26"
             ],
             [
              1,
              "#f0f921"
             ]
            ],
            "type": "histogram2dcontour"
           }
          ],
          "mesh3d": [
           {
            "colorbar": {
             "outlinewidth": 0,
             "ticks": ""
            },
            "type": "mesh3d"
           }
          ],
          "parcoords": [
           {
            "line": {
             "colorbar": {
              "outlinewidth": 0,
              "ticks": ""
             }
            },
            "type": "parcoords"
           }
          ],
          "pie": [
           {
            "automargin": true,
            "type": "pie"
           }
          ],
          "scatter": [
           {
            "marker": {
             "colorbar": {
              "outlinewidth": 0,
              "ticks": ""
             }
            },
            "type": "scatter"
           }
          ],
          "scatter3d": [
           {
            "line": {
             "colorbar": {
              "outlinewidth": 0,
              "ticks": ""
             }
            },
            "marker": {
             "colorbar": {
              "outlinewidth": 0,
              "ticks": ""
             }
            },
            "type": "scatter3d"
           }
          ],
          "scattercarpet": [
           {
            "marker": {
             "colorbar": {
              "outlinewidth": 0,
              "ticks": ""
             }
            },
            "type": "scattercarpet"
           }
          ],
          "scattergeo": [
           {
            "marker": {
             "colorbar": {
              "outlinewidth": 0,
              "ticks": ""
             }
            },
            "type": "scattergeo"
           }
          ],
          "scattergl": [
           {
            "marker": {
             "colorbar": {
              "outlinewidth": 0,
              "ticks": ""
             }
            },
            "type": "scattergl"
           }
          ],
          "scattermapbox": [
           {
            "marker": {
             "colorbar": {
              "outlinewidth": 0,
              "ticks": ""
             }
            },
            "type": "scattermapbox"
           }
          ],
          "scatterpolar": [
           {
            "marker": {
             "colorbar": {
              "outlinewidth": 0,
              "ticks": ""
             }
            },
            "type": "scatterpolar"
           }
          ],
          "scatterpolargl": [
           {
            "marker": {
             "colorbar": {
              "outlinewidth": 0,
              "ticks": ""
             }
            },
            "type": "scatterpolargl"
           }
          ],
          "scatterternary": [
           {
            "marker": {
             "colorbar": {
              "outlinewidth": 0,
              "ticks": ""
             }
            },
            "type": "scatterternary"
           }
          ],
          "surface": [
           {
            "colorbar": {
             "outlinewidth": 0,
             "ticks": ""
            },
            "colorscale": [
             [
              0,
              "#0d0887"
             ],
             [
              0.1111111111111111,
              "#46039f"
             ],
             [
              0.2222222222222222,
              "#7201a8"
             ],
             [
              0.3333333333333333,
              "#9c179e"
             ],
             [
              0.4444444444444444,
              "#bd3786"
             ],
             [
              0.5555555555555556,
              "#d8576b"
             ],
             [
              0.6666666666666666,
              "#ed7953"
             ],
             [
              0.7777777777777778,
              "#fb9f3a"
             ],
             [
              0.8888888888888888,
              "#fdca26"
             ],
             [
              1,
              "#f0f921"
             ]
            ],
            "type": "surface"
           }
          ],
          "table": [
           {
            "cells": {
             "fill": {
              "color": "#EBF0F8"
             },
             "line": {
              "color": "white"
             }
            },
            "header": {
             "fill": {
              "color": "#C8D4E3"
             },
             "line": {
              "color": "white"
             }
            },
            "type": "table"
           }
          ]
         },
         "layout": {
          "annotationdefaults": {
           "arrowcolor": "#2a3f5f",
           "arrowhead": 0,
           "arrowwidth": 1
          },
          "autotypenumbers": "strict",
          "coloraxis": {
           "colorbar": {
            "outlinewidth": 0,
            "ticks": ""
           }
          },
          "colorscale": {
           "diverging": [
            [
             0,
             "#8e0152"
            ],
            [
             0.1,
             "#c51b7d"
            ],
            [
             0.2,
             "#de77ae"
            ],
            [
             0.3,
             "#f1b6da"
            ],
            [
             0.4,
             "#fde0ef"
            ],
            [
             0.5,
             "#f7f7f7"
            ],
            [
             0.6,
             "#e6f5d0"
            ],
            [
             0.7,
             "#b8e186"
            ],
            [
             0.8,
             "#7fbc41"
            ],
            [
             0.9,
             "#4d9221"
            ],
            [
             1,
             "#276419"
            ]
           ],
           "sequential": [
            [
             0,
             "#0d0887"
            ],
            [
             0.1111111111111111,
             "#46039f"
            ],
            [
             0.2222222222222222,
             "#7201a8"
            ],
            [
             0.3333333333333333,
             "#9c179e"
            ],
            [
             0.4444444444444444,
             "#bd3786"
            ],
            [
             0.5555555555555556,
             "#d8576b"
            ],
            [
             0.6666666666666666,
             "#ed7953"
            ],
            [
             0.7777777777777778,
             "#fb9f3a"
            ],
            [
             0.8888888888888888,
             "#fdca26"
            ],
            [
             1,
             "#f0f921"
            ]
           ],
           "sequentialminus": [
            [
             0,
             "#0d0887"
            ],
            [
             0.1111111111111111,
             "#46039f"
            ],
            [
             0.2222222222222222,
             "#7201a8"
            ],
            [
             0.3333333333333333,
             "#9c179e"
            ],
            [
             0.4444444444444444,
             "#bd3786"
            ],
            [
             0.5555555555555556,
             "#d8576b"
            ],
            [
             0.6666666666666666,
             "#ed7953"
            ],
            [
             0.7777777777777778,
             "#fb9f3a"
            ],
            [
             0.8888888888888888,
             "#fdca26"
            ],
            [
             1,
             "#f0f921"
            ]
           ]
          },
          "colorway": [
           "#636efa",
           "#EF553B",
           "#00cc96",
           "#ab63fa",
           "#FFA15A",
           "#19d3f3",
           "#FF6692",
           "#B6E880",
           "#FF97FF",
           "#FECB52"
          ],
          "font": {
           "color": "#2a3f5f"
          },
          "geo": {
           "bgcolor": "white",
           "lakecolor": "white",
           "landcolor": "#E5ECF6",
           "showlakes": true,
           "showland": true,
           "subunitcolor": "white"
          },
          "hoverlabel": {
           "align": "left"
          },
          "hovermode": "closest",
          "mapbox": {
           "style": "light"
          },
          "paper_bgcolor": "white",
          "plot_bgcolor": "#E5ECF6",
          "polar": {
           "angularaxis": {
            "gridcolor": "white",
            "linecolor": "white",
            "ticks": ""
           },
           "bgcolor": "#E5ECF6",
           "radialaxis": {
            "gridcolor": "white",
            "linecolor": "white",
            "ticks": ""
           }
          },
          "scene": {
           "xaxis": {
            "backgroundcolor": "#E5ECF6",
            "gridcolor": "white",
            "gridwidth": 2,
            "linecolor": "white",
            "showbackground": true,
            "ticks": "",
            "zerolinecolor": "white"
           },
           "yaxis": {
            "backgroundcolor": "#E5ECF6",
            "gridcolor": "white",
            "gridwidth": 2,
            "linecolor": "white",
            "showbackground": true,
            "ticks": "",
            "zerolinecolor": "white"
           },
           "zaxis": {
            "backgroundcolor": "#E5ECF6",
            "gridcolor": "white",
            "gridwidth": 2,
            "linecolor": "white",
            "showbackground": true,
            "ticks": "",
            "zerolinecolor": "white"
           }
          },
          "shapedefaults": {
           "line": {
            "color": "#2a3f5f"
           }
          },
          "ternary": {
           "aaxis": {
            "gridcolor": "white",
            "linecolor": "white",
            "ticks": ""
           },
           "baxis": {
            "gridcolor": "white",
            "linecolor": "white",
            "ticks": ""
           },
           "bgcolor": "#E5ECF6",
           "caxis": {
            "gridcolor": "white",
            "linecolor": "white",
            "ticks": ""
           }
          },
          "title": {
           "x": 0.05
          },
          "xaxis": {
           "automargin": true,
           "gridcolor": "white",
           "linecolor": "white",
           "ticks": "",
           "title": {
            "standoff": 15
           },
           "zerolinecolor": "white",
           "zerolinewidth": 2
          },
          "yaxis": {
           "automargin": true,
           "gridcolor": "white",
           "linecolor": "white",
           "ticks": "",
           "title": {
            "standoff": 15
           },
           "zerolinecolor": "white",
           "zerolinewidth": 2
          }
         }
        },
        "title": {
         "text": "Exposure"
        },
        "xaxis": {
         "title": {
          "text": "Date"
         }
        },
        "yaxis": {
         "title": {
          "text": "$"
         }
        }
       }
      },
      "text/html": [
       "<div>                            <div id=\"fa3db375-4f3b-4b9a-9717-ef7102c65849\" class=\"plotly-graph-div\" style=\"height:525px; width:100%;\"></div>            <script type=\"text/javascript\">                require([\"plotly\"], function(Plotly) {                    window.PLOTLYENV=window.PLOTLYENV || {};                                    if (document.getElementById(\"fa3db375-4f3b-4b9a-9717-ef7102c65849\")) {                    Plotly.newPlot(                        \"fa3db375-4f3b-4b9a-9717-ef7102c65849\",                        [{\"line\":{\"color\":\"indigo\",\"width\":3},\"type\":\"scatter\",\"x\":[\"2018-08-28T06:36:00\",\"2018-08-28T11:12:00\",\"2018-08-28T22:24:00\",\"2018-08-29T17:48:00\",\"2018-08-30T06:24:00\",\"2018-08-31T00:00:00\",\"2018-08-31T05:48:00\",\"2018-08-31T08:00:00\",\"2018-08-31T14:12:00\",\"2018-09-03T08:12:00\",\"2018-09-04T01:24:00\",\"2018-09-04T20:36:00\",\"2018-09-05T10:00:00\",\"2018-09-05T15:36:00\",\"2018-09-06T08:48:00\",\"2018-09-06T16:00:00\",\"2018-09-06T19:36:00\",\"2018-09-07T03:36:00\",\"2018-09-07T04:00:00\",\"2018-09-07T08:00:00\",\"2018-09-07T15:12:00\",\"2018-09-10T11:48:00\",\"2018-09-11T00:00:00\",\"2018-09-11T08:24:00\",\"2018-09-11T14:24:00\",\"2018-09-11T21:48:00\",\"2018-09-12T05:48:00\",\"2018-09-12T12:48:00\",\"2018-09-12T15:12:00\",\"2018-09-12T16:00:00\",\"2018-09-12T16:24:00\",\"2018-09-12T17:00:00\",\"2018-09-13T02:48:00\",\"2018-09-13T04:12:00\",\"2018-09-13T09:24:00\",\"2018-09-13T15:48:00\",\"2018-09-14T15:12:00\",\"2018-09-17T05:48:00\",\"2018-09-18T00:24:00\",\"2018-09-18T07:00:00\",\"2018-09-18T13:12:00\",\"2018-09-18T16:24:00\",\"2018-09-18T20:12:00\",\"2018-09-19T03:12:00\",\"2018-09-19T06:00:00\",\"2018-09-19T08:48:00\",\"2018-09-19T16:00:00\",\"2018-09-19T22:12:00\",\"2018-09-19T23:48:00\",\"2018-09-20T05:00:00\",\"2018-09-21T13:48:00\",\"2018-09-24T01:00:00\",\"2018-09-24T05:12:00\",\"2018-09-24T11:48:00\",\"2018-09-24T21:00:00\",\"2018-09-25T10:24:00\",\"2018-09-25T21:24:00\",\"2018-09-26T09:12:00\",\"2018-09-26T14:12:00\",\"2018-09-26T21:00:00\",\"2018-09-27T01:24:00\",\"2018-09-28T06:48:00\",\"2018-09-28T10:12:00\",\"2018-09-28T19:24:00\",\"2018-10-01T02:12:00\",\"2018-10-01T13:12:00\",\"2018-10-01T18:12:00\",\"2018-10-02T02:48:00\",\"2018-10-02T05:12:00\",\"2018-10-02T17:36:00\",\"2018-10-03T02:24:00\",\"2018-10-03T05:00:00\",\"2018-10-03T13:24:00\",\"2018-10-04T10:48:00\",\"2018-10-04T21:48:00\",\"2018-10-05T00:24:00\",\"2018-10-05T06:36:00\",\"2018-10-05T16:12:00\",\"2018-10-08T05:36:00\",\"2018-10-08T20:24:00\",\"2018-10-09T06:12:00\",\"2018-10-09T08:12:00\",\"2018-10-09T09:36:00\",\"2018-10-09T19:00:00\",\"2018-10-10T10:48:00\",\"2018-10-10T16:36:00\",\"2018-10-11T00:48:00\",\"2018-10-11T03:36:00\",\"2018-10-11T11:48:00\",\"2018-10-11T14:36:00\",\"2018-10-12T11:12:00\",\"2018-10-15T09:48:00\",\"2018-10-15T20:48:00\",\"2018-10-16T03:36:00\",\"2018-10-16T07:12:00\",\"2018-10-16T12:12:00\",\"2018-10-16T15:48:00\",\"2018-10-16T16:00:00\",\"2018-10-16T20:48:00\",\"2018-10-17T13:24:00\",\"2018-10-17T13:48:00\",\"2018-10-18T11:48:00\",\"2018-10-18T17:24:00\",\"2018-10-19T06:00:00\",\"2018-10-19T10:24:00\",\"2018-10-19T14:36:00\",\"2018-10-22T04:00:00\",\"2018-10-22T08:00:00\",\"2018-10-22T14:12:00\",\"2018-10-23T11:48:00\",\"2018-10-23T17:48:00\",\"2018-10-23T18:12:00\",\"2018-10-23T19:12:00\",\"2018-10-23T19:48:00\",\"2018-10-24T00:36:00\",\"2018-10-25T01:36:00\",\"2018-10-25T12:48:00\",\"2018-10-25T15:12:00\",\"2018-10-25T16:48:00\",\"2018-10-26T02:00:00\",\"2018-10-26T06:36:00\",\"2018-10-26T11:12:00\",\"2018-10-26T14:00:00\",\"2018-10-26T19:00:00\",\"2018-10-29T03:24:00\",\"2018-10-29T09:48:00\",\"2018-10-29T14:00:00\",\"2018-10-29T15:24:00\",\"2018-10-29T16:00:00\",\"2018-10-29T23:00:00\",\"2018-10-30T00:00:00\",\"2018-10-30T06:24:00\",\"2018-10-30T09:36:00\",\"2018-10-30T17:48:00\",\"2018-10-30T19:36:00\",\"2018-10-31T05:00:00\",\"2018-10-31T06:12:00\",\"2018-10-31T10:12:00\",\"2018-10-31T14:00:00\",\"2018-11-01T00:36:00\",\"2018-11-01T01:36:00\",\"2018-11-01T03:00:00\",\"2018-11-02T01:36:00\",\"2018-11-02T07:48:00\",\"2018-11-02T16:36:00\",\"2018-11-05T02:48:00\",\"2018-11-05T05:48:00\",\"2018-11-05T18:00:00\",\"2018-11-06T05:00:00\",\"2018-11-06T10:24:00\",\"2018-11-06T14:48:00\",\"2018-11-06T15:36:00\",\"2018-11-06T21:36:00\",\"2018-11-07T01:00:00\",\"2018-11-07T18:48:00\",\"2018-11-08T10:24:00\",\"2018-11-08T11:48:00\",\"2018-11-08T17:36:00\",\"2018-11-08T19:48:00\",\"2018-11-09T15:00:00\",\"2018-11-09T19:12:00\",\"2018-11-12T17:36:00\",\"2018-11-12T19:24:00\",\"2018-11-13T05:48:00\",\"2018-11-13T12:12:00\",\"2018-11-13T14:36:00\",\"2018-11-14T07:48:00\",\"2018-11-14T16:36:00\",\"2018-11-15T12:12:00\",\"2018-11-15T19:36:00\",\"2018-11-16T14:00:00\",\"2018-11-16T16:12:00\",\"2018-11-19T04:12:00\",\"2018-11-19T11:12:00\",\"2018-11-20T03:48:00\",\"2018-11-20T09:48:00\",\"2018-11-20T11:36:00\",\"2018-11-21T04:48:00\",\"2018-11-21T20:00:00\",\"2018-11-22T04:24:00\",\"2018-11-22T17:48:00\",\"2018-11-23T05:00:00\",\"2018-11-23T10:48:00\",\"2018-11-26T02:48:00\",\"2018-11-26T17:12:00\",\"2018-11-27T05:00:00\",\"2018-11-27T10:12:00\",\"2018-11-28T02:12:00\",\"2018-11-28T05:00:00\",\"2018-11-28T07:36:00\",\"2018-11-28T10:00:00\",\"2018-11-28T19:00:00\",\"2018-11-29T05:48:00\",\"2018-11-29T06:00:00\",\"2018-11-29T12:36:00\",\"2018-11-29T17:24:00\",\"2018-11-30T09:48:00\",\"2018-12-03T01:48:00\",\"2018-12-03T13:24:00\",\"2018-12-03T19:24:00\",\"2018-12-04T01:00:00\",\"2018-12-04T01:12:00\",\"2018-12-04T17:36:00\",\"2018-12-05T11:48:00\",\"2018-12-05T19:24:00\",\"2018-12-05T21:24:00\",\"2018-12-05T22:36:00\",\"2018-12-06T01:36:00\",\"2018-12-06T07:00:00\",\"2018-12-06T15:00:00\",\"2018-12-07T00:36:00\",\"2018-12-07T13:48:00\",\"2018-12-07T14:36:00\",\"2018-12-07T15:24:00\",\"2018-12-10T11:48:00\",\"2018-12-11T04:24:00\",\"2018-12-11T17:00:00\",\"2018-12-12T02:36:00\",\"2018-12-12T09:48:00\",\"2018-12-12T13:12:00\",\"2018-12-13T05:24:00\",\"2018-12-13T10:00:00\",\"2018-12-13T16:00:00\",\"2018-12-13T22:36:00\",\"2018-12-14T03:24:00\",\"2018-12-14T20:12:00\",\"2018-12-18T08:24:00\",\"2018-12-18T11:00:00\",\"2018-12-18T18:24:00\",\"2018-12-19T01:48:00\",\"2018-12-19T22:12:00\",\"2018-12-20T06:48:00\",\"2018-12-20T18:00:00\",\"2018-12-20T22:00:00\",\"2018-12-21T03:00:00\",\"2018-12-21T09:36:00\",\"2018-12-21T12:24:00\",\"2018-12-24T04:12:00\",\"2018-12-26T07:48:00\",\"2018-12-26T18:12:00\",\"2018-12-26T21:00:00\",\"2018-12-27T04:12:00\",\"2018-12-28T12:24:00\",\"2018-12-28T13:24:00\",\"2018-12-28T17:36:00\",\"2018-12-31T12:12:00\",\"2018-12-31T19:12:00\"],\"y\":[1.2110000000000065,2.415999999999996,3.622000000000014,1.2150000000000105,2.4359999999999937,3.605999999999998,4.793000000000003,6.027999999999989,7.197999999999993,8.558999999999983,9.84999999999998,11.009999999999986,8.662999999999975,9.859999999999978,11.055999999999976,12.262999999999979,13.452999999999982,14.658999999999978,15.824999999999978,17.128999999999994,18.39200000000001,19.554000000000006,20.744000000000007,21.943,23.117999999999995,24.329,25.50100000000002,26.68700000000002,27.86000000000002,29.04800000000001,30.224000000000007,31.508000000000003,32.670999999999985,33.893,35.06800000000001,36.24200000000002,37.43700000000003,38.66700000000003,39.86700000000003,37.448000000000036,38.63000000000005,36.23200000000006,37.46800000000005,38.699000000000055,39.87200000000006,41.09600000000006,42.27200000000006,43.503000000000064,44.68500000000006,45.95100000000005,47.15600000000004,44.79800000000002,45.98600000000001,43.629000000000005,44.828999999999986,42.42599999999999,43.602999999999994,41.23999999999999,42.41699999999997,40.05399999999999,41.241999999999976,38.89599999999997,40.09099999999999,37.755999999999986,38.92999999999999,36.579999999999984,37.762999999999984,35.44099999999998,36.62199999999997,34.28199999999998,35.46099999999998,33.13599999999998,34.361999999999995,35.57099999999999,36.725,34.367999999999995,35.54000000000001,33.059999999999995,34.26900000000001,35.42300000000002,36.59200000000002,37.776,38.93699999999999,40.088999999999984,41.26299999999999,38.899999999999984,40.06099999999999,37.74799999999998,38.91999999999998,36.54799999999999,37.71099999999999,35.387999999999984,36.55999999999998,34.239999999999995,35.41,33.050999999999995,34.22199999999998,31.88999999999998,33.066999999999986,30.720999999999982,31.90999999999998,29.502999999999975,30.65299999999998,28.324999999999985,29.551999999999985,27.244999999999994,28.422999999999984,26.078999999999972,27.263999999999985,24.96699999999997,26.11599999999997,23.723999999999975,24.918999999999965,22.525999999999964,23.684999999999963,23.684999999999963,25.006999999999962,25.006999999999962,26.213999999999963,27.378999999999955,28.518999999999963,29.656999999999957,30.84899999999995,30.84899999999995,32.01299999999996,32.01299999999996,33.175999999999966,34.31799999999996,35.487999999999964,36.64599999999996,37.84099999999997,38.989999999999974,40.228999999999964,41.36599999999997,42.52699999999999,43.725999999999985,44.87899999999999,46.023,47.187999999999995,48.404999999999994,48.404999999999994,49.541,50.79400000000001,50.79400000000001,51.96700000000001,51.96700000000001,53.20200000000002,53.20200000000002,54.532000000000025,54.532000000000025,55.94300000000003,55.94300000000003,57.315000000000055,57.315000000000055,58.47300000000005,58.47300000000005,59.62000000000006,59.62000000000006,60.77600000000006,61.96100000000008,61.96100000000008,63.184000000000076,60.894000000000084,62.0620000000001,59.769000000000105,60.9880000000001,60.9880000000001,62.12900000000011,62.12900000000011,63.27500000000011,63.27500000000011,63.27500000000011,64.42500000000013,64.42500000000013,65.57200000000012,65.57200000000012,66.78000000000013,66.78000000000013,67.94100000000014,67.94100000000014,69.10100000000016,69.10100000000016,69.10100000000016,70.45600000000017,70.45600000000017,71.81000000000019,71.81000000000019,73.01000000000019,73.01000000000019,74.20400000000019,74.20400000000019,75.3840000000002,75.3840000000002,75.3840000000002,75.3840000000002,75.3840000000002,75.3840000000002,76.6590000000002,76.6590000000002,77.7980000000002,77.7980000000002,78.94600000000021,78.94600000000021,80.27300000000022,80.27300000000022,81.50700000000023,81.50700000000023,82.75000000000026,82.75000000000026,83.91200000000028,83.91200000000028,83.91200000000028,83.91200000000028,83.91200000000028,85.11300000000028,86.27200000000028,86.27200000000028,87.41300000000027,87.41300000000027,88.74100000000028,88.74100000000028,88.74100000000028,88.74100000000028,89.89400000000029,89.89400000000029,91.0270000000003,91.0270000000003,91.0270000000003,91.0270000000003,91.0270000000003,91.0270000000003,91.0270000000003,91.0270000000003,91.0270000000003,91.0270000000003,91.0270000000003,91.0270000000003,91.0270000000003,91.0270000000003,91.0270000000003,91.0270000000003,91.0270000000003,91.0270000000003,91.0270000000003,91.0270000000003,91.0270000000003,91.0270000000003]}],                        {\"template\":{\"data\":{\"bar\":[{\"error_x\":{\"color\":\"#2a3f5f\"},\"error_y\":{\"color\":\"#2a3f5f\"},\"marker\":{\"line\":{\"color\":\"#E5ECF6\",\"width\":0.5},\"pattern\":{\"fillmode\":\"overlay\",\"size\":10,\"solidity\":0.2}},\"type\":\"bar\"}],\"barpolar\":[{\"marker\":{\"line\":{\"color\":\"#E5ECF6\",\"width\":0.5},\"pattern\":{\"fillmode\":\"overlay\",\"size\":10,\"solidity\":0.2}},\"type\":\"barpolar\"}],\"carpet\":[{\"aaxis\":{\"endlinecolor\":\"#2a3f5f\",\"gridcolor\":\"white\",\"linecolor\":\"white\",\"minorgridcolor\":\"white\",\"startlinecolor\":\"#2a3f5f\"},\"baxis\":{\"endlinecolor\":\"#2a3f5f\",\"gridcolor\":\"white\",\"linecolor\":\"white\",\"minorgridcolor\":\"white\",\"startlinecolor\":\"#2a3f5f\"},\"type\":\"carpet\"}],\"choropleth\":[{\"colorbar\":{\"outlinewidth\":0,\"ticks\":\"\"},\"type\":\"choropleth\"}],\"contour\":[{\"colorbar\":{\"outlinewidth\":0,\"ticks\":\"\"},\"colorscale\":[[0.0,\"#0d0887\"],[0.1111111111111111,\"#46039f\"],[0.2222222222222222,\"#7201a8\"],[0.3333333333333333,\"#9c179e\"],[0.4444444444444444,\"#bd3786\"],[0.5555555555555556,\"#d8576b\"],[0.6666666666666666,\"#ed7953\"],[0.7777777777777778,\"#fb9f3a\"],[0.8888888888888888,\"#fdca26\"],[1.0,\"#f0f921\"]],\"type\":\"contour\"}],\"contourcarpet\":[{\"colorbar\":{\"outlinewidth\":0,\"ticks\":\"\"},\"type\":\"contourcarpet\"}],\"heatmap\":[{\"colorbar\":{\"outlinewidth\":0,\"ticks\":\"\"},\"colorscale\":[[0.0,\"#0d0887\"],[0.1111111111111111,\"#46039f\"],[0.2222222222222222,\"#7201a8\"],[0.3333333333333333,\"#9c179e\"],[0.4444444444444444,\"#bd3786\"],[0.5555555555555556,\"#d8576b\"],[0.6666666666666666,\"#ed7953\"],[0.7777777777777778,\"#fb9f3a\"],[0.8888888888888888,\"#fdca26\"],[1.0,\"#f0f921\"]],\"type\":\"heatmap\"}],\"heatmapgl\":[{\"colorbar\":{\"outlinewidth\":0,\"ticks\":\"\"},\"colorscale\":[[0.0,\"#0d0887\"],[0.1111111111111111,\"#46039f\"],[0.2222222222222222,\"#7201a8\"],[0.3333333333333333,\"#9c179e\"],[0.4444444444444444,\"#bd3786\"],[0.5555555555555556,\"#d8576b\"],[0.6666666666666666,\"#ed7953\"],[0.7777777777777778,\"#fb9f3a\"],[0.8888888888888888,\"#fdca26\"],[1.0,\"#f0f921\"]],\"type\":\"heatmapgl\"}],\"histogram\":[{\"marker\":{\"pattern\":{\"fillmode\":\"overlay\",\"size\":10,\"solidity\":0.2}},\"type\":\"histogram\"}],\"histogram2d\":[{\"colorbar\":{\"outlinewidth\":0,\"ticks\":\"\"},\"colorscale\":[[0.0,\"#0d0887\"],[0.1111111111111111,\"#46039f\"],[0.2222222222222222,\"#7201a8\"],[0.3333333333333333,\"#9c179e\"],[0.4444444444444444,\"#bd3786\"],[0.5555555555555556,\"#d8576b\"],[0.6666666666666666,\"#ed7953\"],[0.7777777777777778,\"#fb9f3a\"],[0.8888888888888888,\"#fdca26\"],[1.0,\"#f0f921\"]],\"type\":\"histogram2d\"}],\"histogram2dcontour\":[{\"colorbar\":{\"outlinewidth\":0,\"ticks\":\"\"},\"colorscale\":[[0.0,\"#0d0887\"],[0.1111111111111111,\"#46039f\"],[0.2222222222222222,\"#7201a8\"],[0.3333333333333333,\"#9c179e\"],[0.4444444444444444,\"#bd3786\"],[0.5555555555555556,\"#d8576b\"],[0.6666666666666666,\"#ed7953\"],[0.7777777777777778,\"#fb9f3a\"],[0.8888888888888888,\"#fdca26\"],[1.0,\"#f0f921\"]],\"type\":\"histogram2dcontour\"}],\"mesh3d\":[{\"colorbar\":{\"outlinewidth\":0,\"ticks\":\"\"},\"type\":\"mesh3d\"}],\"parcoords\":[{\"line\":{\"colorbar\":{\"outlinewidth\":0,\"ticks\":\"\"}},\"type\":\"parcoords\"}],\"pie\":[{\"automargin\":true,\"type\":\"pie\"}],\"scatter\":[{\"marker\":{\"colorbar\":{\"outlinewidth\":0,\"ticks\":\"\"}},\"type\":\"scatter\"}],\"scatter3d\":[{\"line\":{\"colorbar\":{\"outlinewidth\":0,\"ticks\":\"\"}},\"marker\":{\"colorbar\":{\"outlinewidth\":0,\"ticks\":\"\"}},\"type\":\"scatter3d\"}],\"scattercarpet\":[{\"marker\":{\"colorbar\":{\"outlinewidth\":0,\"ticks\":\"\"}},\"type\":\"scattercarpet\"}],\"scattergeo\":[{\"marker\":{\"colorbar\":{\"outlinewidth\":0,\"ticks\":\"\"}},\"type\":\"scattergeo\"}],\"scattergl\":[{\"marker\":{\"colorbar\":{\"outlinewidth\":0,\"ticks\":\"\"}},\"type\":\"scattergl\"}],\"scattermapbox\":[{\"marker\":{\"colorbar\":{\"outlinewidth\":0,\"ticks\":\"\"}},\"type\":\"scattermapbox\"}],\"scatterpolar\":[{\"marker\":{\"colorbar\":{\"outlinewidth\":0,\"ticks\":\"\"}},\"type\":\"scatterpolar\"}],\"scatterpolargl\":[{\"marker\":{\"colorbar\":{\"outlinewidth\":0,\"ticks\":\"\"}},\"type\":\"scatterpolargl\"}],\"scatterternary\":[{\"marker\":{\"colorbar\":{\"outlinewidth\":0,\"ticks\":\"\"}},\"type\":\"scatterternary\"}],\"surface\":[{\"colorbar\":{\"outlinewidth\":0,\"ticks\":\"\"},\"colorscale\":[[0.0,\"#0d0887\"],[0.1111111111111111,\"#46039f\"],[0.2222222222222222,\"#7201a8\"],[0.3333333333333333,\"#9c179e\"],[0.4444444444444444,\"#bd3786\"],[0.5555555555555556,\"#d8576b\"],[0.6666666666666666,\"#ed7953\"],[0.7777777777777778,\"#fb9f3a\"],[0.8888888888888888,\"#fdca26\"],[1.0,\"#f0f921\"]],\"type\":\"surface\"}],\"table\":[{\"cells\":{\"fill\":{\"color\":\"#EBF0F8\"},\"line\":{\"color\":\"white\"}},\"header\":{\"fill\":{\"color\":\"#C8D4E3\"},\"line\":{\"color\":\"white\"}},\"type\":\"table\"}]},\"layout\":{\"annotationdefaults\":{\"arrowcolor\":\"#2a3f5f\",\"arrowhead\":0,\"arrowwidth\":1},\"autotypenumbers\":\"strict\",\"coloraxis\":{\"colorbar\":{\"outlinewidth\":0,\"ticks\":\"\"}},\"colorscale\":{\"diverging\":[[0,\"#8e0152\"],[0.1,\"#c51b7d\"],[0.2,\"#de77ae\"],[0.3,\"#f1b6da\"],[0.4,\"#fde0ef\"],[0.5,\"#f7f7f7\"],[0.6,\"#e6f5d0\"],[0.7,\"#b8e186\"],[0.8,\"#7fbc41\"],[0.9,\"#4d9221\"],[1,\"#276419\"]],\"sequential\":[[0.0,\"#0d0887\"],[0.1111111111111111,\"#46039f\"],[0.2222222222222222,\"#7201a8\"],[0.3333333333333333,\"#9c179e\"],[0.4444444444444444,\"#bd3786\"],[0.5555555555555556,\"#d8576b\"],[0.6666666666666666,\"#ed7953\"],[0.7777777777777778,\"#fb9f3a\"],[0.8888888888888888,\"#fdca26\"],[1.0,\"#f0f921\"]],\"sequentialminus\":[[0.0,\"#0d0887\"],[0.1111111111111111,\"#46039f\"],[0.2222222222222222,\"#7201a8\"],[0.3333333333333333,\"#9c179e\"],[0.4444444444444444,\"#bd3786\"],[0.5555555555555556,\"#d8576b\"],[0.6666666666666666,\"#ed7953\"],[0.7777777777777778,\"#fb9f3a\"],[0.8888888888888888,\"#fdca26\"],[1.0,\"#f0f921\"]]},\"colorway\":[\"#636efa\",\"#EF553B\",\"#00cc96\",\"#ab63fa\",\"#FFA15A\",\"#19d3f3\",\"#FF6692\",\"#B6E880\",\"#FF97FF\",\"#FECB52\"],\"font\":{\"color\":\"#2a3f5f\"},\"geo\":{\"bgcolor\":\"white\",\"lakecolor\":\"white\",\"landcolor\":\"#E5ECF6\",\"showlakes\":true,\"showland\":true,\"subunitcolor\":\"white\"},\"hoverlabel\":{\"align\":\"left\"},\"hovermode\":\"closest\",\"mapbox\":{\"style\":\"light\"},\"paper_bgcolor\":\"white\",\"plot_bgcolor\":\"#E5ECF6\",\"polar\":{\"angularaxis\":{\"gridcolor\":\"white\",\"linecolor\":\"white\",\"ticks\":\"\"},\"bgcolor\":\"#E5ECF6\",\"radialaxis\":{\"gridcolor\":\"white\",\"linecolor\":\"white\",\"ticks\":\"\"}},\"scene\":{\"xaxis\":{\"backgroundcolor\":\"#E5ECF6\",\"gridcolor\":\"white\",\"gridwidth\":2,\"linecolor\":\"white\",\"showbackground\":true,\"ticks\":\"\",\"zerolinecolor\":\"white\"},\"yaxis\":{\"backgroundcolor\":\"#E5ECF6\",\"gridcolor\":\"white\",\"gridwidth\":2,\"linecolor\":\"white\",\"showbackground\":true,\"ticks\":\"\",\"zerolinecolor\":\"white\"},\"zaxis\":{\"backgroundcolor\":\"#E5ECF6\",\"gridcolor\":\"white\",\"gridwidth\":2,\"linecolor\":\"white\",\"showbackground\":true,\"ticks\":\"\",\"zerolinecolor\":\"white\"}},\"shapedefaults\":{\"line\":{\"color\":\"#2a3f5f\"}},\"ternary\":{\"aaxis\":{\"gridcolor\":\"white\",\"linecolor\":\"white\",\"ticks\":\"\"},\"baxis\":{\"gridcolor\":\"white\",\"linecolor\":\"white\",\"ticks\":\"\"},\"bgcolor\":\"#E5ECF6\",\"caxis\":{\"gridcolor\":\"white\",\"linecolor\":\"white\",\"ticks\":\"\"}},\"title\":{\"x\":0.05},\"xaxis\":{\"automargin\":true,\"gridcolor\":\"white\",\"linecolor\":\"white\",\"ticks\":\"\",\"title\":{\"standoff\":15},\"zerolinecolor\":\"white\",\"zerolinewidth\":2},\"yaxis\":{\"automargin\":true,\"gridcolor\":\"white\",\"linecolor\":\"white\",\"ticks\":\"\",\"title\":{\"standoff\":15},\"zerolinecolor\":\"white\",\"zerolinewidth\":2}}},\"title\":{\"text\":\"Exposure\"},\"xaxis\":{\"title\":{\"text\":\"Date\"}},\"yaxis\":{\"title\":{\"text\":\"$\"}}},                        {\"responsive\": true}                    ).then(function(){\n",
       "                            \n",
       "var gd = document.getElementById('fa3db375-4f3b-4b9a-9717-ef7102c65849');\n",
       "var x = new MutationObserver(function (mutations, observer) {{\n",
       "        var display = window.getComputedStyle(gd).display;\n",
       "        if (!display || display === 'none') {{\n",
       "            console.log([gd, 'removed!']);\n",
       "            Plotly.purge(gd);\n",
       "            observer.disconnect();\n",
       "        }}\n",
       "}});\n",
       "\n",
       "// Listen for the removal of the full notebook cells\n",
       "var notebookContainer = gd.closest('#notebook-container');\n",
       "if (notebookContainer) {{\n",
       "    x.observe(notebookContainer, {childList: true});\n",
       "}}\n",
       "\n",
       "// Listen for the clearing of the current output cell\n",
       "var outputEl = gd.closest('.output');\n",
       "if (outputEl) {{\n",
       "    x.observe(outputEl, {childList: true});\n",
       "}}\n",
       "\n",
       "                        })                };                });            </script>        </div>"
      ]
     },
     "metadata": {},
     "output_type": "display_data"
    }
   ],
   "source": [
    "# EXPOSURE\n",
    "fig = go.Figure([go.Scatter(x=earnings_df_ma['time'], y=earnings_df_ma['Profit_acm'],\n",
    "                         line = dict(color='indigo', width=3))])\n",
    "fig.update_layout(title='Exposure',\n",
    "                   xaxis_title='Date',\n",
    "                   yaxis_title='$')\n",
    "fig.show()"
   ]
  },
  {
   "cell_type": "code",
   "execution_count": 67,
   "metadata": {},
   "outputs": [
    {
     "data": {
      "application/vnd.plotly.v1+json": {
       "config": {
        "plotlyServerURL": "https://plot.ly"
       },
       "data": [
        {
         "line": {
          "color": "gold",
          "width": 4
         },
         "mode": "lines",
         "name": "close",
         "type": "scatter",
         "x": [
          "2018-08-28T06:36:00",
          "2018-08-28T11:12:00",
          "2018-08-28T22:24:00",
          "2018-08-29T17:48:00",
          "2018-08-30T06:24:00",
          "2018-08-31T00:00:00",
          "2018-08-31T05:48:00",
          "2018-08-31T08:00:00",
          "2018-08-31T14:12:00",
          "2018-09-03T08:12:00",
          "2018-09-04T01:24:00",
          "2018-09-04T20:36:00",
          "2018-09-05T10:00:00",
          "2018-09-05T15:36:00",
          "2018-09-06T08:48:00",
          "2018-09-06T16:00:00",
          "2018-09-06T19:36:00",
          "2018-09-07T03:36:00",
          "2018-09-07T04:00:00",
          "2018-09-07T08:00:00",
          "2018-09-07T15:12:00",
          "2018-09-10T11:48:00",
          "2018-09-11T00:00:00",
          "2018-09-11T08:24:00",
          "2018-09-11T14:24:00",
          "2018-09-11T21:48:00",
          "2018-09-12T05:48:00",
          "2018-09-12T12:48:00",
          "2018-09-12T15:12:00",
          "2018-09-12T16:00:00",
          "2018-09-12T16:24:00",
          "2018-09-12T17:00:00",
          "2018-09-13T02:48:00",
          "2018-09-13T04:12:00",
          "2018-09-13T09:24:00",
          "2018-09-13T15:48:00",
          "2018-09-14T15:12:00",
          "2018-09-17T05:48:00",
          "2018-09-18T00:24:00",
          "2018-09-18T07:00:00",
          "2018-09-18T13:12:00",
          "2018-09-18T16:24:00",
          "2018-09-18T20:12:00",
          "2018-09-19T03:12:00",
          "2018-09-19T06:00:00",
          "2018-09-19T08:48:00",
          "2018-09-19T16:00:00",
          "2018-09-19T22:12:00",
          "2018-09-19T23:48:00",
          "2018-09-20T05:00:00",
          "2018-09-21T13:48:00",
          "2018-09-24T01:00:00",
          "2018-09-24T05:12:00",
          "2018-09-24T11:48:00",
          "2018-09-24T21:00:00",
          "2018-09-25T10:24:00",
          "2018-09-25T21:24:00",
          "2018-09-26T09:12:00",
          "2018-09-26T14:12:00",
          "2018-09-26T21:00:00",
          "2018-09-27T01:24:00",
          "2018-09-28T06:48:00",
          "2018-09-28T10:12:00",
          "2018-09-28T19:24:00",
          "2018-10-01T02:12:00",
          "2018-10-01T13:12:00",
          "2018-10-01T18:12:00",
          "2018-10-02T02:48:00",
          "2018-10-02T05:12:00",
          "2018-10-02T17:36:00",
          "2018-10-03T02:24:00",
          "2018-10-03T05:00:00",
          "2018-10-03T13:24:00",
          "2018-10-04T10:48:00",
          "2018-10-04T21:48:00",
          "2018-10-05T00:24:00",
          "2018-10-05T06:36:00",
          "2018-10-05T16:12:00",
          "2018-10-08T05:36:00",
          "2018-10-08T20:24:00",
          "2018-10-09T06:12:00",
          "2018-10-09T08:12:00",
          "2018-10-09T09:36:00",
          "2018-10-09T19:00:00",
          "2018-10-10T10:48:00",
          "2018-10-10T16:36:00",
          "2018-10-11T00:48:00",
          "2018-10-11T03:36:00",
          "2018-10-11T11:48:00",
          "2018-10-11T14:36:00",
          "2018-10-12T11:12:00",
          "2018-10-15T09:48:00",
          "2018-10-15T20:48:00",
          "2018-10-16T03:36:00",
          "2018-10-16T07:12:00",
          "2018-10-16T12:12:00",
          "2018-10-16T15:48:00",
          "2018-10-16T16:00:00",
          "2018-10-16T20:48:00",
          "2018-10-17T13:24:00",
          "2018-10-17T13:48:00",
          "2018-10-18T11:48:00",
          "2018-10-18T17:24:00",
          "2018-10-19T06:00:00",
          "2018-10-19T10:24:00",
          "2018-10-19T14:36:00",
          "2018-10-22T04:00:00",
          "2018-10-22T08:00:00",
          "2018-10-22T14:12:00",
          "2018-10-23T11:48:00",
          "2018-10-23T17:48:00",
          "2018-10-23T18:12:00",
          "2018-10-23T19:12:00",
          "2018-10-23T19:48:00",
          "2018-10-24T00:36:00",
          "2018-10-25T01:36:00",
          "2018-10-25T12:48:00",
          "2018-10-25T15:12:00",
          "2018-10-25T16:48:00",
          "2018-10-26T02:00:00",
          "2018-10-26T06:36:00",
          "2018-10-26T11:12:00",
          "2018-10-26T14:00:00",
          "2018-10-26T19:00:00",
          "2018-10-29T03:24:00",
          "2018-10-29T09:48:00",
          "2018-10-29T14:00:00",
          "2018-10-29T15:24:00",
          "2018-10-29T16:00:00",
          "2018-10-29T23:00:00",
          "2018-10-30T00:00:00",
          "2018-10-30T06:24:00",
          "2018-10-30T09:36:00",
          "2018-10-30T17:48:00",
          "2018-10-30T19:36:00",
          "2018-10-31T05:00:00",
          "2018-10-31T06:12:00",
          "2018-10-31T10:12:00",
          "2018-10-31T14:00:00",
          "2018-11-01T00:36:00",
          "2018-11-01T01:36:00",
          "2018-11-01T03:00:00",
          "2018-11-02T01:36:00",
          "2018-11-02T07:48:00",
          "2018-11-02T16:36:00",
          "2018-11-05T02:48:00",
          "2018-11-05T05:48:00",
          "2018-11-05T18:00:00",
          "2018-11-06T05:00:00",
          "2018-11-06T10:24:00",
          "2018-11-06T14:48:00",
          "2018-11-06T15:36:00",
          "2018-11-06T21:36:00",
          "2018-11-07T01:00:00",
          "2018-11-07T18:48:00",
          "2018-11-08T10:24:00",
          "2018-11-08T11:48:00",
          "2018-11-08T17:36:00",
          "2018-11-08T19:48:00",
          "2018-11-09T15:00:00",
          "2018-11-09T19:12:00",
          "2018-11-12T17:36:00",
          "2018-11-12T19:24:00",
          "2018-11-13T05:48:00",
          "2018-11-13T12:12:00",
          "2018-11-13T14:36:00",
          "2018-11-14T07:48:00",
          "2018-11-14T16:36:00",
          "2018-11-15T12:12:00",
          "2018-11-15T19:36:00",
          "2018-11-16T14:00:00",
          "2018-11-16T16:12:00",
          "2018-11-19T04:12:00",
          "2018-11-19T11:12:00",
          "2018-11-20T03:48:00",
          "2018-11-20T09:48:00",
          "2018-11-20T11:36:00",
          "2018-11-21T04:48:00",
          "2018-11-21T20:00:00",
          "2018-11-22T04:24:00",
          "2018-11-22T17:48:00",
          "2018-11-23T05:00:00",
          "2018-11-23T10:48:00",
          "2018-11-26T02:48:00",
          "2018-11-26T17:12:00",
          "2018-11-27T05:00:00",
          "2018-11-27T10:12:00",
          "2018-11-28T02:12:00",
          "2018-11-28T05:00:00",
          "2018-11-28T07:36:00",
          "2018-11-28T10:00:00",
          "2018-11-28T19:00:00",
          "2018-11-29T05:48:00",
          "2018-11-29T06:00:00",
          "2018-11-29T12:36:00",
          "2018-11-29T17:24:00",
          "2018-11-30T09:48:00",
          "2018-12-03T01:48:00",
          "2018-12-03T13:24:00",
          "2018-12-03T19:24:00",
          "2018-12-04T01:00:00",
          "2018-12-04T01:12:00",
          "2018-12-04T17:36:00",
          "2018-12-05T11:48:00",
          "2018-12-05T19:24:00",
          "2018-12-05T21:24:00",
          "2018-12-05T22:36:00",
          "2018-12-06T01:36:00",
          "2018-12-06T07:00:00",
          "2018-12-06T15:00:00",
          "2018-12-07T00:36:00",
          "2018-12-07T13:48:00",
          "2018-12-07T14:36:00",
          "2018-12-07T15:24:00",
          "2018-12-10T11:48:00",
          "2018-12-11T04:24:00",
          "2018-12-11T17:00:00",
          "2018-12-12T02:36:00",
          "2018-12-12T09:48:00",
          "2018-12-12T13:12:00",
          "2018-12-13T05:24:00",
          "2018-12-13T10:00:00",
          "2018-12-13T16:00:00",
          "2018-12-13T22:36:00",
          "2018-12-14T03:24:00",
          "2018-12-14T20:12:00",
          "2018-12-18T08:24:00",
          "2018-12-18T11:00:00",
          "2018-12-18T18:24:00",
          "2018-12-19T01:48:00",
          "2018-12-19T22:12:00",
          "2018-12-20T06:48:00",
          "2018-12-20T18:00:00",
          "2018-12-20T22:00:00",
          "2018-12-21T03:00:00",
          "2018-12-21T09:36:00",
          "2018-12-21T12:24:00",
          "2018-12-24T04:12:00",
          "2018-12-26T07:48:00",
          "2018-12-26T18:12:00",
          "2018-12-26T21:00:00",
          "2018-12-27T04:12:00",
          "2018-12-28T12:24:00",
          "2018-12-28T13:24:00",
          "2018-12-28T17:36:00",
          "2018-12-31T12:12:00",
          "2018-12-31T19:12:00"
         ],
         "y": [
          1.16718,
          1.1688,
          1.16928,
          1.16928,
          1.16993,
          1.16662,
          1.16628,
          1.1685,
          1.16487,
          1.16067,
          1.16159,
          1.1577,
          1.15608,
          1.15858,
          1.1622,
          1.16368,
          1.16214,
          1.16222,
          1.1619,
          1.16271,
          1.16131,
          1.15701,
          1.15945,
          1.15988,
          1.15837,
          1.15844,
          1.15891,
          1.1594,
          1.15816,
          1.15938,
          1.15895,
          1.16144,
          1.16247,
          1.16353,
          1.16263,
          1.16781,
          1.16928,
          1.16345,
          1.1684,
          1.1694,
          1.16745,
          1.17153,
          1.16615,
          1.16724,
          1.16641,
          1.16861,
          1.1671,
          1.16724,
          1.16716,
          1.16819,
          1.17613,
          1.17446,
          1.17397,
          1.1767,
          1.17552,
          1.17617,
          1.17668,
          1.17652,
          1.17444,
          1.17742,
          1.17455,
          1.1647,
          1.16219,
          1.16157,
          1.16042,
          1.1611,
          1.15785,
          1.15763,
          1.15702,
          1.15411,
          1.15515,
          1.15869,
          1.15589,
          1.14927,
          1.15141,
          1.1512,
          1.15057,
          1.15243,
          1.15128,
          1.14804,
          1.14896,
          1.14952,
          1.14766,
          1.14829,
          1.14934,
          1.15126,
          1.1526,
          1.15357,
          1.15451,
          1.15742,
          1.15757,
          1.15635,
          1.15766,
          1.15864,
          1.1573,
          1.15671,
          1.15872,
          1.16136,
          1.15737,
          1.15562,
          1.15468,
          1.1517,
          1.14948,
          1.14577,
          1.14443,
          1.14727,
          1.15,
          1.15107,
          1.14945,
          1.1466,
          1.1459,
          1.14812,
          1.148,
          1.14813,
          1.14703,
          1.13967,
          1.14085,
          1.14162,
          1.13798,
          1.13742,
          1.1367,
          1.13667,
          1.13441,
          1.14018,
          1.13881,
          1.14078,
          1.13926,
          1.13794,
          1.137,
          1.13711,
          1.13725,
          1.13787,
          1.13659,
          1.13632,
          1.13524,
          1.13436,
          1.13402,
          1.13509,
          1.13375,
          1.1316,
          1.13161,
          1.13293,
          1.14016,
          1.14237,
          1.14208,
          1.13947,
          1.13826,
          1.1401,
          1.14093,
          1.14114,
          1.14174,
          1.14327,
          1.14135,
          1.14211,
          1.14578,
          1.14395,
          1.14223,
          1.14304,
          1.13919,
          1.13495,
          1.13236,
          1.12659,
          1.12444,
          1.12445,
          1.12247,
          1.12663,
          1.12895,
          1.13035,
          1.12845,
          1.1323,
          1.13317,
          1.14041,
          1.14114,
          1.14176,
          1.14461,
          1.14569,
          1.1432,
          1.13728,
          1.13932,
          1.13974,
          1.14055,
          1.14095,
          1.13694,
          1.13336,
          1.1344,
          1.13337,
          1.13115,
          1.12957,
          1.12937,
          1.12963,
          1.1275,
          1.13511,
          1.1377,
          1.13802,
          1.13541,
          1.13777,
          1.13805,
          1.13416,
          1.1322,
          1.13552,
          1.13539,
          1.13543,
          1.13579,
          1.13364,
          1.13508,
          1.13457,
          1.13415,
          1.13448,
          1.13469,
          1.13529,
          1.13748,
          1.13799,
          1.13668,
          1.1402,
          1.14113,
          1.13652,
          1.13305,
          1.13294,
          1.13233,
          1.13363,
          1.13708,
          1.13869,
          1.13635,
          1.13622,
          1.13577,
          1.12973,
          1.13422,
          1.13718,
          1.13673,
          1.13751,
          1.13766,
          1.1385,
          1.14168,
          1.14683,
          1.14487,
          1.14723,
          1.14212,
          1.13796,
          1.14019,
          1.14061,
          1.1361,
          1.13834,
          1.14626,
          1.1464,
          1.14433,
          1.1442,
          1.14501
         ]
        },
        {
         "line": {
          "color": "firebrick",
          "width": 3
         },
         "mode": "markers",
         "name": "stoploss",
         "type": "scatter",
         "x": [
          "2018-08-28T06:36:00",
          "2018-08-28T11:12:00",
          "2018-08-28T22:24:00",
          "2018-08-29T17:48:00",
          "2018-08-30T06:24:00",
          "2018-08-31T00:00:00",
          "2018-08-31T05:48:00",
          "2018-08-31T08:00:00",
          "2018-08-31T14:12:00",
          "2018-09-03T08:12:00",
          "2018-09-04T01:24:00",
          "2018-09-04T20:36:00",
          "2018-09-05T10:00:00",
          "2018-09-05T15:36:00",
          "2018-09-06T08:48:00",
          "2018-09-06T16:00:00",
          "2018-09-06T19:36:00",
          "2018-09-07T03:36:00",
          "2018-09-07T04:00:00",
          "2018-09-07T08:00:00",
          "2018-09-07T15:12:00",
          "2018-09-10T11:48:00",
          "2018-09-11T00:00:00",
          "2018-09-11T08:24:00",
          "2018-09-11T14:24:00",
          "2018-09-11T21:48:00",
          "2018-09-12T05:48:00",
          "2018-09-12T12:48:00",
          "2018-09-12T15:12:00",
          "2018-09-12T16:00:00",
          "2018-09-12T16:24:00",
          "2018-09-12T17:00:00",
          "2018-09-13T02:48:00",
          "2018-09-13T04:12:00",
          "2018-09-13T09:24:00",
          "2018-09-13T15:48:00",
          "2018-09-14T15:12:00",
          "2018-09-17T05:48:00",
          "2018-09-18T00:24:00",
          "2018-09-18T07:00:00",
          "2018-09-18T13:12:00",
          "2018-09-18T16:24:00",
          "2018-09-18T20:12:00",
          "2018-09-19T03:12:00",
          "2018-09-19T06:00:00",
          "2018-09-19T08:48:00",
          "2018-09-19T16:00:00",
          "2018-09-19T22:12:00",
          "2018-09-19T23:48:00",
          "2018-09-20T05:00:00",
          "2018-09-21T13:48:00",
          "2018-09-24T01:00:00",
          "2018-09-24T05:12:00",
          "2018-09-24T11:48:00",
          "2018-09-24T21:00:00",
          "2018-09-25T10:24:00",
          "2018-09-25T21:24:00",
          "2018-09-26T09:12:00",
          "2018-09-26T14:12:00",
          "2018-09-26T21:00:00",
          "2018-09-27T01:24:00",
          "2018-09-28T06:48:00",
          "2018-09-28T10:12:00",
          "2018-09-28T19:24:00",
          "2018-10-01T02:12:00",
          "2018-10-01T13:12:00",
          "2018-10-01T18:12:00",
          "2018-10-02T02:48:00",
          "2018-10-02T05:12:00",
          "2018-10-02T17:36:00",
          "2018-10-03T02:24:00",
          "2018-10-03T05:00:00",
          "2018-10-03T13:24:00",
          "2018-10-04T10:48:00",
          "2018-10-04T21:48:00",
          "2018-10-05T00:24:00",
          "2018-10-05T06:36:00",
          "2018-10-05T16:12:00",
          "2018-10-08T05:36:00",
          "2018-10-08T20:24:00",
          "2018-10-09T06:12:00",
          "2018-10-09T08:12:00",
          "2018-10-09T09:36:00",
          "2018-10-09T19:00:00",
          "2018-10-10T10:48:00",
          "2018-10-10T16:36:00",
          "2018-10-11T00:48:00",
          "2018-10-11T03:36:00",
          "2018-10-11T11:48:00",
          "2018-10-11T14:36:00",
          "2018-10-12T11:12:00",
          "2018-10-15T09:48:00",
          "2018-10-15T20:48:00",
          "2018-10-16T03:36:00",
          "2018-10-16T07:12:00",
          "2018-10-16T12:12:00",
          "2018-10-16T15:48:00",
          "2018-10-16T16:00:00",
          "2018-10-16T20:48:00",
          "2018-10-17T13:24:00",
          "2018-10-17T13:48:00",
          "2018-10-18T11:48:00",
          "2018-10-18T17:24:00",
          "2018-10-19T06:00:00",
          "2018-10-19T10:24:00",
          "2018-10-19T14:36:00",
          "2018-10-22T04:00:00",
          "2018-10-22T08:00:00",
          "2018-10-22T14:12:00",
          "2018-10-23T11:48:00",
          "2018-10-23T17:48:00",
          "2018-10-23T18:12:00",
          "2018-10-23T19:12:00",
          "2018-10-23T19:48:00",
          "2018-10-24T00:36:00",
          "2018-10-25T01:36:00",
          "2018-10-25T12:48:00",
          "2018-10-25T15:12:00",
          "2018-10-25T16:48:00",
          "2018-10-26T02:00:00",
          "2018-10-26T06:36:00",
          "2018-10-26T11:12:00",
          "2018-10-26T14:00:00",
          "2018-10-26T19:00:00",
          "2018-10-29T03:24:00",
          "2018-10-29T09:48:00",
          "2018-10-29T14:00:00",
          "2018-10-29T15:24:00",
          "2018-10-29T16:00:00",
          "2018-10-29T23:00:00",
          "2018-10-30T00:00:00",
          "2018-10-30T06:24:00",
          "2018-10-30T09:36:00",
          "2018-10-30T17:48:00",
          "2018-10-30T19:36:00",
          "2018-10-31T05:00:00",
          "2018-10-31T06:12:00",
          "2018-10-31T10:12:00",
          "2018-10-31T14:00:00",
          "2018-11-01T00:36:00",
          "2018-11-01T01:36:00",
          "2018-11-01T03:00:00",
          "2018-11-02T01:36:00",
          "2018-11-02T07:48:00",
          "2018-11-02T16:36:00",
          "2018-11-05T02:48:00",
          "2018-11-05T05:48:00",
          "2018-11-05T18:00:00",
          "2018-11-06T05:00:00",
          "2018-11-06T10:24:00",
          "2018-11-06T14:48:00",
          "2018-11-06T15:36:00",
          "2018-11-06T21:36:00",
          "2018-11-07T01:00:00",
          "2018-11-07T18:48:00",
          "2018-11-08T10:24:00",
          "2018-11-08T11:48:00",
          "2018-11-08T17:36:00",
          "2018-11-08T19:48:00",
          "2018-11-09T15:00:00",
          "2018-11-09T19:12:00",
          "2018-11-12T17:36:00",
          "2018-11-12T19:24:00",
          "2018-11-13T05:48:00",
          "2018-11-13T12:12:00",
          "2018-11-13T14:36:00",
          "2018-11-14T07:48:00",
          "2018-11-14T16:36:00",
          "2018-11-15T12:12:00",
          "2018-11-15T19:36:00",
          "2018-11-16T14:00:00",
          "2018-11-16T16:12:00",
          "2018-11-19T04:12:00",
          "2018-11-19T11:12:00",
          "2018-11-20T03:48:00",
          "2018-11-20T09:48:00",
          "2018-11-20T11:36:00",
          "2018-11-21T04:48:00",
          "2018-11-21T20:00:00",
          "2018-11-22T04:24:00",
          "2018-11-22T17:48:00",
          "2018-11-23T05:00:00",
          "2018-11-23T10:48:00",
          "2018-11-26T02:48:00",
          "2018-11-26T17:12:00",
          "2018-11-27T05:00:00",
          "2018-11-27T10:12:00",
          "2018-11-28T02:12:00",
          "2018-11-28T05:00:00",
          "2018-11-28T07:36:00",
          "2018-11-28T10:00:00",
          "2018-11-28T19:00:00",
          "2018-11-29T05:48:00",
          "2018-11-29T06:00:00",
          "2018-11-29T12:36:00",
          "2018-11-29T17:24:00",
          "2018-11-30T09:48:00",
          "2018-12-03T01:48:00",
          "2018-12-03T13:24:00",
          "2018-12-03T19:24:00",
          "2018-12-04T01:00:00",
          "2018-12-04T01:12:00",
          "2018-12-04T17:36:00",
          "2018-12-05T11:48:00",
          "2018-12-05T19:24:00",
          "2018-12-05T21:24:00",
          "2018-12-05T22:36:00",
          "2018-12-06T01:36:00",
          "2018-12-06T07:00:00",
          "2018-12-06T15:00:00",
          "2018-12-07T00:36:00",
          "2018-12-07T13:48:00",
          "2018-12-07T14:36:00",
          "2018-12-07T15:24:00",
          "2018-12-10T11:48:00",
          "2018-12-11T04:24:00",
          "2018-12-11T17:00:00",
          "2018-12-12T02:36:00",
          "2018-12-12T09:48:00",
          "2018-12-12T13:12:00",
          "2018-12-13T05:24:00",
          "2018-12-13T10:00:00",
          "2018-12-13T16:00:00",
          "2018-12-13T22:36:00",
          "2018-12-14T03:24:00",
          "2018-12-14T20:12:00",
          "2018-12-18T08:24:00",
          "2018-12-18T11:00:00",
          "2018-12-18T18:24:00",
          "2018-12-19T01:48:00",
          "2018-12-19T22:12:00",
          "2018-12-20T06:48:00",
          "2018-12-20T18:00:00",
          "2018-12-20T22:00:00",
          "2018-12-21T03:00:00",
          "2018-12-21T09:36:00",
          "2018-12-21T12:24:00",
          "2018-12-24T04:12:00",
          "2018-12-26T07:48:00",
          "2018-12-26T18:12:00",
          "2018-12-26T21:00:00",
          "2018-12-27T04:12:00",
          "2018-12-28T12:24:00",
          "2018-12-28T13:24:00",
          "2018-12-28T17:36:00",
          "2018-12-31T12:12:00",
          "2018-12-31T19:12:00"
         ],
         "y": [
          1.1905236000000001,
          1.145424,
          1.1926656000000002,
          1.1458944,
          1.1933285999999999,
          1.1432876,
          1.1896056,
          1.14513,
          1.1881674,
          1.1374566000000002,
          1.1848218,
          1.1345459999999998,
          1.1792016,
          1.1354084,
          1.185444,
          1.1404064,
          1.1853828,
          1.1389756,
          1.185138,
          1.1394558,
          1.1845362000000002,
          1.1338698,
          1.1826390000000002,
          1.1366824,
          1.1815373999999998,
          1.1352711999999998,
          1.1820882000000001,
          1.136212,
          1.1813232,
          1.1361924,
          1.182129,
          1.1382112,
          1.1857194,
          1.1402594,
          1.1858826,
          1.1444538,
          1.1926656000000002,
          1.1401810000000001,
          1.1917680000000002,
          1.146012,
          1.1907990000000002,
          1.1480994,
          1.189473,
          1.1438952,
          1.1897381999999999,
          1.1452377999999999,
          1.190442,
          1.1438952,
          1.1905032,
          1.1448262,
          1.1996525999999998,
          1.1509708,
          1.1974494,
          1.1531660000000001,
          1.1990303999999998,
          1.1526466,
          1.2002135999999999,
          1.1529896,
          1.1979288,
          1.1538716,
          1.198041,
          1.1414060000000001,
          1.1854338,
          1.1383386,
          1.1836284000000001,
          1.137878,
          1.1810070000000001,
          1.1344774,
          1.1801603999999999,
          1.1310278,
          1.178253,
          1.1355162,
          1.1790078000000002,
          1.1262846,
          1.1744382,
          1.128176,
          1.1735814000000002,
          1.1293814,
          1.1743056,
          1.1250791999999998,
          1.1719392,
          1.1265296,
          1.1706132,
          1.1253242,
          1.1723268,
          1.1282348,
          1.1756520000000001,
          1.1304986,
          1.1776001999999999,
          1.1342716,
          1.1807214,
          1.1332229999999999,
          1.1808132,
          1.1354672,
          1.180446,
          1.1335757999999998,
          1.1818944,
          1.1381328,
          1.1805174,
          1.1325076,
          1.1777735999999999,
          1.128666,
          1.1724696000000001,
          1.1228546,
          1.1673186,
          1.1243246,
          1.1729999999999998,
          1.1280486,
          1.172439,
          1.1236680000000001,
          1.168818,
          1.1251576,
          1.17096,
          1.1251674,
          1.1699706,
          1.1168765999999999,
          1.163667,
          1.1187876,
          1.1607396,
          1.1146716,
          1.159434,
          1.1139366,
          1.1570981999999999,
          1.1173764,
          1.1615862000000001,
          1.1179644,
          1.1620452,
          1.1151811999999999,
          1.15974,
          1.1143678000000001,
          1.159995,
          1.1151126,
          1.1593218,
          1.1135936,
          1.1579448,
          1.1116728,
          1.1567004,
          1.1123881999999998,
          1.156425,
          1.108968,
          1.1542422,
          1.1102714,
          1.1629632,
          1.1195226,
          1.1649216,
          1.1166806,
          1.1610252,
          1.117298,
          1.1637486,
          1.1183172000000001,
          1.1645748,
          1.1204046,
          1.164177,
          1.1192678,
          1.1686956,
          1.121071,
          1.1650746,
          1.1201792,
          1.1619738,
          1.1122509999999999,
          1.1550072,
          1.1040581999999999,
          1.1469288000000002,
          1.101961,
          1.1449194,
          1.1040974,
          1.151529,
          1.107743,
          1.151019,
          1.1096540000000001,
          1.1558334000000001,
          1.1176017999999999,
          1.1639628,
          1.1189248,
          1.1675022,
          1.1227762000000001,
          1.166064,
          1.1145344000000001,
          1.1621064,
          1.1169452,
          1.1633609999999999,
          1.118131,
          1.1596788,
          1.1106927999999998,
          1.1570880000000001,
          1.1107026,
          1.1537730000000002,
          1.1069786,
          1.1519574,
          1.1070373999999998,
          1.15005,
          1.1124078,
          1.1604539999999999,
          1.1152596,
          1.1581182,
          1.1150145999999999,
          1.160811,
          1.1114768,
          1.1548440000000002,
          1.1128096,
          1.1580978,
          1.1127213999999999,
          1.1585058000000001,
          1.1109672,
          1.1577816,
          1.1118786,
          1.156833,
          1.1117903999999998,
          1.1573838,
          1.1125842,
          1.1602296,
          1.1152302,
          1.1594136,
          1.117396,
          1.1639526,
          1.1137896,
          1.155711,
          1.1102812,
          1.1549766000000001,
          1.1109574,
          1.1598216000000001,
          1.1159162,
          1.159077,
          1.1134956,
          1.1584854,
          1.1071354,
          1.1569044,
          1.1144364,
          1.1594646,
          1.1147598,
          1.1604131999999998,
          1.11573,
          1.1645136,
          1.1238934,
          1.1677674,
          1.1242854,
          1.1649624,
          1.1152008,
          1.1629938,
          1.1177978,
          1.1588220000000002,
          1.1155731999999998,
          1.1691852,
          1.123472,
          1.1672166000000002,
          1.121316,
          1.1679102000000001
         ]
        }
       ],
       "layout": {
        "template": {
         "data": {
          "bar": [
           {
            "error_x": {
             "color": "#2a3f5f"
            },
            "error_y": {
             "color": "#2a3f5f"
            },
            "marker": {
             "line": {
              "color": "#E5ECF6",
              "width": 0.5
             },
             "pattern": {
              "fillmode": "overlay",
              "size": 10,
              "solidity": 0.2
             }
            },
            "type": "bar"
           }
          ],
          "barpolar": [
           {
            "marker": {
             "line": {
              "color": "#E5ECF6",
              "width": 0.5
             },
             "pattern": {
              "fillmode": "overlay",
              "size": 10,
              "solidity": 0.2
             }
            },
            "type": "barpolar"
           }
          ],
          "carpet": [
           {
            "aaxis": {
             "endlinecolor": "#2a3f5f",
             "gridcolor": "white",
             "linecolor": "white",
             "minorgridcolor": "white",
             "startlinecolor": "#2a3f5f"
            },
            "baxis": {
             "endlinecolor": "#2a3f5f",
             "gridcolor": "white",
             "linecolor": "white",
             "minorgridcolor": "white",
             "startlinecolor": "#2a3f5f"
            },
            "type": "carpet"
           }
          ],
          "choropleth": [
           {
            "colorbar": {
             "outlinewidth": 0,
             "ticks": ""
            },
            "type": "choropleth"
           }
          ],
          "contour": [
           {
            "colorbar": {
             "outlinewidth": 0,
             "ticks": ""
            },
            "colorscale": [
             [
              0,
              "#0d0887"
             ],
             [
              0.1111111111111111,
              "#46039f"
             ],
             [
              0.2222222222222222,
              "#7201a8"
             ],
             [
              0.3333333333333333,
              "#9c179e"
             ],
             [
              0.4444444444444444,
              "#bd3786"
             ],
             [
              0.5555555555555556,
              "#d8576b"
             ],
             [
              0.6666666666666666,
              "#ed7953"
             ],
             [
              0.7777777777777778,
              "#fb9f3a"
             ],
             [
              0.8888888888888888,
              "#fdca26"
             ],
             [
              1,
              "#f0f921"
             ]
            ],
            "type": "contour"
           }
          ],
          "contourcarpet": [
           {
            "colorbar": {
             "outlinewidth": 0,
             "ticks": ""
            },
            "type": "contourcarpet"
           }
          ],
          "heatmap": [
           {
            "colorbar": {
             "outlinewidth": 0,
             "ticks": ""
            },
            "colorscale": [
             [
              0,
              "#0d0887"
             ],
             [
              0.1111111111111111,
              "#46039f"
             ],
             [
              0.2222222222222222,
              "#7201a8"
             ],
             [
              0.3333333333333333,
              "#9c179e"
             ],
             [
              0.4444444444444444,
              "#bd3786"
             ],
             [
              0.5555555555555556,
              "#d8576b"
             ],
             [
              0.6666666666666666,
              "#ed7953"
             ],
             [
              0.7777777777777778,
              "#fb9f3a"
             ],
             [
              0.8888888888888888,
              "#fdca26"
             ],
             [
              1,
              "#f0f921"
             ]
            ],
            "type": "heatmap"
           }
          ],
          "heatmapgl": [
           {
            "colorbar": {
             "outlinewidth": 0,
             "ticks": ""
            },
            "colorscale": [
             [
              0,
              "#0d0887"
             ],
             [
              0.1111111111111111,
              "#46039f"
             ],
             [
              0.2222222222222222,
              "#7201a8"
             ],
             [
              0.3333333333333333,
              "#9c179e"
             ],
             [
              0.4444444444444444,
              "#bd3786"
             ],
             [
              0.5555555555555556,
              "#d8576b"
             ],
             [
              0.6666666666666666,
              "#ed7953"
             ],
             [
              0.7777777777777778,
              "#fb9f3a"
             ],
             [
              0.8888888888888888,
              "#fdca26"
             ],
             [
              1,
              "#f0f921"
             ]
            ],
            "type": "heatmapgl"
           }
          ],
          "histogram": [
           {
            "marker": {
             "pattern": {
              "fillmode": "overlay",
              "size": 10,
              "solidity": 0.2
             }
            },
            "type": "histogram"
           }
          ],
          "histogram2d": [
           {
            "colorbar": {
             "outlinewidth": 0,
             "ticks": ""
            },
            "colorscale": [
             [
              0,
              "#0d0887"
             ],
             [
              0.1111111111111111,
              "#46039f"
             ],
             [
              0.2222222222222222,
              "#7201a8"
             ],
             [
              0.3333333333333333,
              "#9c179e"
             ],
             [
              0.4444444444444444,
              "#bd3786"
             ],
             [
              0.5555555555555556,
              "#d8576b"
             ],
             [
              0.6666666666666666,
              "#ed7953"
             ],
             [
              0.7777777777777778,
              "#fb9f3a"
             ],
             [
              0.8888888888888888,
              "#fdca26"
             ],
             [
              1,
              "#f0f921"
             ]
            ],
            "type": "histogram2d"
           }
          ],
          "histogram2dcontour": [
           {
            "colorbar": {
             "outlinewidth": 0,
             "ticks": ""
            },
            "colorscale": [
             [
              0,
              "#0d0887"
             ],
             [
              0.1111111111111111,
              "#46039f"
             ],
             [
              0.2222222222222222,
              "#7201a8"
             ],
             [
              0.3333333333333333,
              "#9c179e"
             ],
             [
              0.4444444444444444,
              "#bd3786"
             ],
             [
              0.5555555555555556,
              "#d8576b"
             ],
             [
              0.6666666666666666,
              "#ed7953"
             ],
             [
              0.7777777777777778,
              "#fb9f3a"
             ],
             [
              0.8888888888888888,
              "#fdca26"
             ],
             [
              1,
              "#f0f921"
             ]
            ],
            "type": "histogram2dcontour"
           }
          ],
          "mesh3d": [
           {
            "colorbar": {
             "outlinewidth": 0,
             "ticks": ""
            },
            "type": "mesh3d"
           }
          ],
          "parcoords": [
           {
            "line": {
             "colorbar": {
              "outlinewidth": 0,
              "ticks": ""
             }
            },
            "type": "parcoords"
           }
          ],
          "pie": [
           {
            "automargin": true,
            "type": "pie"
           }
          ],
          "scatter": [
           {
            "marker": {
             "colorbar": {
              "outlinewidth": 0,
              "ticks": ""
             }
            },
            "type": "scatter"
           }
          ],
          "scatter3d": [
           {
            "line": {
             "colorbar": {
              "outlinewidth": 0,
              "ticks": ""
             }
            },
            "marker": {
             "colorbar": {
              "outlinewidth": 0,
              "ticks": ""
             }
            },
            "type": "scatter3d"
           }
          ],
          "scattercarpet": [
           {
            "marker": {
             "colorbar": {
              "outlinewidth": 0,
              "ticks": ""
             }
            },
            "type": "scattercarpet"
           }
          ],
          "scattergeo": [
           {
            "marker": {
             "colorbar": {
              "outlinewidth": 0,
              "ticks": ""
             }
            },
            "type": "scattergeo"
           }
          ],
          "scattergl": [
           {
            "marker": {
             "colorbar": {
              "outlinewidth": 0,
              "ticks": ""
             }
            },
            "type": "scattergl"
           }
          ],
          "scattermapbox": [
           {
            "marker": {
             "colorbar": {
              "outlinewidth": 0,
              "ticks": ""
             }
            },
            "type": "scattermapbox"
           }
          ],
          "scatterpolar": [
           {
            "marker": {
             "colorbar": {
              "outlinewidth": 0,
              "ticks": ""
             }
            },
            "type": "scatterpolar"
           }
          ],
          "scatterpolargl": [
           {
            "marker": {
             "colorbar": {
              "outlinewidth": 0,
              "ticks": ""
             }
            },
            "type": "scatterpolargl"
           }
          ],
          "scatterternary": [
           {
            "marker": {
             "colorbar": {
              "outlinewidth": 0,
              "ticks": ""
             }
            },
            "type": "scatterternary"
           }
          ],
          "surface": [
           {
            "colorbar": {
             "outlinewidth": 0,
             "ticks": ""
            },
            "colorscale": [
             [
              0,
              "#0d0887"
             ],
             [
              0.1111111111111111,
              "#46039f"
             ],
             [
              0.2222222222222222,
              "#7201a8"
             ],
             [
              0.3333333333333333,
              "#9c179e"
             ],
             [
              0.4444444444444444,
              "#bd3786"
             ],
             [
              0.5555555555555556,
              "#d8576b"
             ],
             [
              0.6666666666666666,
              "#ed7953"
             ],
             [
              0.7777777777777778,
              "#fb9f3a"
             ],
             [
              0.8888888888888888,
              "#fdca26"
             ],
             [
              1,
              "#f0f921"
             ]
            ],
            "type": "surface"
           }
          ],
          "table": [
           {
            "cells": {
             "fill": {
              "color": "#EBF0F8"
             },
             "line": {
              "color": "white"
             }
            },
            "header": {
             "fill": {
              "color": "#C8D4E3"
             },
             "line": {
              "color": "white"
             }
            },
            "type": "table"
           }
          ]
         },
         "layout": {
          "annotationdefaults": {
           "arrowcolor": "#2a3f5f",
           "arrowhead": 0,
           "arrowwidth": 1
          },
          "autotypenumbers": "strict",
          "coloraxis": {
           "colorbar": {
            "outlinewidth": 0,
            "ticks": ""
           }
          },
          "colorscale": {
           "diverging": [
            [
             0,
             "#8e0152"
            ],
            [
             0.1,
             "#c51b7d"
            ],
            [
             0.2,
             "#de77ae"
            ],
            [
             0.3,
             "#f1b6da"
            ],
            [
             0.4,
             "#fde0ef"
            ],
            [
             0.5,
             "#f7f7f7"
            ],
            [
             0.6,
             "#e6f5d0"
            ],
            [
             0.7,
             "#b8e186"
            ],
            [
             0.8,
             "#7fbc41"
            ],
            [
             0.9,
             "#4d9221"
            ],
            [
             1,
             "#276419"
            ]
           ],
           "sequential": [
            [
             0,
             "#0d0887"
            ],
            [
             0.1111111111111111,
             "#46039f"
            ],
            [
             0.2222222222222222,
             "#7201a8"
            ],
            [
             0.3333333333333333,
             "#9c179e"
            ],
            [
             0.4444444444444444,
             "#bd3786"
            ],
            [
             0.5555555555555556,
             "#d8576b"
            ],
            [
             0.6666666666666666,
             "#ed7953"
            ],
            [
             0.7777777777777778,
             "#fb9f3a"
            ],
            [
             0.8888888888888888,
             "#fdca26"
            ],
            [
             1,
             "#f0f921"
            ]
           ],
           "sequentialminus": [
            [
             0,
             "#0d0887"
            ],
            [
             0.1111111111111111,
             "#46039f"
            ],
            [
             0.2222222222222222,
             "#7201a8"
            ],
            [
             0.3333333333333333,
             "#9c179e"
            ],
            [
             0.4444444444444444,
             "#bd3786"
            ],
            [
             0.5555555555555556,
             "#d8576b"
            ],
            [
             0.6666666666666666,
             "#ed7953"
            ],
            [
             0.7777777777777778,
             "#fb9f3a"
            ],
            [
             0.8888888888888888,
             "#fdca26"
            ],
            [
             1,
             "#f0f921"
            ]
           ]
          },
          "colorway": [
           "#636efa",
           "#EF553B",
           "#00cc96",
           "#ab63fa",
           "#FFA15A",
           "#19d3f3",
           "#FF6692",
           "#B6E880",
           "#FF97FF",
           "#FECB52"
          ],
          "font": {
           "color": "#2a3f5f"
          },
          "geo": {
           "bgcolor": "white",
           "lakecolor": "white",
           "landcolor": "#E5ECF6",
           "showlakes": true,
           "showland": true,
           "subunitcolor": "white"
          },
          "hoverlabel": {
           "align": "left"
          },
          "hovermode": "closest",
          "mapbox": {
           "style": "light"
          },
          "paper_bgcolor": "white",
          "plot_bgcolor": "#E5ECF6",
          "polar": {
           "angularaxis": {
            "gridcolor": "white",
            "linecolor": "white",
            "ticks": ""
           },
           "bgcolor": "#E5ECF6",
           "radialaxis": {
            "gridcolor": "white",
            "linecolor": "white",
            "ticks": ""
           }
          },
          "scene": {
           "xaxis": {
            "backgroundcolor": "#E5ECF6",
            "gridcolor": "white",
            "gridwidth": 2,
            "linecolor": "white",
            "showbackground": true,
            "ticks": "",
            "zerolinecolor": "white"
           },
           "yaxis": {
            "backgroundcolor": "#E5ECF6",
            "gridcolor": "white",
            "gridwidth": 2,
            "linecolor": "white",
            "showbackground": true,
            "ticks": "",
            "zerolinecolor": "white"
           },
           "zaxis": {
            "backgroundcolor": "#E5ECF6",
            "gridcolor": "white",
            "gridwidth": 2,
            "linecolor": "white",
            "showbackground": true,
            "ticks": "",
            "zerolinecolor": "white"
           }
          },
          "shapedefaults": {
           "line": {
            "color": "#2a3f5f"
           }
          },
          "ternary": {
           "aaxis": {
            "gridcolor": "white",
            "linecolor": "white",
            "ticks": ""
           },
           "baxis": {
            "gridcolor": "white",
            "linecolor": "white",
            "ticks": ""
           },
           "bgcolor": "#E5ECF6",
           "caxis": {
            "gridcolor": "white",
            "linecolor": "white",
            "ticks": ""
           }
          },
          "title": {
           "x": 0.05
          },
          "xaxis": {
           "automargin": true,
           "gridcolor": "white",
           "linecolor": "white",
           "ticks": "",
           "title": {
            "standoff": 15
           },
           "zerolinecolor": "white",
           "zerolinewidth": 2
          },
          "yaxis": {
           "automargin": true,
           "gridcolor": "white",
           "linecolor": "white",
           "ticks": "",
           "title": {
            "standoff": 15
           },
           "zerolinecolor": "white",
           "zerolinewidth": 2
          }
         }
        },
        "title": {
         "text": "Close vs Stoploss"
        },
        "xaxis": {
         "title": {
          "text": "Date"
         }
        },
        "yaxis": {
         "title": {
          "text": "Values"
         }
        }
       }
      },
      "text/html": [
       "<div>                            <div id=\"9f1abe92-2865-4ad2-bac6-dd46b1fe20fc\" class=\"plotly-graph-div\" style=\"height:525px; width:100%;\"></div>            <script type=\"text/javascript\">                require([\"plotly\"], function(Plotly) {                    window.PLOTLYENV=window.PLOTLYENV || {};                                    if (document.getElementById(\"9f1abe92-2865-4ad2-bac6-dd46b1fe20fc\")) {                    Plotly.newPlot(                        \"9f1abe92-2865-4ad2-bac6-dd46b1fe20fc\",                        [{\"line\":{\"color\":\"gold\",\"width\":4},\"mode\":\"lines\",\"name\":\"close\",\"type\":\"scatter\",\"x\":[\"2018-08-28T06:36:00\",\"2018-08-28T11:12:00\",\"2018-08-28T22:24:00\",\"2018-08-29T17:48:00\",\"2018-08-30T06:24:00\",\"2018-08-31T00:00:00\",\"2018-08-31T05:48:00\",\"2018-08-31T08:00:00\",\"2018-08-31T14:12:00\",\"2018-09-03T08:12:00\",\"2018-09-04T01:24:00\",\"2018-09-04T20:36:00\",\"2018-09-05T10:00:00\",\"2018-09-05T15:36:00\",\"2018-09-06T08:48:00\",\"2018-09-06T16:00:00\",\"2018-09-06T19:36:00\",\"2018-09-07T03:36:00\",\"2018-09-07T04:00:00\",\"2018-09-07T08:00:00\",\"2018-09-07T15:12:00\",\"2018-09-10T11:48:00\",\"2018-09-11T00:00:00\",\"2018-09-11T08:24:00\",\"2018-09-11T14:24:00\",\"2018-09-11T21:48:00\",\"2018-09-12T05:48:00\",\"2018-09-12T12:48:00\",\"2018-09-12T15:12:00\",\"2018-09-12T16:00:00\",\"2018-09-12T16:24:00\",\"2018-09-12T17:00:00\",\"2018-09-13T02:48:00\",\"2018-09-13T04:12:00\",\"2018-09-13T09:24:00\",\"2018-09-13T15:48:00\",\"2018-09-14T15:12:00\",\"2018-09-17T05:48:00\",\"2018-09-18T00:24:00\",\"2018-09-18T07:00:00\",\"2018-09-18T13:12:00\",\"2018-09-18T16:24:00\",\"2018-09-18T20:12:00\",\"2018-09-19T03:12:00\",\"2018-09-19T06:00:00\",\"2018-09-19T08:48:00\",\"2018-09-19T16:00:00\",\"2018-09-19T22:12:00\",\"2018-09-19T23:48:00\",\"2018-09-20T05:00:00\",\"2018-09-21T13:48:00\",\"2018-09-24T01:00:00\",\"2018-09-24T05:12:00\",\"2018-09-24T11:48:00\",\"2018-09-24T21:00:00\",\"2018-09-25T10:24:00\",\"2018-09-25T21:24:00\",\"2018-09-26T09:12:00\",\"2018-09-26T14:12:00\",\"2018-09-26T21:00:00\",\"2018-09-27T01:24:00\",\"2018-09-28T06:48:00\",\"2018-09-28T10:12:00\",\"2018-09-28T19:24:00\",\"2018-10-01T02:12:00\",\"2018-10-01T13:12:00\",\"2018-10-01T18:12:00\",\"2018-10-02T02:48:00\",\"2018-10-02T05:12:00\",\"2018-10-02T17:36:00\",\"2018-10-03T02:24:00\",\"2018-10-03T05:00:00\",\"2018-10-03T13:24:00\",\"2018-10-04T10:48:00\",\"2018-10-04T21:48:00\",\"2018-10-05T00:24:00\",\"2018-10-05T06:36:00\",\"2018-10-05T16:12:00\",\"2018-10-08T05:36:00\",\"2018-10-08T20:24:00\",\"2018-10-09T06:12:00\",\"2018-10-09T08:12:00\",\"2018-10-09T09:36:00\",\"2018-10-09T19:00:00\",\"2018-10-10T10:48:00\",\"2018-10-10T16:36:00\",\"2018-10-11T00:48:00\",\"2018-10-11T03:36:00\",\"2018-10-11T11:48:00\",\"2018-10-11T14:36:00\",\"2018-10-12T11:12:00\",\"2018-10-15T09:48:00\",\"2018-10-15T20:48:00\",\"2018-10-16T03:36:00\",\"2018-10-16T07:12:00\",\"2018-10-16T12:12:00\",\"2018-10-16T15:48:00\",\"2018-10-16T16:00:00\",\"2018-10-16T20:48:00\",\"2018-10-17T13:24:00\",\"2018-10-17T13:48:00\",\"2018-10-18T11:48:00\",\"2018-10-18T17:24:00\",\"2018-10-19T06:00:00\",\"2018-10-19T10:24:00\",\"2018-10-19T14:36:00\",\"2018-10-22T04:00:00\",\"2018-10-22T08:00:00\",\"2018-10-22T14:12:00\",\"2018-10-23T11:48:00\",\"2018-10-23T17:48:00\",\"2018-10-23T18:12:00\",\"2018-10-23T19:12:00\",\"2018-10-23T19:48:00\",\"2018-10-24T00:36:00\",\"2018-10-25T01:36:00\",\"2018-10-25T12:48:00\",\"2018-10-25T15:12:00\",\"2018-10-25T16:48:00\",\"2018-10-26T02:00:00\",\"2018-10-26T06:36:00\",\"2018-10-26T11:12:00\",\"2018-10-26T14:00:00\",\"2018-10-26T19:00:00\",\"2018-10-29T03:24:00\",\"2018-10-29T09:48:00\",\"2018-10-29T14:00:00\",\"2018-10-29T15:24:00\",\"2018-10-29T16:00:00\",\"2018-10-29T23:00:00\",\"2018-10-30T00:00:00\",\"2018-10-30T06:24:00\",\"2018-10-30T09:36:00\",\"2018-10-30T17:48:00\",\"2018-10-30T19:36:00\",\"2018-10-31T05:00:00\",\"2018-10-31T06:12:00\",\"2018-10-31T10:12:00\",\"2018-10-31T14:00:00\",\"2018-11-01T00:36:00\",\"2018-11-01T01:36:00\",\"2018-11-01T03:00:00\",\"2018-11-02T01:36:00\",\"2018-11-02T07:48:00\",\"2018-11-02T16:36:00\",\"2018-11-05T02:48:00\",\"2018-11-05T05:48:00\",\"2018-11-05T18:00:00\",\"2018-11-06T05:00:00\",\"2018-11-06T10:24:00\",\"2018-11-06T14:48:00\",\"2018-11-06T15:36:00\",\"2018-11-06T21:36:00\",\"2018-11-07T01:00:00\",\"2018-11-07T18:48:00\",\"2018-11-08T10:24:00\",\"2018-11-08T11:48:00\",\"2018-11-08T17:36:00\",\"2018-11-08T19:48:00\",\"2018-11-09T15:00:00\",\"2018-11-09T19:12:00\",\"2018-11-12T17:36:00\",\"2018-11-12T19:24:00\",\"2018-11-13T05:48:00\",\"2018-11-13T12:12:00\",\"2018-11-13T14:36:00\",\"2018-11-14T07:48:00\",\"2018-11-14T16:36:00\",\"2018-11-15T12:12:00\",\"2018-11-15T19:36:00\",\"2018-11-16T14:00:00\",\"2018-11-16T16:12:00\",\"2018-11-19T04:12:00\",\"2018-11-19T11:12:00\",\"2018-11-20T03:48:00\",\"2018-11-20T09:48:00\",\"2018-11-20T11:36:00\",\"2018-11-21T04:48:00\",\"2018-11-21T20:00:00\",\"2018-11-22T04:24:00\",\"2018-11-22T17:48:00\",\"2018-11-23T05:00:00\",\"2018-11-23T10:48:00\",\"2018-11-26T02:48:00\",\"2018-11-26T17:12:00\",\"2018-11-27T05:00:00\",\"2018-11-27T10:12:00\",\"2018-11-28T02:12:00\",\"2018-11-28T05:00:00\",\"2018-11-28T07:36:00\",\"2018-11-28T10:00:00\",\"2018-11-28T19:00:00\",\"2018-11-29T05:48:00\",\"2018-11-29T06:00:00\",\"2018-11-29T12:36:00\",\"2018-11-29T17:24:00\",\"2018-11-30T09:48:00\",\"2018-12-03T01:48:00\",\"2018-12-03T13:24:00\",\"2018-12-03T19:24:00\",\"2018-12-04T01:00:00\",\"2018-12-04T01:12:00\",\"2018-12-04T17:36:00\",\"2018-12-05T11:48:00\",\"2018-12-05T19:24:00\",\"2018-12-05T21:24:00\",\"2018-12-05T22:36:00\",\"2018-12-06T01:36:00\",\"2018-12-06T07:00:00\",\"2018-12-06T15:00:00\",\"2018-12-07T00:36:00\",\"2018-12-07T13:48:00\",\"2018-12-07T14:36:00\",\"2018-12-07T15:24:00\",\"2018-12-10T11:48:00\",\"2018-12-11T04:24:00\",\"2018-12-11T17:00:00\",\"2018-12-12T02:36:00\",\"2018-12-12T09:48:00\",\"2018-12-12T13:12:00\",\"2018-12-13T05:24:00\",\"2018-12-13T10:00:00\",\"2018-12-13T16:00:00\",\"2018-12-13T22:36:00\",\"2018-12-14T03:24:00\",\"2018-12-14T20:12:00\",\"2018-12-18T08:24:00\",\"2018-12-18T11:00:00\",\"2018-12-18T18:24:00\",\"2018-12-19T01:48:00\",\"2018-12-19T22:12:00\",\"2018-12-20T06:48:00\",\"2018-12-20T18:00:00\",\"2018-12-20T22:00:00\",\"2018-12-21T03:00:00\",\"2018-12-21T09:36:00\",\"2018-12-21T12:24:00\",\"2018-12-24T04:12:00\",\"2018-12-26T07:48:00\",\"2018-12-26T18:12:00\",\"2018-12-26T21:00:00\",\"2018-12-27T04:12:00\",\"2018-12-28T12:24:00\",\"2018-12-28T13:24:00\",\"2018-12-28T17:36:00\",\"2018-12-31T12:12:00\",\"2018-12-31T19:12:00\"],\"y\":[1.16718,1.1688,1.16928,1.16928,1.16993,1.16662,1.16628,1.1685,1.16487,1.16067,1.16159,1.1577,1.15608,1.15858,1.1622,1.16368,1.16214,1.16222,1.1619,1.16271,1.16131,1.15701,1.15945,1.15988,1.15837,1.15844,1.15891,1.1594,1.15816,1.15938,1.15895,1.16144,1.16247,1.16353,1.16263,1.16781,1.16928,1.16345,1.1684,1.1694,1.16745,1.17153,1.16615,1.16724,1.16641,1.16861,1.1671,1.16724,1.16716,1.16819,1.17613,1.17446,1.17397,1.1767,1.17552,1.17617,1.17668,1.17652,1.17444,1.17742,1.17455,1.1647,1.16219,1.16157,1.16042,1.1611,1.15785,1.15763,1.15702,1.15411,1.15515,1.15869,1.15589,1.14927,1.15141,1.1512,1.15057,1.15243,1.15128,1.14804,1.14896,1.14952,1.14766,1.14829,1.14934,1.15126,1.1526,1.15357,1.15451,1.15742,1.15757,1.15635,1.15766,1.15864,1.1573,1.15671,1.15872,1.16136,1.15737,1.15562,1.15468,1.1517,1.14948,1.14577,1.14443,1.14727,1.15,1.15107,1.14945,1.1466,1.1459,1.14812,1.148,1.14813,1.14703,1.13967,1.14085,1.14162,1.13798,1.13742,1.1367,1.13667,1.13441,1.14018,1.13881,1.14078,1.13926,1.13794,1.137,1.13711,1.13725,1.13787,1.13659,1.13632,1.13524,1.13436,1.13402,1.13509,1.13375,1.1316,1.13161,1.13293,1.14016,1.14237,1.14208,1.13947,1.13826,1.1401,1.14093,1.14114,1.14174,1.14327,1.14135,1.14211,1.14578,1.14395,1.14223,1.14304,1.13919,1.13495,1.13236,1.12659,1.12444,1.12445,1.12247,1.12663,1.12895,1.13035,1.12845,1.1323,1.13317,1.14041,1.14114,1.14176,1.14461,1.14569,1.1432,1.13728,1.13932,1.13974,1.14055,1.14095,1.13694,1.13336,1.1344,1.13337,1.13115,1.12957,1.12937,1.12963,1.1275,1.13511,1.1377,1.13802,1.13541,1.13777,1.13805,1.13416,1.1322,1.13552,1.13539,1.13543,1.13579,1.13364,1.13508,1.13457,1.13415,1.13448,1.13469,1.13529,1.13748,1.13799,1.13668,1.1402,1.14113,1.13652,1.13305,1.13294,1.13233,1.13363,1.13708,1.13869,1.13635,1.13622,1.13577,1.12973,1.13422,1.13718,1.13673,1.13751,1.13766,1.1385,1.14168,1.14683,1.14487,1.14723,1.14212,1.13796,1.14019,1.14061,1.1361,1.13834,1.14626,1.1464,1.14433,1.1442,1.14501]},{\"line\":{\"color\":\"firebrick\",\"width\":3},\"mode\":\"markers\",\"name\":\"stoploss\",\"type\":\"scatter\",\"x\":[\"2018-08-28T06:36:00\",\"2018-08-28T11:12:00\",\"2018-08-28T22:24:00\",\"2018-08-29T17:48:00\",\"2018-08-30T06:24:00\",\"2018-08-31T00:00:00\",\"2018-08-31T05:48:00\",\"2018-08-31T08:00:00\",\"2018-08-31T14:12:00\",\"2018-09-03T08:12:00\",\"2018-09-04T01:24:00\",\"2018-09-04T20:36:00\",\"2018-09-05T10:00:00\",\"2018-09-05T15:36:00\",\"2018-09-06T08:48:00\",\"2018-09-06T16:00:00\",\"2018-09-06T19:36:00\",\"2018-09-07T03:36:00\",\"2018-09-07T04:00:00\",\"2018-09-07T08:00:00\",\"2018-09-07T15:12:00\",\"2018-09-10T11:48:00\",\"2018-09-11T00:00:00\",\"2018-09-11T08:24:00\",\"2018-09-11T14:24:00\",\"2018-09-11T21:48:00\",\"2018-09-12T05:48:00\",\"2018-09-12T12:48:00\",\"2018-09-12T15:12:00\",\"2018-09-12T16:00:00\",\"2018-09-12T16:24:00\",\"2018-09-12T17:00:00\",\"2018-09-13T02:48:00\",\"2018-09-13T04:12:00\",\"2018-09-13T09:24:00\",\"2018-09-13T15:48:00\",\"2018-09-14T15:12:00\",\"2018-09-17T05:48:00\",\"2018-09-18T00:24:00\",\"2018-09-18T07:00:00\",\"2018-09-18T13:12:00\",\"2018-09-18T16:24:00\",\"2018-09-18T20:12:00\",\"2018-09-19T03:12:00\",\"2018-09-19T06:00:00\",\"2018-09-19T08:48:00\",\"2018-09-19T16:00:00\",\"2018-09-19T22:12:00\",\"2018-09-19T23:48:00\",\"2018-09-20T05:00:00\",\"2018-09-21T13:48:00\",\"2018-09-24T01:00:00\",\"2018-09-24T05:12:00\",\"2018-09-24T11:48:00\",\"2018-09-24T21:00:00\",\"2018-09-25T10:24:00\",\"2018-09-25T21:24:00\",\"2018-09-26T09:12:00\",\"2018-09-26T14:12:00\",\"2018-09-26T21:00:00\",\"2018-09-27T01:24:00\",\"2018-09-28T06:48:00\",\"2018-09-28T10:12:00\",\"2018-09-28T19:24:00\",\"2018-10-01T02:12:00\",\"2018-10-01T13:12:00\",\"2018-10-01T18:12:00\",\"2018-10-02T02:48:00\",\"2018-10-02T05:12:00\",\"2018-10-02T17:36:00\",\"2018-10-03T02:24:00\",\"2018-10-03T05:00:00\",\"2018-10-03T13:24:00\",\"2018-10-04T10:48:00\",\"2018-10-04T21:48:00\",\"2018-10-05T00:24:00\",\"2018-10-05T06:36:00\",\"2018-10-05T16:12:00\",\"2018-10-08T05:36:00\",\"2018-10-08T20:24:00\",\"2018-10-09T06:12:00\",\"2018-10-09T08:12:00\",\"2018-10-09T09:36:00\",\"2018-10-09T19:00:00\",\"2018-10-10T10:48:00\",\"2018-10-10T16:36:00\",\"2018-10-11T00:48:00\",\"2018-10-11T03:36:00\",\"2018-10-11T11:48:00\",\"2018-10-11T14:36:00\",\"2018-10-12T11:12:00\",\"2018-10-15T09:48:00\",\"2018-10-15T20:48:00\",\"2018-10-16T03:36:00\",\"2018-10-16T07:12:00\",\"2018-10-16T12:12:00\",\"2018-10-16T15:48:00\",\"2018-10-16T16:00:00\",\"2018-10-16T20:48:00\",\"2018-10-17T13:24:00\",\"2018-10-17T13:48:00\",\"2018-10-18T11:48:00\",\"2018-10-18T17:24:00\",\"2018-10-19T06:00:00\",\"2018-10-19T10:24:00\",\"2018-10-19T14:36:00\",\"2018-10-22T04:00:00\",\"2018-10-22T08:00:00\",\"2018-10-22T14:12:00\",\"2018-10-23T11:48:00\",\"2018-10-23T17:48:00\",\"2018-10-23T18:12:00\",\"2018-10-23T19:12:00\",\"2018-10-23T19:48:00\",\"2018-10-24T00:36:00\",\"2018-10-25T01:36:00\",\"2018-10-25T12:48:00\",\"2018-10-25T15:12:00\",\"2018-10-25T16:48:00\",\"2018-10-26T02:00:00\",\"2018-10-26T06:36:00\",\"2018-10-26T11:12:00\",\"2018-10-26T14:00:00\",\"2018-10-26T19:00:00\",\"2018-10-29T03:24:00\",\"2018-10-29T09:48:00\",\"2018-10-29T14:00:00\",\"2018-10-29T15:24:00\",\"2018-10-29T16:00:00\",\"2018-10-29T23:00:00\",\"2018-10-30T00:00:00\",\"2018-10-30T06:24:00\",\"2018-10-30T09:36:00\",\"2018-10-30T17:48:00\",\"2018-10-30T19:36:00\",\"2018-10-31T05:00:00\",\"2018-10-31T06:12:00\",\"2018-10-31T10:12:00\",\"2018-10-31T14:00:00\",\"2018-11-01T00:36:00\",\"2018-11-01T01:36:00\",\"2018-11-01T03:00:00\",\"2018-11-02T01:36:00\",\"2018-11-02T07:48:00\",\"2018-11-02T16:36:00\",\"2018-11-05T02:48:00\",\"2018-11-05T05:48:00\",\"2018-11-05T18:00:00\",\"2018-11-06T05:00:00\",\"2018-11-06T10:24:00\",\"2018-11-06T14:48:00\",\"2018-11-06T15:36:00\",\"2018-11-06T21:36:00\",\"2018-11-07T01:00:00\",\"2018-11-07T18:48:00\",\"2018-11-08T10:24:00\",\"2018-11-08T11:48:00\",\"2018-11-08T17:36:00\",\"2018-11-08T19:48:00\",\"2018-11-09T15:00:00\",\"2018-11-09T19:12:00\",\"2018-11-12T17:36:00\",\"2018-11-12T19:24:00\",\"2018-11-13T05:48:00\",\"2018-11-13T12:12:00\",\"2018-11-13T14:36:00\",\"2018-11-14T07:48:00\",\"2018-11-14T16:36:00\",\"2018-11-15T12:12:00\",\"2018-11-15T19:36:00\",\"2018-11-16T14:00:00\",\"2018-11-16T16:12:00\",\"2018-11-19T04:12:00\",\"2018-11-19T11:12:00\",\"2018-11-20T03:48:00\",\"2018-11-20T09:48:00\",\"2018-11-20T11:36:00\",\"2018-11-21T04:48:00\",\"2018-11-21T20:00:00\",\"2018-11-22T04:24:00\",\"2018-11-22T17:48:00\",\"2018-11-23T05:00:00\",\"2018-11-23T10:48:00\",\"2018-11-26T02:48:00\",\"2018-11-26T17:12:00\",\"2018-11-27T05:00:00\",\"2018-11-27T10:12:00\",\"2018-11-28T02:12:00\",\"2018-11-28T05:00:00\",\"2018-11-28T07:36:00\",\"2018-11-28T10:00:00\",\"2018-11-28T19:00:00\",\"2018-11-29T05:48:00\",\"2018-11-29T06:00:00\",\"2018-11-29T12:36:00\",\"2018-11-29T17:24:00\",\"2018-11-30T09:48:00\",\"2018-12-03T01:48:00\",\"2018-12-03T13:24:00\",\"2018-12-03T19:24:00\",\"2018-12-04T01:00:00\",\"2018-12-04T01:12:00\",\"2018-12-04T17:36:00\",\"2018-12-05T11:48:00\",\"2018-12-05T19:24:00\",\"2018-12-05T21:24:00\",\"2018-12-05T22:36:00\",\"2018-12-06T01:36:00\",\"2018-12-06T07:00:00\",\"2018-12-06T15:00:00\",\"2018-12-07T00:36:00\",\"2018-12-07T13:48:00\",\"2018-12-07T14:36:00\",\"2018-12-07T15:24:00\",\"2018-12-10T11:48:00\",\"2018-12-11T04:24:00\",\"2018-12-11T17:00:00\",\"2018-12-12T02:36:00\",\"2018-12-12T09:48:00\",\"2018-12-12T13:12:00\",\"2018-12-13T05:24:00\",\"2018-12-13T10:00:00\",\"2018-12-13T16:00:00\",\"2018-12-13T22:36:00\",\"2018-12-14T03:24:00\",\"2018-12-14T20:12:00\",\"2018-12-18T08:24:00\",\"2018-12-18T11:00:00\",\"2018-12-18T18:24:00\",\"2018-12-19T01:48:00\",\"2018-12-19T22:12:00\",\"2018-12-20T06:48:00\",\"2018-12-20T18:00:00\",\"2018-12-20T22:00:00\",\"2018-12-21T03:00:00\",\"2018-12-21T09:36:00\",\"2018-12-21T12:24:00\",\"2018-12-24T04:12:00\",\"2018-12-26T07:48:00\",\"2018-12-26T18:12:00\",\"2018-12-26T21:00:00\",\"2018-12-27T04:12:00\",\"2018-12-28T12:24:00\",\"2018-12-28T13:24:00\",\"2018-12-28T17:36:00\",\"2018-12-31T12:12:00\",\"2018-12-31T19:12:00\"],\"y\":[1.1905236000000001,1.145424,1.1926656000000002,1.1458944,1.1933285999999999,1.1432876,1.1896056,1.14513,1.1881674,1.1374566000000002,1.1848218,1.1345459999999998,1.1792016,1.1354084,1.185444,1.1404064,1.1853828,1.1389756,1.185138,1.1394558,1.1845362000000002,1.1338698,1.1826390000000002,1.1366824,1.1815373999999998,1.1352711999999998,1.1820882000000001,1.136212,1.1813232,1.1361924,1.182129,1.1382112,1.1857194,1.1402594,1.1858826,1.1444538,1.1926656000000002,1.1401810000000001,1.1917680000000002,1.146012,1.1907990000000002,1.1480994,1.189473,1.1438952,1.1897381999999999,1.1452377999999999,1.190442,1.1438952,1.1905032,1.1448262,1.1996525999999998,1.1509708,1.1974494,1.1531660000000001,1.1990303999999998,1.1526466,1.2002135999999999,1.1529896,1.1979288,1.1538716,1.198041,1.1414060000000001,1.1854338,1.1383386,1.1836284000000001,1.137878,1.1810070000000001,1.1344774,1.1801603999999999,1.1310278,1.178253,1.1355162,1.1790078000000002,1.1262846,1.1744382,1.128176,1.1735814000000002,1.1293814,1.1743056,1.1250791999999998,1.1719392,1.1265296,1.1706132,1.1253242,1.1723268,1.1282348,1.1756520000000001,1.1304986,1.1776001999999999,1.1342716,1.1807214,1.1332229999999999,1.1808132,1.1354672,1.180446,1.1335757999999998,1.1818944,1.1381328,1.1805174,1.1325076,1.1777735999999999,1.128666,1.1724696000000001,1.1228546,1.1673186,1.1243246,1.1729999999999998,1.1280486,1.172439,1.1236680000000001,1.168818,1.1251576,1.17096,1.1251674,1.1699706,1.1168765999999999,1.163667,1.1187876,1.1607396,1.1146716,1.159434,1.1139366,1.1570981999999999,1.1173764,1.1615862000000001,1.1179644,1.1620452,1.1151811999999999,1.15974,1.1143678000000001,1.159995,1.1151126,1.1593218,1.1135936,1.1579448,1.1116728,1.1567004,1.1123881999999998,1.156425,1.108968,1.1542422,1.1102714,1.1629632,1.1195226,1.1649216,1.1166806,1.1610252,1.117298,1.1637486,1.1183172000000001,1.1645748,1.1204046,1.164177,1.1192678,1.1686956,1.121071,1.1650746,1.1201792,1.1619738,1.1122509999999999,1.1550072,1.1040581999999999,1.1469288000000002,1.101961,1.1449194,1.1040974,1.151529,1.107743,1.151019,1.1096540000000001,1.1558334000000001,1.1176017999999999,1.1639628,1.1189248,1.1675022,1.1227762000000001,1.166064,1.1145344000000001,1.1621064,1.1169452,1.1633609999999999,1.118131,1.1596788,1.1106927999999998,1.1570880000000001,1.1107026,1.1537730000000002,1.1069786,1.1519574,1.1070373999999998,1.15005,1.1124078,1.1604539999999999,1.1152596,1.1581182,1.1150145999999999,1.160811,1.1114768,1.1548440000000002,1.1128096,1.1580978,1.1127213999999999,1.1585058000000001,1.1109672,1.1577816,1.1118786,1.156833,1.1117903999999998,1.1573838,1.1125842,1.1602296,1.1152302,1.1594136,1.117396,1.1639526,1.1137896,1.155711,1.1102812,1.1549766000000001,1.1109574,1.1598216000000001,1.1159162,1.159077,1.1134956,1.1584854,1.1071354,1.1569044,1.1144364,1.1594646,1.1147598,1.1604131999999998,1.11573,1.1645136,1.1238934,1.1677674,1.1242854,1.1649624,1.1152008,1.1629938,1.1177978,1.1588220000000002,1.1155731999999998,1.1691852,1.123472,1.1672166000000002,1.121316,1.1679102000000001]}],                        {\"template\":{\"data\":{\"bar\":[{\"error_x\":{\"color\":\"#2a3f5f\"},\"error_y\":{\"color\":\"#2a3f5f\"},\"marker\":{\"line\":{\"color\":\"#E5ECF6\",\"width\":0.5},\"pattern\":{\"fillmode\":\"overlay\",\"size\":10,\"solidity\":0.2}},\"type\":\"bar\"}],\"barpolar\":[{\"marker\":{\"line\":{\"color\":\"#E5ECF6\",\"width\":0.5},\"pattern\":{\"fillmode\":\"overlay\",\"size\":10,\"solidity\":0.2}},\"type\":\"barpolar\"}],\"carpet\":[{\"aaxis\":{\"endlinecolor\":\"#2a3f5f\",\"gridcolor\":\"white\",\"linecolor\":\"white\",\"minorgridcolor\":\"white\",\"startlinecolor\":\"#2a3f5f\"},\"baxis\":{\"endlinecolor\":\"#2a3f5f\",\"gridcolor\":\"white\",\"linecolor\":\"white\",\"minorgridcolor\":\"white\",\"startlinecolor\":\"#2a3f5f\"},\"type\":\"carpet\"}],\"choropleth\":[{\"colorbar\":{\"outlinewidth\":0,\"ticks\":\"\"},\"type\":\"choropleth\"}],\"contour\":[{\"colorbar\":{\"outlinewidth\":0,\"ticks\":\"\"},\"colorscale\":[[0.0,\"#0d0887\"],[0.1111111111111111,\"#46039f\"],[0.2222222222222222,\"#7201a8\"],[0.3333333333333333,\"#9c179e\"],[0.4444444444444444,\"#bd3786\"],[0.5555555555555556,\"#d8576b\"],[0.6666666666666666,\"#ed7953\"],[0.7777777777777778,\"#fb9f3a\"],[0.8888888888888888,\"#fdca26\"],[1.0,\"#f0f921\"]],\"type\":\"contour\"}],\"contourcarpet\":[{\"colorbar\":{\"outlinewidth\":0,\"ticks\":\"\"},\"type\":\"contourcarpet\"}],\"heatmap\":[{\"colorbar\":{\"outlinewidth\":0,\"ticks\":\"\"},\"colorscale\":[[0.0,\"#0d0887\"],[0.1111111111111111,\"#46039f\"],[0.2222222222222222,\"#7201a8\"],[0.3333333333333333,\"#9c179e\"],[0.4444444444444444,\"#bd3786\"],[0.5555555555555556,\"#d8576b\"],[0.6666666666666666,\"#ed7953\"],[0.7777777777777778,\"#fb9f3a\"],[0.8888888888888888,\"#fdca26\"],[1.0,\"#f0f921\"]],\"type\":\"heatmap\"}],\"heatmapgl\":[{\"colorbar\":{\"outlinewidth\":0,\"ticks\":\"\"},\"colorscale\":[[0.0,\"#0d0887\"],[0.1111111111111111,\"#46039f\"],[0.2222222222222222,\"#7201a8\"],[0.3333333333333333,\"#9c179e\"],[0.4444444444444444,\"#bd3786\"],[0.5555555555555556,\"#d8576b\"],[0.6666666666666666,\"#ed7953\"],[0.7777777777777778,\"#fb9f3a\"],[0.8888888888888888,\"#fdca26\"],[1.0,\"#f0f921\"]],\"type\":\"heatmapgl\"}],\"histogram\":[{\"marker\":{\"pattern\":{\"fillmode\":\"overlay\",\"size\":10,\"solidity\":0.2}},\"type\":\"histogram\"}],\"histogram2d\":[{\"colorbar\":{\"outlinewidth\":0,\"ticks\":\"\"},\"colorscale\":[[0.0,\"#0d0887\"],[0.1111111111111111,\"#46039f\"],[0.2222222222222222,\"#7201a8\"],[0.3333333333333333,\"#9c179e\"],[0.4444444444444444,\"#bd3786\"],[0.5555555555555556,\"#d8576b\"],[0.6666666666666666,\"#ed7953\"],[0.7777777777777778,\"#fb9f3a\"],[0.8888888888888888,\"#fdca26\"],[1.0,\"#f0f921\"]],\"type\":\"histogram2d\"}],\"histogram2dcontour\":[{\"colorbar\":{\"outlinewidth\":0,\"ticks\":\"\"},\"colorscale\":[[0.0,\"#0d0887\"],[0.1111111111111111,\"#46039f\"],[0.2222222222222222,\"#7201a8\"],[0.3333333333333333,\"#9c179e\"],[0.4444444444444444,\"#bd3786\"],[0.5555555555555556,\"#d8576b\"],[0.6666666666666666,\"#ed7953\"],[0.7777777777777778,\"#fb9f3a\"],[0.8888888888888888,\"#fdca26\"],[1.0,\"#f0f921\"]],\"type\":\"histogram2dcontour\"}],\"mesh3d\":[{\"colorbar\":{\"outlinewidth\":0,\"ticks\":\"\"},\"type\":\"mesh3d\"}],\"parcoords\":[{\"line\":{\"colorbar\":{\"outlinewidth\":0,\"ticks\":\"\"}},\"type\":\"parcoords\"}],\"pie\":[{\"automargin\":true,\"type\":\"pie\"}],\"scatter\":[{\"marker\":{\"colorbar\":{\"outlinewidth\":0,\"ticks\":\"\"}},\"type\":\"scatter\"}],\"scatter3d\":[{\"line\":{\"colorbar\":{\"outlinewidth\":0,\"ticks\":\"\"}},\"marker\":{\"colorbar\":{\"outlinewidth\":0,\"ticks\":\"\"}},\"type\":\"scatter3d\"}],\"scattercarpet\":[{\"marker\":{\"colorbar\":{\"outlinewidth\":0,\"ticks\":\"\"}},\"type\":\"scattercarpet\"}],\"scattergeo\":[{\"marker\":{\"colorbar\":{\"outlinewidth\":0,\"ticks\":\"\"}},\"type\":\"scattergeo\"}],\"scattergl\":[{\"marker\":{\"colorbar\":{\"outlinewidth\":0,\"ticks\":\"\"}},\"type\":\"scattergl\"}],\"scattermapbox\":[{\"marker\":{\"colorbar\":{\"outlinewidth\":0,\"ticks\":\"\"}},\"type\":\"scattermapbox\"}],\"scatterpolar\":[{\"marker\":{\"colorbar\":{\"outlinewidth\":0,\"ticks\":\"\"}},\"type\":\"scatterpolar\"}],\"scatterpolargl\":[{\"marker\":{\"colorbar\":{\"outlinewidth\":0,\"ticks\":\"\"}},\"type\":\"scatterpolargl\"}],\"scatterternary\":[{\"marker\":{\"colorbar\":{\"outlinewidth\":0,\"ticks\":\"\"}},\"type\":\"scatterternary\"}],\"surface\":[{\"colorbar\":{\"outlinewidth\":0,\"ticks\":\"\"},\"colorscale\":[[0.0,\"#0d0887\"],[0.1111111111111111,\"#46039f\"],[0.2222222222222222,\"#7201a8\"],[0.3333333333333333,\"#9c179e\"],[0.4444444444444444,\"#bd3786\"],[0.5555555555555556,\"#d8576b\"],[0.6666666666666666,\"#ed7953\"],[0.7777777777777778,\"#fb9f3a\"],[0.8888888888888888,\"#fdca26\"],[1.0,\"#f0f921\"]],\"type\":\"surface\"}],\"table\":[{\"cells\":{\"fill\":{\"color\":\"#EBF0F8\"},\"line\":{\"color\":\"white\"}},\"header\":{\"fill\":{\"color\":\"#C8D4E3\"},\"line\":{\"color\":\"white\"}},\"type\":\"table\"}]},\"layout\":{\"annotationdefaults\":{\"arrowcolor\":\"#2a3f5f\",\"arrowhead\":0,\"arrowwidth\":1},\"autotypenumbers\":\"strict\",\"coloraxis\":{\"colorbar\":{\"outlinewidth\":0,\"ticks\":\"\"}},\"colorscale\":{\"diverging\":[[0,\"#8e0152\"],[0.1,\"#c51b7d\"],[0.2,\"#de77ae\"],[0.3,\"#f1b6da\"],[0.4,\"#fde0ef\"],[0.5,\"#f7f7f7\"],[0.6,\"#e6f5d0\"],[0.7,\"#b8e186\"],[0.8,\"#7fbc41\"],[0.9,\"#4d9221\"],[1,\"#276419\"]],\"sequential\":[[0.0,\"#0d0887\"],[0.1111111111111111,\"#46039f\"],[0.2222222222222222,\"#7201a8\"],[0.3333333333333333,\"#9c179e\"],[0.4444444444444444,\"#bd3786\"],[0.5555555555555556,\"#d8576b\"],[0.6666666666666666,\"#ed7953\"],[0.7777777777777778,\"#fb9f3a\"],[0.8888888888888888,\"#fdca26\"],[1.0,\"#f0f921\"]],\"sequentialminus\":[[0.0,\"#0d0887\"],[0.1111111111111111,\"#46039f\"],[0.2222222222222222,\"#7201a8\"],[0.3333333333333333,\"#9c179e\"],[0.4444444444444444,\"#bd3786\"],[0.5555555555555556,\"#d8576b\"],[0.6666666666666666,\"#ed7953\"],[0.7777777777777778,\"#fb9f3a\"],[0.8888888888888888,\"#fdca26\"],[1.0,\"#f0f921\"]]},\"colorway\":[\"#636efa\",\"#EF553B\",\"#00cc96\",\"#ab63fa\",\"#FFA15A\",\"#19d3f3\",\"#FF6692\",\"#B6E880\",\"#FF97FF\",\"#FECB52\"],\"font\":{\"color\":\"#2a3f5f\"},\"geo\":{\"bgcolor\":\"white\",\"lakecolor\":\"white\",\"landcolor\":\"#E5ECF6\",\"showlakes\":true,\"showland\":true,\"subunitcolor\":\"white\"},\"hoverlabel\":{\"align\":\"left\"},\"hovermode\":\"closest\",\"mapbox\":{\"style\":\"light\"},\"paper_bgcolor\":\"white\",\"plot_bgcolor\":\"#E5ECF6\",\"polar\":{\"angularaxis\":{\"gridcolor\":\"white\",\"linecolor\":\"white\",\"ticks\":\"\"},\"bgcolor\":\"#E5ECF6\",\"radialaxis\":{\"gridcolor\":\"white\",\"linecolor\":\"white\",\"ticks\":\"\"}},\"scene\":{\"xaxis\":{\"backgroundcolor\":\"#E5ECF6\",\"gridcolor\":\"white\",\"gridwidth\":2,\"linecolor\":\"white\",\"showbackground\":true,\"ticks\":\"\",\"zerolinecolor\":\"white\"},\"yaxis\":{\"backgroundcolor\":\"#E5ECF6\",\"gridcolor\":\"white\",\"gridwidth\":2,\"linecolor\":\"white\",\"showbackground\":true,\"ticks\":\"\",\"zerolinecolor\":\"white\"},\"zaxis\":{\"backgroundcolor\":\"#E5ECF6\",\"gridcolor\":\"white\",\"gridwidth\":2,\"linecolor\":\"white\",\"showbackground\":true,\"ticks\":\"\",\"zerolinecolor\":\"white\"}},\"shapedefaults\":{\"line\":{\"color\":\"#2a3f5f\"}},\"ternary\":{\"aaxis\":{\"gridcolor\":\"white\",\"linecolor\":\"white\",\"ticks\":\"\"},\"baxis\":{\"gridcolor\":\"white\",\"linecolor\":\"white\",\"ticks\":\"\"},\"bgcolor\":\"#E5ECF6\",\"caxis\":{\"gridcolor\":\"white\",\"linecolor\":\"white\",\"ticks\":\"\"}},\"title\":{\"x\":0.05},\"xaxis\":{\"automargin\":true,\"gridcolor\":\"white\",\"linecolor\":\"white\",\"ticks\":\"\",\"title\":{\"standoff\":15},\"zerolinecolor\":\"white\",\"zerolinewidth\":2},\"yaxis\":{\"automargin\":true,\"gridcolor\":\"white\",\"linecolor\":\"white\",\"ticks\":\"\",\"title\":{\"standoff\":15},\"zerolinecolor\":\"white\",\"zerolinewidth\":2}}},\"title\":{\"text\":\"Close vs Stoploss\"},\"xaxis\":{\"title\":{\"text\":\"Date\"}},\"yaxis\":{\"title\":{\"text\":\"Values\"}}},                        {\"responsive\": true}                    ).then(function(){\n",
       "                            \n",
       "var gd = document.getElementById('9f1abe92-2865-4ad2-bac6-dd46b1fe20fc');\n",
       "var x = new MutationObserver(function (mutations, observer) {{\n",
       "        var display = window.getComputedStyle(gd).display;\n",
       "        if (!display || display === 'none') {{\n",
       "            console.log([gd, 'removed!']);\n",
       "            Plotly.purge(gd);\n",
       "            observer.disconnect();\n",
       "        }}\n",
       "}});\n",
       "\n",
       "// Listen for the removal of the full notebook cells\n",
       "var notebookContainer = gd.closest('#notebook-container');\n",
       "if (notebookContainer) {{\n",
       "    x.observe(notebookContainer, {childList: true});\n",
       "}}\n",
       "\n",
       "// Listen for the clearing of the current output cell\n",
       "var outputEl = gd.closest('.output');\n",
       "if (outputEl) {{\n",
       "    x.observe(outputEl, {childList: true});\n",
       "}}\n",
       "\n",
       "                        })                };                });            </script>        </div>"
      ]
     },
     "metadata": {},
     "output_type": "display_data"
    }
   ],
   "source": [
    "# SL\n",
    "fig = go.Figure()\n",
    "fig.add_trace(go.Scatter(x=earnings_df_ma['time'], y=earnings_df_ma['close'],\n",
    "                    mode='lines',\n",
    "                    name='close',\n",
    "                    line=dict(color='gold', width=4)))\n",
    "\n",
    "fig.add_trace(go.Scatter(x=earnings_df_ma['time'], y=earnings_df_ma['Stoploss'],\n",
    "                    mode='markers', name='stoploss',\n",
    "                    line=dict(color='firebrick', width=3)))\n",
    "# Edit the layout\n",
    "fig.update_layout(title='Close vs Stoploss',\n",
    "                   xaxis_title='Date',\n",
    "                   yaxis_title='Values')\n",
    "\n",
    "fig.show()"
   ]
  },
  {
   "cell_type": "code",
   "execution_count": 70,
   "metadata": {},
   "outputs": [
    {
     "data": {
      "application/vnd.plotly.v1+json": {
       "config": {
        "plotlyServerURL": "https://plot.ly"
       },
       "data": [
        {
         "line": {
          "color": "olivedrab",
          "width": 4
         },
         "mode": "lines",
         "name": "close",
         "type": "scatter",
         "x": [
          "2018-08-28T06:36:00",
          "2018-08-28T11:12:00",
          "2018-08-28T22:24:00",
          "2018-08-29T17:48:00",
          "2018-08-30T06:24:00",
          "2018-08-31T00:00:00",
          "2018-08-31T05:48:00",
          "2018-08-31T08:00:00",
          "2018-08-31T14:12:00",
          "2018-09-03T08:12:00",
          "2018-09-04T01:24:00",
          "2018-09-04T20:36:00",
          "2018-09-05T10:00:00",
          "2018-09-05T15:36:00",
          "2018-09-06T08:48:00",
          "2018-09-06T16:00:00",
          "2018-09-06T19:36:00",
          "2018-09-07T03:36:00",
          "2018-09-07T04:00:00",
          "2018-09-07T08:00:00",
          "2018-09-07T15:12:00",
          "2018-09-10T11:48:00",
          "2018-09-11T00:00:00",
          "2018-09-11T08:24:00",
          "2018-09-11T14:24:00",
          "2018-09-11T21:48:00",
          "2018-09-12T05:48:00",
          "2018-09-12T12:48:00",
          "2018-09-12T15:12:00",
          "2018-09-12T16:00:00",
          "2018-09-12T16:24:00",
          "2018-09-12T17:00:00",
          "2018-09-13T02:48:00",
          "2018-09-13T04:12:00",
          "2018-09-13T09:24:00",
          "2018-09-13T15:48:00",
          "2018-09-14T15:12:00",
          "2018-09-17T05:48:00",
          "2018-09-18T00:24:00",
          "2018-09-18T07:00:00",
          "2018-09-18T13:12:00",
          "2018-09-18T16:24:00",
          "2018-09-18T20:12:00",
          "2018-09-19T03:12:00",
          "2018-09-19T06:00:00",
          "2018-09-19T08:48:00",
          "2018-09-19T16:00:00",
          "2018-09-19T22:12:00",
          "2018-09-19T23:48:00",
          "2018-09-20T05:00:00",
          "2018-09-21T13:48:00",
          "2018-09-24T01:00:00",
          "2018-09-24T05:12:00",
          "2018-09-24T11:48:00",
          "2018-09-24T21:00:00",
          "2018-09-25T10:24:00",
          "2018-09-25T21:24:00",
          "2018-09-26T09:12:00",
          "2018-09-26T14:12:00",
          "2018-09-26T21:00:00",
          "2018-09-27T01:24:00",
          "2018-09-28T06:48:00",
          "2018-09-28T10:12:00",
          "2018-09-28T19:24:00",
          "2018-10-01T02:12:00",
          "2018-10-01T13:12:00",
          "2018-10-01T18:12:00",
          "2018-10-02T02:48:00",
          "2018-10-02T05:12:00",
          "2018-10-02T17:36:00",
          "2018-10-03T02:24:00",
          "2018-10-03T05:00:00",
          "2018-10-03T13:24:00",
          "2018-10-04T10:48:00",
          "2018-10-04T21:48:00",
          "2018-10-05T00:24:00",
          "2018-10-05T06:36:00",
          "2018-10-05T16:12:00",
          "2018-10-08T05:36:00",
          "2018-10-08T20:24:00",
          "2018-10-09T06:12:00",
          "2018-10-09T08:12:00",
          "2018-10-09T09:36:00",
          "2018-10-09T19:00:00",
          "2018-10-10T10:48:00",
          "2018-10-10T16:36:00",
          "2018-10-11T00:48:00",
          "2018-10-11T03:36:00",
          "2018-10-11T11:48:00",
          "2018-10-11T14:36:00",
          "2018-10-12T11:12:00",
          "2018-10-15T09:48:00",
          "2018-10-15T20:48:00",
          "2018-10-16T03:36:00",
          "2018-10-16T07:12:00",
          "2018-10-16T12:12:00",
          "2018-10-16T15:48:00",
          "2018-10-16T16:00:00",
          "2018-10-16T20:48:00",
          "2018-10-17T13:24:00",
          "2018-10-17T13:48:00",
          "2018-10-18T11:48:00",
          "2018-10-18T17:24:00",
          "2018-10-19T06:00:00",
          "2018-10-19T10:24:00",
          "2018-10-19T14:36:00",
          "2018-10-22T04:00:00",
          "2018-10-22T08:00:00",
          "2018-10-22T14:12:00",
          "2018-10-23T11:48:00",
          "2018-10-23T17:48:00",
          "2018-10-23T18:12:00",
          "2018-10-23T19:12:00",
          "2018-10-23T19:48:00",
          "2018-10-24T00:36:00",
          "2018-10-25T01:36:00",
          "2018-10-25T12:48:00",
          "2018-10-25T15:12:00",
          "2018-10-25T16:48:00",
          "2018-10-26T02:00:00",
          "2018-10-26T06:36:00",
          "2018-10-26T11:12:00",
          "2018-10-26T14:00:00",
          "2018-10-26T19:00:00",
          "2018-10-29T03:24:00",
          "2018-10-29T09:48:00",
          "2018-10-29T14:00:00",
          "2018-10-29T15:24:00",
          "2018-10-29T16:00:00",
          "2018-10-29T23:00:00",
          "2018-10-30T00:00:00",
          "2018-10-30T06:24:00",
          "2018-10-30T09:36:00",
          "2018-10-30T17:48:00",
          "2018-10-30T19:36:00",
          "2018-10-31T05:00:00",
          "2018-10-31T06:12:00",
          "2018-10-31T10:12:00",
          "2018-10-31T14:00:00",
          "2018-11-01T00:36:00",
          "2018-11-01T01:36:00",
          "2018-11-01T03:00:00",
          "2018-11-02T01:36:00",
          "2018-11-02T07:48:00",
          "2018-11-02T16:36:00",
          "2018-11-05T02:48:00",
          "2018-11-05T05:48:00",
          "2018-11-05T18:00:00",
          "2018-11-06T05:00:00",
          "2018-11-06T10:24:00",
          "2018-11-06T14:48:00",
          "2018-11-06T15:36:00",
          "2018-11-06T21:36:00",
          "2018-11-07T01:00:00",
          "2018-11-07T18:48:00",
          "2018-11-08T10:24:00",
          "2018-11-08T11:48:00",
          "2018-11-08T17:36:00",
          "2018-11-08T19:48:00",
          "2018-11-09T15:00:00",
          "2018-11-09T19:12:00",
          "2018-11-12T17:36:00",
          "2018-11-12T19:24:00",
          "2018-11-13T05:48:00",
          "2018-11-13T12:12:00",
          "2018-11-13T14:36:00",
          "2018-11-14T07:48:00",
          "2018-11-14T16:36:00",
          "2018-11-15T12:12:00",
          "2018-11-15T19:36:00",
          "2018-11-16T14:00:00",
          "2018-11-16T16:12:00",
          "2018-11-19T04:12:00",
          "2018-11-19T11:12:00",
          "2018-11-20T03:48:00",
          "2018-11-20T09:48:00",
          "2018-11-20T11:36:00",
          "2018-11-21T04:48:00",
          "2018-11-21T20:00:00",
          "2018-11-22T04:24:00",
          "2018-11-22T17:48:00",
          "2018-11-23T05:00:00",
          "2018-11-23T10:48:00",
          "2018-11-26T02:48:00",
          "2018-11-26T17:12:00",
          "2018-11-27T05:00:00",
          "2018-11-27T10:12:00",
          "2018-11-28T02:12:00",
          "2018-11-28T05:00:00",
          "2018-11-28T07:36:00",
          "2018-11-28T10:00:00",
          "2018-11-28T19:00:00",
          "2018-11-29T05:48:00",
          "2018-11-29T06:00:00",
          "2018-11-29T12:36:00",
          "2018-11-29T17:24:00",
          "2018-11-30T09:48:00",
          "2018-12-03T01:48:00",
          "2018-12-03T13:24:00",
          "2018-12-03T19:24:00",
          "2018-12-04T01:00:00",
          "2018-12-04T01:12:00",
          "2018-12-04T17:36:00",
          "2018-12-05T11:48:00",
          "2018-12-05T19:24:00",
          "2018-12-05T21:24:00",
          "2018-12-05T22:36:00",
          "2018-12-06T01:36:00",
          "2018-12-06T07:00:00",
          "2018-12-06T15:00:00",
          "2018-12-07T00:36:00",
          "2018-12-07T13:48:00",
          "2018-12-07T14:36:00",
          "2018-12-07T15:24:00",
          "2018-12-10T11:48:00",
          "2018-12-11T04:24:00",
          "2018-12-11T17:00:00",
          "2018-12-12T02:36:00",
          "2018-12-12T09:48:00",
          "2018-12-12T13:12:00",
          "2018-12-13T05:24:00",
          "2018-12-13T10:00:00",
          "2018-12-13T16:00:00",
          "2018-12-13T22:36:00",
          "2018-12-14T03:24:00",
          "2018-12-14T20:12:00",
          "2018-12-18T08:24:00",
          "2018-12-18T11:00:00",
          "2018-12-18T18:24:00",
          "2018-12-19T01:48:00",
          "2018-12-19T22:12:00",
          "2018-12-20T06:48:00",
          "2018-12-20T18:00:00",
          "2018-12-20T22:00:00",
          "2018-12-21T03:00:00",
          "2018-12-21T09:36:00",
          "2018-12-21T12:24:00",
          "2018-12-24T04:12:00",
          "2018-12-26T07:48:00",
          "2018-12-26T18:12:00",
          "2018-12-26T21:00:00",
          "2018-12-27T04:12:00",
          "2018-12-28T12:24:00",
          "2018-12-28T13:24:00",
          "2018-12-28T17:36:00",
          "2018-12-31T12:12:00",
          "2018-12-31T19:12:00"
         ],
         "y": [
          1.16718,
          1.1688,
          1.16928,
          1.16928,
          1.16993,
          1.16662,
          1.16628,
          1.1685,
          1.16487,
          1.16067,
          1.16159,
          1.1577,
          1.15608,
          1.15858,
          1.1622,
          1.16368,
          1.16214,
          1.16222,
          1.1619,
          1.16271,
          1.16131,
          1.15701,
          1.15945,
          1.15988,
          1.15837,
          1.15844,
          1.15891,
          1.1594,
          1.15816,
          1.15938,
          1.15895,
          1.16144,
          1.16247,
          1.16353,
          1.16263,
          1.16781,
          1.16928,
          1.16345,
          1.1684,
          1.1694,
          1.16745,
          1.17153,
          1.16615,
          1.16724,
          1.16641,
          1.16861,
          1.1671,
          1.16724,
          1.16716,
          1.16819,
          1.17613,
          1.17446,
          1.17397,
          1.1767,
          1.17552,
          1.17617,
          1.17668,
          1.17652,
          1.17444,
          1.17742,
          1.17455,
          1.1647,
          1.16219,
          1.16157,
          1.16042,
          1.1611,
          1.15785,
          1.15763,
          1.15702,
          1.15411,
          1.15515,
          1.15869,
          1.15589,
          1.14927,
          1.15141,
          1.1512,
          1.15057,
          1.15243,
          1.15128,
          1.14804,
          1.14896,
          1.14952,
          1.14766,
          1.14829,
          1.14934,
          1.15126,
          1.1526,
          1.15357,
          1.15451,
          1.15742,
          1.15757,
          1.15635,
          1.15766,
          1.15864,
          1.1573,
          1.15671,
          1.15872,
          1.16136,
          1.15737,
          1.15562,
          1.15468,
          1.1517,
          1.14948,
          1.14577,
          1.14443,
          1.14727,
          1.15,
          1.15107,
          1.14945,
          1.1466,
          1.1459,
          1.14812,
          1.148,
          1.14813,
          1.14703,
          1.13967,
          1.14085,
          1.14162,
          1.13798,
          1.13742,
          1.1367,
          1.13667,
          1.13441,
          1.14018,
          1.13881,
          1.14078,
          1.13926,
          1.13794,
          1.137,
          1.13711,
          1.13725,
          1.13787,
          1.13659,
          1.13632,
          1.13524,
          1.13436,
          1.13402,
          1.13509,
          1.13375,
          1.1316,
          1.13161,
          1.13293,
          1.14016,
          1.14237,
          1.14208,
          1.13947,
          1.13826,
          1.1401,
          1.14093,
          1.14114,
          1.14174,
          1.14327,
          1.14135,
          1.14211,
          1.14578,
          1.14395,
          1.14223,
          1.14304,
          1.13919,
          1.13495,
          1.13236,
          1.12659,
          1.12444,
          1.12445,
          1.12247,
          1.12663,
          1.12895,
          1.13035,
          1.12845,
          1.1323,
          1.13317,
          1.14041,
          1.14114,
          1.14176,
          1.14461,
          1.14569,
          1.1432,
          1.13728,
          1.13932,
          1.13974,
          1.14055,
          1.14095,
          1.13694,
          1.13336,
          1.1344,
          1.13337,
          1.13115,
          1.12957,
          1.12937,
          1.12963,
          1.1275,
          1.13511,
          1.1377,
          1.13802,
          1.13541,
          1.13777,
          1.13805,
          1.13416,
          1.1322,
          1.13552,
          1.13539,
          1.13543,
          1.13579,
          1.13364,
          1.13508,
          1.13457,
          1.13415,
          1.13448,
          1.13469,
          1.13529,
          1.13748,
          1.13799,
          1.13668,
          1.1402,
          1.14113,
          1.13652,
          1.13305,
          1.13294,
          1.13233,
          1.13363,
          1.13708,
          1.13869,
          1.13635,
          1.13622,
          1.13577,
          1.12973,
          1.13422,
          1.13718,
          1.13673,
          1.13751,
          1.13766,
          1.1385,
          1.14168,
          1.14683,
          1.14487,
          1.14723,
          1.14212,
          1.13796,
          1.14019,
          1.14061,
          1.1361,
          1.13834,
          1.14626,
          1.1464,
          1.14433,
          1.1442,
          1.14501
         ]
        },
        {
         "line": {
          "color": "darkorange",
          "width": 3
         },
         "mode": "markers",
         "name": "takeprofit",
         "type": "scatter",
         "x": [
          "2018-08-28T06:36:00",
          "2018-08-28T11:12:00",
          "2018-08-28T22:24:00",
          "2018-08-29T17:48:00",
          "2018-08-30T06:24:00",
          "2018-08-31T00:00:00",
          "2018-08-31T05:48:00",
          "2018-08-31T08:00:00",
          "2018-08-31T14:12:00",
          "2018-09-03T08:12:00",
          "2018-09-04T01:24:00",
          "2018-09-04T20:36:00",
          "2018-09-05T10:00:00",
          "2018-09-05T15:36:00",
          "2018-09-06T08:48:00",
          "2018-09-06T16:00:00",
          "2018-09-06T19:36:00",
          "2018-09-07T03:36:00",
          "2018-09-07T04:00:00",
          "2018-09-07T08:00:00",
          "2018-09-07T15:12:00",
          "2018-09-10T11:48:00",
          "2018-09-11T00:00:00",
          "2018-09-11T08:24:00",
          "2018-09-11T14:24:00",
          "2018-09-11T21:48:00",
          "2018-09-12T05:48:00",
          "2018-09-12T12:48:00",
          "2018-09-12T15:12:00",
          "2018-09-12T16:00:00",
          "2018-09-12T16:24:00",
          "2018-09-12T17:00:00",
          "2018-09-13T02:48:00",
          "2018-09-13T04:12:00",
          "2018-09-13T09:24:00",
          "2018-09-13T15:48:00",
          "2018-09-14T15:12:00",
          "2018-09-17T05:48:00",
          "2018-09-18T00:24:00",
          "2018-09-18T07:00:00",
          "2018-09-18T13:12:00",
          "2018-09-18T16:24:00",
          "2018-09-18T20:12:00",
          "2018-09-19T03:12:00",
          "2018-09-19T06:00:00",
          "2018-09-19T08:48:00",
          "2018-09-19T16:00:00",
          "2018-09-19T22:12:00",
          "2018-09-19T23:48:00",
          "2018-09-20T05:00:00",
          "2018-09-21T13:48:00",
          "2018-09-24T01:00:00",
          "2018-09-24T05:12:00",
          "2018-09-24T11:48:00",
          "2018-09-24T21:00:00",
          "2018-09-25T10:24:00",
          "2018-09-25T21:24:00",
          "2018-09-26T09:12:00",
          "2018-09-26T14:12:00",
          "2018-09-26T21:00:00",
          "2018-09-27T01:24:00",
          "2018-09-28T06:48:00",
          "2018-09-28T10:12:00",
          "2018-09-28T19:24:00",
          "2018-10-01T02:12:00",
          "2018-10-01T13:12:00",
          "2018-10-01T18:12:00",
          "2018-10-02T02:48:00",
          "2018-10-02T05:12:00",
          "2018-10-02T17:36:00",
          "2018-10-03T02:24:00",
          "2018-10-03T05:00:00",
          "2018-10-03T13:24:00",
          "2018-10-04T10:48:00",
          "2018-10-04T21:48:00",
          "2018-10-05T00:24:00",
          "2018-10-05T06:36:00",
          "2018-10-05T16:12:00",
          "2018-10-08T05:36:00",
          "2018-10-08T20:24:00",
          "2018-10-09T06:12:00",
          "2018-10-09T08:12:00",
          "2018-10-09T09:36:00",
          "2018-10-09T19:00:00",
          "2018-10-10T10:48:00",
          "2018-10-10T16:36:00",
          "2018-10-11T00:48:00",
          "2018-10-11T03:36:00",
          "2018-10-11T11:48:00",
          "2018-10-11T14:36:00",
          "2018-10-12T11:12:00",
          "2018-10-15T09:48:00",
          "2018-10-15T20:48:00",
          "2018-10-16T03:36:00",
          "2018-10-16T07:12:00",
          "2018-10-16T12:12:00",
          "2018-10-16T15:48:00",
          "2018-10-16T16:00:00",
          "2018-10-16T20:48:00",
          "2018-10-17T13:24:00",
          "2018-10-17T13:48:00",
          "2018-10-18T11:48:00",
          "2018-10-18T17:24:00",
          "2018-10-19T06:00:00",
          "2018-10-19T10:24:00",
          "2018-10-19T14:36:00",
          "2018-10-22T04:00:00",
          "2018-10-22T08:00:00",
          "2018-10-22T14:12:00",
          "2018-10-23T11:48:00",
          "2018-10-23T17:48:00",
          "2018-10-23T18:12:00",
          "2018-10-23T19:12:00",
          "2018-10-23T19:48:00",
          "2018-10-24T00:36:00",
          "2018-10-25T01:36:00",
          "2018-10-25T12:48:00",
          "2018-10-25T15:12:00",
          "2018-10-25T16:48:00",
          "2018-10-26T02:00:00",
          "2018-10-26T06:36:00",
          "2018-10-26T11:12:00",
          "2018-10-26T14:00:00",
          "2018-10-26T19:00:00",
          "2018-10-29T03:24:00",
          "2018-10-29T09:48:00",
          "2018-10-29T14:00:00",
          "2018-10-29T15:24:00",
          "2018-10-29T16:00:00",
          "2018-10-29T23:00:00",
          "2018-10-30T00:00:00",
          "2018-10-30T06:24:00",
          "2018-10-30T09:36:00",
          "2018-10-30T17:48:00",
          "2018-10-30T19:36:00",
          "2018-10-31T05:00:00",
          "2018-10-31T06:12:00",
          "2018-10-31T10:12:00",
          "2018-10-31T14:00:00",
          "2018-11-01T00:36:00",
          "2018-11-01T01:36:00",
          "2018-11-01T03:00:00",
          "2018-11-02T01:36:00",
          "2018-11-02T07:48:00",
          "2018-11-02T16:36:00",
          "2018-11-05T02:48:00",
          "2018-11-05T05:48:00",
          "2018-11-05T18:00:00",
          "2018-11-06T05:00:00",
          "2018-11-06T10:24:00",
          "2018-11-06T14:48:00",
          "2018-11-06T15:36:00",
          "2018-11-06T21:36:00",
          "2018-11-07T01:00:00",
          "2018-11-07T18:48:00",
          "2018-11-08T10:24:00",
          "2018-11-08T11:48:00",
          "2018-11-08T17:36:00",
          "2018-11-08T19:48:00",
          "2018-11-09T15:00:00",
          "2018-11-09T19:12:00",
          "2018-11-12T17:36:00",
          "2018-11-12T19:24:00",
          "2018-11-13T05:48:00",
          "2018-11-13T12:12:00",
          "2018-11-13T14:36:00",
          "2018-11-14T07:48:00",
          "2018-11-14T16:36:00",
          "2018-11-15T12:12:00",
          "2018-11-15T19:36:00",
          "2018-11-16T14:00:00",
          "2018-11-16T16:12:00",
          "2018-11-19T04:12:00",
          "2018-11-19T11:12:00",
          "2018-11-20T03:48:00",
          "2018-11-20T09:48:00",
          "2018-11-20T11:36:00",
          "2018-11-21T04:48:00",
          "2018-11-21T20:00:00",
          "2018-11-22T04:24:00",
          "2018-11-22T17:48:00",
          "2018-11-23T05:00:00",
          "2018-11-23T10:48:00",
          "2018-11-26T02:48:00",
          "2018-11-26T17:12:00",
          "2018-11-27T05:00:00",
          "2018-11-27T10:12:00",
          "2018-11-28T02:12:00",
          "2018-11-28T05:00:00",
          "2018-11-28T07:36:00",
          "2018-11-28T10:00:00",
          "2018-11-28T19:00:00",
          "2018-11-29T05:48:00",
          "2018-11-29T06:00:00",
          "2018-11-29T12:36:00",
          "2018-11-29T17:24:00",
          "2018-11-30T09:48:00",
          "2018-12-03T01:48:00",
          "2018-12-03T13:24:00",
          "2018-12-03T19:24:00",
          "2018-12-04T01:00:00",
          "2018-12-04T01:12:00",
          "2018-12-04T17:36:00",
          "2018-12-05T11:48:00",
          "2018-12-05T19:24:00",
          "2018-12-05T21:24:00",
          "2018-12-05T22:36:00",
          "2018-12-06T01:36:00",
          "2018-12-06T07:00:00",
          "2018-12-06T15:00:00",
          "2018-12-07T00:36:00",
          "2018-12-07T13:48:00",
          "2018-12-07T14:36:00",
          "2018-12-07T15:24:00",
          "2018-12-10T11:48:00",
          "2018-12-11T04:24:00",
          "2018-12-11T17:00:00",
          "2018-12-12T02:36:00",
          "2018-12-12T09:48:00",
          "2018-12-12T13:12:00",
          "2018-12-13T05:24:00",
          "2018-12-13T10:00:00",
          "2018-12-13T16:00:00",
          "2018-12-13T22:36:00",
          "2018-12-14T03:24:00",
          "2018-12-14T20:12:00",
          "2018-12-18T08:24:00",
          "2018-12-18T11:00:00",
          "2018-12-18T18:24:00",
          "2018-12-19T01:48:00",
          "2018-12-19T22:12:00",
          "2018-12-20T06:48:00",
          "2018-12-20T18:00:00",
          "2018-12-20T22:00:00",
          "2018-12-21T03:00:00",
          "2018-12-21T09:36:00",
          "2018-12-21T12:24:00",
          "2018-12-24T04:12:00",
          "2018-12-26T07:48:00",
          "2018-12-26T18:12:00",
          "2018-12-26T21:00:00",
          "2018-12-27T04:12:00",
          "2018-12-28T12:24:00",
          "2018-12-28T13:24:00",
          "2018-12-28T17:36:00",
          "2018-12-31T12:12:00",
          "2018-12-31T19:12:00"
         ],
         "y": [
          1.1555082,
          1.180488,
          1.1575872,
          1.1809728000000002,
          1.1582306999999998,
          1.1782862,
          1.1546172,
          1.180185,
          1.1532213,
          1.1722767,
          1.1499740999999999,
          1.169277,
          1.1445192,
          1.1701658,
          1.1505779999999999,
          1.1753168,
          1.1505185999999998,
          1.1738422,
          1.1502809999999999,
          1.1743371,
          1.1496969000000001,
          1.1685801,
          1.1478555000000001,
          1.1714788,
          1.1467862999999998,
          1.1700244,
          1.1473209000000002,
          1.170994,
          1.1465784,
          1.1709738,
          1.1473605,
          1.1730544,
          1.1508452999999998,
          1.1751653,
          1.1510037,
          1.1794881,
          1.1575872,
          1.1750845,
          1.156716,
          1.181094,
          1.1557755,
          1.1832453,
          1.1544885,
          1.1789124,
          1.1547459,
          1.1802960999999998,
          1.155429,
          1.1789124,
          1.1554883999999999,
          1.1798719,
          1.1643686999999998,
          1.1862046000000002,
          1.1622303,
          1.1884670000000002,
          1.1637647999999998,
          1.1879317,
          1.1649132,
          1.1882852,
          1.1626956,
          1.1891942,
          1.1628045,
          1.176347,
          1.1505681,
          1.1731857,
          1.1488158,
          1.172711,
          1.1462715,
          1.1692063,
          1.1454498,
          1.1656511,
          1.1435985,
          1.1702769,
          1.1443311,
          1.1607627,
          1.1398959,
          1.162712,
          1.1390643,
          1.1639543,
          1.1397672,
          1.1595204,
          1.1374704,
          1.1610152,
          1.1361834,
          1.1597729,
          1.1378466,
          1.1627726,
          1.1410740000000001,
          1.1651057,
          1.1429649,
          1.1689942,
          1.1459943,
          1.1679135,
          1.1460834,
          1.1702264,
          1.145727,
          1.1682770999999998,
          1.1471328,
          1.1729736,
          1.1457963,
          1.1671762,
          1.1431331999999998,
          1.163217,
          1.1379852000000001,
          1.1572277,
          1.1329857,
          1.1587427000000001,
          1.1384999999999998,
          1.1625807000000001,
          1.1379555000000001,
          1.158066,
          1.1344409999999998,
          1.1596012,
          1.13652,
          1.1596113000000001,
          1.1355597,
          1.1510666999999999,
          1.1294415,
          1.1530362,
          1.1266002,
          1.1487942000000002,
          1.1253330000000001,
          1.1480367,
          1.1230658999999998,
          1.1515818,
          1.1274219,
          1.1521877999999999,
          1.1278674,
          1.1493194,
          1.12563,
          1.1484811000000001,
          1.1258775,
          1.1492487,
          1.1252241,
          1.1476832,
          1.1238876,
          1.1457036,
          1.1226798,
          1.1464409,
          1.1224125,
          1.142916,
          1.1202939,
          1.1442593,
          1.1287584000000002,
          1.1537937,
          1.1306592,
          1.1508647,
          1.1268774000000001,
          1.1515009999999999,
          1.1295207,
          1.1525514000000001,
          1.1303226,
          1.1547027,
          1.1299365000000001,
          1.1535311,
          1.1343222,
          1.1553895,
          1.1308077,
          1.1544704000000001,
          1.1277981,
          1.1462994999999998,
          1.1210364,
          1.1378559,
          1.1131956,
          1.1356945,
          1.1112453,
          1.1378963,
          1.1176605,
          1.1416534999999999,
          1.1171655,
          1.143623,
          1.1218383,
          1.1518141,
          1.1297286,
          1.1531776,
          1.1331639,
          1.1571469,
          1.1317679999999999,
          1.1486528,
          1.1279268,
          1.1511374,
          1.1291445,
          1.1523595,
          1.1255706,
          1.1446935999999999,
          1.123056,
          1.1447037,
          1.1198385000000002,
          1.1408657,
          1.1180763,
          1.1409262999999998,
          1.116225,
          1.1464611,
          1.126323,
          1.1494002,
          1.1240559,
          1.1491476999999999,
          1.1266695,
          1.1455016,
          1.120878,
          1.1468752000000002,
          1.1240360999999999,
          1.1467843,
          1.1244321000000002,
          1.1449764,
          1.1237292,
          1.1459157,
          1.1228084999999999,
          1.1458248,
          1.1233431,
          1.1466429,
          1.1261052,
          1.1493699000000002,
          1.1253132,
          1.151602,
          1.1297187,
          1.1478852,
          1.1217195,
          1.1442694,
          1.1210067000000001,
          1.1449662999999999,
          1.1257092000000002,
          1.1500769,
          1.1249865,
          1.1475822,
          1.1244123,
          1.1410273,
          1.1228778,
          1.1485518000000001,
          1.1253627,
          1.1488851,
          1.1262834,
          1.149885,
          1.1302632,
          1.1582983,
          1.1334213,
          1.1587023,
          1.1306988,
          1.1493396,
          1.1287881,
          1.1520161,
          1.1247390000000002,
          1.1497233999999998,
          1.1347974,
          1.157864,
          1.1328867,
          1.155642,
          1.1335599
         ]
        }
       ],
       "layout": {
        "template": {
         "data": {
          "bar": [
           {
            "error_x": {
             "color": "#2a3f5f"
            },
            "error_y": {
             "color": "#2a3f5f"
            },
            "marker": {
             "line": {
              "color": "#E5ECF6",
              "width": 0.5
             },
             "pattern": {
              "fillmode": "overlay",
              "size": 10,
              "solidity": 0.2
             }
            },
            "type": "bar"
           }
          ],
          "barpolar": [
           {
            "marker": {
             "line": {
              "color": "#E5ECF6",
              "width": 0.5
             },
             "pattern": {
              "fillmode": "overlay",
              "size": 10,
              "solidity": 0.2
             }
            },
            "type": "barpolar"
           }
          ],
          "carpet": [
           {
            "aaxis": {
             "endlinecolor": "#2a3f5f",
             "gridcolor": "white",
             "linecolor": "white",
             "minorgridcolor": "white",
             "startlinecolor": "#2a3f5f"
            },
            "baxis": {
             "endlinecolor": "#2a3f5f",
             "gridcolor": "white",
             "linecolor": "white",
             "minorgridcolor": "white",
             "startlinecolor": "#2a3f5f"
            },
            "type": "carpet"
           }
          ],
          "choropleth": [
           {
            "colorbar": {
             "outlinewidth": 0,
             "ticks": ""
            },
            "type": "choropleth"
           }
          ],
          "contour": [
           {
            "colorbar": {
             "outlinewidth": 0,
             "ticks": ""
            },
            "colorscale": [
             [
              0,
              "#0d0887"
             ],
             [
              0.1111111111111111,
              "#46039f"
             ],
             [
              0.2222222222222222,
              "#7201a8"
             ],
             [
              0.3333333333333333,
              "#9c179e"
             ],
             [
              0.4444444444444444,
              "#bd3786"
             ],
             [
              0.5555555555555556,
              "#d8576b"
             ],
             [
              0.6666666666666666,
              "#ed7953"
             ],
             [
              0.7777777777777778,
              "#fb9f3a"
             ],
             [
              0.8888888888888888,
              "#fdca26"
             ],
             [
              1,
              "#f0f921"
             ]
            ],
            "type": "contour"
           }
          ],
          "contourcarpet": [
           {
            "colorbar": {
             "outlinewidth": 0,
             "ticks": ""
            },
            "type": "contourcarpet"
           }
          ],
          "heatmap": [
           {
            "colorbar": {
             "outlinewidth": 0,
             "ticks": ""
            },
            "colorscale": [
             [
              0,
              "#0d0887"
             ],
             [
              0.1111111111111111,
              "#46039f"
             ],
             [
              0.2222222222222222,
              "#7201a8"
             ],
             [
              0.3333333333333333,
              "#9c179e"
             ],
             [
              0.4444444444444444,
              "#bd3786"
             ],
             [
              0.5555555555555556,
              "#d8576b"
             ],
             [
              0.6666666666666666,
              "#ed7953"
             ],
             [
              0.7777777777777778,
              "#fb9f3a"
             ],
             [
              0.8888888888888888,
              "#fdca26"
             ],
             [
              1,
              "#f0f921"
             ]
            ],
            "type": "heatmap"
           }
          ],
          "heatmapgl": [
           {
            "colorbar": {
             "outlinewidth": 0,
             "ticks": ""
            },
            "colorscale": [
             [
              0,
              "#0d0887"
             ],
             [
              0.1111111111111111,
              "#46039f"
             ],
             [
              0.2222222222222222,
              "#7201a8"
             ],
             [
              0.3333333333333333,
              "#9c179e"
             ],
             [
              0.4444444444444444,
              "#bd3786"
             ],
             [
              0.5555555555555556,
              "#d8576b"
             ],
             [
              0.6666666666666666,
              "#ed7953"
             ],
             [
              0.7777777777777778,
              "#fb9f3a"
             ],
             [
              0.8888888888888888,
              "#fdca26"
             ],
             [
              1,
              "#f0f921"
             ]
            ],
            "type": "heatmapgl"
           }
          ],
          "histogram": [
           {
            "marker": {
             "pattern": {
              "fillmode": "overlay",
              "size": 10,
              "solidity": 0.2
             }
            },
            "type": "histogram"
           }
          ],
          "histogram2d": [
           {
            "colorbar": {
             "outlinewidth": 0,
             "ticks": ""
            },
            "colorscale": [
             [
              0,
              "#0d0887"
             ],
             [
              0.1111111111111111,
              "#46039f"
             ],
             [
              0.2222222222222222,
              "#7201a8"
             ],
             [
              0.3333333333333333,
              "#9c179e"
             ],
             [
              0.4444444444444444,
              "#bd3786"
             ],
             [
              0.5555555555555556,
              "#d8576b"
             ],
             [
              0.6666666666666666,
              "#ed7953"
             ],
             [
              0.7777777777777778,
              "#fb9f3a"
             ],
             [
              0.8888888888888888,
              "#fdca26"
             ],
             [
              1,
              "#f0f921"
             ]
            ],
            "type": "histogram2d"
           }
          ],
          "histogram2dcontour": [
           {
            "colorbar": {
             "outlinewidth": 0,
             "ticks": ""
            },
            "colorscale": [
             [
              0,
              "#0d0887"
             ],
             [
              0.1111111111111111,
              "#46039f"
             ],
             [
              0.2222222222222222,
              "#7201a8"
             ],
             [
              0.3333333333333333,
              "#9c179e"
             ],
             [
              0.4444444444444444,
              "#bd3786"
             ],
             [
              0.5555555555555556,
              "#d8576b"
             ],
             [
              0.6666666666666666,
              "#ed7953"
             ],
             [
              0.7777777777777778,
              "#fb9f3a"
             ],
             [
              0.8888888888888888,
              "#fdca26"
             ],
             [
              1,
              "#f0f921"
             ]
            ],
            "type": "histogram2dcontour"
           }
          ],
          "mesh3d": [
           {
            "colorbar": {
             "outlinewidth": 0,
             "ticks": ""
            },
            "type": "mesh3d"
           }
          ],
          "parcoords": [
           {
            "line": {
             "colorbar": {
              "outlinewidth": 0,
              "ticks": ""
             }
            },
            "type": "parcoords"
           }
          ],
          "pie": [
           {
            "automargin": true,
            "type": "pie"
           }
          ],
          "scatter": [
           {
            "marker": {
             "colorbar": {
              "outlinewidth": 0,
              "ticks": ""
             }
            },
            "type": "scatter"
           }
          ],
          "scatter3d": [
           {
            "line": {
             "colorbar": {
              "outlinewidth": 0,
              "ticks": ""
             }
            },
            "marker": {
             "colorbar": {
              "outlinewidth": 0,
              "ticks": ""
             }
            },
            "type": "scatter3d"
           }
          ],
          "scattercarpet": [
           {
            "marker": {
             "colorbar": {
              "outlinewidth": 0,
              "ticks": ""
             }
            },
            "type": "scattercarpet"
           }
          ],
          "scattergeo": [
           {
            "marker": {
             "colorbar": {
              "outlinewidth": 0,
              "ticks": ""
             }
            },
            "type": "scattergeo"
           }
          ],
          "scattergl": [
           {
            "marker": {
             "colorbar": {
              "outlinewidth": 0,
              "ticks": ""
             }
            },
            "type": "scattergl"
           }
          ],
          "scattermapbox": [
           {
            "marker": {
             "colorbar": {
              "outlinewidth": 0,
              "ticks": ""
             }
            },
            "type": "scattermapbox"
           }
          ],
          "scatterpolar": [
           {
            "marker": {
             "colorbar": {
              "outlinewidth": 0,
              "ticks": ""
             }
            },
            "type": "scatterpolar"
           }
          ],
          "scatterpolargl": [
           {
            "marker": {
             "colorbar": {
              "outlinewidth": 0,
              "ticks": ""
             }
            },
            "type": "scatterpolargl"
           }
          ],
          "scatterternary": [
           {
            "marker": {
             "colorbar": {
              "outlinewidth": 0,
              "ticks": ""
             }
            },
            "type": "scatterternary"
           }
          ],
          "surface": [
           {
            "colorbar": {
             "outlinewidth": 0,
             "ticks": ""
            },
            "colorscale": [
             [
              0,
              "#0d0887"
             ],
             [
              0.1111111111111111,
              "#46039f"
             ],
             [
              0.2222222222222222,
              "#7201a8"
             ],
             [
              0.3333333333333333,
              "#9c179e"
             ],
             [
              0.4444444444444444,
              "#bd3786"
             ],
             [
              0.5555555555555556,
              "#d8576b"
             ],
             [
              0.6666666666666666,
              "#ed7953"
             ],
             [
              0.7777777777777778,
              "#fb9f3a"
             ],
             [
              0.8888888888888888,
              "#fdca26"
             ],
             [
              1,
              "#f0f921"
             ]
            ],
            "type": "surface"
           }
          ],
          "table": [
           {
            "cells": {
             "fill": {
              "color": "#EBF0F8"
             },
             "line": {
              "color": "white"
             }
            },
            "header": {
             "fill": {
              "color": "#C8D4E3"
             },
             "line": {
              "color": "white"
             }
            },
            "type": "table"
           }
          ]
         },
         "layout": {
          "annotationdefaults": {
           "arrowcolor": "#2a3f5f",
           "arrowhead": 0,
           "arrowwidth": 1
          },
          "autotypenumbers": "strict",
          "coloraxis": {
           "colorbar": {
            "outlinewidth": 0,
            "ticks": ""
           }
          },
          "colorscale": {
           "diverging": [
            [
             0,
             "#8e0152"
            ],
            [
             0.1,
             "#c51b7d"
            ],
            [
             0.2,
             "#de77ae"
            ],
            [
             0.3,
             "#f1b6da"
            ],
            [
             0.4,
             "#fde0ef"
            ],
            [
             0.5,
             "#f7f7f7"
            ],
            [
             0.6,
             "#e6f5d0"
            ],
            [
             0.7,
             "#b8e186"
            ],
            [
             0.8,
             "#7fbc41"
            ],
            [
             0.9,
             "#4d9221"
            ],
            [
             1,
             "#276419"
            ]
           ],
           "sequential": [
            [
             0,
             "#0d0887"
            ],
            [
             0.1111111111111111,
             "#46039f"
            ],
            [
             0.2222222222222222,
             "#7201a8"
            ],
            [
             0.3333333333333333,
             "#9c179e"
            ],
            [
             0.4444444444444444,
             "#bd3786"
            ],
            [
             0.5555555555555556,
             "#d8576b"
            ],
            [
             0.6666666666666666,
             "#ed7953"
            ],
            [
             0.7777777777777778,
             "#fb9f3a"
            ],
            [
             0.8888888888888888,
             "#fdca26"
            ],
            [
             1,
             "#f0f921"
            ]
           ],
           "sequentialminus": [
            [
             0,
             "#0d0887"
            ],
            [
             0.1111111111111111,
             "#46039f"
            ],
            [
             0.2222222222222222,
             "#7201a8"
            ],
            [
             0.3333333333333333,
             "#9c179e"
            ],
            [
             0.4444444444444444,
             "#bd3786"
            ],
            [
             0.5555555555555556,
             "#d8576b"
            ],
            [
             0.6666666666666666,
             "#ed7953"
            ],
            [
             0.7777777777777778,
             "#fb9f3a"
            ],
            [
             0.8888888888888888,
             "#fdca26"
            ],
            [
             1,
             "#f0f921"
            ]
           ]
          },
          "colorway": [
           "#636efa",
           "#EF553B",
           "#00cc96",
           "#ab63fa",
           "#FFA15A",
           "#19d3f3",
           "#FF6692",
           "#B6E880",
           "#FF97FF",
           "#FECB52"
          ],
          "font": {
           "color": "#2a3f5f"
          },
          "geo": {
           "bgcolor": "white",
           "lakecolor": "white",
           "landcolor": "#E5ECF6",
           "showlakes": true,
           "showland": true,
           "subunitcolor": "white"
          },
          "hoverlabel": {
           "align": "left"
          },
          "hovermode": "closest",
          "mapbox": {
           "style": "light"
          },
          "paper_bgcolor": "white",
          "plot_bgcolor": "#E5ECF6",
          "polar": {
           "angularaxis": {
            "gridcolor": "white",
            "linecolor": "white",
            "ticks": ""
           },
           "bgcolor": "#E5ECF6",
           "radialaxis": {
            "gridcolor": "white",
            "linecolor": "white",
            "ticks": ""
           }
          },
          "scene": {
           "xaxis": {
            "backgroundcolor": "#E5ECF6",
            "gridcolor": "white",
            "gridwidth": 2,
            "linecolor": "white",
            "showbackground": true,
            "ticks": "",
            "zerolinecolor": "white"
           },
           "yaxis": {
            "backgroundcolor": "#E5ECF6",
            "gridcolor": "white",
            "gridwidth": 2,
            "linecolor": "white",
            "showbackground": true,
            "ticks": "",
            "zerolinecolor": "white"
           },
           "zaxis": {
            "backgroundcolor": "#E5ECF6",
            "gridcolor": "white",
            "gridwidth": 2,
            "linecolor": "white",
            "showbackground": true,
            "ticks": "",
            "zerolinecolor": "white"
           }
          },
          "shapedefaults": {
           "line": {
            "color": "#2a3f5f"
           }
          },
          "ternary": {
           "aaxis": {
            "gridcolor": "white",
            "linecolor": "white",
            "ticks": ""
           },
           "baxis": {
            "gridcolor": "white",
            "linecolor": "white",
            "ticks": ""
           },
           "bgcolor": "#E5ECF6",
           "caxis": {
            "gridcolor": "white",
            "linecolor": "white",
            "ticks": ""
           }
          },
          "title": {
           "x": 0.05
          },
          "xaxis": {
           "automargin": true,
           "gridcolor": "white",
           "linecolor": "white",
           "ticks": "",
           "title": {
            "standoff": 15
           },
           "zerolinecolor": "white",
           "zerolinewidth": 2
          },
          "yaxis": {
           "automargin": true,
           "gridcolor": "white",
           "linecolor": "white",
           "ticks": "",
           "title": {
            "standoff": 15
           },
           "zerolinecolor": "white",
           "zerolinewidth": 2
          }
         }
        },
        "title": {
         "text": "Close vs Takeprofit"
        },
        "xaxis": {
         "title": {
          "text": "Date"
         }
        },
        "yaxis": {
         "title": {
          "text": "Values"
         }
        }
       }
      },
      "text/html": [
       "<div>                            <div id=\"fa16f7ce-db14-478c-99c8-a15fab4b2d44\" class=\"plotly-graph-div\" style=\"height:525px; width:100%;\"></div>            <script type=\"text/javascript\">                require([\"plotly\"], function(Plotly) {                    window.PLOTLYENV=window.PLOTLYENV || {};                                    if (document.getElementById(\"fa16f7ce-db14-478c-99c8-a15fab4b2d44\")) {                    Plotly.newPlot(                        \"fa16f7ce-db14-478c-99c8-a15fab4b2d44\",                        [{\"line\":{\"color\":\"olivedrab\",\"width\":4},\"mode\":\"lines\",\"name\":\"close\",\"type\":\"scatter\",\"x\":[\"2018-08-28T06:36:00\",\"2018-08-28T11:12:00\",\"2018-08-28T22:24:00\",\"2018-08-29T17:48:00\",\"2018-08-30T06:24:00\",\"2018-08-31T00:00:00\",\"2018-08-31T05:48:00\",\"2018-08-31T08:00:00\",\"2018-08-31T14:12:00\",\"2018-09-03T08:12:00\",\"2018-09-04T01:24:00\",\"2018-09-04T20:36:00\",\"2018-09-05T10:00:00\",\"2018-09-05T15:36:00\",\"2018-09-06T08:48:00\",\"2018-09-06T16:00:00\",\"2018-09-06T19:36:00\",\"2018-09-07T03:36:00\",\"2018-09-07T04:00:00\",\"2018-09-07T08:00:00\",\"2018-09-07T15:12:00\",\"2018-09-10T11:48:00\",\"2018-09-11T00:00:00\",\"2018-09-11T08:24:00\",\"2018-09-11T14:24:00\",\"2018-09-11T21:48:00\",\"2018-09-12T05:48:00\",\"2018-09-12T12:48:00\",\"2018-09-12T15:12:00\",\"2018-09-12T16:00:00\",\"2018-09-12T16:24:00\",\"2018-09-12T17:00:00\",\"2018-09-13T02:48:00\",\"2018-09-13T04:12:00\",\"2018-09-13T09:24:00\",\"2018-09-13T15:48:00\",\"2018-09-14T15:12:00\",\"2018-09-17T05:48:00\",\"2018-09-18T00:24:00\",\"2018-09-18T07:00:00\",\"2018-09-18T13:12:00\",\"2018-09-18T16:24:00\",\"2018-09-18T20:12:00\",\"2018-09-19T03:12:00\",\"2018-09-19T06:00:00\",\"2018-09-19T08:48:00\",\"2018-09-19T16:00:00\",\"2018-09-19T22:12:00\",\"2018-09-19T23:48:00\",\"2018-09-20T05:00:00\",\"2018-09-21T13:48:00\",\"2018-09-24T01:00:00\",\"2018-09-24T05:12:00\",\"2018-09-24T11:48:00\",\"2018-09-24T21:00:00\",\"2018-09-25T10:24:00\",\"2018-09-25T21:24:00\",\"2018-09-26T09:12:00\",\"2018-09-26T14:12:00\",\"2018-09-26T21:00:00\",\"2018-09-27T01:24:00\",\"2018-09-28T06:48:00\",\"2018-09-28T10:12:00\",\"2018-09-28T19:24:00\",\"2018-10-01T02:12:00\",\"2018-10-01T13:12:00\",\"2018-10-01T18:12:00\",\"2018-10-02T02:48:00\",\"2018-10-02T05:12:00\",\"2018-10-02T17:36:00\",\"2018-10-03T02:24:00\",\"2018-10-03T05:00:00\",\"2018-10-03T13:24:00\",\"2018-10-04T10:48:00\",\"2018-10-04T21:48:00\",\"2018-10-05T00:24:00\",\"2018-10-05T06:36:00\",\"2018-10-05T16:12:00\",\"2018-10-08T05:36:00\",\"2018-10-08T20:24:00\",\"2018-10-09T06:12:00\",\"2018-10-09T08:12:00\",\"2018-10-09T09:36:00\",\"2018-10-09T19:00:00\",\"2018-10-10T10:48:00\",\"2018-10-10T16:36:00\",\"2018-10-11T00:48:00\",\"2018-10-11T03:36:00\",\"2018-10-11T11:48:00\",\"2018-10-11T14:36:00\",\"2018-10-12T11:12:00\",\"2018-10-15T09:48:00\",\"2018-10-15T20:48:00\",\"2018-10-16T03:36:00\",\"2018-10-16T07:12:00\",\"2018-10-16T12:12:00\",\"2018-10-16T15:48:00\",\"2018-10-16T16:00:00\",\"2018-10-16T20:48:00\",\"2018-10-17T13:24:00\",\"2018-10-17T13:48:00\",\"2018-10-18T11:48:00\",\"2018-10-18T17:24:00\",\"2018-10-19T06:00:00\",\"2018-10-19T10:24:00\",\"2018-10-19T14:36:00\",\"2018-10-22T04:00:00\",\"2018-10-22T08:00:00\",\"2018-10-22T14:12:00\",\"2018-10-23T11:48:00\",\"2018-10-23T17:48:00\",\"2018-10-23T18:12:00\",\"2018-10-23T19:12:00\",\"2018-10-23T19:48:00\",\"2018-10-24T00:36:00\",\"2018-10-25T01:36:00\",\"2018-10-25T12:48:00\",\"2018-10-25T15:12:00\",\"2018-10-25T16:48:00\",\"2018-10-26T02:00:00\",\"2018-10-26T06:36:00\",\"2018-10-26T11:12:00\",\"2018-10-26T14:00:00\",\"2018-10-26T19:00:00\",\"2018-10-29T03:24:00\",\"2018-10-29T09:48:00\",\"2018-10-29T14:00:00\",\"2018-10-29T15:24:00\",\"2018-10-29T16:00:00\",\"2018-10-29T23:00:00\",\"2018-10-30T00:00:00\",\"2018-10-30T06:24:00\",\"2018-10-30T09:36:00\",\"2018-10-30T17:48:00\",\"2018-10-30T19:36:00\",\"2018-10-31T05:00:00\",\"2018-10-31T06:12:00\",\"2018-10-31T10:12:00\",\"2018-10-31T14:00:00\",\"2018-11-01T00:36:00\",\"2018-11-01T01:36:00\",\"2018-11-01T03:00:00\",\"2018-11-02T01:36:00\",\"2018-11-02T07:48:00\",\"2018-11-02T16:36:00\",\"2018-11-05T02:48:00\",\"2018-11-05T05:48:00\",\"2018-11-05T18:00:00\",\"2018-11-06T05:00:00\",\"2018-11-06T10:24:00\",\"2018-11-06T14:48:00\",\"2018-11-06T15:36:00\",\"2018-11-06T21:36:00\",\"2018-11-07T01:00:00\",\"2018-11-07T18:48:00\",\"2018-11-08T10:24:00\",\"2018-11-08T11:48:00\",\"2018-11-08T17:36:00\",\"2018-11-08T19:48:00\",\"2018-11-09T15:00:00\",\"2018-11-09T19:12:00\",\"2018-11-12T17:36:00\",\"2018-11-12T19:24:00\",\"2018-11-13T05:48:00\",\"2018-11-13T12:12:00\",\"2018-11-13T14:36:00\",\"2018-11-14T07:48:00\",\"2018-11-14T16:36:00\",\"2018-11-15T12:12:00\",\"2018-11-15T19:36:00\",\"2018-11-16T14:00:00\",\"2018-11-16T16:12:00\",\"2018-11-19T04:12:00\",\"2018-11-19T11:12:00\",\"2018-11-20T03:48:00\",\"2018-11-20T09:48:00\",\"2018-11-20T11:36:00\",\"2018-11-21T04:48:00\",\"2018-11-21T20:00:00\",\"2018-11-22T04:24:00\",\"2018-11-22T17:48:00\",\"2018-11-23T05:00:00\",\"2018-11-23T10:48:00\",\"2018-11-26T02:48:00\",\"2018-11-26T17:12:00\",\"2018-11-27T05:00:00\",\"2018-11-27T10:12:00\",\"2018-11-28T02:12:00\",\"2018-11-28T05:00:00\",\"2018-11-28T07:36:00\",\"2018-11-28T10:00:00\",\"2018-11-28T19:00:00\",\"2018-11-29T05:48:00\",\"2018-11-29T06:00:00\",\"2018-11-29T12:36:00\",\"2018-11-29T17:24:00\",\"2018-11-30T09:48:00\",\"2018-12-03T01:48:00\",\"2018-12-03T13:24:00\",\"2018-12-03T19:24:00\",\"2018-12-04T01:00:00\",\"2018-12-04T01:12:00\",\"2018-12-04T17:36:00\",\"2018-12-05T11:48:00\",\"2018-12-05T19:24:00\",\"2018-12-05T21:24:00\",\"2018-12-05T22:36:00\",\"2018-12-06T01:36:00\",\"2018-12-06T07:00:00\",\"2018-12-06T15:00:00\",\"2018-12-07T00:36:00\",\"2018-12-07T13:48:00\",\"2018-12-07T14:36:00\",\"2018-12-07T15:24:00\",\"2018-12-10T11:48:00\",\"2018-12-11T04:24:00\",\"2018-12-11T17:00:00\",\"2018-12-12T02:36:00\",\"2018-12-12T09:48:00\",\"2018-12-12T13:12:00\",\"2018-12-13T05:24:00\",\"2018-12-13T10:00:00\",\"2018-12-13T16:00:00\",\"2018-12-13T22:36:00\",\"2018-12-14T03:24:00\",\"2018-12-14T20:12:00\",\"2018-12-18T08:24:00\",\"2018-12-18T11:00:00\",\"2018-12-18T18:24:00\",\"2018-12-19T01:48:00\",\"2018-12-19T22:12:00\",\"2018-12-20T06:48:00\",\"2018-12-20T18:00:00\",\"2018-12-20T22:00:00\",\"2018-12-21T03:00:00\",\"2018-12-21T09:36:00\",\"2018-12-21T12:24:00\",\"2018-12-24T04:12:00\",\"2018-12-26T07:48:00\",\"2018-12-26T18:12:00\",\"2018-12-26T21:00:00\",\"2018-12-27T04:12:00\",\"2018-12-28T12:24:00\",\"2018-12-28T13:24:00\",\"2018-12-28T17:36:00\",\"2018-12-31T12:12:00\",\"2018-12-31T19:12:00\"],\"y\":[1.16718,1.1688,1.16928,1.16928,1.16993,1.16662,1.16628,1.1685,1.16487,1.16067,1.16159,1.1577,1.15608,1.15858,1.1622,1.16368,1.16214,1.16222,1.1619,1.16271,1.16131,1.15701,1.15945,1.15988,1.15837,1.15844,1.15891,1.1594,1.15816,1.15938,1.15895,1.16144,1.16247,1.16353,1.16263,1.16781,1.16928,1.16345,1.1684,1.1694,1.16745,1.17153,1.16615,1.16724,1.16641,1.16861,1.1671,1.16724,1.16716,1.16819,1.17613,1.17446,1.17397,1.1767,1.17552,1.17617,1.17668,1.17652,1.17444,1.17742,1.17455,1.1647,1.16219,1.16157,1.16042,1.1611,1.15785,1.15763,1.15702,1.15411,1.15515,1.15869,1.15589,1.14927,1.15141,1.1512,1.15057,1.15243,1.15128,1.14804,1.14896,1.14952,1.14766,1.14829,1.14934,1.15126,1.1526,1.15357,1.15451,1.15742,1.15757,1.15635,1.15766,1.15864,1.1573,1.15671,1.15872,1.16136,1.15737,1.15562,1.15468,1.1517,1.14948,1.14577,1.14443,1.14727,1.15,1.15107,1.14945,1.1466,1.1459,1.14812,1.148,1.14813,1.14703,1.13967,1.14085,1.14162,1.13798,1.13742,1.1367,1.13667,1.13441,1.14018,1.13881,1.14078,1.13926,1.13794,1.137,1.13711,1.13725,1.13787,1.13659,1.13632,1.13524,1.13436,1.13402,1.13509,1.13375,1.1316,1.13161,1.13293,1.14016,1.14237,1.14208,1.13947,1.13826,1.1401,1.14093,1.14114,1.14174,1.14327,1.14135,1.14211,1.14578,1.14395,1.14223,1.14304,1.13919,1.13495,1.13236,1.12659,1.12444,1.12445,1.12247,1.12663,1.12895,1.13035,1.12845,1.1323,1.13317,1.14041,1.14114,1.14176,1.14461,1.14569,1.1432,1.13728,1.13932,1.13974,1.14055,1.14095,1.13694,1.13336,1.1344,1.13337,1.13115,1.12957,1.12937,1.12963,1.1275,1.13511,1.1377,1.13802,1.13541,1.13777,1.13805,1.13416,1.1322,1.13552,1.13539,1.13543,1.13579,1.13364,1.13508,1.13457,1.13415,1.13448,1.13469,1.13529,1.13748,1.13799,1.13668,1.1402,1.14113,1.13652,1.13305,1.13294,1.13233,1.13363,1.13708,1.13869,1.13635,1.13622,1.13577,1.12973,1.13422,1.13718,1.13673,1.13751,1.13766,1.1385,1.14168,1.14683,1.14487,1.14723,1.14212,1.13796,1.14019,1.14061,1.1361,1.13834,1.14626,1.1464,1.14433,1.1442,1.14501]},{\"line\":{\"color\":\"darkorange\",\"width\":3},\"mode\":\"markers\",\"name\":\"takeprofit\",\"type\":\"scatter\",\"x\":[\"2018-08-28T06:36:00\",\"2018-08-28T11:12:00\",\"2018-08-28T22:24:00\",\"2018-08-29T17:48:00\",\"2018-08-30T06:24:00\",\"2018-08-31T00:00:00\",\"2018-08-31T05:48:00\",\"2018-08-31T08:00:00\",\"2018-08-31T14:12:00\",\"2018-09-03T08:12:00\",\"2018-09-04T01:24:00\",\"2018-09-04T20:36:00\",\"2018-09-05T10:00:00\",\"2018-09-05T15:36:00\",\"2018-09-06T08:48:00\",\"2018-09-06T16:00:00\",\"2018-09-06T19:36:00\",\"2018-09-07T03:36:00\",\"2018-09-07T04:00:00\",\"2018-09-07T08:00:00\",\"2018-09-07T15:12:00\",\"2018-09-10T11:48:00\",\"2018-09-11T00:00:00\",\"2018-09-11T08:24:00\",\"2018-09-11T14:24:00\",\"2018-09-11T21:48:00\",\"2018-09-12T05:48:00\",\"2018-09-12T12:48:00\",\"2018-09-12T15:12:00\",\"2018-09-12T16:00:00\",\"2018-09-12T16:24:00\",\"2018-09-12T17:00:00\",\"2018-09-13T02:48:00\",\"2018-09-13T04:12:00\",\"2018-09-13T09:24:00\",\"2018-09-13T15:48:00\",\"2018-09-14T15:12:00\",\"2018-09-17T05:48:00\",\"2018-09-18T00:24:00\",\"2018-09-18T07:00:00\",\"2018-09-18T13:12:00\",\"2018-09-18T16:24:00\",\"2018-09-18T20:12:00\",\"2018-09-19T03:12:00\",\"2018-09-19T06:00:00\",\"2018-09-19T08:48:00\",\"2018-09-19T16:00:00\",\"2018-09-19T22:12:00\",\"2018-09-19T23:48:00\",\"2018-09-20T05:00:00\",\"2018-09-21T13:48:00\",\"2018-09-24T01:00:00\",\"2018-09-24T05:12:00\",\"2018-09-24T11:48:00\",\"2018-09-24T21:00:00\",\"2018-09-25T10:24:00\",\"2018-09-25T21:24:00\",\"2018-09-26T09:12:00\",\"2018-09-26T14:12:00\",\"2018-09-26T21:00:00\",\"2018-09-27T01:24:00\",\"2018-09-28T06:48:00\",\"2018-09-28T10:12:00\",\"2018-09-28T19:24:00\",\"2018-10-01T02:12:00\",\"2018-10-01T13:12:00\",\"2018-10-01T18:12:00\",\"2018-10-02T02:48:00\",\"2018-10-02T05:12:00\",\"2018-10-02T17:36:00\",\"2018-10-03T02:24:00\",\"2018-10-03T05:00:00\",\"2018-10-03T13:24:00\",\"2018-10-04T10:48:00\",\"2018-10-04T21:48:00\",\"2018-10-05T00:24:00\",\"2018-10-05T06:36:00\",\"2018-10-05T16:12:00\",\"2018-10-08T05:36:00\",\"2018-10-08T20:24:00\",\"2018-10-09T06:12:00\",\"2018-10-09T08:12:00\",\"2018-10-09T09:36:00\",\"2018-10-09T19:00:00\",\"2018-10-10T10:48:00\",\"2018-10-10T16:36:00\",\"2018-10-11T00:48:00\",\"2018-10-11T03:36:00\",\"2018-10-11T11:48:00\",\"2018-10-11T14:36:00\",\"2018-10-12T11:12:00\",\"2018-10-15T09:48:00\",\"2018-10-15T20:48:00\",\"2018-10-16T03:36:00\",\"2018-10-16T07:12:00\",\"2018-10-16T12:12:00\",\"2018-10-16T15:48:00\",\"2018-10-16T16:00:00\",\"2018-10-16T20:48:00\",\"2018-10-17T13:24:00\",\"2018-10-17T13:48:00\",\"2018-10-18T11:48:00\",\"2018-10-18T17:24:00\",\"2018-10-19T06:00:00\",\"2018-10-19T10:24:00\",\"2018-10-19T14:36:00\",\"2018-10-22T04:00:00\",\"2018-10-22T08:00:00\",\"2018-10-22T14:12:00\",\"2018-10-23T11:48:00\",\"2018-10-23T17:48:00\",\"2018-10-23T18:12:00\",\"2018-10-23T19:12:00\",\"2018-10-23T19:48:00\",\"2018-10-24T00:36:00\",\"2018-10-25T01:36:00\",\"2018-10-25T12:48:00\",\"2018-10-25T15:12:00\",\"2018-10-25T16:48:00\",\"2018-10-26T02:00:00\",\"2018-10-26T06:36:00\",\"2018-10-26T11:12:00\",\"2018-10-26T14:00:00\",\"2018-10-26T19:00:00\",\"2018-10-29T03:24:00\",\"2018-10-29T09:48:00\",\"2018-10-29T14:00:00\",\"2018-10-29T15:24:00\",\"2018-10-29T16:00:00\",\"2018-10-29T23:00:00\",\"2018-10-30T00:00:00\",\"2018-10-30T06:24:00\",\"2018-10-30T09:36:00\",\"2018-10-30T17:48:00\",\"2018-10-30T19:36:00\",\"2018-10-31T05:00:00\",\"2018-10-31T06:12:00\",\"2018-10-31T10:12:00\",\"2018-10-31T14:00:00\",\"2018-11-01T00:36:00\",\"2018-11-01T01:36:00\",\"2018-11-01T03:00:00\",\"2018-11-02T01:36:00\",\"2018-11-02T07:48:00\",\"2018-11-02T16:36:00\",\"2018-11-05T02:48:00\",\"2018-11-05T05:48:00\",\"2018-11-05T18:00:00\",\"2018-11-06T05:00:00\",\"2018-11-06T10:24:00\",\"2018-11-06T14:48:00\",\"2018-11-06T15:36:00\",\"2018-11-06T21:36:00\",\"2018-11-07T01:00:00\",\"2018-11-07T18:48:00\",\"2018-11-08T10:24:00\",\"2018-11-08T11:48:00\",\"2018-11-08T17:36:00\",\"2018-11-08T19:48:00\",\"2018-11-09T15:00:00\",\"2018-11-09T19:12:00\",\"2018-11-12T17:36:00\",\"2018-11-12T19:24:00\",\"2018-11-13T05:48:00\",\"2018-11-13T12:12:00\",\"2018-11-13T14:36:00\",\"2018-11-14T07:48:00\",\"2018-11-14T16:36:00\",\"2018-11-15T12:12:00\",\"2018-11-15T19:36:00\",\"2018-11-16T14:00:00\",\"2018-11-16T16:12:00\",\"2018-11-19T04:12:00\",\"2018-11-19T11:12:00\",\"2018-11-20T03:48:00\",\"2018-11-20T09:48:00\",\"2018-11-20T11:36:00\",\"2018-11-21T04:48:00\",\"2018-11-21T20:00:00\",\"2018-11-22T04:24:00\",\"2018-11-22T17:48:00\",\"2018-11-23T05:00:00\",\"2018-11-23T10:48:00\",\"2018-11-26T02:48:00\",\"2018-11-26T17:12:00\",\"2018-11-27T05:00:00\",\"2018-11-27T10:12:00\",\"2018-11-28T02:12:00\",\"2018-11-28T05:00:00\",\"2018-11-28T07:36:00\",\"2018-11-28T10:00:00\",\"2018-11-28T19:00:00\",\"2018-11-29T05:48:00\",\"2018-11-29T06:00:00\",\"2018-11-29T12:36:00\",\"2018-11-29T17:24:00\",\"2018-11-30T09:48:00\",\"2018-12-03T01:48:00\",\"2018-12-03T13:24:00\",\"2018-12-03T19:24:00\",\"2018-12-04T01:00:00\",\"2018-12-04T01:12:00\",\"2018-12-04T17:36:00\",\"2018-12-05T11:48:00\",\"2018-12-05T19:24:00\",\"2018-12-05T21:24:00\",\"2018-12-05T22:36:00\",\"2018-12-06T01:36:00\",\"2018-12-06T07:00:00\",\"2018-12-06T15:00:00\",\"2018-12-07T00:36:00\",\"2018-12-07T13:48:00\",\"2018-12-07T14:36:00\",\"2018-12-07T15:24:00\",\"2018-12-10T11:48:00\",\"2018-12-11T04:24:00\",\"2018-12-11T17:00:00\",\"2018-12-12T02:36:00\",\"2018-12-12T09:48:00\",\"2018-12-12T13:12:00\",\"2018-12-13T05:24:00\",\"2018-12-13T10:00:00\",\"2018-12-13T16:00:00\",\"2018-12-13T22:36:00\",\"2018-12-14T03:24:00\",\"2018-12-14T20:12:00\",\"2018-12-18T08:24:00\",\"2018-12-18T11:00:00\",\"2018-12-18T18:24:00\",\"2018-12-19T01:48:00\",\"2018-12-19T22:12:00\",\"2018-12-20T06:48:00\",\"2018-12-20T18:00:00\",\"2018-12-20T22:00:00\",\"2018-12-21T03:00:00\",\"2018-12-21T09:36:00\",\"2018-12-21T12:24:00\",\"2018-12-24T04:12:00\",\"2018-12-26T07:48:00\",\"2018-12-26T18:12:00\",\"2018-12-26T21:00:00\",\"2018-12-27T04:12:00\",\"2018-12-28T12:24:00\",\"2018-12-28T13:24:00\",\"2018-12-28T17:36:00\",\"2018-12-31T12:12:00\",\"2018-12-31T19:12:00\"],\"y\":[1.1555082,1.180488,1.1575872,1.1809728000000002,1.1582306999999998,1.1782862,1.1546172,1.180185,1.1532213,1.1722767,1.1499740999999999,1.169277,1.1445192,1.1701658,1.1505779999999999,1.1753168,1.1505185999999998,1.1738422,1.1502809999999999,1.1743371,1.1496969000000001,1.1685801,1.1478555000000001,1.1714788,1.1467862999999998,1.1700244,1.1473209000000002,1.170994,1.1465784,1.1709738,1.1473605,1.1730544,1.1508452999999998,1.1751653,1.1510037,1.1794881,1.1575872,1.1750845,1.156716,1.181094,1.1557755,1.1832453,1.1544885,1.1789124,1.1547459,1.1802960999999998,1.155429,1.1789124,1.1554883999999999,1.1798719,1.1643686999999998,1.1862046000000002,1.1622303,1.1884670000000002,1.1637647999999998,1.1879317,1.1649132,1.1882852,1.1626956,1.1891942,1.1628045,1.176347,1.1505681,1.1731857,1.1488158,1.172711,1.1462715,1.1692063,1.1454498,1.1656511,1.1435985,1.1702769,1.1443311,1.1607627,1.1398959,1.162712,1.1390643,1.1639543,1.1397672,1.1595204,1.1374704,1.1610152,1.1361834,1.1597729,1.1378466,1.1627726,1.1410740000000001,1.1651057,1.1429649,1.1689942,1.1459943,1.1679135,1.1460834,1.1702264,1.145727,1.1682770999999998,1.1471328,1.1729736,1.1457963,1.1671762,1.1431331999999998,1.163217,1.1379852000000001,1.1572277,1.1329857,1.1587427000000001,1.1384999999999998,1.1625807000000001,1.1379555000000001,1.158066,1.1344409999999998,1.1596012,1.13652,1.1596113000000001,1.1355597,1.1510666999999999,1.1294415,1.1530362,1.1266002,1.1487942000000002,1.1253330000000001,1.1480367,1.1230658999999998,1.1515818,1.1274219,1.1521877999999999,1.1278674,1.1493194,1.12563,1.1484811000000001,1.1258775,1.1492487,1.1252241,1.1476832,1.1238876,1.1457036,1.1226798,1.1464409,1.1224125,1.142916,1.1202939,1.1442593,1.1287584000000002,1.1537937,1.1306592,1.1508647,1.1268774000000001,1.1515009999999999,1.1295207,1.1525514000000001,1.1303226,1.1547027,1.1299365000000001,1.1535311,1.1343222,1.1553895,1.1308077,1.1544704000000001,1.1277981,1.1462994999999998,1.1210364,1.1378559,1.1131956,1.1356945,1.1112453,1.1378963,1.1176605,1.1416534999999999,1.1171655,1.143623,1.1218383,1.1518141,1.1297286,1.1531776,1.1331639,1.1571469,1.1317679999999999,1.1486528,1.1279268,1.1511374,1.1291445,1.1523595,1.1255706,1.1446935999999999,1.123056,1.1447037,1.1198385000000002,1.1408657,1.1180763,1.1409262999999998,1.116225,1.1464611,1.126323,1.1494002,1.1240559,1.1491476999999999,1.1266695,1.1455016,1.120878,1.1468752000000002,1.1240360999999999,1.1467843,1.1244321000000002,1.1449764,1.1237292,1.1459157,1.1228084999999999,1.1458248,1.1233431,1.1466429,1.1261052,1.1493699000000002,1.1253132,1.151602,1.1297187,1.1478852,1.1217195,1.1442694,1.1210067000000001,1.1449662999999999,1.1257092000000002,1.1500769,1.1249865,1.1475822,1.1244123,1.1410273,1.1228778,1.1485518000000001,1.1253627,1.1488851,1.1262834,1.149885,1.1302632,1.1582983,1.1334213,1.1587023,1.1306988,1.1493396,1.1287881,1.1520161,1.1247390000000002,1.1497233999999998,1.1347974,1.157864,1.1328867,1.155642,1.1335599]}],                        {\"template\":{\"data\":{\"bar\":[{\"error_x\":{\"color\":\"#2a3f5f\"},\"error_y\":{\"color\":\"#2a3f5f\"},\"marker\":{\"line\":{\"color\":\"#E5ECF6\",\"width\":0.5},\"pattern\":{\"fillmode\":\"overlay\",\"size\":10,\"solidity\":0.2}},\"type\":\"bar\"}],\"barpolar\":[{\"marker\":{\"line\":{\"color\":\"#E5ECF6\",\"width\":0.5},\"pattern\":{\"fillmode\":\"overlay\",\"size\":10,\"solidity\":0.2}},\"type\":\"barpolar\"}],\"carpet\":[{\"aaxis\":{\"endlinecolor\":\"#2a3f5f\",\"gridcolor\":\"white\",\"linecolor\":\"white\",\"minorgridcolor\":\"white\",\"startlinecolor\":\"#2a3f5f\"},\"baxis\":{\"endlinecolor\":\"#2a3f5f\",\"gridcolor\":\"white\",\"linecolor\":\"white\",\"minorgridcolor\":\"white\",\"startlinecolor\":\"#2a3f5f\"},\"type\":\"carpet\"}],\"choropleth\":[{\"colorbar\":{\"outlinewidth\":0,\"ticks\":\"\"},\"type\":\"choropleth\"}],\"contour\":[{\"colorbar\":{\"outlinewidth\":0,\"ticks\":\"\"},\"colorscale\":[[0.0,\"#0d0887\"],[0.1111111111111111,\"#46039f\"],[0.2222222222222222,\"#7201a8\"],[0.3333333333333333,\"#9c179e\"],[0.4444444444444444,\"#bd3786\"],[0.5555555555555556,\"#d8576b\"],[0.6666666666666666,\"#ed7953\"],[0.7777777777777778,\"#fb9f3a\"],[0.8888888888888888,\"#fdca26\"],[1.0,\"#f0f921\"]],\"type\":\"contour\"}],\"contourcarpet\":[{\"colorbar\":{\"outlinewidth\":0,\"ticks\":\"\"},\"type\":\"contourcarpet\"}],\"heatmap\":[{\"colorbar\":{\"outlinewidth\":0,\"ticks\":\"\"},\"colorscale\":[[0.0,\"#0d0887\"],[0.1111111111111111,\"#46039f\"],[0.2222222222222222,\"#7201a8\"],[0.3333333333333333,\"#9c179e\"],[0.4444444444444444,\"#bd3786\"],[0.5555555555555556,\"#d8576b\"],[0.6666666666666666,\"#ed7953\"],[0.7777777777777778,\"#fb9f3a\"],[0.8888888888888888,\"#fdca26\"],[1.0,\"#f0f921\"]],\"type\":\"heatmap\"}],\"heatmapgl\":[{\"colorbar\":{\"outlinewidth\":0,\"ticks\":\"\"},\"colorscale\":[[0.0,\"#0d0887\"],[0.1111111111111111,\"#46039f\"],[0.2222222222222222,\"#7201a8\"],[0.3333333333333333,\"#9c179e\"],[0.4444444444444444,\"#bd3786\"],[0.5555555555555556,\"#d8576b\"],[0.6666666666666666,\"#ed7953\"],[0.7777777777777778,\"#fb9f3a\"],[0.8888888888888888,\"#fdca26\"],[1.0,\"#f0f921\"]],\"type\":\"heatmapgl\"}],\"histogram\":[{\"marker\":{\"pattern\":{\"fillmode\":\"overlay\",\"size\":10,\"solidity\":0.2}},\"type\":\"histogram\"}],\"histogram2d\":[{\"colorbar\":{\"outlinewidth\":0,\"ticks\":\"\"},\"colorscale\":[[0.0,\"#0d0887\"],[0.1111111111111111,\"#46039f\"],[0.2222222222222222,\"#7201a8\"],[0.3333333333333333,\"#9c179e\"],[0.4444444444444444,\"#bd3786\"],[0.5555555555555556,\"#d8576b\"],[0.6666666666666666,\"#ed7953\"],[0.7777777777777778,\"#fb9f3a\"],[0.8888888888888888,\"#fdca26\"],[1.0,\"#f0f921\"]],\"type\":\"histogram2d\"}],\"histogram2dcontour\":[{\"colorbar\":{\"outlinewidth\":0,\"ticks\":\"\"},\"colorscale\":[[0.0,\"#0d0887\"],[0.1111111111111111,\"#46039f\"],[0.2222222222222222,\"#7201a8\"],[0.3333333333333333,\"#9c179e\"],[0.4444444444444444,\"#bd3786\"],[0.5555555555555556,\"#d8576b\"],[0.6666666666666666,\"#ed7953\"],[0.7777777777777778,\"#fb9f3a\"],[0.8888888888888888,\"#fdca26\"],[1.0,\"#f0f921\"]],\"type\":\"histogram2dcontour\"}],\"mesh3d\":[{\"colorbar\":{\"outlinewidth\":0,\"ticks\":\"\"},\"type\":\"mesh3d\"}],\"parcoords\":[{\"line\":{\"colorbar\":{\"outlinewidth\":0,\"ticks\":\"\"}},\"type\":\"parcoords\"}],\"pie\":[{\"automargin\":true,\"type\":\"pie\"}],\"scatter\":[{\"marker\":{\"colorbar\":{\"outlinewidth\":0,\"ticks\":\"\"}},\"type\":\"scatter\"}],\"scatter3d\":[{\"line\":{\"colorbar\":{\"outlinewidth\":0,\"ticks\":\"\"}},\"marker\":{\"colorbar\":{\"outlinewidth\":0,\"ticks\":\"\"}},\"type\":\"scatter3d\"}],\"scattercarpet\":[{\"marker\":{\"colorbar\":{\"outlinewidth\":0,\"ticks\":\"\"}},\"type\":\"scattercarpet\"}],\"scattergeo\":[{\"marker\":{\"colorbar\":{\"outlinewidth\":0,\"ticks\":\"\"}},\"type\":\"scattergeo\"}],\"scattergl\":[{\"marker\":{\"colorbar\":{\"outlinewidth\":0,\"ticks\":\"\"}},\"type\":\"scattergl\"}],\"scattermapbox\":[{\"marker\":{\"colorbar\":{\"outlinewidth\":0,\"ticks\":\"\"}},\"type\":\"scattermapbox\"}],\"scatterpolar\":[{\"marker\":{\"colorbar\":{\"outlinewidth\":0,\"ticks\":\"\"}},\"type\":\"scatterpolar\"}],\"scatterpolargl\":[{\"marker\":{\"colorbar\":{\"outlinewidth\":0,\"ticks\":\"\"}},\"type\":\"scatterpolargl\"}],\"scatterternary\":[{\"marker\":{\"colorbar\":{\"outlinewidth\":0,\"ticks\":\"\"}},\"type\":\"scatterternary\"}],\"surface\":[{\"colorbar\":{\"outlinewidth\":0,\"ticks\":\"\"},\"colorscale\":[[0.0,\"#0d0887\"],[0.1111111111111111,\"#46039f\"],[0.2222222222222222,\"#7201a8\"],[0.3333333333333333,\"#9c179e\"],[0.4444444444444444,\"#bd3786\"],[0.5555555555555556,\"#d8576b\"],[0.6666666666666666,\"#ed7953\"],[0.7777777777777778,\"#fb9f3a\"],[0.8888888888888888,\"#fdca26\"],[1.0,\"#f0f921\"]],\"type\":\"surface\"}],\"table\":[{\"cells\":{\"fill\":{\"color\":\"#EBF0F8\"},\"line\":{\"color\":\"white\"}},\"header\":{\"fill\":{\"color\":\"#C8D4E3\"},\"line\":{\"color\":\"white\"}},\"type\":\"table\"}]},\"layout\":{\"annotationdefaults\":{\"arrowcolor\":\"#2a3f5f\",\"arrowhead\":0,\"arrowwidth\":1},\"autotypenumbers\":\"strict\",\"coloraxis\":{\"colorbar\":{\"outlinewidth\":0,\"ticks\":\"\"}},\"colorscale\":{\"diverging\":[[0,\"#8e0152\"],[0.1,\"#c51b7d\"],[0.2,\"#de77ae\"],[0.3,\"#f1b6da\"],[0.4,\"#fde0ef\"],[0.5,\"#f7f7f7\"],[0.6,\"#e6f5d0\"],[0.7,\"#b8e186\"],[0.8,\"#7fbc41\"],[0.9,\"#4d9221\"],[1,\"#276419\"]],\"sequential\":[[0.0,\"#0d0887\"],[0.1111111111111111,\"#46039f\"],[0.2222222222222222,\"#7201a8\"],[0.3333333333333333,\"#9c179e\"],[0.4444444444444444,\"#bd3786\"],[0.5555555555555556,\"#d8576b\"],[0.6666666666666666,\"#ed7953\"],[0.7777777777777778,\"#fb9f3a\"],[0.8888888888888888,\"#fdca26\"],[1.0,\"#f0f921\"]],\"sequentialminus\":[[0.0,\"#0d0887\"],[0.1111111111111111,\"#46039f\"],[0.2222222222222222,\"#7201a8\"],[0.3333333333333333,\"#9c179e\"],[0.4444444444444444,\"#bd3786\"],[0.5555555555555556,\"#d8576b\"],[0.6666666666666666,\"#ed7953\"],[0.7777777777777778,\"#fb9f3a\"],[0.8888888888888888,\"#fdca26\"],[1.0,\"#f0f921\"]]},\"colorway\":[\"#636efa\",\"#EF553B\",\"#00cc96\",\"#ab63fa\",\"#FFA15A\",\"#19d3f3\",\"#FF6692\",\"#B6E880\",\"#FF97FF\",\"#FECB52\"],\"font\":{\"color\":\"#2a3f5f\"},\"geo\":{\"bgcolor\":\"white\",\"lakecolor\":\"white\",\"landcolor\":\"#E5ECF6\",\"showlakes\":true,\"showland\":true,\"subunitcolor\":\"white\"},\"hoverlabel\":{\"align\":\"left\"},\"hovermode\":\"closest\",\"mapbox\":{\"style\":\"light\"},\"paper_bgcolor\":\"white\",\"plot_bgcolor\":\"#E5ECF6\",\"polar\":{\"angularaxis\":{\"gridcolor\":\"white\",\"linecolor\":\"white\",\"ticks\":\"\"},\"bgcolor\":\"#E5ECF6\",\"radialaxis\":{\"gridcolor\":\"white\",\"linecolor\":\"white\",\"ticks\":\"\"}},\"scene\":{\"xaxis\":{\"backgroundcolor\":\"#E5ECF6\",\"gridcolor\":\"white\",\"gridwidth\":2,\"linecolor\":\"white\",\"showbackground\":true,\"ticks\":\"\",\"zerolinecolor\":\"white\"},\"yaxis\":{\"backgroundcolor\":\"#E5ECF6\",\"gridcolor\":\"white\",\"gridwidth\":2,\"linecolor\":\"white\",\"showbackground\":true,\"ticks\":\"\",\"zerolinecolor\":\"white\"},\"zaxis\":{\"backgroundcolor\":\"#E5ECF6\",\"gridcolor\":\"white\",\"gridwidth\":2,\"linecolor\":\"white\",\"showbackground\":true,\"ticks\":\"\",\"zerolinecolor\":\"white\"}},\"shapedefaults\":{\"line\":{\"color\":\"#2a3f5f\"}},\"ternary\":{\"aaxis\":{\"gridcolor\":\"white\",\"linecolor\":\"white\",\"ticks\":\"\"},\"baxis\":{\"gridcolor\":\"white\",\"linecolor\":\"white\",\"ticks\":\"\"},\"bgcolor\":\"#E5ECF6\",\"caxis\":{\"gridcolor\":\"white\",\"linecolor\":\"white\",\"ticks\":\"\"}},\"title\":{\"x\":0.05},\"xaxis\":{\"automargin\":true,\"gridcolor\":\"white\",\"linecolor\":\"white\",\"ticks\":\"\",\"title\":{\"standoff\":15},\"zerolinecolor\":\"white\",\"zerolinewidth\":2},\"yaxis\":{\"automargin\":true,\"gridcolor\":\"white\",\"linecolor\":\"white\",\"ticks\":\"\",\"title\":{\"standoff\":15},\"zerolinecolor\":\"white\",\"zerolinewidth\":2}}},\"title\":{\"text\":\"Close vs Takeprofit\"},\"xaxis\":{\"title\":{\"text\":\"Date\"}},\"yaxis\":{\"title\":{\"text\":\"Values\"}}},                        {\"responsive\": true}                    ).then(function(){\n",
       "                            \n",
       "var gd = document.getElementById('fa16f7ce-db14-478c-99c8-a15fab4b2d44');\n",
       "var x = new MutationObserver(function (mutations, observer) {{\n",
       "        var display = window.getComputedStyle(gd).display;\n",
       "        if (!display || display === 'none') {{\n",
       "            console.log([gd, 'removed!']);\n",
       "            Plotly.purge(gd);\n",
       "            observer.disconnect();\n",
       "        }}\n",
       "}});\n",
       "\n",
       "// Listen for the removal of the full notebook cells\n",
       "var notebookContainer = gd.closest('#notebook-container');\n",
       "if (notebookContainer) {{\n",
       "    x.observe(notebookContainer, {childList: true});\n",
       "}}\n",
       "\n",
       "// Listen for the clearing of the current output cell\n",
       "var outputEl = gd.closest('.output');\n",
       "if (outputEl) {{\n",
       "    x.observe(outputEl, {childList: true});\n",
       "}}\n",
       "\n",
       "                        })                };                });            </script>        </div>"
      ]
     },
     "metadata": {},
     "output_type": "display_data"
    }
   ],
   "source": [
    "# TP\n",
    "fig = go.Figure()\n",
    "fig.add_trace(go.Scatter(x=earnings_df_ma['time'], y=earnings_df_ma['close'],\n",
    "                    mode='lines',\n",
    "                    name='close',\n",
    "                    line=dict(color='olivedrab', width=4)))\n",
    "\n",
    "fig.add_trace(go.Scatter(x=earnings_df_ma['time'], y=earnings_df_ma['Takeprofit'],\n",
    "                    mode='markers', name='takeprofit',\n",
    "                    line=dict(color='darkorange', width=3)))\n",
    "# Edit the layout\n",
    "fig.update_layout(title='Close vs Takeprofit',\n",
    "                   xaxis_title='Date',\n",
    "                   yaxis_title='Values')\n",
    "\n",
    "fig.show()"
   ]
  },
  {
   "cell_type": "markdown",
   "metadata": {},
   "source": [
    "<br>"
   ]
  },
  {
   "cell_type": "markdown",
   "metadata": {},
   "source": [
    "# <font color= #6B6B6B> 4. A particular Process  </font>"
   ]
  },
  {
   "cell_type": "markdown",
   "metadata": {},
   "source": [
    "<hr style=\"border:0.02in solid gray\"> </hr>"
   ]
  },
  {
   "cell_type": "code",
   "execution_count": 17,
   "metadata": {},
   "outputs": [],
   "source": [
    "# DELETE THIS CELL IN YOUR FILE\n",
    "\n",
    "# A particular process that is relevant for the work you are presenting."
   ]
  },
  {
   "cell_type": "markdown",
   "metadata": {},
   "source": [
    "<br>"
   ]
  },
  {
   "cell_type": "markdown",
   "metadata": {},
   "source": [
    "# <font color= #6B6B6B> 5. Another particular Process  </font>"
   ]
  },
  {
   "cell_type": "markdown",
   "metadata": {},
   "source": [
    "<hr style=\"border:0.02in solid gray\"> </hr>"
   ]
  },
  {
   "cell_type": "code",
   "execution_count": 18,
   "metadata": {},
   "outputs": [],
   "source": [
    "# DELETE THIS CELL IN YOUR FILE\n",
    "\n",
    "# Another particular process that is relevant for the work. Normally, you include between 2 and 5 at the most."
   ]
  },
  {
   "cell_type": "markdown",
   "metadata": {},
   "source": [
    "<br>"
   ]
  },
  {
   "cell_type": "markdown",
   "metadata": {},
   "source": [
    "# <font color= #6B6B6B> <font size = 6> 5. Results </font>"
   ]
  },
  {
   "cell_type": "markdown",
   "metadata": {},
   "source": [
    "<hr style=\"border:0.02in solid gray\"> </hr>"
   ]
  },
  {
   "cell_type": "code",
   "execution_count": 19,
   "metadata": {},
   "outputs": [],
   "source": [
    "# DELETE THIS CELL IN YOUR FILE\n",
    "\n",
    "# In here you present the general results, and also, a discussion of such results."
   ]
  },
  {
   "cell_type": "markdown",
   "metadata": {},
   "source": [
    "<br>"
   ]
  },
  {
   "cell_type": "markdown",
   "metadata": {},
   "source": [
    "## <font color= #6B6B6B> 5.1 Results of first processes </font>"
   ]
  },
  {
   "cell_type": "code",
   "execution_count": 20,
   "metadata": {},
   "outputs": [],
   "source": [
    "# DELETE THIS CELL IN YOUR FILE\n",
    "\n",
    "# Separate your results according to the main processes you are working on"
   ]
  },
  {
   "cell_type": "markdown",
   "metadata": {},
   "source": [
    "<br>"
   ]
  },
  {
   "cell_type": "markdown",
   "metadata": {},
   "source": [
    "## <font color= #6B6B6B> 5.2 Results of another proces </font>"
   ]
  },
  {
   "cell_type": "code",
   "execution_count": 21,
   "metadata": {},
   "outputs": [],
   "source": [
    "# DELETE THIS CELL IN YOUR FILE\n",
    "\n",
    "# You can have several processes with which you are obtaining the results you need."
   ]
  },
  {
   "cell_type": "markdown",
   "metadata": {},
   "source": [
    "<br>"
   ]
  },
  {
   "cell_type": "markdown",
   "metadata": {},
   "source": [
    "# <font color= #6B6B6B> <font size = 6> 6. References </font>"
   ]
  },
  {
   "cell_type": "markdown",
   "metadata": {},
   "source": [
    "<hr style=\"border:0.02in solid gray\"> </hr>"
   ]
  },
  {
   "cell_type": "code",
   "execution_count": 22,
   "metadata": {},
   "outputs": [],
   "source": [
    "# DELETE THIS CELL IN YOUR FILE\n",
    "\n",
    "# Citations, and other references you are using.\n",
    "\n",
    "# DO INCLUDE THE FOLLOWING CITATION FOR THIS TEMPLATE"
   ]
  },
  {
   "cell_type": "markdown",
   "metadata": {},
   "source": [
    "[1] Munnoz, 2020. Python project template. https://github.com/iffranciscome/python-project. (2021)."
   ]
  },
  {
   "cell_type": "markdown",
   "metadata": {},
   "source": [
    "<br>"
   ]
  }
 ],
 "metadata": {
  "kernelspec": {
   "display_name": "Python 3",
   "language": "python",
   "name": "python3"
  },
  "language_info": {
   "codemirror_mode": {
    "name": "ipython",
    "version": 3
   },
   "file_extension": ".py",
   "mimetype": "text/x-python",
   "name": "python",
   "nbconvert_exporter": "python",
   "pygments_lexer": "ipython3",
   "version": "3.7.4"
  }
 },
 "nbformat": 4,
 "nbformat_minor": 4
}
